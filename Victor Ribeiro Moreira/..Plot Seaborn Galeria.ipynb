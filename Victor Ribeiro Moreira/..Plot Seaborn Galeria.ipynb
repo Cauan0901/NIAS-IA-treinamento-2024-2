{
    "cells": [
        {
            "cell_type": "markdown",
            "metadata": {},
            "source": [
                "**Trends** - A trend is defined as a pattern of change.\n",
                "- sns.lineplot - Line charts are best to show trends over a period of time, and multiple lines can be used to show trends in more than one group.\n",
                "\n",
                "**Relationship** - There are many different chart types that you can use to understand relationships between variables in your data.\n",
                "- sns.barplot - Bar charts are useful for comparing quantities corresponding to different groups.\n",
                "- sns.heatmap - Heatmaps can be used to find color-coded patterns in tables of numbers.\n",
                "- sns.scatterplot - Scatter plots show the relationship between two continuous variables; if color-coded, we can also show the relationship with a third categorical variable.\n",
                "- sns.regplot - Including a regression line in the scatter plot makes it easier to see any linear relationship between two variables.\n",
                "- sns.lmplot - This command is useful for drawing multiple regression lines, if the scatter plot contains multiple, color-coded groups.\n",
                "- sns.swarmplot - Categorical scatter plots show the relationship between a continuous variable and a categorical variable.\n",
                "\n",
                "**Distribution** - We visualize distributions to show the possible values that we can expect to see in a variable, along with how likely they are.\n",
                "\n",
                "- sns.histplot - Histograms show the distribution of a single numerical variable.\n",
                "- sns.kdeplot - KDE plots (or 2D KDE plots) show an estimated, smooth distribution of a single numerical variable (or two numerical variables).\n",
                "- sns.jointplot - This command is useful for simultaneously displaying a 2D KDE plot with the corresponding KDE plots for each individual variable."
            ]
        },
        {
            "cell_type": "markdown",
            "metadata": {},
            "source": [
                "![Exemplo de Imagem](plots.png)"
            ]
        },
        {
            "cell_type": "code",
            "execution_count": 1,
            "metadata": {},
            "outputs": [
                {
                    "name": "stdout",
                    "output_type": "stream",
                    "text": [
                        "Setup Complete\n"
                    ]
                }
            ],
            "source": [
                "import pandas as pd\n",
                "pd.plotting.register_matplotlib_converters()\n",
                "import matplotlib.pyplot as plt\n",
                "%matplotlib inline\n",
                "import seaborn as sns\n",
                "\n",
                "print(\"Setup Complete\")"
            ]
        },
        {
            "cell_type": "code",
            "execution_count": null,
            "metadata": {},
            "outputs": [
                {
                    "ename": "NameError",
                    "evalue": "name 'df' is not defined",
                    "output_type": "error",
                    "traceback": [
                        "\u001b[1;31m---------------------------------------------------------------------------\u001b[0m",
                        "\u001b[1;31mNameError\u001b[0m                                 Traceback (most recent call last)",
                        "Cell \u001b[1;32mIn[2], line 2\u001b[0m\n\u001b[0;32m      1\u001b[0m \u001b[38;5;66;03m# Supondo que você tenha um DataFrame chamado df com as colunas 'date', 'deaths' e 'continent'\u001b[39;00m\n\u001b[1;32m----> 2\u001b[0m sns\u001b[38;5;241m.\u001b[39mlineplot(data\u001b[38;5;241m=\u001b[39m\u001b[43mdf\u001b[49m, x\u001b[38;5;241m=\u001b[39m\u001b[38;5;124m'\u001b[39m\u001b[38;5;124mdate\u001b[39m\u001b[38;5;124m'\u001b[39m, y\u001b[38;5;241m=\u001b[39m\u001b[38;5;124m'\u001b[39m\u001b[38;5;124mdeaths\u001b[39m\u001b[38;5;124m'\u001b[39m, hue\u001b[38;5;241m=\u001b[39m\u001b[38;5;124m'\u001b[39m\u001b[38;5;124mcontinent\u001b[39m\u001b[38;5;124m'\u001b[39m)\n\u001b[0;32m      3\u001b[0m plt\u001b[38;5;241m.\u001b[39mxlabel(\u001b[38;5;124m'\u001b[39m\u001b[38;5;124mDate\u001b[39m\u001b[38;5;124m'\u001b[39m)\n\u001b[0;32m      4\u001b[0m plt\u001b[38;5;241m.\u001b[39mylabel(\u001b[38;5;124m'\u001b[39m\u001b[38;5;124mDeaths\u001b[39m\u001b[38;5;124m'\u001b[39m)\n",
                        "\u001b[1;31mNameError\u001b[0m: name 'df' is not defined"
                    ]
                }
            ],
            "source": [
                "# Supondo que você tenha um DataFrame chamado df com as colunas 'date', 'deaths' e 'continent'\n",
                "sns.lineplot(data=df, x='date', y='deaths', hue='continent')\n",
                "plt.xlabel('Date')\n",
                "plt.ylabel('Deaths')\n",
                "plt.title('Deaths over Time by Continent')\n",
                "plt.figure(figsize=(14,6))\n",
                "plt.show()"
            ]
        }
    ],
    "metadata": {
        "kernelspec": {
            "display_name": "VRM",
            "language": "python",
            "name": "python3"
        },
        "language_info": {
            "codemirror_mode": {
                "name": "ipython",
                "version": 3
            },
            "file_extension": ".py",
            "mimetype": "text/x-python",
            "name": "python",
            "nbconvert_exporter": "python",
            "pygments_lexer": "ipython3",
            "version": "3.13.2"
        }
    },
    "nbformat": 4,
    "nbformat_minor": 2
}
