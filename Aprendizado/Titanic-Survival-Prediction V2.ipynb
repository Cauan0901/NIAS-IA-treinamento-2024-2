{
 "cells": [
  {
   "cell_type": "code",
   "execution_count": null,
   "metadata": {
    "_cell_guid": "b1076dfc-b9ad-4769-8c92-a6c4dae69d19",
    "_uuid": "8f2839f25d086af736a60e9eeb907d3b93b6e0e5",
    "trusted": true
   },
   "outputs": [],
   "source": [
    "# This Python 3 environment comes with many helpful analytics libraries installed\n",
    "# It is defined by the kaggle/python Docker image: https://github.com/kaggle/docker-python\n",
    "# For example, here's several helpful packages to load\n",
    "\n",
    "import numpy as np # linear algebra\n",
    "import pandas as pd # data processing, CSV file I/O (e.g. pd.read_csv)\n",
    "\n",
    "# Input data files are available in the read-only \"../input/\" directory\n",
    "# For example, running this (by clicking run or pressing Shift+Enter) will list all files under the input directory\n",
    "\n",
    "import os\n",
    "for dirname, _, filenames in os.walk('/kaggle/input'):\n",
    "    for filename in filenames:\n",
    "        print(os.path.join(dirname, filename))\n",
    "\n",
    "# You can write up to 20GB to the current directory (/kaggle/working/) that gets preserved as output when you create a version using \"Save & Run All\" \n",
    "# You can also write temporary files to /kaggle/temp/, but they won't be saved outside of the current session"
   ]
  },
  {
   "cell_type": "code",
   "execution_count": null,
   "metadata": {
    "trusted": true
   },
   "outputs": [],
   "source": [
    "#visualization libraries\n",
    "import matplotlib.pyplot as plt\n",
    "import seaborn as sns\n",
    "from sklearn.preprocessing import OneHotEncoder\n",
    "%matplotlib inline\n",
    "\n",
    "#ignore warnings\n",
    "import warnings\n",
    "warnings.filterwarnings('ignore')\n",
    "np.random.seed(0)\n",
    "\n",
    "#Importando dados\n",
    "data_teste = pd.read_csv(\"/kaggle/input/titanic/test.csv\")\n",
    "data_train = pd.read_csv(\"/kaggle/input/titanic/train.csv\")\n",
    "\n",
    "data_train.describe()"
   ]
  },
  {
   "cell_type": "markdown",
   "metadata": {},
   "source": [
    "## *Analise Inicial do Dataset*"
   ]
  },
  {
   "cell_type": "code",
   "execution_count": null,
   "metadata": {
    "trusted": true
   },
   "outputs": [],
   "source": [
    "data_train.head()"
   ]
  },
  {
   "cell_type": "code",
   "execution_count": null,
   "metadata": {
    "trusted": true
   },
   "outputs": [],
   "source": [
    "data_teste.head()"
   ]
  },
  {
   "cell_type": "code",
   "execution_count": null,
   "metadata": {
    "trusted": true
   },
   "outputs": [],
   "source": [
    "print (data_train.info())\n",
    "print ()\n",
    "print (data_train.info())"
   ]
  },
  {
   "cell_type": "code",
   "execution_count": null,
   "metadata": {
    "trusted": true
   },
   "outputs": [],
   "source": [
    "print ('Train Columns: ', data_train.columns)\n",
    "\n",
    "print ('\\nTest Columns: ', data_teste.columns)"
   ]
  },
  {
   "cell_type": "markdown",
   "metadata": {},
   "source": [
    "- Categorical Features: Sex, Survived, PClass, Embarked\n",
    "- Numerical Features: Age (Continua), Fare (Continua), SibSp (Discreta), Parch (Discreta)\n",
    "- Alphanumeric: Cabin, Ticket"
   ]
  },
  {
   "cell_type": "code",
   "execution_count": null,
   "metadata": {
    "trusted": true
   },
   "outputs": [],
   "source": [
    "data_train.isnull().sum() # Analisando as colunas com valores faltantes"
   ]
  },
  {
   "cell_type": "code",
   "execution_count": null,
   "metadata": {
    "trusted": true
   },
   "outputs": [],
   "source": [
    "data_teste.isnull().sum() # Analisando as colunas com valores faltantes"
   ]
  },
  {
   "cell_type": "markdown",
   "metadata": {},
   "source": [
    "## *Tratando os dados*"
   ]
  },
  {
   "cell_type": "code",
   "execution_count": null,
   "metadata": {
    "trusted": true
   },
   "outputs": [],
   "source": [
    "train_data = data_train.copy()\n",
    "teste_data = data_teste.copy() # Copia para n alterar o banco de dados original"
   ]
  },
  {
   "cell_type": "code",
   "execution_count": null,
   "metadata": {
    "trusted": true
   },
   "outputs": [],
   "source": [
    "cols = ['Cabin', 'Ticket', 'Name']\n",
    "X_teste = teste_data.drop(cols, axis=1)\n",
    "X_train= train_data.drop(cols, axis=1)"
   ]
  },
  {
   "cell_type": "code",
   "execution_count": null,
   "metadata": {
    "trusted": true
   },
   "outputs": [],
   "source": [
    "# Preenchendo colunas NaN com valores medianos quando numericas e com modas quando categoricas.\n",
    "median_age = X_train['Age'].median()\n",
    "median_fare = X_train['Fare'].median()\n",
    "mode_embarked = X_train['Embarked'].mode()[0]\n",
    "\n",
    "X_train['Age'].fillna(median_age, inplace=True)\n",
    "X_train['Fare'].fillna(median_fare, inplace=True)\n",
    "X_train['Embarked'].fillna(mode_embarked, inplace=True)\n",
    "X_teste['Age'].fillna(median_age, inplace=True)\n",
    "X_teste['Fare'].fillna(median_fare, inplace=True)"
   ]
  },
  {
   "cell_type": "code",
   "execution_count": null,
   "metadata": {
    "trusted": true
   },
   "outputs": [],
   "source": [
    "# Separando Colunas em categoricas e numericas\n",
    "categorical_cols = [cname for cname in X_train.columns if\n",
    "                    X_train[cname].nunique() < 10 and \n",
    "                    X_train[cname].dtype == \"object\"]\n",
    "\n",
    "numerical_cols = [cname for cname in X_train.columns if \n",
    "                X_train[cname].dtype in ['int64', 'float64']]\n",
    "\n",
    "\n",
    "\n",
    "categorical_colsT = [cname for cname in X_teste.columns if\n",
    "                    X_teste[cname].nunique() < 10 and \n",
    "                    X_teste[cname].dtype == \"object\"]\n",
    "\n",
    "numerical_colsT = [cname for cname in X_teste.columns if \n",
    "                X_teste[cname].dtype in ['int64', 'float64']]\n",
    "\n",
    "\n",
    "\n",
    "\n",
    "my_cols = categorical_cols + numerical_cols\n",
    "my_colsT = categorical_colsT + numerical_colsT\n",
    "train = X_train[my_cols].copy()\n",
    "teste = X_teste[my_colsT].copy()"
   ]
  },
  {
   "cell_type": "code",
   "execution_count": null,
   "metadata": {
    "trusted": true
   },
   "outputs": [],
   "source": [
    "def one_hot_encode_dataframe(df, categorical_columns):\n",
    "\n",
    "    #Aplica One-Hot Encoding às colunas categóricas de um DataFrame.\n",
    "    \n",
    "    #param df: DataFrame original.\n",
    "    #param categorical_columns: Lista de colunas categóricas a serem codificadas.\n",
    "    #return: Novo DataFrame com as colunas codificadas e devidamente nomeadas.\n",
    "\n",
    "    df_copy = df.copy()\n",
    "    encoder = OneHotEncoder(sparse=False, drop=None)\n",
    "    \n",
    "    for column in categorical_columns:\n",
    "        encoded_array = encoder.fit_transform(df_copy[[column]])\n",
    "        encoded_df = pd.DataFrame(encoded_array, columns=encoder.get_feature_names_out([column]))\n",
    "        \n",
    "        df_copy = df_copy.drop(columns=[column])\n",
    "        df_copy = pd.concat([df_copy, encoded_df], axis=1)\n",
    "    \n",
    "    return df_copy"
   ]
  },
  {
   "cell_type": "code",
   "execution_count": null,
   "metadata": {
    "trusted": true
   },
   "outputs": [],
   "source": [
    "train = one_hot_encode_dataframe(train, categorical_cols)\n",
    "teste = one_hot_encode_dataframe(teste, categorical_colsT)"
   ]
  },
  {
   "cell_type": "code",
   "execution_count": null,
   "metadata": {
    "trusted": true
   },
   "outputs": [],
   "source": [
    "# Separando a coluna Age em grupos de mesma extensão\n",
    "bins = [0, 16, 32, 50, 64, np.inf]\n",
    "labels = [1, 2, 3, 4, 5]\n",
    "train['AgeGroup'] = pd.cut(train[\"Age\"], bins, labels = labels)\n",
    "teste['AgeGroup'] = pd.cut(teste[\"Age\"], bins, labels = labels)"
   ]
  },
  {
   "cell_type": "code",
   "execution_count": null,
   "metadata": {
    "trusted": true
   },
   "outputs": [],
   "source": [
    "# Separando a coluna Fare em grupos com numeros de dados parecidos\n",
    "train['FareGroup'] = pd.qcut(train[\"Fare\"], q=6, labels=[1, 2, 3, 4, 5, 6])\n",
    "teste['FareGroup'] = pd.qcut(teste[\"Fare\"], q=6, labels=[1, 2, 3, 4, 5, 6])"
   ]
  },
  {
   "cell_type": "code",
   "execution_count": null,
   "metadata": {
    "trusted": true
   },
   "outputs": [],
   "source": [
    "# Removendo as colunas que foram divididas em partições\n",
    "train = train.drop('Fare', axis=1)\n",
    "train = train.drop('Age', axis=1)\n",
    "teste = teste.drop('Fare', axis=1)\n",
    "teste = teste.drop('Age', axis=1)"
   ]
  },
  {
   "cell_type": "markdown",
   "metadata": {},
   "source": [
    "## *Exibindo Graficos de Sobrevivencia*"
   ]
  },
  {
   "cell_type": "code",
   "execution_count": null,
   "metadata": {
    "trusted": true
   },
   "outputs": [],
   "source": [
    "# Criando uma copia do DataSet para plotar graficos\n",
    "graph_train = data_train.copy()"
   ]
  },
  {
   "cell_type": "code",
   "execution_count": null,
   "metadata": {
    "trusted": true
   },
   "outputs": [],
   "source": [
    "# Separando novamente a coluna Age em grupos, porem utilizando strings\n",
    "bins = [0, 16, 32, 50, 64, np.inf]\n",
    "labels = ['Criança', 'Jovem', 'Adulto', 'Senhor', 'Idoso']\n",
    "graph_train['AgeGroup'] = pd.cut(graph_train[\"Age\"], bins, labels = labels)\n",
    "\n",
    "plt.title('Sobrevivencia por Grupo de Idade')\n",
    "sns.barplot(x=\"AgeGroup\", y=\"Survived\", data=graph_train)"
   ]
  },
  {
   "cell_type": "code",
   "execution_count": null,
   "metadata": {
    "trusted": true
   },
   "outputs": [],
   "source": [
    "# Separando novamente a coluna Fare em grupos, porem utilizando strings\n",
    "graph_train['FareGroup'] = pd.qcut(graph_train[\"Fare\"], q=6, labels=['Muito Baixo', 'Baixo', 'Médio-Baixo', 'Médio', 'Alto', 'Muito Alto'])\n",
    "\n",
    "plt.title('Sobrevivencia por Tarifa')\n",
    "sns.barplot(x=\"FareGroup\", y=\"Survived\", data=graph_train)"
   ]
  },
  {
   "cell_type": "code",
   "execution_count": null,
   "metadata": {
    "trusted": true
   },
   "outputs": [],
   "source": [
    "sns.barplot(x=\"Parch\", y=\"Survived\", data=graph_train)"
   ]
  },
  {
   "cell_type": "code",
   "execution_count": null,
   "metadata": {
    "trusted": true
   },
   "outputs": [],
   "source": [
    "sns.barplot(x=\"SibSp\", y=\"Survived\", data=graph_train)"
   ]
  },
  {
   "cell_type": "code",
   "execution_count": null,
   "metadata": {
    "trusted": true
   },
   "outputs": [],
   "source": [
    "sns.barplot(x=\"Sex\", y=\"Survived\", data=graph_train)"
   ]
  },
  {
   "cell_type": "markdown",
   "metadata": {},
   "source": [
    "## *Treinando o modelo*"
   ]
  },
  {
   "cell_type": "code",
   "execution_count": null,
   "metadata": {
    "trusted": true
   },
   "outputs": [],
   "source": [
    "from sklearn.model_selection import train_test_split\n",
    "\n",
    "X = train.drop('Survived', axis=1)\n",
    "Y = train['Survived']\n",
    "\n",
    "x_train, x_val, y_train, y_val = train_test_split(X, Y, test_size = 0.20, random_state = 0)"
   ]
  },
  {
   "cell_type": "code",
   "execution_count": null,
   "metadata": {
    "trusted": true
   },
   "outputs": [],
   "source": [
    "from sklearn.ensemble import RandomForestClassifier\n",
    "from sklearn.metrics import accuracy_score\n",
    "\n",
    "randomforest = RandomForestClassifier()\n",
    "randomforest.fit(x_train, y_train)\n",
    "\n",
    "y_pred = randomforest.predict(x_val)\n",
    "accuracy_randomforest = round(accuracy_score(y_pred, y_val) * 100, 2)\n",
    "print(accuracy_randomforest)\n"
   ]
  },
  {
   "cell_type": "markdown",
   "metadata": {},
   "source": [
    "## *Gerando modelo para competição*"
   ]
  },
  {
   "cell_type": "code",
   "execution_count": null,
   "metadata": {
    "trusted": true
   },
   "outputs": [],
   "source": [
    "X_teste = teste\n",
    "teste_ids = teste['PassengerId']\n",
    "predictions = randomforest.predict(X_teste)\n",
    "#predictions = predictions.astype('int64')  \n",
    "submission = pd.DataFrame({\"PassengerId\": teste_ids, \"Survived\": predictions})\n",
    "submission.to_csv(\"submission.csv\", index=False)"
   ]
  }
 ],
 "metadata": {
  "kaggle": {
   "accelerator": "none",
   "dataSources": [
    {
     "databundleVersionId": 26502,
     "sourceId": 3136,
     "sourceType": "competition"
    }
   ],
   "dockerImageVersionId": 30886,
   "isGpuEnabled": false,
   "isInternetEnabled": true,
   "language": "python",
   "sourceType": "notebook"
  },
  "kernelspec": {
   "display_name": "Python 3",
   "language": "python",
   "name": "python3"
  },
  "language_info": {
   "codemirror_mode": {
    "name": "ipython",
    "version": 3
   },
   "file_extension": ".py",
   "mimetype": "text/x-python",
   "name": "python",
   "nbconvert_exporter": "python",
   "pygments_lexer": "ipython3",
   "version": "3.10.12"
  }
 },
 "nbformat": 4,
 "nbformat_minor": 4
}
