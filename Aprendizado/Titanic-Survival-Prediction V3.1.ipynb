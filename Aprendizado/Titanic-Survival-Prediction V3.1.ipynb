{
 "cells": [
  {
   "cell_type": "code",
   "execution_count": null,
   "metadata": {
    "_cell_guid": "b1076dfc-b9ad-4769-8c92-a6c4dae69d19",
    "_uuid": "8f2839f25d086af736a60e9eeb907d3b93b6e0e5",
    "execution": {
     "iopub.execute_input": "2025-02-21T00:43:11.831981Z",
     "iopub.status.busy": "2025-02-21T00:43:11.831624Z",
     "iopub.status.idle": "2025-02-21T00:43:11.841154Z",
     "shell.execute_reply": "2025-02-21T00:43:11.840008Z",
     "shell.execute_reply.started": "2025-02-21T00:43:11.831947Z"
    },
    "trusted": true
   },
   "outputs": [],
   "source": [
    "# This Python 3 environment comes with many helpful analytics libraries installed\n",
    "# It is defined by the kaggle/python Docker image: https://github.com/kaggle/docker-python\n",
    "# For example, here's several helpful packages to load\n",
    "\n",
    "import numpy as np # linear algebra\n",
    "import pandas as pd # data processing, CSV file I/O (e.g. pd.read_csv)\n",
    "\n",
    "# Input data files are available in the read-only \"../input/\" directory\n",
    "# For example, running this (by clicking run or pressing Shift+Enter) will list all files under the input directory\n",
    "\n",
    "import os\n",
    "for dirname, _, filenames in os.walk('/kaggle/input'):\n",
    "    for filename in filenames:\n",
    "        print(os.path.join(dirname, filename))\n",
    "\n",
    "# You can write up to 20GB to the current directory (/kaggle/working/) that gets preserved as output when you create a version using \"Save & Run All\" \n",
    "# You can also write temporary files to /kaggle/temp/, but they won't be saved outside of the current session"
   ]
  },
  {
   "cell_type": "code",
   "execution_count": null,
   "metadata": {
    "execution": {
     "iopub.execute_input": "2025-02-21T00:43:11.843208Z",
     "iopub.status.busy": "2025-02-21T00:43:11.842800Z",
     "iopub.status.idle": "2025-02-21T00:43:11.892200Z",
     "shell.execute_reply": "2025-02-21T00:43:11.890981Z",
     "shell.execute_reply.started": "2025-02-21T00:43:11.843169Z"
    },
    "trusted": true
   },
   "outputs": [],
   "source": [
    "#visualization libraries\n",
    "import matplotlib.pyplot as plt\n",
    "import seaborn as sns\n",
    "from sklearn.preprocessing import OneHotEncoder, OrdinalEncoder\n",
    "from sklearn.pipeline import Pipeline\n",
    "from sklearn.compose import ColumnTransformer\n",
    "from sklearn.impute import SimpleImputer\n",
    "from sklearn.ensemble import RandomForestClassifier\n",
    "from sklearn.model_selection import train_test_split, cross_val_score\n",
    "from sklearn.metrics import accuracy_score\n",
    "\n",
    "%matplotlib inline\n",
    "\n",
    "#ignore warnings\n",
    "import warnings\n",
    "warnings.filterwarnings('ignore')\n",
    "np.random.seed(0)\n",
    "\n",
    "#Importando dados\n",
    "data_teste = pd.read_csv(\"/kaggle/input/titanic/test.csv\")\n",
    "data_train = pd.read_csv(\"/kaggle/input/titanic/train.csv\")\n",
    "\n",
    "data_train.describe()"
   ]
  },
  {
   "cell_type": "markdown",
   "metadata": {},
   "source": [
    "## *Analise Inicial do Dataset*"
   ]
  },
  {
   "cell_type": "code",
   "execution_count": null,
   "metadata": {
    "execution": {
     "iopub.execute_input": "2025-02-21T00:43:11.894663Z",
     "iopub.status.busy": "2025-02-21T00:43:11.894344Z",
     "iopub.status.idle": "2025-02-21T00:43:11.909020Z",
     "shell.execute_reply": "2025-02-21T00:43:11.907801Z",
     "shell.execute_reply.started": "2025-02-21T00:43:11.894636Z"
    },
    "trusted": true
   },
   "outputs": [],
   "source": [
    "data_train.head()"
   ]
  },
  {
   "cell_type": "code",
   "execution_count": null,
   "metadata": {
    "execution": {
     "iopub.execute_input": "2025-02-21T00:43:11.911287Z",
     "iopub.status.busy": "2025-02-21T00:43:11.910746Z",
     "iopub.status.idle": "2025-02-21T00:43:11.936996Z",
     "shell.execute_reply": "2025-02-21T00:43:11.935657Z",
     "shell.execute_reply.started": "2025-02-21T00:43:11.911244Z"
    },
    "trusted": true
   },
   "outputs": [],
   "source": [
    "data_teste.head()"
   ]
  },
  {
   "cell_type": "code",
   "execution_count": null,
   "metadata": {
    "execution": {
     "iopub.execute_input": "2025-02-21T00:43:11.938359Z",
     "iopub.status.busy": "2025-02-21T00:43:11.938073Z",
     "iopub.status.idle": "2025-02-21T00:43:11.971676Z",
     "shell.execute_reply": "2025-02-21T00:43:11.970500Z",
     "shell.execute_reply.started": "2025-02-21T00:43:11.938335Z"
    },
    "trusted": true
   },
   "outputs": [],
   "source": [
    "print (data_train.info())\n",
    "print ()\n",
    "print (data_train.info())"
   ]
  },
  {
   "cell_type": "code",
   "execution_count": null,
   "metadata": {
    "execution": {
     "iopub.execute_input": "2025-02-21T00:43:11.973154Z",
     "iopub.status.busy": "2025-02-21T00:43:11.972816Z",
     "iopub.status.idle": "2025-02-21T00:43:11.990586Z",
     "shell.execute_reply": "2025-02-21T00:43:11.989390Z",
     "shell.execute_reply.started": "2025-02-21T00:43:11.973127Z"
    },
    "trusted": true
   },
   "outputs": [],
   "source": [
    "print ('Train Columns: ', data_train.columns)\n",
    "\n",
    "print ('\\nTest Columns: ', data_teste.columns)"
   ]
  },
  {
   "cell_type": "markdown",
   "metadata": {},
   "source": [
    "- Categorical Features: Sex, Survived, PClass, Embarked\n",
    "- Numerical Features: Age (Continua), Fare (Continua), SibSp (Discreta), Parch (Discreta)\n",
    "- Alphanumeric: Cabin, Ticket"
   ]
  },
  {
   "cell_type": "code",
   "execution_count": null,
   "metadata": {
    "execution": {
     "iopub.execute_input": "2025-02-21T00:43:11.991857Z",
     "iopub.status.busy": "2025-02-21T00:43:11.991521Z",
     "iopub.status.idle": "2025-02-21T00:43:12.014807Z",
     "shell.execute_reply": "2025-02-21T00:43:12.013616Z",
     "shell.execute_reply.started": "2025-02-21T00:43:11.991829Z"
    },
    "trusted": true
   },
   "outputs": [],
   "source": [
    "data_train.isnull().sum() # Analisando as colunas com valores faltantes"
   ]
  },
  {
   "cell_type": "code",
   "execution_count": null,
   "metadata": {
    "execution": {
     "iopub.execute_input": "2025-02-21T00:43:12.016242Z",
     "iopub.status.busy": "2025-02-21T00:43:12.015940Z",
     "iopub.status.idle": "2025-02-21T00:43:12.037376Z",
     "shell.execute_reply": "2025-02-21T00:43:12.036466Z",
     "shell.execute_reply.started": "2025-02-21T00:43:12.016215Z"
    },
    "trusted": true
   },
   "outputs": [],
   "source": [
    "data_teste.isnull().sum() # Analisando as colunas com valores faltantes"
   ]
  },
  {
   "cell_type": "code",
   "execution_count": null,
   "metadata": {
    "execution": {
     "iopub.execute_input": "2025-02-21T00:43:12.040758Z",
     "iopub.status.busy": "2025-02-21T00:43:12.040438Z",
     "iopub.status.idle": "2025-02-21T00:43:12.066174Z",
     "shell.execute_reply": "2025-02-21T00:43:12.065028Z",
     "shell.execute_reply.started": "2025-02-21T00:43:12.040731Z"
    },
    "trusted": true
   },
   "outputs": [],
   "source": [
    "train_data = data_train.copy()\n",
    "teste_data = data_teste.copy() # Copia para n alterar o banco de dados original\n",
    "cols_drop = ['Name', 'Cabin', 'Ticket']\n",
    "train = train_data.drop(cols_drop, axis = 1)\n",
    "teste = teste_data.drop(cols_drop, axis = 1)"
   ]
  },
  {
   "cell_type": "markdown",
   "metadata": {},
   "source": [
    "## *Exibindo Graficos de Sobrevivencia*"
   ]
  },
  {
   "cell_type": "code",
   "execution_count": null,
   "metadata": {
    "execution": {
     "iopub.execute_input": "2025-02-21T00:43:12.068290Z",
     "iopub.status.busy": "2025-02-21T00:43:12.067872Z",
     "iopub.status.idle": "2025-02-21T00:43:12.083411Z",
     "shell.execute_reply": "2025-02-21T00:43:12.082183Z",
     "shell.execute_reply.started": "2025-02-21T00:43:12.068251Z"
    },
    "trusted": true
   },
   "outputs": [],
   "source": [
    "# Criando uma copia do DataSet para plotar graficos\n",
    "graph_train = data_train.copy()"
   ]
  },
  {
   "cell_type": "code",
   "execution_count": null,
   "metadata": {
    "execution": {
     "iopub.execute_input": "2025-02-21T00:43:12.084887Z",
     "iopub.status.busy": "2025-02-21T00:43:12.084571Z",
     "iopub.status.idle": "2025-02-21T00:43:12.418053Z",
     "shell.execute_reply": "2025-02-21T00:43:12.416826Z",
     "shell.execute_reply.started": "2025-02-21T00:43:12.084859Z"
    },
    "trusted": true
   },
   "outputs": [],
   "source": [
    "# Separando novamente a coluna Age em grupos, porem utilizando strings\n",
    "bins = [0, 16, 32, 50, 64, np.inf]\n",
    "labels = ['Criança', 'Jovem', 'Adulto', 'Senhor', 'Idoso']\n",
    "graph_train['AgeGroup'] = pd.cut(graph_train[\"Age\"], bins, labels = labels)\n",
    "\n",
    "plt.title('Sobrevivencia por Grupo de Idade')\n",
    "sns.barplot(x=\"AgeGroup\", y=\"Survived\", data=graph_train)"
   ]
  },
  {
   "cell_type": "code",
   "execution_count": null,
   "metadata": {
    "execution": {
     "iopub.execute_input": "2025-02-21T00:43:12.419641Z",
     "iopub.status.busy": "2025-02-21T00:43:12.419280Z",
     "iopub.status.idle": "2025-02-21T00:43:12.793582Z",
     "shell.execute_reply": "2025-02-21T00:43:12.792354Z",
     "shell.execute_reply.started": "2025-02-21T00:43:12.419613Z"
    },
    "jupyter": {
     "source_hidden": true
    },
    "trusted": true
   },
   "outputs": [],
   "source": [
    "# Separando novamente a coluna Fare em grupos, porem utilizando strings\n",
    "graph_train['FareGroup'] = pd.qcut(graph_train[\"Fare\"], q=6, labels=['Muito Baixo', 'Baixo', 'Médio-Baixo', 'Médio', 'Alto', 'Muito Alto'])\n",
    "\n",
    "plt.title('Sobrevivencia por Tarifa')\n",
    "sns.barplot(x=\"FareGroup\", y=\"Survived\", data=graph_train)"
   ]
  },
  {
   "cell_type": "code",
   "execution_count": null,
   "metadata": {
    "execution": {
     "iopub.execute_input": "2025-02-21T00:43:12.795105Z",
     "iopub.status.busy": "2025-02-21T00:43:12.794736Z",
     "iopub.status.idle": "2025-02-21T00:43:13.102709Z",
     "shell.execute_reply": "2025-02-21T00:43:13.101554Z",
     "shell.execute_reply.started": "2025-02-21T00:43:12.795078Z"
    },
    "jupyter": {
     "source_hidden": true
    },
    "trusted": true
   },
   "outputs": [],
   "source": [
    "sns.barplot(x=\"Parch\", y=\"Survived\", data=graph_train)"
   ]
  },
  {
   "cell_type": "code",
   "execution_count": null,
   "metadata": {
    "execution": {
     "iopub.execute_input": "2025-02-21T00:43:13.104254Z",
     "iopub.status.busy": "2025-02-21T00:43:13.103846Z",
     "iopub.status.idle": "2025-02-21T00:43:13.431561Z",
     "shell.execute_reply": "2025-02-21T00:43:13.430311Z",
     "shell.execute_reply.started": "2025-02-21T00:43:13.104214Z"
    },
    "jupyter": {
     "source_hidden": true
    },
    "trusted": true
   },
   "outputs": [],
   "source": [
    "sns.barplot(x=\"SibSp\", y=\"Survived\", data=graph_train)"
   ]
  },
  {
   "cell_type": "code",
   "execution_count": null,
   "metadata": {
    "execution": {
     "iopub.execute_input": "2025-02-21T00:43:13.433004Z",
     "iopub.status.busy": "2025-02-21T00:43:13.432681Z",
     "iopub.status.idle": "2025-02-21T00:43:13.655425Z",
     "shell.execute_reply": "2025-02-21T00:43:13.654221Z",
     "shell.execute_reply.started": "2025-02-21T00:43:13.432979Z"
    },
    "jupyter": {
     "source_hidden": true
    },
    "trusted": true
   },
   "outputs": [],
   "source": [
    "sns.barplot(x=\"Sex\", y=\"Survived\", data=graph_train)"
   ]
  },
  {
   "cell_type": "markdown",
   "metadata": {},
   "source": [
    "## *Treinando o modelo*"
   ]
  },
  {
   "cell_type": "code",
   "execution_count": null,
   "metadata": {
    "execution": {
     "iopub.execute_input": "2025-02-21T00:43:13.656703Z",
     "iopub.status.busy": "2025-02-21T00:43:13.656445Z",
     "iopub.status.idle": "2025-02-21T00:43:13.665195Z",
     "shell.execute_reply": "2025-02-21T00:43:13.664089Z",
     "shell.execute_reply.started": "2025-02-21T00:43:13.656681Z"
    },
    "trusted": true
   },
   "outputs": [],
   "source": [
    "def avaliate_pipes(data, encoder, model, numerical_imputer, categorical_imputer):\n",
    "    \n",
    "    # Definindo Feature e Target\n",
    "    X = data.drop('Survived', axis=1) # Features\n",
    "    y = data['Survived'] # Target\n",
    "\n",
    "    # Dividindo os dados\n",
    "    X_train, X_test, y_train, y_test = train_test_split(X, y, test_size=0.2, random_state=0)\n",
    "\n",
    "    # Classificando as features em num e cat\n",
    "    numerical_features = X.select_dtypes(include=['int64', 'float64']).columns  \n",
    "    categorical_features = X.select_dtypes(include=['object']).columns\n",
    "\n",
    "    # Aplicando Encoder nas features categóricas\n",
    "    if encoder == 'one-hot':\n",
    "        cat_encoder = OneHotEncoder(handle_unknown='ignore')\n",
    "    elif encoder == 'ordinal':\n",
    "        cat_encoder = OrdinalEncoder()\n",
    "    elif encoder == 'label':\n",
    "        for col in categorical_features:\n",
    "            le = LabelEncoder()\n",
    "            X[col] = le.fit_transform(X[col])\n",
    "        cat_encoder = 'passthrough'\n",
    "    else:\n",
    "        raise ValueError('Encoder não reconhecido')\n",
    "\n",
    "    # Tratando dados NaN com imputers\n",
    "    numerical_transformer = SimpleImputer(strategy= numerical_imputer if numerical_imputer != 'zero' else 'constant', fill_value=0)\n",
    "    categorical_transformer = Pipeline(steps=[\n",
    "    ('imputer', SimpleImputer(strategy= categorical_imputer )), # Trata das colunas categoricas utilizando um SimpleImputer para trocar os dados NaN \n",
    "    ( encoder, cat_encoder) # Utiliza o Encoder escolhido para transformar as colunas categoricas em Numericas\n",
    "])\n",
    "  \n",
    "    # Criando um preprocessor\n",
    "    preprocessor = ColumnTransformer(    # Processo anterior a aplicação do modelo, tratamento de dados, permite transformar colunas de forma independente\n",
    "        transformers=[                   # transformers = ['nome', 'transformador', 'coluna']\n",
    "            ('num', numerical_transformer, numerical_features),   # tranforma as numerical features com o numerical transformer\n",
    "            ('cat', categorical_transformer, categorical_features)  # tranforma as categorical features com o categorical transformer\n",
    "        ])\n",
    "    \n",
    "    # Criando um pipeline\n",
    "    pipeline = Pipeline(steps=[\n",
    "        ('preprocessor', preprocessor), # Definindo passos do pipe, 1º passa pelo preprocessor cujo vai transformar as colunas \n",
    "        ('model', model)                # Utilizando os Imputers para preencher os NaN's e realizar o encoder das categoricas\n",
    "    ])                                  # 2º Passa os dados ja processados pelo model fazendo seu treino e entregando ao final seu Score.\n",
    "\n",
    "    # Treinando o modelo\n",
    "    pipeline.fit(X_train, y_train)\n",
    "    y_pred = pipeline.predict(X_test)\n",
    "    score = accuracy_score(y_test, y_pred)\n",
    "    \n",
    "    return pipeline, score*100"
   ]
  },
  {
   "cell_type": "code",
   "execution_count": null,
   "metadata": {
    "execution": {
     "iopub.execute_input": "2025-02-21T00:43:13.666580Z",
     "iopub.status.busy": "2025-02-21T00:43:13.666291Z",
     "iopub.status.idle": "2025-02-21T00:43:16.368972Z",
     "shell.execute_reply": "2025-02-21T00:43:16.367797Z",
     "shell.execute_reply.started": "2025-02-21T00:43:13.666555Z"
    },
    "trusted": true
   },
   "outputs": [],
   "source": [
    "model = RandomForestClassifier()\n",
    "max_score = 0\n",
    "for encoder in ['ordinal', 'one-hot']:\n",
    "    print()\n",
    "    for numerical_imputer in ['mean', 'median', 'constant', 'zero']:\n",
    "        for categorical_imputer in ['most_frequent', 'constant']:\n",
    "            pipeline, score = avaliate_pipes(train, encoder, model, numerical_imputer, categorical_imputer)\n",
    "            print(f'Score: {score:.4}%, Model: {model}, Encoder: {encoder}, Numerical Imputer: {numerical_imputer}, Categorical Imputer: {categorical_imputer}')\n",
    "            if score >= max_score:\n",
    "                max_score = score\n",
    "                B_encoder = encoder\n",
    "                B_Num = numerical_imputer\n",
    "                B_Cat = categorical_imputer\n",
    "            else :max_score\n",
    "            \n",
    "print()\n",
    "\n",
    "print(f'Melhor score: {max_score:.4}%')"
   ]
  },
  {
   "cell_type": "code",
   "execution_count": null,
   "metadata": {
    "execution": {
     "iopub.execute_input": "2025-02-21T00:43:16.370469Z",
     "iopub.status.busy": "2025-02-21T00:43:16.370141Z",
     "iopub.status.idle": "2025-02-21T00:43:16.375885Z",
     "shell.execute_reply": "2025-02-21T00:43:16.374750Z",
     "shell.execute_reply.started": "2025-02-21T00:43:16.370433Z"
    },
    "trusted": true
   },
   "outputs": [],
   "source": [
    "print(B_encoder, B_Num, B_Cat)"
   ]
  },
  {
   "cell_type": "code",
   "execution_count": null,
   "metadata": {
    "execution": {
     "iopub.execute_input": "2025-02-21T00:43:16.377383Z",
     "iopub.status.busy": "2025-02-21T00:43:16.377006Z",
     "iopub.status.idle": "2025-02-21T00:43:16.627225Z",
     "shell.execute_reply": "2025-02-21T00:43:16.626312Z",
     "shell.execute_reply.started": "2025-02-21T00:43:16.377356Z"
    },
    "trusted": true
   },
   "outputs": [],
   "source": [
    "pipeline, score = avaliate_pipes(train, B_encoder, model, B_Num, B_Cat)"
   ]
  },
  {
   "cell_type": "markdown",
   "metadata": {},
   "source": [
    "## *Gerando modelo para competição*"
   ]
  },
  {
   "cell_type": "code",
   "execution_count": null,
   "metadata": {
    "execution": {
     "iopub.execute_input": "2025-02-21T00:43:16.628537Z",
     "iopub.status.busy": "2025-02-21T00:43:16.628177Z",
     "iopub.status.idle": "2025-02-21T00:43:16.654815Z",
     "shell.execute_reply": "2025-02-21T00:43:16.653756Z",
     "shell.execute_reply.started": "2025-02-21T00:43:16.628501Z"
    },
    "trusted": true
   },
   "outputs": [],
   "source": [
    "X_teste = teste\n",
    "teste_ids = teste['PassengerId']\n",
    "predictions = pipeline.predict(X_teste)\n",
    "submission = pd.DataFrame({\"PassengerId\": teste_ids, \"Survived\": predictions})\n",
    "submission.to_csv(\"submission.csv\", index=False)"
   ]
  }
 ],
 "metadata": {
  "kaggle": {
   "accelerator": "none",
   "dataSources": [
    {
     "databundleVersionId": 26502,
     "sourceId": 3136,
     "sourceType": "competition"
    }
   ],
   "dockerImageVersionId": 30886,
   "isGpuEnabled": false,
   "isInternetEnabled": true,
   "language": "python",
   "sourceType": "notebook"
  },
  "kernelspec": {
   "display_name": "Python 3",
   "language": "python",
   "name": "python3"
  },
  "language_info": {
   "codemirror_mode": {
    "name": "ipython",
    "version": 3
   },
   "file_extension": ".py",
   "mimetype": "text/x-python",
   "name": "python",
   "nbconvert_exporter": "python",
   "pygments_lexer": "ipython3",
   "version": "3.10.12"
  }
 },
 "nbformat": 4,
 "nbformat_minor": 4
}
