{
 "cells": [
  {
   "cell_type": "code",
   "execution_count": 25,
   "metadata": {
    "_cell_guid": "b1076dfc-b9ad-4769-8c92-a6c4dae69d19",
    "_uuid": "8f2839f25d086af736a60e9eeb907d3b93b6e0e5",
    "execution": {
     "iopub.execute_input": "2025-02-21T01:48:21.679873Z",
     "iopub.status.busy": "2025-02-21T01:48:21.679457Z",
     "iopub.status.idle": "2025-02-21T01:48:21.688506Z",
     "shell.execute_reply": "2025-02-21T01:48:21.687415Z",
     "shell.execute_reply.started": "2025-02-21T01:48:21.679841Z"
    },
    "trusted": true
   },
   "outputs": [
    {
     "name": "stdout",
     "output_type": "stream",
     "text": [
      "/kaggle/input/titanic/train.csv\n",
      "/kaggle/input/titanic/test.csv\n",
      "/kaggle/input/titanic/gender_submission.csv\n"
     ]
    }
   ],
   "source": [
    "# This Python 3 environment comes with many helpful analytics libraries installed\n",
    "# It is defined by the kaggle/python Docker image: https://github.com/kaggle/docker-python\n",
    "# For example, here's several helpful packages to load\n",
    "\n",
    "import numpy as np # linear algebra\n",
    "import pandas as pd # data processing, CSV file I/O (e.g. pd.read_csv)\n",
    "\n",
    "# Input data files are available in the read-only \"../input/\" directory\n",
    "# For example, running this (by clicking run or pressing Shift+Enter) will list all files under the input directory\n",
    "\n",
    "import os\n",
    "for dirname, _, filenames in os.walk('/kaggle/input'):\n",
    "    for filename in filenames:\n",
    "        print(os.path.join(dirname, filename))\n",
    "\n",
    "# You can write up to 20GB to the current directory (/kaggle/working/) that gets preserved as output when you create a version using \"Save & Run All\" \n",
    "# You can also write temporary files to /kaggle/temp/, but they won't be saved outside of the current session"
   ]
  },
  {
   "cell_type": "code",
   "execution_count": 26,
   "metadata": {
    "execution": {
     "iopub.execute_input": "2025-02-21T01:48:21.690222Z",
     "iopub.status.busy": "2025-02-21T01:48:21.689828Z",
     "iopub.status.idle": "2025-02-21T01:48:21.739322Z",
     "shell.execute_reply": "2025-02-21T01:48:21.738264Z",
     "shell.execute_reply.started": "2025-02-21T01:48:21.690196Z"
    },
    "trusted": true
   },
   "outputs": [
    {
     "data": {
      "text/html": [
       "<div>\n",
       "<style scoped>\n",
       "    .dataframe tbody tr th:only-of-type {\n",
       "        vertical-align: middle;\n",
       "    }\n",
       "\n",
       "    .dataframe tbody tr th {\n",
       "        vertical-align: top;\n",
       "    }\n",
       "\n",
       "    .dataframe thead th {\n",
       "        text-align: right;\n",
       "    }\n",
       "</style>\n",
       "<table border=\"1\" class=\"dataframe\">\n",
       "  <thead>\n",
       "    <tr style=\"text-align: right;\">\n",
       "      <th></th>\n",
       "      <th>PassengerId</th>\n",
       "      <th>Survived</th>\n",
       "      <th>Pclass</th>\n",
       "      <th>Age</th>\n",
       "      <th>SibSp</th>\n",
       "      <th>Parch</th>\n",
       "      <th>Fare</th>\n",
       "    </tr>\n",
       "  </thead>\n",
       "  <tbody>\n",
       "    <tr>\n",
       "      <th>count</th>\n",
       "      <td>891.000000</td>\n",
       "      <td>891.000000</td>\n",
       "      <td>891.000000</td>\n",
       "      <td>714.000000</td>\n",
       "      <td>891.000000</td>\n",
       "      <td>891.000000</td>\n",
       "      <td>891.000000</td>\n",
       "    </tr>\n",
       "    <tr>\n",
       "      <th>mean</th>\n",
       "      <td>446.000000</td>\n",
       "      <td>0.383838</td>\n",
       "      <td>2.308642</td>\n",
       "      <td>29.699118</td>\n",
       "      <td>0.523008</td>\n",
       "      <td>0.381594</td>\n",
       "      <td>32.204208</td>\n",
       "    </tr>\n",
       "    <tr>\n",
       "      <th>std</th>\n",
       "      <td>257.353842</td>\n",
       "      <td>0.486592</td>\n",
       "      <td>0.836071</td>\n",
       "      <td>14.526497</td>\n",
       "      <td>1.102743</td>\n",
       "      <td>0.806057</td>\n",
       "      <td>49.693429</td>\n",
       "    </tr>\n",
       "    <tr>\n",
       "      <th>min</th>\n",
       "      <td>1.000000</td>\n",
       "      <td>0.000000</td>\n",
       "      <td>1.000000</td>\n",
       "      <td>0.420000</td>\n",
       "      <td>0.000000</td>\n",
       "      <td>0.000000</td>\n",
       "      <td>0.000000</td>\n",
       "    </tr>\n",
       "    <tr>\n",
       "      <th>25%</th>\n",
       "      <td>223.500000</td>\n",
       "      <td>0.000000</td>\n",
       "      <td>2.000000</td>\n",
       "      <td>20.125000</td>\n",
       "      <td>0.000000</td>\n",
       "      <td>0.000000</td>\n",
       "      <td>7.910400</td>\n",
       "    </tr>\n",
       "    <tr>\n",
       "      <th>50%</th>\n",
       "      <td>446.000000</td>\n",
       "      <td>0.000000</td>\n",
       "      <td>3.000000</td>\n",
       "      <td>28.000000</td>\n",
       "      <td>0.000000</td>\n",
       "      <td>0.000000</td>\n",
       "      <td>14.454200</td>\n",
       "    </tr>\n",
       "    <tr>\n",
       "      <th>75%</th>\n",
       "      <td>668.500000</td>\n",
       "      <td>1.000000</td>\n",
       "      <td>3.000000</td>\n",
       "      <td>38.000000</td>\n",
       "      <td>1.000000</td>\n",
       "      <td>0.000000</td>\n",
       "      <td>31.000000</td>\n",
       "    </tr>\n",
       "    <tr>\n",
       "      <th>max</th>\n",
       "      <td>891.000000</td>\n",
       "      <td>1.000000</td>\n",
       "      <td>3.000000</td>\n",
       "      <td>80.000000</td>\n",
       "      <td>8.000000</td>\n",
       "      <td>6.000000</td>\n",
       "      <td>512.329200</td>\n",
       "    </tr>\n",
       "  </tbody>\n",
       "</table>\n",
       "</div>"
      ],
      "text/plain": [
       "       PassengerId    Survived      Pclass         Age       SibSp  \\\n",
       "count   891.000000  891.000000  891.000000  714.000000  891.000000   \n",
       "mean    446.000000    0.383838    2.308642   29.699118    0.523008   \n",
       "std     257.353842    0.486592    0.836071   14.526497    1.102743   \n",
       "min       1.000000    0.000000    1.000000    0.420000    0.000000   \n",
       "25%     223.500000    0.000000    2.000000   20.125000    0.000000   \n",
       "50%     446.000000    0.000000    3.000000   28.000000    0.000000   \n",
       "75%     668.500000    1.000000    3.000000   38.000000    1.000000   \n",
       "max     891.000000    1.000000    3.000000   80.000000    8.000000   \n",
       "\n",
       "            Parch        Fare  \n",
       "count  891.000000  891.000000  \n",
       "mean     0.381594   32.204208  \n",
       "std      0.806057   49.693429  \n",
       "min      0.000000    0.000000  \n",
       "25%      0.000000    7.910400  \n",
       "50%      0.000000   14.454200  \n",
       "75%      0.000000   31.000000  \n",
       "max      6.000000  512.329200  "
      ]
     },
     "execution_count": 26,
     "metadata": {},
     "output_type": "execute_result"
    }
   ],
   "source": [
    "#visualization libraries\n",
    "import matplotlib.pyplot as plt\n",
    "import seaborn as sns\n",
    "from sklearn.preprocessing import OneHotEncoder, OrdinalEncoder\n",
    "from sklearn.pipeline import Pipeline\n",
    "from sklearn.compose import ColumnTransformer\n",
    "from sklearn.impute import SimpleImputer\n",
    "from sklearn.ensemble import RandomForestClassifier\n",
    "from sklearn.model_selection import cross_val_score\n",
    "from sklearn.metrics import accuracy_score\n",
    "\n",
    "%matplotlib inline\n",
    "\n",
    "#ignore warnings\n",
    "import warnings\n",
    "warnings.filterwarnings('ignore')\n",
    "np.random.seed(0)\n",
    "\n",
    "#Importando dados\n",
    "data_teste = pd.read_csv(\"/kaggle/input/titanic/test.csv\")\n",
    "data_train = pd.read_csv(\"/kaggle/input/titanic/train.csv\")\n",
    "\n",
    "data_train.describe()"
   ]
  },
  {
   "cell_type": "markdown",
   "metadata": {},
   "source": [
    "## *Analise Inicial do Dataset*"
   ]
  },
  {
   "cell_type": "code",
   "execution_count": 27,
   "metadata": {
    "execution": {
     "iopub.execute_input": "2025-02-21T01:48:21.741831Z",
     "iopub.status.busy": "2025-02-21T01:48:21.741408Z",
     "iopub.status.idle": "2025-02-21T01:48:21.756093Z",
     "shell.execute_reply": "2025-02-21T01:48:21.755044Z",
     "shell.execute_reply.started": "2025-02-21T01:48:21.741791Z"
    },
    "trusted": true
   },
   "outputs": [
    {
     "data": {
      "text/html": [
       "<div>\n",
       "<style scoped>\n",
       "    .dataframe tbody tr th:only-of-type {\n",
       "        vertical-align: middle;\n",
       "    }\n",
       "\n",
       "    .dataframe tbody tr th {\n",
       "        vertical-align: top;\n",
       "    }\n",
       "\n",
       "    .dataframe thead th {\n",
       "        text-align: right;\n",
       "    }\n",
       "</style>\n",
       "<table border=\"1\" class=\"dataframe\">\n",
       "  <thead>\n",
       "    <tr style=\"text-align: right;\">\n",
       "      <th></th>\n",
       "      <th>PassengerId</th>\n",
       "      <th>Survived</th>\n",
       "      <th>Pclass</th>\n",
       "      <th>Name</th>\n",
       "      <th>Sex</th>\n",
       "      <th>Age</th>\n",
       "      <th>SibSp</th>\n",
       "      <th>Parch</th>\n",
       "      <th>Ticket</th>\n",
       "      <th>Fare</th>\n",
       "      <th>Cabin</th>\n",
       "      <th>Embarked</th>\n",
       "    </tr>\n",
       "  </thead>\n",
       "  <tbody>\n",
       "    <tr>\n",
       "      <th>0</th>\n",
       "      <td>1</td>\n",
       "      <td>0</td>\n",
       "      <td>3</td>\n",
       "      <td>Braund, Mr. Owen Harris</td>\n",
       "      <td>male</td>\n",
       "      <td>22.0</td>\n",
       "      <td>1</td>\n",
       "      <td>0</td>\n",
       "      <td>A/5 21171</td>\n",
       "      <td>7.2500</td>\n",
       "      <td>NaN</td>\n",
       "      <td>S</td>\n",
       "    </tr>\n",
       "    <tr>\n",
       "      <th>1</th>\n",
       "      <td>2</td>\n",
       "      <td>1</td>\n",
       "      <td>1</td>\n",
       "      <td>Cumings, Mrs. John Bradley (Florence Briggs Th...</td>\n",
       "      <td>female</td>\n",
       "      <td>38.0</td>\n",
       "      <td>1</td>\n",
       "      <td>0</td>\n",
       "      <td>PC 17599</td>\n",
       "      <td>71.2833</td>\n",
       "      <td>C85</td>\n",
       "      <td>C</td>\n",
       "    </tr>\n",
       "    <tr>\n",
       "      <th>2</th>\n",
       "      <td>3</td>\n",
       "      <td>1</td>\n",
       "      <td>3</td>\n",
       "      <td>Heikkinen, Miss. Laina</td>\n",
       "      <td>female</td>\n",
       "      <td>26.0</td>\n",
       "      <td>0</td>\n",
       "      <td>0</td>\n",
       "      <td>STON/O2. 3101282</td>\n",
       "      <td>7.9250</td>\n",
       "      <td>NaN</td>\n",
       "      <td>S</td>\n",
       "    </tr>\n",
       "    <tr>\n",
       "      <th>3</th>\n",
       "      <td>4</td>\n",
       "      <td>1</td>\n",
       "      <td>1</td>\n",
       "      <td>Futrelle, Mrs. Jacques Heath (Lily May Peel)</td>\n",
       "      <td>female</td>\n",
       "      <td>35.0</td>\n",
       "      <td>1</td>\n",
       "      <td>0</td>\n",
       "      <td>113803</td>\n",
       "      <td>53.1000</td>\n",
       "      <td>C123</td>\n",
       "      <td>S</td>\n",
       "    </tr>\n",
       "    <tr>\n",
       "      <th>4</th>\n",
       "      <td>5</td>\n",
       "      <td>0</td>\n",
       "      <td>3</td>\n",
       "      <td>Allen, Mr. William Henry</td>\n",
       "      <td>male</td>\n",
       "      <td>35.0</td>\n",
       "      <td>0</td>\n",
       "      <td>0</td>\n",
       "      <td>373450</td>\n",
       "      <td>8.0500</td>\n",
       "      <td>NaN</td>\n",
       "      <td>S</td>\n",
       "    </tr>\n",
       "  </tbody>\n",
       "</table>\n",
       "</div>"
      ],
      "text/plain": [
       "   PassengerId  Survived  Pclass  \\\n",
       "0            1         0       3   \n",
       "1            2         1       1   \n",
       "2            3         1       3   \n",
       "3            4         1       1   \n",
       "4            5         0       3   \n",
       "\n",
       "                                                Name     Sex   Age  SibSp  \\\n",
       "0                            Braund, Mr. Owen Harris    male  22.0      1   \n",
       "1  Cumings, Mrs. John Bradley (Florence Briggs Th...  female  38.0      1   \n",
       "2                             Heikkinen, Miss. Laina  female  26.0      0   \n",
       "3       Futrelle, Mrs. Jacques Heath (Lily May Peel)  female  35.0      1   \n",
       "4                           Allen, Mr. William Henry    male  35.0      0   \n",
       "\n",
       "   Parch            Ticket     Fare Cabin Embarked  \n",
       "0      0         A/5 21171   7.2500   NaN        S  \n",
       "1      0          PC 17599  71.2833   C85        C  \n",
       "2      0  STON/O2. 3101282   7.9250   NaN        S  \n",
       "3      0            113803  53.1000  C123        S  \n",
       "4      0            373450   8.0500   NaN        S  "
      ]
     },
     "execution_count": 27,
     "metadata": {},
     "output_type": "execute_result"
    }
   ],
   "source": [
    "data_train.head()"
   ]
  },
  {
   "cell_type": "code",
   "execution_count": 28,
   "metadata": {
    "execution": {
     "iopub.execute_input": "2025-02-21T01:48:21.757874Z",
     "iopub.status.busy": "2025-02-21T01:48:21.757472Z",
     "iopub.status.idle": "2025-02-21T01:48:21.823768Z",
     "shell.execute_reply": "2025-02-21T01:48:21.822642Z",
     "shell.execute_reply.started": "2025-02-21T01:48:21.757845Z"
    },
    "trusted": true
   },
   "outputs": [
    {
     "data": {
      "text/html": [
       "<div>\n",
       "<style scoped>\n",
       "    .dataframe tbody tr th:only-of-type {\n",
       "        vertical-align: middle;\n",
       "    }\n",
       "\n",
       "    .dataframe tbody tr th {\n",
       "        vertical-align: top;\n",
       "    }\n",
       "\n",
       "    .dataframe thead th {\n",
       "        text-align: right;\n",
       "    }\n",
       "</style>\n",
       "<table border=\"1\" class=\"dataframe\">\n",
       "  <thead>\n",
       "    <tr style=\"text-align: right;\">\n",
       "      <th></th>\n",
       "      <th>PassengerId</th>\n",
       "      <th>Pclass</th>\n",
       "      <th>Name</th>\n",
       "      <th>Sex</th>\n",
       "      <th>Age</th>\n",
       "      <th>SibSp</th>\n",
       "      <th>Parch</th>\n",
       "      <th>Ticket</th>\n",
       "      <th>Fare</th>\n",
       "      <th>Cabin</th>\n",
       "      <th>Embarked</th>\n",
       "    </tr>\n",
       "  </thead>\n",
       "  <tbody>\n",
       "    <tr>\n",
       "      <th>0</th>\n",
       "      <td>892</td>\n",
       "      <td>3</td>\n",
       "      <td>Kelly, Mr. James</td>\n",
       "      <td>male</td>\n",
       "      <td>34.5</td>\n",
       "      <td>0</td>\n",
       "      <td>0</td>\n",
       "      <td>330911</td>\n",
       "      <td>7.8292</td>\n",
       "      <td>NaN</td>\n",
       "      <td>Q</td>\n",
       "    </tr>\n",
       "    <tr>\n",
       "      <th>1</th>\n",
       "      <td>893</td>\n",
       "      <td>3</td>\n",
       "      <td>Wilkes, Mrs. James (Ellen Needs)</td>\n",
       "      <td>female</td>\n",
       "      <td>47.0</td>\n",
       "      <td>1</td>\n",
       "      <td>0</td>\n",
       "      <td>363272</td>\n",
       "      <td>7.0000</td>\n",
       "      <td>NaN</td>\n",
       "      <td>S</td>\n",
       "    </tr>\n",
       "    <tr>\n",
       "      <th>2</th>\n",
       "      <td>894</td>\n",
       "      <td>2</td>\n",
       "      <td>Myles, Mr. Thomas Francis</td>\n",
       "      <td>male</td>\n",
       "      <td>62.0</td>\n",
       "      <td>0</td>\n",
       "      <td>0</td>\n",
       "      <td>240276</td>\n",
       "      <td>9.6875</td>\n",
       "      <td>NaN</td>\n",
       "      <td>Q</td>\n",
       "    </tr>\n",
       "    <tr>\n",
       "      <th>3</th>\n",
       "      <td>895</td>\n",
       "      <td>3</td>\n",
       "      <td>Wirz, Mr. Albert</td>\n",
       "      <td>male</td>\n",
       "      <td>27.0</td>\n",
       "      <td>0</td>\n",
       "      <td>0</td>\n",
       "      <td>315154</td>\n",
       "      <td>8.6625</td>\n",
       "      <td>NaN</td>\n",
       "      <td>S</td>\n",
       "    </tr>\n",
       "    <tr>\n",
       "      <th>4</th>\n",
       "      <td>896</td>\n",
       "      <td>3</td>\n",
       "      <td>Hirvonen, Mrs. Alexander (Helga E Lindqvist)</td>\n",
       "      <td>female</td>\n",
       "      <td>22.0</td>\n",
       "      <td>1</td>\n",
       "      <td>1</td>\n",
       "      <td>3101298</td>\n",
       "      <td>12.2875</td>\n",
       "      <td>NaN</td>\n",
       "      <td>S</td>\n",
       "    </tr>\n",
       "  </tbody>\n",
       "</table>\n",
       "</div>"
      ],
      "text/plain": [
       "   PassengerId  Pclass                                          Name     Sex  \\\n",
       "0          892       3                              Kelly, Mr. James    male   \n",
       "1          893       3              Wilkes, Mrs. James (Ellen Needs)  female   \n",
       "2          894       2                     Myles, Mr. Thomas Francis    male   \n",
       "3          895       3                              Wirz, Mr. Albert    male   \n",
       "4          896       3  Hirvonen, Mrs. Alexander (Helga E Lindqvist)  female   \n",
       "\n",
       "    Age  SibSp  Parch   Ticket     Fare Cabin Embarked  \n",
       "0  34.5      0      0   330911   7.8292   NaN        Q  \n",
       "1  47.0      1      0   363272   7.0000   NaN        S  \n",
       "2  62.0      0      0   240276   9.6875   NaN        Q  \n",
       "3  27.0      0      0   315154   8.6625   NaN        S  \n",
       "4  22.0      1      1  3101298  12.2875   NaN        S  "
      ]
     },
     "execution_count": 28,
     "metadata": {},
     "output_type": "execute_result"
    }
   ],
   "source": [
    "data_teste.head()"
   ]
  },
  {
   "cell_type": "code",
   "execution_count": 29,
   "metadata": {
    "execution": {
     "iopub.execute_input": "2025-02-21T01:48:21.825360Z",
     "iopub.status.busy": "2025-02-21T01:48:21.824953Z",
     "iopub.status.idle": "2025-02-21T01:48:21.854237Z",
     "shell.execute_reply": "2025-02-21T01:48:21.853196Z",
     "shell.execute_reply.started": "2025-02-21T01:48:21.825315Z"
    },
    "trusted": true
   },
   "outputs": [
    {
     "name": "stdout",
     "output_type": "stream",
     "text": [
      "<class 'pandas.core.frame.DataFrame'>\n",
      "RangeIndex: 891 entries, 0 to 890\n",
      "Data columns (total 12 columns):\n",
      " #   Column       Non-Null Count  Dtype  \n",
      "---  ------       --------------  -----  \n",
      " 0   PassengerId  891 non-null    int64  \n",
      " 1   Survived     891 non-null    int64  \n",
      " 2   Pclass       891 non-null    int64  \n",
      " 3   Name         891 non-null    object \n",
      " 4   Sex          891 non-null    object \n",
      " 5   Age          714 non-null    float64\n",
      " 6   SibSp        891 non-null    int64  \n",
      " 7   Parch        891 non-null    int64  \n",
      " 8   Ticket       891 non-null    object \n",
      " 9   Fare         891 non-null    float64\n",
      " 10  Cabin        204 non-null    object \n",
      " 11  Embarked     889 non-null    object \n",
      "dtypes: float64(2), int64(5), object(5)\n",
      "memory usage: 83.7+ KB\n",
      "None\n",
      "\n",
      "<class 'pandas.core.frame.DataFrame'>\n",
      "RangeIndex: 891 entries, 0 to 890\n",
      "Data columns (total 12 columns):\n",
      " #   Column       Non-Null Count  Dtype  \n",
      "---  ------       --------------  -----  \n",
      " 0   PassengerId  891 non-null    int64  \n",
      " 1   Survived     891 non-null    int64  \n",
      " 2   Pclass       891 non-null    int64  \n",
      " 3   Name         891 non-null    object \n",
      " 4   Sex          891 non-null    object \n",
      " 5   Age          714 non-null    float64\n",
      " 6   SibSp        891 non-null    int64  \n",
      " 7   Parch        891 non-null    int64  \n",
      " 8   Ticket       891 non-null    object \n",
      " 9   Fare         891 non-null    float64\n",
      " 10  Cabin        204 non-null    object \n",
      " 11  Embarked     889 non-null    object \n",
      "dtypes: float64(2), int64(5), object(5)\n",
      "memory usage: 83.7+ KB\n",
      "None\n"
     ]
    }
   ],
   "source": [
    "print (data_train.info())\n",
    "print ()\n",
    "print (data_train.info())"
   ]
  },
  {
   "cell_type": "code",
   "execution_count": 30,
   "metadata": {
    "execution": {
     "iopub.execute_input": "2025-02-21T01:48:21.855825Z",
     "iopub.status.busy": "2025-02-21T01:48:21.855416Z",
     "iopub.status.idle": "2025-02-21T01:48:21.879592Z",
     "shell.execute_reply": "2025-02-21T01:48:21.878356Z",
     "shell.execute_reply.started": "2025-02-21T01:48:21.855787Z"
    },
    "trusted": true
   },
   "outputs": [
    {
     "name": "stdout",
     "output_type": "stream",
     "text": [
      "Train Columns:  Index(['PassengerId', 'Survived', 'Pclass', 'Name', 'Sex', 'Age', 'SibSp',\n",
      "       'Parch', 'Ticket', 'Fare', 'Cabin', 'Embarked'],\n",
      "      dtype='object')\n",
      "\n",
      "Test Columns:  Index(['PassengerId', 'Pclass', 'Name', 'Sex', 'Age', 'SibSp', 'Parch',\n",
      "       'Ticket', 'Fare', 'Cabin', 'Embarked'],\n",
      "      dtype='object')\n"
     ]
    }
   ],
   "source": [
    "print ('Train Columns: ', data_train.columns)\n",
    "\n",
    "print ('\\nTest Columns: ', data_teste.columns)"
   ]
  },
  {
   "cell_type": "markdown",
   "metadata": {},
   "source": [
    "- Categorical Features: Sex, Survived, PClass, Embarked\n",
    "- Numerical Features: Age (Continua), Fare (Continua), SibSp (Discreta), Parch (Discreta)\n",
    "- Alphanumeric: Cabin, Ticket"
   ]
  },
  {
   "cell_type": "code",
   "execution_count": 31,
   "metadata": {
    "execution": {
     "iopub.execute_input": "2025-02-21T01:48:21.880823Z",
     "iopub.status.busy": "2025-02-21T01:48:21.880520Z",
     "iopub.status.idle": "2025-02-21T01:48:21.900925Z",
     "shell.execute_reply": "2025-02-21T01:48:21.899780Z",
     "shell.execute_reply.started": "2025-02-21T01:48:21.880799Z"
    },
    "trusted": true
   },
   "outputs": [
    {
     "data": {
      "text/plain": [
       "PassengerId      0\n",
       "Survived         0\n",
       "Pclass           0\n",
       "Name             0\n",
       "Sex              0\n",
       "Age            177\n",
       "SibSp            0\n",
       "Parch            0\n",
       "Ticket           0\n",
       "Fare             0\n",
       "Cabin          687\n",
       "Embarked         2\n",
       "dtype: int64"
      ]
     },
     "execution_count": 31,
     "metadata": {},
     "output_type": "execute_result"
    }
   ],
   "source": [
    "data_train.isnull().sum() # Analisando as colunas com valores faltantes"
   ]
  },
  {
   "cell_type": "code",
   "execution_count": 32,
   "metadata": {
    "execution": {
     "iopub.execute_input": "2025-02-21T01:48:21.905125Z",
     "iopub.status.busy": "2025-02-21T01:48:21.904813Z",
     "iopub.status.idle": "2025-02-21T01:48:21.920414Z",
     "shell.execute_reply": "2025-02-21T01:48:21.919184Z",
     "shell.execute_reply.started": "2025-02-21T01:48:21.905093Z"
    },
    "trusted": true
   },
   "outputs": [
    {
     "data": {
      "text/plain": [
       "PassengerId      0\n",
       "Pclass           0\n",
       "Name             0\n",
       "Sex              0\n",
       "Age             86\n",
       "SibSp            0\n",
       "Parch            0\n",
       "Ticket           0\n",
       "Fare             1\n",
       "Cabin          327\n",
       "Embarked         0\n",
       "dtype: int64"
      ]
     },
     "execution_count": 32,
     "metadata": {},
     "output_type": "execute_result"
    }
   ],
   "source": [
    "data_teste.isnull().sum() # Analisando as colunas com valores faltantes"
   ]
  },
  {
   "cell_type": "code",
   "execution_count": 33,
   "metadata": {
    "execution": {
     "iopub.execute_input": "2025-02-21T01:48:21.922532Z",
     "iopub.status.busy": "2025-02-21T01:48:21.922161Z",
     "iopub.status.idle": "2025-02-21T01:48:21.938845Z",
     "shell.execute_reply": "2025-02-21T01:48:21.937693Z",
     "shell.execute_reply.started": "2025-02-21T01:48:21.922496Z"
    },
    "trusted": true
   },
   "outputs": [],
   "source": [
    "train_data = data_train.copy()\n",
    "teste_data = data_teste.copy() # Copia para n alterar o banco de dados original\n",
    "cols_drop = ['Name', 'Cabin', 'Ticket']\n",
    "train = train_data.drop(cols_drop, axis = 1)\n",
    "teste = teste_data.drop(cols_drop, axis = 1)"
   ]
  },
  {
   "cell_type": "markdown",
   "metadata": {},
   "source": [
    "## *Exibindo Graficos de Sobrevivencia*"
   ]
  },
  {
   "cell_type": "code",
   "execution_count": 34,
   "metadata": {
    "execution": {
     "iopub.execute_input": "2025-02-21T01:48:21.940469Z",
     "iopub.status.busy": "2025-02-21T01:48:21.940108Z",
     "iopub.status.idle": "2025-02-21T01:48:21.956858Z",
     "shell.execute_reply": "2025-02-21T01:48:21.955866Z",
     "shell.execute_reply.started": "2025-02-21T01:48:21.940432Z"
    },
    "trusted": true
   },
   "outputs": [],
   "source": [
    "# Criando uma copia do DataSet para plotar graficos\n",
    "graph_train = data_train.copy()"
   ]
  },
  {
   "cell_type": "code",
   "execution_count": 35,
   "metadata": {
    "execution": {
     "iopub.execute_input": "2025-02-21T01:48:21.958485Z",
     "iopub.status.busy": "2025-02-21T01:48:21.958067Z",
     "iopub.status.idle": "2025-02-21T01:48:22.302385Z",
     "shell.execute_reply": "2025-02-21T01:48:22.301312Z",
     "shell.execute_reply.started": "2025-02-21T01:48:21.958455Z"
    },
    "trusted": true
   },
   "outputs": [
    {
     "data": {
      "text/plain": [
       "<Axes: title={'center': 'Sobrevivencia por Grupo de Idade'}, xlabel='AgeGroup', ylabel='Survived'>"
      ]
     },
     "execution_count": 35,
     "metadata": {},
     "output_type": "execute_result"
    },
    {
     "data": {
      "image/png": "[encoded data removed]",
      "text/plain": [
       "<Figure size 640x480 with 1 Axes>"
      ]
     },
     "metadata": {},
     "output_type": "display_data"
    }
   ],
   "source": [
    "# Separando novamente a coluna Age em grupos, porem utilizando strings\n",
    "bins = [0, 16, 32, 50, 64, np.inf]\n",
    "labels = ['Criança', 'Jovem', 'Adulto', 'Senhor', 'Idoso']\n",
    "graph_train['AgeGroup'] = pd.cut(graph_train[\"Age\"], bins, labels = labels)\n",
    "\n",
    "plt.title('Sobrevivencia por Grupo de Idade')\n",
    "sns.barplot(x=\"AgeGroup\", y=\"Survived\", data=graph_train)"
   ]
  },
  {
   "cell_type": "code",
   "execution_count": 36,
   "metadata": {
    "execution": {
     "iopub.execute_input": "2025-02-21T01:48:22.304142Z",
     "iopub.status.busy": "2025-02-21T01:48:22.303729Z",
     "iopub.status.idle": "2025-02-21T01:48:22.685703Z",
     "shell.execute_reply": "2025-02-21T01:48:22.684577Z",
     "shell.execute_reply.started": "2025-02-21T01:48:22.304105Z"
    },
    "jupyter": {
     "source_hidden": true
    },
    "trusted": true
   },
   "outputs": [
    {
     "data": {
      "text/plain": [
       "<Axes: title={'center': 'Sobrevivencia por Tarifa'}, xlabel='FareGroup', ylabel='Survived'>"
      ]
     },
     "execution_count": 36,
     "metadata": {},
     "output_type": "execute_result"
    },
    {
     "data": {
      "image/png": "[encoded data removed]",
      "text/plain": [
       "<Figure size 640x480 with 1 Axes>"
      ]
     },
     "metadata": {},
     "output_type": "display_data"
    }
   ],
   "source": [
    "# Separando novamente a coluna Fare em grupos, porem utilizando strings\n",
    "graph_train['FareGroup'] = pd.qcut(graph_train[\"Fare\"], q=6, labels=['Muito Baixo', 'Baixo', 'Médio-Baixo', 'Médio', 'Alto', 'Muito Alto'])\n",
    "\n",
    "plt.title('Sobrevivencia por Tarifa')\n",
    "sns.barplot(x=\"FareGroup\", y=\"Survived\", data=graph_train)"
   ]
  },
  {
   "cell_type": "code",
   "execution_count": 37,
   "metadata": {
    "execution": {
     "iopub.execute_input": "2025-02-21T01:48:22.687176Z",
     "iopub.status.busy": "2025-02-21T01:48:22.686835Z",
     "iopub.status.idle": "2025-02-21T01:48:23.012269Z",
     "shell.execute_reply": "2025-02-21T01:48:23.011183Z",
     "shell.execute_reply.started": "2025-02-21T01:48:22.687149Z"
    },
    "jupyter": {
     "source_hidden": true
    },
    "trusted": true
   },
   "outputs": [
    {
     "data": {
      "text/plain": [
       "<Axes: xlabel='Parch', ylabel='Survived'>"
      ]
     },
     "execution_count": 37,
     "metadata": {},
     "output_type": "execute_result"
    },
    {
     "data": {
      "image/png": "[encoded data removed]",
      "text/plain": [
       "<Figure size 640x480 with 1 Axes>"
      ]
     },
     "metadata": {},
     "output_type": "display_data"
    }
   ],
   "source": [
    "sns.barplot(x=\"Parch\", y=\"Survived\", data=graph_train)"
   ]
  },
  {
   "cell_type": "code",
   "execution_count": 38,
   "metadata": {
    "execution": {
     "iopub.execute_input": "2025-02-21T01:48:23.013875Z",
     "iopub.status.busy": "2025-02-21T01:48:23.013447Z",
     "iopub.status.idle": "2025-02-21T01:48:23.385333Z",
     "shell.execute_reply": "2025-02-21T01:48:23.384250Z",
     "shell.execute_reply.started": "2025-02-21T01:48:23.013837Z"
    },
    "jupyter": {
     "source_hidden": true
    },
    "trusted": true
   },
   "outputs": [
    {
     "data": {
      "text/plain": [
       "<Axes: xlabel='SibSp', ylabel='Survived'>"
      ]
     },
     "execution_count": 38,
     "metadata": {},
     "output_type": "execute_result"
    },
    {
     "data": {
      "image/png": "[encoded data removed]",
      "text/plain": [
       "<Figure size 640x480 with 1 Axes>"
      ]
     },
     "metadata": {},
     "output_type": "display_data"
    }
   ],
   "source": [
    "sns.barplot(x=\"SibSp\", y=\"Survived\", data=graph_train)"
   ]
  },
  {
   "cell_type": "code",
   "execution_count": 39,
   "metadata": {
    "execution": {
     "iopub.execute_input": "2025-02-21T01:48:23.386666Z",
     "iopub.status.busy": "2025-02-21T01:48:23.386361Z",
     "iopub.status.idle": "2025-02-21T01:48:23.597951Z",
     "shell.execute_reply": "2025-02-21T01:48:23.596842Z",
     "shell.execute_reply.started": "2025-02-21T01:48:23.386639Z"
    },
    "jupyter": {
     "source_hidden": true
    },
    "trusted": true
   },
   "outputs": [
    {
     "data": {
      "text/plain": [
       "<Axes: xlabel='Sex', ylabel='Survived'>"
      ]
     },
     "execution_count": 39,
     "metadata": {},
     "output_type": "execute_result"
    },
    {
     "data": {
      "image/png": "[encoded data removed]",
      "text/plain": [
       "<Figure size 640x480 with 1 Axes>"
      ]
     },
     "metadata": {},
     "output_type": "display_data"
    }
   ],
   "source": [
    "sns.barplot(x=\"Sex\", y=\"Survived\", data=graph_train)"
   ]
  },
  {
   "cell_type": "markdown",
   "metadata": {},
   "source": [
    "## *Treinando o modelo*"
   ]
  },
  {
   "cell_type": "code",
   "execution_count": null,
   "metadata": {
    "execution": {
     "iopub.execute_input": "2025-02-21T01:48:23.599226Z",
     "iopub.status.busy": "2025-02-21T01:48:23.598952Z",
     "iopub.status.idle": "2025-02-21T01:48:23.608009Z",
     "shell.execute_reply": "2025-02-21T01:48:23.606867Z",
     "shell.execute_reply.started": "2025-02-21T01:48:23.599203Z"
    },
    "trusted": true
   },
   "outputs": [],
   "source": [
    "def avaliate_pipes(data, encoder, model, numerical_imputer, categorical_imputer):\n",
    "    \n",
    "    # Definindo Feature e Target\n",
    "    X = data.drop('Survived', axis=1) # Features\n",
    "    y = data['Survived'] # Target\n",
    "\n",
    "    # Classificando as features em num e cat\n",
    "    numerical_features = X.select_dtypes(include=['int64', 'float64']).columns  \n",
    "    categorical_features = X.select_dtypes(include=['object']).columns\n",
    "\n",
    "    # Aplicando Encoder nas features categóricas\n",
    "    if encoder == 'one-hot':\n",
    "        cat_encoder = OneHotEncoder(handle_unknown='ignore')\n",
    "    elif encoder == 'ordinal':\n",
    "        cat_encoder = OrdinalEncoder()\n",
    "    elif encoder == 'label':\n",
    "        for col in categorical_features:\n",
    "            le = LabelEncoder()\n",
    "            X[col] = le.fit_transform(X[col])\n",
    "        cat_encoder = 'passthrough'\n",
    "    else:\n",
    "        raise ValueError('Encoder não reconhecido')\n",
    "\n",
    "    # Tratando dados NaN com imputers\n",
    "    numerical_transformer = SimpleImputer(strategy= numerical_imputer if numerical_imputer != 'zero' else 'constant', fill_value=0)\n",
    "    categorical_transformer = Pipeline(steps=[\n",
    "    ('imputer', SimpleImputer(strategy= categorical_imputer )), # Trata das colunas categoricas utilizando um SimpleImputer para trocar os dados NaN \n",
    "    ( encoder, cat_encoder) # Utiliza o Encoder escolhido para transformar as colunas categoricas em Numericas\n",
    "])\n",
    "  \n",
    "    # Criando um preprocessor\n",
    "    preprocessor = ColumnTransformer(    # Processo anterior a aplicação do modelo, tratamento de dados, permite transformar colunas de forma independente\n",
    "        transformers=[                   # transformers = ['nome', 'transformador', 'coluna']\n",
    "            ('num', numerical_transformer, numerical_features),   # tranforma as numerical features com o numerical transformer\n",
    "            ('cat', categorical_transformer, categorical_features)  # tranforma as categorical features com o categorical transformer\n",
    "        ])\n",
    "    \n",
    "    # Criando um pipeline\n",
    "    pipeline = Pipeline(steps=[\n",
    "        ('preprocessor', preprocessor), # Definindo passos do pipe, 1º passa pelo preprocessor cujo vai transformar as colunas \n",
    "        ('model', model)                # Utilizando os Imputers para preencher os NaN's e realizar o encoder das categoricas\n",
    "    ])                                  # 2º Passa os dados ja processados pelo model fazendo seu treino e entregando ao final seu Score.\n",
    "\n",
    "    \n",
    "    scores = cross_val_score(pipeline, X, y, cv=5, scoring='accuracy')\n",
    "    mean_score = np.mean(scores)\n",
    "    std_score = np.std(scores)\n",
    "\n",
    "    \n",
    "    return pipeline, mean_score*100"
   ]
  },
  {
   "cell_type": "code",
   "execution_count": 41,
   "metadata": {
    "execution": {
     "iopub.execute_input": "2025-02-21T01:48:23.609490Z",
     "iopub.status.busy": "2025-02-21T01:48:23.609138Z",
     "iopub.status.idle": "2025-02-21T01:48:44.715042Z",
     "shell.execute_reply": "2025-02-21T01:48:44.713955Z",
     "shell.execute_reply.started": "2025-02-21T01:48:23.609456Z"
    },
    "trusted": true
   },
   "outputs": [
    {
     "name": "stdout",
     "output_type": "stream",
     "text": [
      "\n",
      "Score: 80.7%, Model: RandomForestClassifier(), Encoder: ordinal, Numerical Imputer: mean, Categorical Imputer: most_frequent\n",
      "Score: 80.48%, Model: RandomForestClassifier(), Encoder: ordinal, Numerical Imputer: mean, Categorical Imputer: constant\n",
      "Score: 79.59%, Model: RandomForestClassifier(), Encoder: ordinal, Numerical Imputer: median, Categorical Imputer: most_frequent\n",
      "Score: 80.37%, Model: RandomForestClassifier(), Encoder: ordinal, Numerical Imputer: median, Categorical Imputer: constant\n",
      "Score: 79.7%, Model: RandomForestClassifier(), Encoder: ordinal, Numerical Imputer: constant, Categorical Imputer: most_frequent\n",
      "Score: 79.92%, Model: RandomForestClassifier(), Encoder: ordinal, Numerical Imputer: constant, Categorical Imputer: constant\n",
      "Score: 79.25%, Model: RandomForestClassifier(), Encoder: ordinal, Numerical Imputer: zero, Categorical Imputer: most_frequent\n",
      "Score: 80.26%, Model: RandomForestClassifier(), Encoder: ordinal, Numerical Imputer: zero, Categorical Imputer: constant\n",
      "\n",
      "Score: 79.58%, Model: RandomForestClassifier(), Encoder: one-hot, Numerical Imputer: mean, Categorical Imputer: most_frequent\n",
      "Score: 80.37%, Model: RandomForestClassifier(), Encoder: one-hot, Numerical Imputer: mean, Categorical Imputer: constant\n",
      "Score: 80.82%, Model: RandomForestClassifier(), Encoder: one-hot, Numerical Imputer: median, Categorical Imputer: most_frequent\n",
      "Score: 80.14%, Model: RandomForestClassifier(), Encoder: one-hot, Numerical Imputer: median, Categorical Imputer: constant\n",
      "Score: 79.92%, Model: RandomForestClassifier(), Encoder: one-hot, Numerical Imputer: constant, Categorical Imputer: most_frequent\n",
      "Score: 80.03%, Model: RandomForestClassifier(), Encoder: one-hot, Numerical Imputer: constant, Categorical Imputer: constant\n",
      "Score: 79.7%, Model: RandomForestClassifier(), Encoder: one-hot, Numerical Imputer: zero, Categorical Imputer: most_frequent\n",
      "Score: 80.03%, Model: RandomForestClassifier(), Encoder: one-hot, Numerical Imputer: zero, Categorical Imputer: constant\n",
      "\n",
      "Melhor score: 80.82%\n"
     ]
    }
   ],
   "source": [
    "model = RandomForestClassifier()\n",
    "max_score = 0\n",
    "for encoder in ['ordinal', 'one-hot']:\n",
    "    print()\n",
    "    for numerical_imputer in ['mean', 'median', 'constant', 'zero']:\n",
    "        for categorical_imputer in ['most_frequent', 'constant']:\n",
    "            pipeline, score = avaliate_pipes(train, encoder, model, numerical_imputer, categorical_imputer)\n",
    "            print(f'Score: {score:.4}%, Model: {model}, Encoder: {encoder}, Numerical Imputer: {numerical_imputer}, Categorical Imputer: {categorical_imputer}')\n",
    "            if score >= max_score:\n",
    "                max_score = score\n",
    "                B_encoder = encoder\n",
    "                B_Num = numerical_imputer\n",
    "                B_Cat = categorical_imputer\n",
    "            else :max_score\n",
    "            \n",
    "print()\n",
    "\n",
    "print(f'Melhor score: {max_score:.4}%')"
   ]
  },
  {
   "cell_type": "code",
   "execution_count": 42,
   "metadata": {
    "execution": {
     "iopub.execute_input": "2025-02-21T01:48:44.716587Z",
     "iopub.status.busy": "2025-02-21T01:48:44.716176Z",
     "iopub.status.idle": "2025-02-21T01:48:44.722553Z",
     "shell.execute_reply": "2025-02-21T01:48:44.721451Z",
     "shell.execute_reply.started": "2025-02-21T01:48:44.716547Z"
    },
    "trusted": true
   },
   "outputs": [
    {
     "name": "stdout",
     "output_type": "stream",
     "text": [
      "one-hot median most_frequent\n"
     ]
    }
   ],
   "source": [
    "print(B_encoder, B_Num, B_Cat)"
   ]
  },
  {
   "cell_type": "code",
   "execution_count": 43,
   "metadata": {
    "execution": {
     "iopub.execute_input": "2025-02-21T01:48:44.723914Z",
     "iopub.status.busy": "2025-02-21T01:48:44.723568Z",
     "iopub.status.idle": "2025-02-21T01:48:46.068959Z",
     "shell.execute_reply": "2025-02-21T01:48:46.068054Z",
     "shell.execute_reply.started": "2025-02-21T01:48:44.723887Z"
    },
    "trusted": true
   },
   "outputs": [],
   "source": [
    "pipeline, score = avaliate_pipes(train, B_encoder, model, B_Num, B_Cat)"
   ]
  },
  {
   "cell_type": "markdown",
   "metadata": {},
   "source": [
    "## *Gerando modelo para competição*"
   ]
  },
  {
   "cell_type": "code",
   "execution_count": 44,
   "metadata": {
    "execution": {
     "iopub.execute_input": "2025-02-21T01:48:46.070172Z",
     "iopub.status.busy": "2025-02-21T01:48:46.069920Z",
     "iopub.status.idle": "2025-02-21T01:48:46.101067Z",
     "shell.execute_reply": "2025-02-21T01:48:46.100189Z",
     "shell.execute_reply.started": "2025-02-21T01:48:46.070152Z"
    },
    "trusted": true
   },
   "outputs": [],
   "source": [
    "X_teste = teste\n",
    "teste_ids = teste['PassengerId']\n",
    "predictions = pipeline.predict(X_teste)\n",
    "submission = pd.DataFrame({\"PassengerId\": teste_ids, \"Survived\": predictions})\n",
    "submission.to_csv(\"submission.csv\", index=False)"
   ]
  },
  {
   "cell_type": "code",
   "execution_count": null,
   "metadata": {
    "trusted": true
   },
   "outputs": [],
   "source": []
  }
 ],
 "metadata": {
  "kaggle": {
   "accelerator": "none",
   "dataSources": [
    {
     "databundleVersionId": 26502,
     "sourceId": 3136,
     "sourceType": "competition"
    }
   ],
   "dockerImageVersionId": 30918,
   "isGpuEnabled": false,
   "isInternetEnabled": true,
   "language": "python",
   "sourceType": "notebook"
  },
  "kernelspec": {
   "display_name": "Python 3",
   "language": "python",
   "name": "python3"
  },
  "language_info": {
   "codemirror_mode": {
    "name": "ipython",
    "version": 3
   },
   "file_extension": ".py",
   "mimetype": "text/x-python",
   "name": "python",
   "nbconvert_exporter": "python",
   "pygments_lexer": "ipython3",
   "version": "3.10.12"
  }
 },
 "nbformat": 4,
 "nbformat_minor": 4
}
