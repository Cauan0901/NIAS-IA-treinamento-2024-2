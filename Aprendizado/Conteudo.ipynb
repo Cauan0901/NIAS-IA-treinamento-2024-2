{
 "cells": [
  {
   "cell_type": "markdown",
   "metadata": {},
   "source": [
    "## **Pandas Galeria de Comandos**"
   ]
  },
  {
   "cell_type": "code",
   "execution_count": null,
   "metadata": {},
   "outputs": [],
   "source": [
    "import pandas as pd\n",
    "\n",
    "# Criar um DataFrame\n",
    "falas = pd.DataFrame({'Victor': ['Eu gostei', 'É horrivel'], 'Julia': ['Muito bom.', 'Achei paia']}, index= ['Positivos', 'Negativos'])\n",
    "\n",
    "# Criar uma série\n",
    "quantities = ['4 cups', '1 cup', '2 large', '1 can']\n",
    "items = ['Flour', 'Milk', 'Eggs', 'Spam']\n",
    "recipe = pd.Series(quantities, index=items, name='Dinner')\n",
    "\n",
    "#save = falas.to_csv('falas.csv')                                                       Salvar em um arquivo csv\n",
    "#pd.read_csv = ('falas.csv')                                                            Ler um arquivo csv\n",
    "\n",
    "# Filtragem de Dados\n",
    "# reviews.loc[(reviews.points >= 95) & (reviews.country.isin(['Australia', 'New Zealand']))]\n",
    "# cols = ['country', 'variety']\n",
    "# reviews.loc[ 0:99 , cols]\n",
    "\n",
    "# Sumarização de Dados\n",
    "# median_points = reviews.points.median()                                               Media dos pontos\n",
    "# countries = reviews.country.unique()                                                  Nomes dos países\n",
    "# reviews_per_country = reviews.country.value_counts()                                  Quantidade de reviews por país\n",
    "# bargain_wine = reviews.loc[(reviews.points / reviews.price).idxmax()].title           Custo Beneficio\n",
    "# descriptor_counts = reviews.description.apply(lambda x: x.count('tropical')).sum()    Contagem de palavras\n",
    "\n",
    "# Função Apply( )\n",
    "# Criar um DataFrame de exemplo\n",
    "data = {'A': [1, 2, 3, 4], 'B': [10, 20, 30, 40]}\n",
    "df = pd.DataFrame(data)\n",
    "\n",
    "# Definir uma função que será aplicada\n",
    "def add_ten(x):\n",
    "    return x + 10\n",
    "\n",
    "# Aplicar a função a cada elemento do DataFrame\n",
    "df_applied = df.apply(add_ten)\n",
    "\n",
    "print(df_applied)\n",
    "\n",
    "# Agrupamento e Ordenação de dados\n",
    "# reviews.groupby('points').points.count()                                            Contagem de pontos    \n",
    "# reviews.groupby('points').price.min()                                               Preço minimo por pontos\n",
    "# reviews.groupby('winery').apply(lambda df: df.title.iloc[0])                        Primeiro titulo por vinicola\n",
    "# reviews.groupby(['country', 'province']).apply(lambda df: df.loc[df.points.idxmax()]) Melhor vinho por país e província\n",
    "# reviews.groupby(['country']).price.agg([len, min, max])                             Estatisticas de preço por país\n",
    "# reviews.groupby('price')['points'].max().sort_index()                               Pontos maximos por preço\n",
    "# reviews.groupby(['country', 'variety']).size().sort_values(ascending=False)         Contagem de vinhos por país e variedade\n",
    "# reviews.points.astype('float64')                                                    Converter pontos para float        \n",
    "# reviews.region_1.fillna(\"Unknown\")                                                  Preencher valores nulos\n",
    "# reviews.taster_twitter_handle.replace(\"@kerinokeefe\", \"@kerino\")                    Substituir valores\n",
    "# reviews.rename(columns={'points': 'score'})                                         Renomear colunas\n",
    "# reviews.rename(index={0: 'firstEntry', 1: 'secondEntry'})                           Renomear indices\n",
    "# reviews.rename_axis('wines', axis='rows')                                           Renomear eixo de linhas\n",
    "# pd.concat([gaming_products, movie_products])                                        Concatenar DataFrames\n",
    "# powerlifting_meets.set_index(\"MeetID\").join(powerlifting_competitors.set_index(\"MeetID\"))  Juntar DataFrames\n",
    "\n"
   ]
  }
 ],
 "metadata": {
  "kernelspec": {
   "display_name": "Victor",
   "language": "python",
   "name": "python3"
  },
  "language_info": {
   "name": "python",
   "version": "3.12.9"
  }
 },
 "nbformat": 4,
 "nbformat_minor": 2
}
