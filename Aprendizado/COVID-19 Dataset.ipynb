{
 "cells": [
  {
   "cell_type": "code",
   "execution_count": 1,
   "metadata": {
    "_cell_guid": "b1076dfc-b9ad-4769-8c92-a6c4dae69d19",
    "_uuid": "8f2839f25d086af736a60e9eeb907d3b93b6e0e5",
    "execution": {
     "iopub.execute_input": "2025-02-14T12:10:42.304542Z",
     "iopub.status.busy": "2025-02-14T12:10:42.304099Z",
     "iopub.status.idle": "2025-02-14T12:10:42.313947Z",
     "shell.execute_reply": "2025-02-14T12:10:42.312790Z",
     "shell.execute_reply.started": "2025-02-14T12:10:42.304501Z"
    },
    "trusted": true
   },
   "outputs": [],
   "source": [
    "# This Python 3 environment comes with many helpful analytics libraries installed\n",
    "# It is defined by the kaggle/python Docker image: https://github.com/kaggle/docker-python\n",
    "# For example, here's several helpful packages to load\n",
    "\n",
    "import numpy as np # linear algebra\n",
    "import pandas as pd # data processing, CSV file I/O (e.g. pd.read_csv)\n",
    "\n",
    "# Input data files are available in the read-only \"../input/\" directory\n",
    "# For example, running this (by clicking run or pressing Shift+Enter) will list all files under the input directory\n",
    "\n",
    "import os\n",
    "for dirname, _, filenames in os.walk('/kaggle/input'):\n",
    "    for filename in filenames:\n",
    "        print(os.path.join(dirname, filename))\n",
    "\n",
    "# You can write up to 20GB to the current directory (/kaggle/working/) that gets preserved as output when you create a version using \"Save & Run All\" \n",
    "# You can also write temporary files to /kaggle/temp/, but they won't be saved outside of the current session"
   ]
  },
  {
   "cell_type": "markdown",
   "metadata": {},
   "source": [
    "## **Lendo DataSet e apresentando**"
   ]
  },
  {
   "cell_type": "code",
   "execution_count": 2,
   "metadata": {
    "execution": {
     "iopub.execute_input": "2025-02-14T12:10:42.325564Z",
     "iopub.status.busy": "2025-02-14T12:10:42.325110Z",
     "iopub.status.idle": "2025-02-14T12:10:42.416003Z",
     "shell.execute_reply": "2025-02-14T12:10:42.414740Z",
     "shell.execute_reply.started": "2025-02-14T12:10:42.325532Z"
    },
    "trusted": true
   },
   "outputs": [
    {
     "ename": "FileNotFoundError",
     "evalue": "[Errno 2] No such file or directory: '/kaggle/input/corona-virus-report/covid_19_clean_complete.csv'",
     "output_type": "error",
     "traceback": [
      "\u001b[1;31m---------------------------------------------------------------------------\u001b[0m",
      "\u001b[1;31mFileNotFoundError\u001b[0m                         Traceback (most recent call last)",
      "Cell \u001b[1;32mIn[2], line 1\u001b[0m\n\u001b[1;32m----> 1\u001b[0m df\u001b[38;5;241m=\u001b[39m\u001b[43mpd\u001b[49m\u001b[38;5;241;43m.\u001b[39;49m\u001b[43mread_csv\u001b[49m\u001b[43m(\u001b[49m\u001b[38;5;124;43m\"\u001b[39;49m\u001b[38;5;124;43m/kaggle/input/corona-virus-report/covid_19_clean_complete.csv\u001b[39;49m\u001b[38;5;124;43m\"\u001b[39;49m\u001b[43m)\u001b[49m\n\u001b[0;32m      2\u001b[0m df\n",
      "File \u001b[1;32mc:\\Users\\Victor Moreira\\anaconda3\\envs\\Victor\\Lib\\site-packages\\pandas\\io\\parsers\\readers.py:1026\u001b[0m, in \u001b[0;36mread_csv\u001b[1;34m(filepath_or_buffer, sep, delimiter, header, names, index_col, usecols, dtype, engine, converters, true_values, false_values, skipinitialspace, skiprows, skipfooter, nrows, na_values, keep_default_na, na_filter, verbose, skip_blank_lines, parse_dates, infer_datetime_format, keep_date_col, date_parser, date_format, dayfirst, cache_dates, iterator, chunksize, compression, thousands, decimal, lineterminator, quotechar, quoting, doublequote, escapechar, comment, encoding, encoding_errors, dialect, on_bad_lines, delim_whitespace, low_memory, memory_map, float_precision, storage_options, dtype_backend)\u001b[0m\n\u001b[0;32m   1013\u001b[0m kwds_defaults \u001b[38;5;241m=\u001b[39m _refine_defaults_read(\n\u001b[0;32m   1014\u001b[0m     dialect,\n\u001b[0;32m   1015\u001b[0m     delimiter,\n\u001b[1;32m   (...)\u001b[0m\n\u001b[0;32m   1022\u001b[0m     dtype_backend\u001b[38;5;241m=\u001b[39mdtype_backend,\n\u001b[0;32m   1023\u001b[0m )\n\u001b[0;32m   1024\u001b[0m kwds\u001b[38;5;241m.\u001b[39mupdate(kwds_defaults)\n\u001b[1;32m-> 1026\u001b[0m \u001b[38;5;28;01mreturn\u001b[39;00m \u001b[43m_read\u001b[49m\u001b[43m(\u001b[49m\u001b[43mfilepath_or_buffer\u001b[49m\u001b[43m,\u001b[49m\u001b[43m \u001b[49m\u001b[43mkwds\u001b[49m\u001b[43m)\u001b[49m\n",
      "File \u001b[1;32mc:\\Users\\Victor Moreira\\anaconda3\\envs\\Victor\\Lib\\site-packages\\pandas\\io\\parsers\\readers.py:620\u001b[0m, in \u001b[0;36m_read\u001b[1;34m(filepath_or_buffer, kwds)\u001b[0m\n\u001b[0;32m    617\u001b[0m _validate_names(kwds\u001b[38;5;241m.\u001b[39mget(\u001b[38;5;124m\"\u001b[39m\u001b[38;5;124mnames\u001b[39m\u001b[38;5;124m\"\u001b[39m, \u001b[38;5;28;01mNone\u001b[39;00m))\n\u001b[0;32m    619\u001b[0m \u001b[38;5;66;03m# Create the parser.\u001b[39;00m\n\u001b[1;32m--> 620\u001b[0m parser \u001b[38;5;241m=\u001b[39m \u001b[43mTextFileReader\u001b[49m\u001b[43m(\u001b[49m\u001b[43mfilepath_or_buffer\u001b[49m\u001b[43m,\u001b[49m\u001b[43m \u001b[49m\u001b[38;5;241;43m*\u001b[39;49m\u001b[38;5;241;43m*\u001b[39;49m\u001b[43mkwds\u001b[49m\u001b[43m)\u001b[49m\n\u001b[0;32m    622\u001b[0m \u001b[38;5;28;01mif\u001b[39;00m chunksize \u001b[38;5;129;01mor\u001b[39;00m iterator:\n\u001b[0;32m    623\u001b[0m     \u001b[38;5;28;01mreturn\u001b[39;00m parser\n",
      "File \u001b[1;32mc:\\Users\\Victor Moreira\\anaconda3\\envs\\Victor\\Lib\\site-packages\\pandas\\io\\parsers\\readers.py:1620\u001b[0m, in \u001b[0;36mTextFileReader.__init__\u001b[1;34m(self, f, engine, **kwds)\u001b[0m\n\u001b[0;32m   1617\u001b[0m     \u001b[38;5;28mself\u001b[39m\u001b[38;5;241m.\u001b[39moptions[\u001b[38;5;124m\"\u001b[39m\u001b[38;5;124mhas_index_names\u001b[39m\u001b[38;5;124m\"\u001b[39m] \u001b[38;5;241m=\u001b[39m kwds[\u001b[38;5;124m\"\u001b[39m\u001b[38;5;124mhas_index_names\u001b[39m\u001b[38;5;124m\"\u001b[39m]\n\u001b[0;32m   1619\u001b[0m \u001b[38;5;28mself\u001b[39m\u001b[38;5;241m.\u001b[39mhandles: IOHandles \u001b[38;5;241m|\u001b[39m \u001b[38;5;28;01mNone\u001b[39;00m \u001b[38;5;241m=\u001b[39m \u001b[38;5;28;01mNone\u001b[39;00m\n\u001b[1;32m-> 1620\u001b[0m \u001b[38;5;28mself\u001b[39m\u001b[38;5;241m.\u001b[39m_engine \u001b[38;5;241m=\u001b[39m \u001b[38;5;28;43mself\u001b[39;49m\u001b[38;5;241;43m.\u001b[39;49m\u001b[43m_make_engine\u001b[49m\u001b[43m(\u001b[49m\u001b[43mf\u001b[49m\u001b[43m,\u001b[49m\u001b[43m \u001b[49m\u001b[38;5;28;43mself\u001b[39;49m\u001b[38;5;241;43m.\u001b[39;49m\u001b[43mengine\u001b[49m\u001b[43m)\u001b[49m\n",
      "File \u001b[1;32mc:\\Users\\Victor Moreira\\anaconda3\\envs\\Victor\\Lib\\site-packages\\pandas\\io\\parsers\\readers.py:1880\u001b[0m, in \u001b[0;36mTextFileReader._make_engine\u001b[1;34m(self, f, engine)\u001b[0m\n\u001b[0;32m   1878\u001b[0m     \u001b[38;5;28;01mif\u001b[39;00m \u001b[38;5;124m\"\u001b[39m\u001b[38;5;124mb\u001b[39m\u001b[38;5;124m\"\u001b[39m \u001b[38;5;129;01mnot\u001b[39;00m \u001b[38;5;129;01min\u001b[39;00m mode:\n\u001b[0;32m   1879\u001b[0m         mode \u001b[38;5;241m+\u001b[39m\u001b[38;5;241m=\u001b[39m \u001b[38;5;124m\"\u001b[39m\u001b[38;5;124mb\u001b[39m\u001b[38;5;124m\"\u001b[39m\n\u001b[1;32m-> 1880\u001b[0m \u001b[38;5;28mself\u001b[39m\u001b[38;5;241m.\u001b[39mhandles \u001b[38;5;241m=\u001b[39m \u001b[43mget_handle\u001b[49m\u001b[43m(\u001b[49m\n\u001b[0;32m   1881\u001b[0m \u001b[43m    \u001b[49m\u001b[43mf\u001b[49m\u001b[43m,\u001b[49m\n\u001b[0;32m   1882\u001b[0m \u001b[43m    \u001b[49m\u001b[43mmode\u001b[49m\u001b[43m,\u001b[49m\n\u001b[0;32m   1883\u001b[0m \u001b[43m    \u001b[49m\u001b[43mencoding\u001b[49m\u001b[38;5;241;43m=\u001b[39;49m\u001b[38;5;28;43mself\u001b[39;49m\u001b[38;5;241;43m.\u001b[39;49m\u001b[43moptions\u001b[49m\u001b[38;5;241;43m.\u001b[39;49m\u001b[43mget\u001b[49m\u001b[43m(\u001b[49m\u001b[38;5;124;43m\"\u001b[39;49m\u001b[38;5;124;43mencoding\u001b[39;49m\u001b[38;5;124;43m\"\u001b[39;49m\u001b[43m,\u001b[49m\u001b[43m \u001b[49m\u001b[38;5;28;43;01mNone\u001b[39;49;00m\u001b[43m)\u001b[49m\u001b[43m,\u001b[49m\n\u001b[0;32m   1884\u001b[0m \u001b[43m    \u001b[49m\u001b[43mcompression\u001b[49m\u001b[38;5;241;43m=\u001b[39;49m\u001b[38;5;28;43mself\u001b[39;49m\u001b[38;5;241;43m.\u001b[39;49m\u001b[43moptions\u001b[49m\u001b[38;5;241;43m.\u001b[39;49m\u001b[43mget\u001b[49m\u001b[43m(\u001b[49m\u001b[38;5;124;43m\"\u001b[39;49m\u001b[38;5;124;43mcompression\u001b[39;49m\u001b[38;5;124;43m\"\u001b[39;49m\u001b[43m,\u001b[49m\u001b[43m \u001b[49m\u001b[38;5;28;43;01mNone\u001b[39;49;00m\u001b[43m)\u001b[49m\u001b[43m,\u001b[49m\n\u001b[0;32m   1885\u001b[0m \u001b[43m    \u001b[49m\u001b[43mmemory_map\u001b[49m\u001b[38;5;241;43m=\u001b[39;49m\u001b[38;5;28;43mself\u001b[39;49m\u001b[38;5;241;43m.\u001b[39;49m\u001b[43moptions\u001b[49m\u001b[38;5;241;43m.\u001b[39;49m\u001b[43mget\u001b[49m\u001b[43m(\u001b[49m\u001b[38;5;124;43m\"\u001b[39;49m\u001b[38;5;124;43mmemory_map\u001b[39;49m\u001b[38;5;124;43m\"\u001b[39;49m\u001b[43m,\u001b[49m\u001b[43m \u001b[49m\u001b[38;5;28;43;01mFalse\u001b[39;49;00m\u001b[43m)\u001b[49m\u001b[43m,\u001b[49m\n\u001b[0;32m   1886\u001b[0m \u001b[43m    \u001b[49m\u001b[43mis_text\u001b[49m\u001b[38;5;241;43m=\u001b[39;49m\u001b[43mis_text\u001b[49m\u001b[43m,\u001b[49m\n\u001b[0;32m   1887\u001b[0m \u001b[43m    \u001b[49m\u001b[43merrors\u001b[49m\u001b[38;5;241;43m=\u001b[39;49m\u001b[38;5;28;43mself\u001b[39;49m\u001b[38;5;241;43m.\u001b[39;49m\u001b[43moptions\u001b[49m\u001b[38;5;241;43m.\u001b[39;49m\u001b[43mget\u001b[49m\u001b[43m(\u001b[49m\u001b[38;5;124;43m\"\u001b[39;49m\u001b[38;5;124;43mencoding_errors\u001b[39;49m\u001b[38;5;124;43m\"\u001b[39;49m\u001b[43m,\u001b[49m\u001b[43m \u001b[49m\u001b[38;5;124;43m\"\u001b[39;49m\u001b[38;5;124;43mstrict\u001b[39;49m\u001b[38;5;124;43m\"\u001b[39;49m\u001b[43m)\u001b[49m\u001b[43m,\u001b[49m\n\u001b[0;32m   1888\u001b[0m \u001b[43m    \u001b[49m\u001b[43mstorage_options\u001b[49m\u001b[38;5;241;43m=\u001b[39;49m\u001b[38;5;28;43mself\u001b[39;49m\u001b[38;5;241;43m.\u001b[39;49m\u001b[43moptions\u001b[49m\u001b[38;5;241;43m.\u001b[39;49m\u001b[43mget\u001b[49m\u001b[43m(\u001b[49m\u001b[38;5;124;43m\"\u001b[39;49m\u001b[38;5;124;43mstorage_options\u001b[39;49m\u001b[38;5;124;43m\"\u001b[39;49m\u001b[43m,\u001b[49m\u001b[43m \u001b[49m\u001b[38;5;28;43;01mNone\u001b[39;49;00m\u001b[43m)\u001b[49m\u001b[43m,\u001b[49m\n\u001b[0;32m   1889\u001b[0m \u001b[43m\u001b[49m\u001b[43m)\u001b[49m\n\u001b[0;32m   1890\u001b[0m \u001b[38;5;28;01massert\u001b[39;00m \u001b[38;5;28mself\u001b[39m\u001b[38;5;241m.\u001b[39mhandles \u001b[38;5;129;01mis\u001b[39;00m \u001b[38;5;129;01mnot\u001b[39;00m \u001b[38;5;28;01mNone\u001b[39;00m\n\u001b[0;32m   1891\u001b[0m f \u001b[38;5;241m=\u001b[39m \u001b[38;5;28mself\u001b[39m\u001b[38;5;241m.\u001b[39mhandles\u001b[38;5;241m.\u001b[39mhandle\n",
      "File \u001b[1;32mc:\\Users\\Victor Moreira\\anaconda3\\envs\\Victor\\Lib\\site-packages\\pandas\\io\\common.py:873\u001b[0m, in \u001b[0;36mget_handle\u001b[1;34m(path_or_buf, mode, encoding, compression, memory_map, is_text, errors, storage_options)\u001b[0m\n\u001b[0;32m    868\u001b[0m \u001b[38;5;28;01melif\u001b[39;00m \u001b[38;5;28misinstance\u001b[39m(handle, \u001b[38;5;28mstr\u001b[39m):\n\u001b[0;32m    869\u001b[0m     \u001b[38;5;66;03m# Check whether the filename is to be opened in binary mode.\u001b[39;00m\n\u001b[0;32m    870\u001b[0m     \u001b[38;5;66;03m# Binary mode does not support 'encoding' and 'newline'.\u001b[39;00m\n\u001b[0;32m    871\u001b[0m     \u001b[38;5;28;01mif\u001b[39;00m ioargs\u001b[38;5;241m.\u001b[39mencoding \u001b[38;5;129;01mand\u001b[39;00m \u001b[38;5;124m\"\u001b[39m\u001b[38;5;124mb\u001b[39m\u001b[38;5;124m\"\u001b[39m \u001b[38;5;129;01mnot\u001b[39;00m \u001b[38;5;129;01min\u001b[39;00m ioargs\u001b[38;5;241m.\u001b[39mmode:\n\u001b[0;32m    872\u001b[0m         \u001b[38;5;66;03m# Encoding\u001b[39;00m\n\u001b[1;32m--> 873\u001b[0m         handle \u001b[38;5;241m=\u001b[39m \u001b[38;5;28;43mopen\u001b[39;49m\u001b[43m(\u001b[49m\n\u001b[0;32m    874\u001b[0m \u001b[43m            \u001b[49m\u001b[43mhandle\u001b[49m\u001b[43m,\u001b[49m\n\u001b[0;32m    875\u001b[0m \u001b[43m            \u001b[49m\u001b[43mioargs\u001b[49m\u001b[38;5;241;43m.\u001b[39;49m\u001b[43mmode\u001b[49m\u001b[43m,\u001b[49m\n\u001b[0;32m    876\u001b[0m \u001b[43m            \u001b[49m\u001b[43mencoding\u001b[49m\u001b[38;5;241;43m=\u001b[39;49m\u001b[43mioargs\u001b[49m\u001b[38;5;241;43m.\u001b[39;49m\u001b[43mencoding\u001b[49m\u001b[43m,\u001b[49m\n\u001b[0;32m    877\u001b[0m \u001b[43m            \u001b[49m\u001b[43merrors\u001b[49m\u001b[38;5;241;43m=\u001b[39;49m\u001b[43merrors\u001b[49m\u001b[43m,\u001b[49m\n\u001b[0;32m    878\u001b[0m \u001b[43m            \u001b[49m\u001b[43mnewline\u001b[49m\u001b[38;5;241;43m=\u001b[39;49m\u001b[38;5;124;43m\"\u001b[39;49m\u001b[38;5;124;43m\"\u001b[39;49m\u001b[43m,\u001b[49m\n\u001b[0;32m    879\u001b[0m \u001b[43m        \u001b[49m\u001b[43m)\u001b[49m\n\u001b[0;32m    880\u001b[0m     \u001b[38;5;28;01melse\u001b[39;00m:\n\u001b[0;32m    881\u001b[0m         \u001b[38;5;66;03m# Binary mode\u001b[39;00m\n\u001b[0;32m    882\u001b[0m         handle \u001b[38;5;241m=\u001b[39m \u001b[38;5;28mopen\u001b[39m(handle, ioargs\u001b[38;5;241m.\u001b[39mmode)\n",
      "\u001b[1;31mFileNotFoundError\u001b[0m: [Errno 2] No such file or directory: '/kaggle/input/corona-virus-report/covid_19_clean_complete.csv'"
     ]
    }
   ],
   "source": [
    "df=pd.read_csv(\"/kaggle/input/corona-virus-report/covid_19_clean_complete.csv\")\n",
    "df"
   ]
  },
  {
   "cell_type": "markdown",
   "metadata": {},
   "source": [
    "## **Apresentando Informações de Linhas e Colunas**"
   ]
  },
  {
   "cell_type": "code",
   "execution_count": null,
   "metadata": {
    "execution": {
     "iopub.execute_input": "2025-02-14T12:10:42.417901Z",
     "iopub.status.busy": "2025-02-14T12:10:42.417508Z",
     "iopub.status.idle": "2025-02-14T12:10:42.433233Z",
     "shell.execute_reply": "2025-02-14T12:10:42.432043Z",
     "shell.execute_reply.started": "2025-02-14T12:10:42.417860Z"
    },
    "trusted": true
   },
   "outputs": [
    {
     "name": "stdout",
     "output_type": "stream",
     "text": [
      "Quantidade de Linhas e Colunas:  (49068, 10)\n",
      "Colunas:  ['Province/State', 'Country/Region', 'Lat', 'Long', 'Date', 'Confirmed', 'Deaths', 'Recovered', 'Active', 'WHO Region']\n",
      "\n",
      "Tipo da Data: datetime64[ns]\n"
     ]
    }
   ],
   "source": [
    "print ('Quantidade de Linhas e Colunas: ', df.shape) # Demonstrando numero de linhas/colunas do dataframe\n",
    "print ('Colunas: ', list(df.columns)) # Mostrando as colunas\n",
    "\n",
    "\n",
    "df['Date'] = pd.to_datetime(df['Date'])\n",
    "print ('\\nTipo da Data:', df.Date.dtypes) # Trocando o tipo de informação que está na coluna de Date"
   ]
  },
  {
   "cell_type": "markdown",
   "metadata": {},
   "source": [
    "## **Valores Estátisticos**"
   ]
  },
  {
   "cell_type": "code",
   "execution_count": null,
   "metadata": {
    "execution": {
     "iopub.execute_input": "2025-02-14T12:10:42.435562Z",
     "iopub.status.busy": "2025-02-14T12:10:42.435151Z",
     "iopub.status.idle": "2025-02-14T12:10:42.485652Z",
     "shell.execute_reply": "2025-02-14T12:10:42.484503Z",
     "shell.execute_reply.started": "2025-02-14T12:10:42.435523Z"
    },
    "trusted": true
   },
   "outputs": [
    {
     "name": "stdout",
     "output_type": "stream",
     "text": [
      "                Lat          Long                           Date  \\\n",
      "count  49068.000000  49068.000000                          49068   \n",
      "mean      21.433730     23.528236  2020-04-24 11:59:59.999999744   \n",
      "min      -51.796300   -135.000000            2020-01-22 00:00:00   \n",
      "25%        7.873054    -15.310100            2020-03-08 18:00:00   \n",
      "50%       23.634500     21.745300            2020-04-24 12:00:00   \n",
      "75%       41.204380     80.771797            2020-06-10 06:00:00   \n",
      "max       71.706900    178.065000            2020-07-27 00:00:00   \n",
      "std       24.950320     70.442740                            NaN   \n",
      "\n",
      "          Confirmed         Deaths     Recovered        Active  \n",
      "count  4.906800e+04   49068.000000  4.906800e+04  4.906800e+04  \n",
      "mean   1.688490e+04     884.179160  7.915713e+03  8.085012e+03  \n",
      "min    0.000000e+00       0.000000  0.000000e+00 -1.400000e+01  \n",
      "25%    4.000000e+00       0.000000  0.000000e+00  0.000000e+00  \n",
      "50%    1.680000e+02       2.000000  2.900000e+01  2.600000e+01  \n",
      "75%    1.518250e+03      30.000000  6.660000e+02  6.060000e+02  \n",
      "max    4.290259e+06  148011.000000  1.846641e+06  2.816444e+06  \n",
      "std    1.273002e+05    6313.584411  5.480092e+04  7.625890e+04  \n",
      "\n",
      "      Country/Region  Deaths\n",
      "173              US  148011\n",
      "23           Brazil   87618\n",
      "177  United Kingdom   45759\n",
      "111          Mexico   44022\n",
      "85            Italy   35112\n",
      "79            India   33408\n",
      "61           France   30096\n",
      "157           Spain   28752\n",
      "132            Peru   18418\n",
      "81             Iran   15912\n"
     ]
    }
   ],
   "source": [
    "print ( df.describe() ) # Valores estátisticos\n",
    "\n",
    "d1=df.groupby(\"Country/Region\")[\"Deaths\"].max().reset_index() \n",
    "d1=d1.sort_values(\"Deaths\",ascending=False).head(10) # 10 Paises com mais mortes\n",
    "print ('\\n',d1)"
   ]
  },
  {
   "cell_type": "markdown",
   "metadata": {},
   "source": [
    "## **Provincias da China**"
   ]
  },
  {
   "cell_type": "code",
   "execution_count": null,
   "metadata": {
    "execution": {
     "iopub.execute_input": "2025-02-14T12:10:42.487697Z",
     "iopub.status.busy": "2025-02-14T12:10:42.487345Z",
     "iopub.status.idle": "2025-02-14T12:10:42.513841Z",
     "shell.execute_reply": "2025-02-14T12:10:42.512639Z",
     "shell.execute_reply.started": "2025-02-14T12:10:42.487667Z"
    },
    "trusted": true
   },
   "outputs": [
    {
     "name": "stdout",
     "output_type": "stream",
     "text": [
      "\n",
      "       Province/State  Confirmed  Active  Deaths  Recovered\n",
      "48             Anhui          1       1       0          0\n",
      "49           Beijing         14      14       0          0\n",
      "50         Chongqing          6       6       0          0\n",
      "51            Fujian          1       1       0          0\n",
      "52             Gansu          0       0       0          0\n",
      "...              ...        ...     ...     ...        ...\n",
      "48883        Tianjin        204       6       3        195\n",
      "48884          Tibet          1       0       0          1\n",
      "48885       Xinjiang        311     235       3         73\n",
      "48886         Yunnan        190       2       2        186\n",
      "48887       Zhejiang       1270       1       1       1268\n",
      "\n",
      "[6204 rows x 5 columns]\n",
      "\n",
      "    Province/State  Confirmed\n",
      "13          Hubei      68135\n",
      "12      Hong Kong       2778\n",
      "5       Guangdong       1672\n",
      "11          Henan       1276\n",
      "32       Zhejiang       1270\n"
     ]
    }
   ],
   "source": [
    "provinces_china = df.loc[df['Country/Region'] == 'China']['Province/State'].unique() # Filtrando os dados que vem da China\n",
    "china_data = df[df['Province/State'].isin(provinces_china)] # Criando um dataframe apenas com esses dados\n",
    "china_filt = china_data[['Province/State', 'Confirmed', 'Active', 'Deaths', 'Recovered']] #Separando as informações que me interessam\n",
    "\n",
    "print(\"\\n\", china_filt) \n",
    "top_regions = china_filt.groupby(['Province/State'])['Confirmed'].max().reset_index() # Ordenando regiões com maior numero de confirmações\n",
    "top_regions = top_regions.sort_values('Confirmed', ascending = False).head(5) # Escolhendo as 5 maiores\n",
    "print ('\\n', top_regions) \n"
   ]
  },
  {
   "cell_type": "markdown",
   "metadata": {},
   "source": [
    "## **Colunas com dados Perdidos**"
   ]
  },
  {
   "cell_type": "code",
   "execution_count": null,
   "metadata": {
    "execution": {
     "iopub.execute_input": "2025-02-14T12:10:42.515245Z",
     "iopub.status.busy": "2025-02-14T12:10:42.514909Z",
     "iopub.status.idle": "2025-02-14T12:10:42.626481Z",
     "shell.execute_reply": "2025-02-14T12:10:42.624996Z",
     "shell.execute_reply.started": "2025-02-14T12:10:42.515217Z"
    },
    "trusted": true
   },
   "outputs": [],
   "source": [
    "# Função que tenha uma linha do banco de dados como argumento\n",
    "def concat_province_country(row):\n",
    "    if pd.notna(row['Province/State']):\n",
    "        return f\"{row['Country/Region']}_{row['Province/State']}\"\n",
    "    else:\n",
    "        return row['Country/Region']\n",
    "\n",
    "# Faça uma cópia do banco de dados para poder retirar informações sem perder o banco de dados original\n",
    "df_concat = df.copy() # Banco de dados para concatenar e retirar apenas Country/Province\n",
    "df_new = df.copy() # Banco de dados para retirar outras informações\n",
    "\n",
    "df_concat = df.loc[df['Country/Region'] == 'China']\n",
    "china_new_data = df[df['Province/State'].isin(df_concat)]\n",
    "\n",
    "\n",
    "# Aplique, por meio do método “apply”, a função criada no item\n",
    "df_concat = df_concat.apply(concat_province_country, axis=1)\n",
    "\n",
    "# Apagando a coluna de province/state\n",
    "df_new.drop(columns=['Province/State'], inplace=True)"
   ]
  },
  {
   "cell_type": "code",
   "execution_count": null,
   "metadata": {
    "execution": {
     "iopub.execute_input": "2025-02-14T12:10:42.628813Z",
     "iopub.status.busy": "2025-02-14T12:10:42.628278Z",
     "iopub.status.idle": "2025-02-14T12:10:42.654459Z",
     "shell.execute_reply": "2025-02-14T12:10:42.653138Z",
     "shell.execute_reply.started": "2025-02-14T12:10:42.628774Z"
    },
    "trusted": true
   },
   "outputs": [
    {
     "name": "stdout",
     "output_type": "stream",
     "text": [
      "              Country/Region        Lat       Long       Date  Confirmed  \\\n",
      "0                Afghanistan  33.939110  67.709953 2020-01-22          0   \n",
      "1                    Albania  41.153300  20.168300 2020-01-22          0   \n",
      "2                    Algeria  28.033900   1.659600 2020-01-22          0   \n",
      "3                    Andorra  42.506300   1.521800 2020-01-22          0   \n",
      "4                     Angola -11.202700  17.873900 2020-01-22          0   \n",
      "...                      ...        ...        ...        ...        ...   \n",
      "49063  Sao Tome and Principe   0.186400   6.613100 2020-07-27        865   \n",
      "49064                  Yemen  15.552727  48.516388 2020-07-27       1691   \n",
      "49065                Comoros -11.645500  43.333300 2020-07-27        354   \n",
      "49066             Tajikistan  38.861000  71.276100 2020-07-27       7235   \n",
      "49067                Lesotho -29.610000  28.233600 2020-07-27        505   \n",
      "\n",
      "       Deaths  Recovered  Active             WHO Region Country/Province  \n",
      "0           0          0       0  Eastern Mediterranean              NaN  \n",
      "1           0          0       0                 Europe              NaN  \n",
      "2           0          0       0                 Africa              NaN  \n",
      "3           0          0       0                 Europe              NaN  \n",
      "4           0          0       0                 Africa              NaN  \n",
      "...       ...        ...     ...                    ...              ...  \n",
      "49063      14        734     117                 Africa              NaN  \n",
      "49064     483        833     375  Eastern Mediterranean              NaN  \n",
      "49065       7        328      19                 Africa              NaN  \n",
      "49066      60       6028    1147                 Europe              NaN  \n",
      "49067      12        128     365                 Africa              NaN  \n",
      "\n",
      "[49068 rows x 10 columns]\n"
     ]
    }
   ],
   "source": [
    "df_new['Country/Province'] = df_concat # Criando no banco de dados novos uma coluna com os valores concatenados\n",
    "print(df_new)\n",
    "df_new = df_new.loc[df_new['Country/Region'] == 'China'] # Filtrando valores do banco de dados para termos dados apenas da China"
   ]
  },
  {
   "cell_type": "code",
   "execution_count": null,
   "metadata": {
    "execution": {
     "iopub.execute_input": "2025-02-14T12:16:59.647332Z",
     "iopub.status.busy": "2025-02-14T12:16:59.646969Z",
     "iopub.status.idle": "2025-02-14T12:16:59.664495Z",
     "shell.execute_reply": "2025-02-14T12:16:59.663282Z",
     "shell.execute_reply.started": "2025-02-14T12:16:59.647297Z"
    },
    "trusted": true
   },
   "outputs": [
    {
     "name": "stdout",
     "output_type": "stream",
     "text": [
      "           Lat      Long       Date  Confirmed  Deaths  Recovered  Active  \\\n",
      "48     31.8257  117.2264 2020-01-22          1       0          0       1   \n",
      "49     40.1824  116.4142 2020-01-22         14       0          0      14   \n",
      "50     30.0572  107.8740 2020-01-22          6       0          0       6   \n",
      "51     26.0789  117.9874 2020-01-22          1       0          0       1   \n",
      "52     35.7518  104.2861 2020-01-22          0       0          0       0   \n",
      "...        ...       ...        ...        ...     ...        ...     ...   \n",
      "48883  39.3054  117.3230 2020-07-27        204       3        195       6   \n",
      "48884  31.6927   88.0924 2020-07-27          1       0          1       0   \n",
      "48885  41.1129   85.2401 2020-07-27        311       3         73     235   \n",
      "48886  24.9740  101.4870 2020-07-27        190       2        186       2   \n",
      "48887  29.1832  120.0934 2020-07-27       1270       1       1268       1   \n",
      "\n",
      "            WHO Region Country/Province  \n",
      "48     Western Pacific      China_Anhui  \n",
      "49     Western Pacific    China_Beijing  \n",
      "50     Western Pacific  China_Chongqing  \n",
      "51     Western Pacific     China_Fujian  \n",
      "52     Western Pacific      China_Gansu  \n",
      "...                ...              ...  \n",
      "48883  Western Pacific    China_Tianjin  \n",
      "48884  Western Pacific      China_Tibet  \n",
      "48885  Western Pacific   China_Xinjiang  \n",
      "48886  Western Pacific     China_Yunnan  \n",
      "48887  Western Pacific   China_Zhejiang  \n",
      "\n",
      "[6204 rows x 9 columns]\n"
     ]
    }
   ],
   "source": [
    "china_new = df_new.dropna(subset=['Country/Province']) # Apagando da nova coluna os Valores NaN tendo assim uma tabela filtrada apenas com dados da china\n",
    "china_new.drop(columns=['Country/Region'], inplace=True) # Apagando a coluna que não será mais utilizada\n",
    "print(china_new)\n",
    "    "
   ]
  },
  {
   "cell_type": "markdown",
   "metadata": {},
   "source": [
    "## **Novo dataframe, arquivo Worldmeter**"
   ]
  },
  {
   "cell_type": "code",
   "execution_count": null,
   "metadata": {
    "execution": {
     "iopub.execute_input": "2025-02-14T12:46:48.452139Z",
     "iopub.status.busy": "2025-02-14T12:46:48.451773Z",
     "iopub.status.idle": "2025-02-14T12:46:48.571130Z",
     "shell.execute_reply": "2025-02-14T12:46:48.569816Z",
     "shell.execute_reply.started": "2025-02-14T12:46:48.452109Z"
    },
    "trusted": true
   },
   "outputs": [
    {
     "name": "stderr",
     "output_type": "stream",
     "text": [
      "/usr/local/lib/python3.10/dist-packages/pandas/io/formats/format.py:1458: RuntimeWarning: invalid value encountered in greater\n",
      "  has_large_values = (abs_vals > 1e6).any()\n",
      "/usr/local/lib/python3.10/dist-packages/pandas/io/formats/format.py:1459: RuntimeWarning: invalid value encountered in less\n",
      "  has_small_values = ((abs_vals < 10 ** (-self.digits)) & (abs_vals > 0)).any()\n",
      "/usr/local/lib/python3.10/dist-packages/pandas/io/formats/format.py:1459: RuntimeWarning: invalid value encountered in greater\n",
      "  has_small_values = ((abs_vals < 10 ** (-self.digits)) & (abs_vals > 0)).any()\n"
     ]
    },
    {
     "data": {
      "text/html": [
       "<div>\n",
       "<style scoped>\n",
       "    .dataframe tbody tr th:only-of-type {\n",
       "        vertical-align: middle;\n",
       "    }\n",
       "\n",
       "    .dataframe tbody tr th {\n",
       "        vertical-align: top;\n",
       "    }\n",
       "\n",
       "    .dataframe thead th {\n",
       "        text-align: right;\n",
       "    }\n",
       "</style>\n",
       "<table border=\"1\" class=\"dataframe\">\n",
       "  <thead>\n",
       "    <tr style=\"text-align: right;\">\n",
       "      <th></th>\n",
       "      <th>Country/Region</th>\n",
       "      <th>Continent</th>\n",
       "      <th>Population</th>\n",
       "      <th>TotalCases</th>\n",
       "      <th>NewCases</th>\n",
       "      <th>TotalDeaths</th>\n",
       "      <th>NewDeaths</th>\n",
       "      <th>TotalRecovered</th>\n",
       "      <th>NewRecovered</th>\n",
       "      <th>ActiveCases</th>\n",
       "      <th>Serious,Critical</th>\n",
       "      <th>Tot Cases/1M pop</th>\n",
       "      <th>Deaths/1M pop</th>\n",
       "      <th>TotalTests</th>\n",
       "      <th>Tests/1M pop</th>\n",
       "      <th>WHO Region</th>\n",
       "    </tr>\n",
       "  </thead>\n",
       "  <tbody>\n",
       "    <tr>\n",
       "      <th>0</th>\n",
       "      <td>USA</td>\n",
       "      <td>North America</td>\n",
       "      <td>3.311981e+08</td>\n",
       "      <td>5032179</td>\n",
       "      <td>NaN</td>\n",
       "      <td>162804.0</td>\n",
       "      <td>NaN</td>\n",
       "      <td>2576668.0</td>\n",
       "      <td>NaN</td>\n",
       "      <td>2292707.0</td>\n",
       "      <td>18296.0</td>\n",
       "      <td>15194.0</td>\n",
       "      <td>492.0</td>\n",
       "      <td>63139605.0</td>\n",
       "      <td>190640.0</td>\n",
       "      <td>Americas</td>\n",
       "    </tr>\n",
       "    <tr>\n",
       "      <th>1</th>\n",
       "      <td>Brazil</td>\n",
       "      <td>South America</td>\n",
       "      <td>2.127107e+08</td>\n",
       "      <td>2917562</td>\n",
       "      <td>NaN</td>\n",
       "      <td>98644.0</td>\n",
       "      <td>NaN</td>\n",
       "      <td>2047660.0</td>\n",
       "      <td>NaN</td>\n",
       "      <td>771258.0</td>\n",
       "      <td>8318.0</td>\n",
       "      <td>13716.0</td>\n",
       "      <td>464.0</td>\n",
       "      <td>13206188.0</td>\n",
       "      <td>62085.0</td>\n",
       "      <td>Americas</td>\n",
       "    </tr>\n",
       "    <tr>\n",
       "      <th>2</th>\n",
       "      <td>India</td>\n",
       "      <td>Asia</td>\n",
       "      <td>1.381345e+09</td>\n",
       "      <td>2025409</td>\n",
       "      <td>NaN</td>\n",
       "      <td>41638.0</td>\n",
       "      <td>NaN</td>\n",
       "      <td>1377384.0</td>\n",
       "      <td>NaN</td>\n",
       "      <td>606387.0</td>\n",
       "      <td>8944.0</td>\n",
       "      <td>1466.0</td>\n",
       "      <td>30.0</td>\n",
       "      <td>22149351.0</td>\n",
       "      <td>16035.0</td>\n",
       "      <td>South-EastAsia</td>\n",
       "    </tr>\n",
       "    <tr>\n",
       "      <th>3</th>\n",
       "      <td>Russia</td>\n",
       "      <td>Europe</td>\n",
       "      <td>1.459409e+08</td>\n",
       "      <td>871894</td>\n",
       "      <td>NaN</td>\n",
       "      <td>14606.0</td>\n",
       "      <td>NaN</td>\n",
       "      <td>676357.0</td>\n",
       "      <td>NaN</td>\n",
       "      <td>180931.0</td>\n",
       "      <td>2300.0</td>\n",
       "      <td>5974.0</td>\n",
       "      <td>100.0</td>\n",
       "      <td>29716907.0</td>\n",
       "      <td>203623.0</td>\n",
       "      <td>Europe</td>\n",
       "    </tr>\n",
       "    <tr>\n",
       "      <th>4</th>\n",
       "      <td>South Africa</td>\n",
       "      <td>Africa</td>\n",
       "      <td>5.938157e+07</td>\n",
       "      <td>538184</td>\n",
       "      <td>NaN</td>\n",
       "      <td>9604.0</td>\n",
       "      <td>NaN</td>\n",
       "      <td>387316.0</td>\n",
       "      <td>NaN</td>\n",
       "      <td>141264.0</td>\n",
       "      <td>539.0</td>\n",
       "      <td>9063.0</td>\n",
       "      <td>162.0</td>\n",
       "      <td>3149807.0</td>\n",
       "      <td>53044.0</td>\n",
       "      <td>Africa</td>\n",
       "    </tr>\n",
       "    <tr>\n",
       "      <th>...</th>\n",
       "      <td>...</td>\n",
       "      <td>...</td>\n",
       "      <td>...</td>\n",
       "      <td>...</td>\n",
       "      <td>...</td>\n",
       "      <td>...</td>\n",
       "      <td>...</td>\n",
       "      <td>...</td>\n",
       "      <td>...</td>\n",
       "      <td>...</td>\n",
       "      <td>...</td>\n",
       "      <td>...</td>\n",
       "      <td>...</td>\n",
       "      <td>...</td>\n",
       "      <td>...</td>\n",
       "      <td>...</td>\n",
       "    </tr>\n",
       "    <tr>\n",
       "      <th>204</th>\n",
       "      <td>Montserrat</td>\n",
       "      <td>North America</td>\n",
       "      <td>4.992000e+03</td>\n",
       "      <td>13</td>\n",
       "      <td>NaN</td>\n",
       "      <td>1.0</td>\n",
       "      <td>NaN</td>\n",
       "      <td>10.0</td>\n",
       "      <td>NaN</td>\n",
       "      <td>2.0</td>\n",
       "      <td>NaN</td>\n",
       "      <td>2604.0</td>\n",
       "      <td>200.0</td>\n",
       "      <td>61.0</td>\n",
       "      <td>12220.0</td>\n",
       "      <td>NaN</td>\n",
       "    </tr>\n",
       "    <tr>\n",
       "      <th>205</th>\n",
       "      <td>Caribbean Netherlands</td>\n",
       "      <td>North America</td>\n",
       "      <td>2.624700e+04</td>\n",
       "      <td>13</td>\n",
       "      <td>NaN</td>\n",
       "      <td>NaN</td>\n",
       "      <td>NaN</td>\n",
       "      <td>7.0</td>\n",
       "      <td>NaN</td>\n",
       "      <td>6.0</td>\n",
       "      <td>NaN</td>\n",
       "      <td>495.0</td>\n",
       "      <td>NaN</td>\n",
       "      <td>424.0</td>\n",
       "      <td>16154.0</td>\n",
       "      <td>NaN</td>\n",
       "    </tr>\n",
       "    <tr>\n",
       "      <th>206</th>\n",
       "      <td>Falkland Islands</td>\n",
       "      <td>South America</td>\n",
       "      <td>3.489000e+03</td>\n",
       "      <td>13</td>\n",
       "      <td>NaN</td>\n",
       "      <td>NaN</td>\n",
       "      <td>NaN</td>\n",
       "      <td>13.0</td>\n",
       "      <td>NaN</td>\n",
       "      <td>0.0</td>\n",
       "      <td>NaN</td>\n",
       "      <td>3726.0</td>\n",
       "      <td>NaN</td>\n",
       "      <td>1816.0</td>\n",
       "      <td>520493.0</td>\n",
       "      <td>NaN</td>\n",
       "    </tr>\n",
       "    <tr>\n",
       "      <th>207</th>\n",
       "      <td>Vatican City</td>\n",
       "      <td>Europe</td>\n",
       "      <td>8.010000e+02</td>\n",
       "      <td>12</td>\n",
       "      <td>NaN</td>\n",
       "      <td>NaN</td>\n",
       "      <td>NaN</td>\n",
       "      <td>12.0</td>\n",
       "      <td>NaN</td>\n",
       "      <td>0.0</td>\n",
       "      <td>NaN</td>\n",
       "      <td>14981.0</td>\n",
       "      <td>NaN</td>\n",
       "      <td>NaN</td>\n",
       "      <td>NaN</td>\n",
       "      <td>Europe</td>\n",
       "    </tr>\n",
       "    <tr>\n",
       "      <th>208</th>\n",
       "      <td>Western Sahara</td>\n",
       "      <td>Africa</td>\n",
       "      <td>5.986820e+05</td>\n",
       "      <td>10</td>\n",
       "      <td>NaN</td>\n",
       "      <td>1.0</td>\n",
       "      <td>NaN</td>\n",
       "      <td>8.0</td>\n",
       "      <td>NaN</td>\n",
       "      <td>1.0</td>\n",
       "      <td>NaN</td>\n",
       "      <td>17.0</td>\n",
       "      <td>2.0</td>\n",
       "      <td>NaN</td>\n",
       "      <td>NaN</td>\n",
       "      <td>Africa</td>\n",
       "    </tr>\n",
       "  </tbody>\n",
       "</table>\n",
       "<p>209 rows × 16 columns</p>\n",
       "</div>"
      ],
      "text/plain": [
       "            Country/Region      Continent    Population  TotalCases  NewCases  \\\n",
       "0                      USA  North America  3.311981e+08     5032179       NaN   \n",
       "1                   Brazil  South America  2.127107e+08     2917562       NaN   \n",
       "2                    India           Asia  1.381345e+09     2025409       NaN   \n",
       "3                   Russia         Europe  1.459409e+08      871894       NaN   \n",
       "4             South Africa         Africa  5.938157e+07      538184       NaN   \n",
       "..                     ...            ...           ...         ...       ...   \n",
       "204             Montserrat  North America  4.992000e+03          13       NaN   \n",
       "205  Caribbean Netherlands  North America  2.624700e+04          13       NaN   \n",
       "206       Falkland Islands  South America  3.489000e+03          13       NaN   \n",
       "207           Vatican City         Europe  8.010000e+02          12       NaN   \n",
       "208         Western Sahara         Africa  5.986820e+05          10       NaN   \n",
       "\n",
       "     TotalDeaths  NewDeaths  TotalRecovered  NewRecovered  ActiveCases  \\\n",
       "0       162804.0        NaN       2576668.0           NaN    2292707.0   \n",
       "1        98644.0        NaN       2047660.0           NaN     771258.0   \n",
       "2        41638.0        NaN       1377384.0           NaN     606387.0   \n",
       "3        14606.0        NaN        676357.0           NaN     180931.0   \n",
       "4         9604.0        NaN        387316.0           NaN     141264.0   \n",
       "..           ...        ...             ...           ...          ...   \n",
       "204          1.0        NaN            10.0           NaN          2.0   \n",
       "205          NaN        NaN             7.0           NaN          6.0   \n",
       "206          NaN        NaN            13.0           NaN          0.0   \n",
       "207          NaN        NaN            12.0           NaN          0.0   \n",
       "208          1.0        NaN             8.0           NaN          1.0   \n",
       "\n",
       "     Serious,Critical  Tot Cases/1M pop  Deaths/1M pop  TotalTests  \\\n",
       "0             18296.0           15194.0          492.0  63139605.0   \n",
       "1              8318.0           13716.0          464.0  13206188.0   \n",
       "2              8944.0            1466.0           30.0  22149351.0   \n",
       "3              2300.0            5974.0          100.0  29716907.0   \n",
       "4               539.0            9063.0          162.0   3149807.0   \n",
       "..                ...               ...            ...         ...   \n",
       "204               NaN            2604.0          200.0        61.0   \n",
       "205               NaN             495.0            NaN       424.0   \n",
       "206               NaN            3726.0            NaN      1816.0   \n",
       "207               NaN           14981.0            NaN         NaN   \n",
       "208               NaN              17.0            2.0         NaN   \n",
       "\n",
       "     Tests/1M pop      WHO Region  \n",
       "0        190640.0        Americas  \n",
       "1         62085.0        Americas  \n",
       "2         16035.0  South-EastAsia  \n",
       "3        203623.0          Europe  \n",
       "4         53044.0          Africa  \n",
       "..            ...             ...  \n",
       "204       12220.0             NaN  \n",
       "205       16154.0             NaN  \n",
       "206      520493.0             NaN  \n",
       "207           NaN          Europe  \n",
       "208           NaN          Africa  \n",
       "\n",
       "[209 rows x 16 columns]"
      ]
     },
     "execution_count": 90,
     "metadata": {},
     "output_type": "execute_result"
    }
   ],
   "source": [
    "world_df = pd.read_csv(\"/kaggle/input/corona-virus-report/worldometer_data.csv\") # Importando dados do novo arquivo\n",
    "world_df"
   ]
  },
  {
   "cell_type": "markdown",
   "metadata": {},
   "source": [
    "## **Filtrando as Informações Interessantes**"
   ]
  },
  {
   "cell_type": "code",
   "execution_count": null,
   "metadata": {
    "execution": {
     "iopub.execute_input": "2025-02-14T12:40:54.023198Z",
     "iopub.status.busy": "2025-02-14T12:40:54.022771Z",
     "iopub.status.idle": "2025-02-14T12:40:54.037806Z",
     "shell.execute_reply": "2025-02-14T12:40:54.036543Z",
     "shell.execute_reply.started": "2025-02-14T12:40:54.023163Z"
    },
    "trusted": true
   },
   "outputs": [
    {
     "data": {
      "text/html": [
       "<div>\n",
       "<style scoped>\n",
       "    .dataframe tbody tr th:only-of-type {\n",
       "        vertical-align: middle;\n",
       "    }\n",
       "\n",
       "    .dataframe tbody tr th {\n",
       "        vertical-align: top;\n",
       "    }\n",
       "\n",
       "    .dataframe thead th {\n",
       "        text-align: right;\n",
       "    }\n",
       "</style>\n",
       "<table border=\"1\" class=\"dataframe\">\n",
       "  <thead>\n",
       "    <tr style=\"text-align: right;\">\n",
       "      <th></th>\n",
       "      <th>Country/Region</th>\n",
       "      <th>Continent</th>\n",
       "      <th>Population</th>\n",
       "    </tr>\n",
       "  </thead>\n",
       "  <tbody>\n",
       "    <tr>\n",
       "      <th>0</th>\n",
       "      <td>USA</td>\n",
       "      <td>North America</td>\n",
       "      <td>3.311981e+08</td>\n",
       "    </tr>\n",
       "    <tr>\n",
       "      <th>1</th>\n",
       "      <td>Brazil</td>\n",
       "      <td>South America</td>\n",
       "      <td>2.127107e+08</td>\n",
       "    </tr>\n",
       "    <tr>\n",
       "      <th>2</th>\n",
       "      <td>India</td>\n",
       "      <td>Asia</td>\n",
       "      <td>1.381345e+09</td>\n",
       "    </tr>\n",
       "    <tr>\n",
       "      <th>3</th>\n",
       "      <td>Russia</td>\n",
       "      <td>Europe</td>\n",
       "      <td>1.459409e+08</td>\n",
       "    </tr>\n",
       "    <tr>\n",
       "      <th>4</th>\n",
       "      <td>South Africa</td>\n",
       "      <td>Africa</td>\n",
       "      <td>5.938157e+07</td>\n",
       "    </tr>\n",
       "    <tr>\n",
       "      <th>...</th>\n",
       "      <td>...</td>\n",
       "      <td>...</td>\n",
       "      <td>...</td>\n",
       "    </tr>\n",
       "    <tr>\n",
       "      <th>204</th>\n",
       "      <td>Montserrat</td>\n",
       "      <td>North America</td>\n",
       "      <td>4.992000e+03</td>\n",
       "    </tr>\n",
       "    <tr>\n",
       "      <th>205</th>\n",
       "      <td>Caribbean Netherlands</td>\n",
       "      <td>North America</td>\n",
       "      <td>2.624700e+04</td>\n",
       "    </tr>\n",
       "    <tr>\n",
       "      <th>206</th>\n",
       "      <td>Falkland Islands</td>\n",
       "      <td>South America</td>\n",
       "      <td>3.489000e+03</td>\n",
       "    </tr>\n",
       "    <tr>\n",
       "      <th>207</th>\n",
       "      <td>Vatican City</td>\n",
       "      <td>Europe</td>\n",
       "      <td>8.010000e+02</td>\n",
       "    </tr>\n",
       "    <tr>\n",
       "      <th>208</th>\n",
       "      <td>Western Sahara</td>\n",
       "      <td>Africa</td>\n",
       "      <td>5.986820e+05</td>\n",
       "    </tr>\n",
       "  </tbody>\n",
       "</table>\n",
       "<p>209 rows × 3 columns</p>\n",
       "</div>"
      ],
      "text/plain": [
       "            Country/Region      Continent    Population\n",
       "0                      USA  North America  3.311981e+08\n",
       "1                   Brazil  South America  2.127107e+08\n",
       "2                    India           Asia  1.381345e+09\n",
       "3                   Russia         Europe  1.459409e+08\n",
       "4             South Africa         Africa  5.938157e+07\n",
       "..                     ...            ...           ...\n",
       "204             Montserrat  North America  4.992000e+03\n",
       "205  Caribbean Netherlands  North America  2.624700e+04\n",
       "206       Falkland Islands  South America  3.489000e+03\n",
       "207           Vatican City         Europe  8.010000e+02\n",
       "208         Western Sahara         Africa  5.986820e+05\n",
       "\n",
       "[209 rows x 3 columns]"
      ]
     },
     "execution_count": 85,
     "metadata": {},
     "output_type": "execute_result"
    }
   ],
   "source": [
    "world_filt = world_df[['Country/Region', 'Continent', 'Population']] # Filtrando Infos\n",
    "\n",
    "world_filt"
   ]
  },
  {
   "cell_type": "markdown",
   "metadata": {},
   "source": [
    "## **Criando novo dataframe com as informações desejadas**"
   ]
  },
  {
   "cell_type": "code",
   "execution_count": null,
   "metadata": {
    "execution": {
     "iopub.execute_input": "2025-02-14T13:02:07.298015Z",
     "iopub.status.busy": "2025-02-14T13:02:07.297583Z",
     "iopub.status.idle": "2025-02-14T13:02:07.318493Z",
     "shell.execute_reply": "2025-02-14T13:02:07.317389Z",
     "shell.execute_reply.started": "2025-02-14T13:02:07.297978Z"
    },
    "trusted": true
   },
   "outputs": [
    {
     "name": "stdout",
     "output_type": "stream",
     "text": [
      "     Country/Region  Deaths Continent  Population\n",
      "0       Afghanistan   49098      Asia  39009447.0\n",
      "1           Albania    5708    Europe   2877470.0\n",
      "2           Algeria   77972    Africa  43926079.0\n",
      "3           Andorra    5423    Europe     77278.0\n",
      "4            Angola    1078    Africa  32956300.0\n",
      "..              ...     ...       ...         ...\n",
      "166         Vietnam       0      Asia  97425470.0\n",
      "167  Western Sahara      63    Africa    598682.0\n",
      "168           Yemen   17707      Asia  29886897.0\n",
      "169          Zambia    2643    Africa  18430129.0\n",
      "170        Zimbabwe     881    Africa  14883803.0\n",
      "\n",
      "[171 rows x 4 columns]\n"
     ]
    }
   ],
   "source": [
    "country_df = df[['Country/Region', 'Deaths']] # Separando do arquivo original um arquivo com os dados interessantes\n",
    "country_df = country_df.groupby('Country/Region').sum().reset_index() # Agrupando por paises\n",
    "\n",
    "country_data = pd.merge(country_df, world_filt, on='Country/Region', how='inner') # Mesclando os 2 dataframes\n",
    "\n",
    "print(country_data)"
   ]
  },
  {
   "cell_type": "markdown",
   "metadata": {},
   "source": [
    "## **Criando nova coluna com Mortes/População (Em Milhões)**"
   ]
  },
  {
   "cell_type": "code",
   "execution_count": null,
   "metadata": {
    "execution": {
     "iopub.execute_input": "2025-02-14T13:04:46.838446Z",
     "iopub.status.busy": "2025-02-14T13:04:46.838002Z",
     "iopub.status.idle": "2025-02-14T13:04:46.847924Z",
     "shell.execute_reply": "2025-02-14T13:04:46.846775Z",
     "shell.execute_reply.started": "2025-02-14T13:04:46.838407Z"
    },
    "trusted": true
   },
   "outputs": [
    {
     "name": "stdout",
     "output_type": "stream",
     "text": [
      "     Country/Region  Deaths Continent  Population  \\\n",
      "0       Afghanistan   49098      Asia  39009447.0   \n",
      "1           Albania    5708    Europe   2877470.0   \n",
      "2           Algeria   77972    Africa  43926079.0   \n",
      "3           Andorra    5423    Europe     77278.0   \n",
      "4            Angola    1078    Africa  32956300.0   \n",
      "..              ...     ...       ...         ...   \n",
      "166         Vietnam       0      Asia  97425470.0   \n",
      "167  Western Sahara      63    Africa    598682.0   \n",
      "168           Yemen   17707      Asia  29886897.0   \n",
      "169          Zambia    2643    Africa  18430129.0   \n",
      "170        Zimbabwe     881    Africa  14883803.0   \n",
      "\n",
      "     Deaths/Population (In Millions)  \n",
      "0                       12586.182009  \n",
      "1                       19836.870584  \n",
      "2                       17750.730722  \n",
      "3                      701752.115738  \n",
      "4                         327.099826  \n",
      "..                               ...  \n",
      "166                         0.000000  \n",
      "167                      1052.311578  \n",
      "168                      5924.669931  \n",
      "169                      1434.064840  \n",
      "170                       591.918611  \n",
      "\n",
      "[171 rows x 5 columns]\n"
     ]
    }
   ],
   "source": [
    "country_data['Deaths/Population (In Millions)'] = (country_data['Deaths'] / country_data['Population']) * 10e6 # Nova tabela = formula\n",
    "\n",
    "print (country_data)"
   ]
  },
  {
   "cell_type": "markdown",
   "metadata": {},
   "source": [
    "## **Ranking, Top 10 Paises com mais Mortes/População **"
   ]
  },
  {
   "cell_type": "code",
   "execution_count": null,
   "metadata": {
    "execution": {
     "iopub.execute_input": "2025-02-14T13:05:54.343124Z",
     "iopub.status.busy": "2025-02-14T13:05:54.342796Z",
     "iopub.status.idle": "2025-02-14T13:05:54.356332Z",
     "shell.execute_reply": "2025-02-14T13:05:54.355233Z",
     "shell.execute_reply.started": "2025-02-14T13:05:54.343098Z"
    },
    "trusted": true
   },
   "outputs": [
    {
     "data": {
      "text/html": [
       "<div>\n",
       "<style scoped>\n",
       "    .dataframe tbody tr th:only-of-type {\n",
       "        vertical-align: middle;\n",
       "    }\n",
       "\n",
       "    .dataframe tbody tr th {\n",
       "        vertical-align: top;\n",
       "    }\n",
       "\n",
       "    .dataframe thead th {\n",
       "        text-align: right;\n",
       "    }\n",
       "</style>\n",
       "<table border=\"1\" class=\"dataframe\">\n",
       "  <thead>\n",
       "    <tr style=\"text-align: right;\">\n",
       "      <th></th>\n",
       "      <th>Country/Region</th>\n",
       "      <th>Deaths</th>\n",
       "      <th>Continent</th>\n",
       "      <th>Population</th>\n",
       "      <th>Deaths/Population (In Millions)</th>\n",
       "    </tr>\n",
       "  </thead>\n",
       "  <tbody>\n",
       "    <tr>\n",
       "      <th>133</th>\n",
       "      <td>San Marino</td>\n",
       "      <td>5086</td>\n",
       "      <td>Europe</td>\n",
       "      <td>33938.0</td>\n",
       "      <td>1.498615e+06</td>\n",
       "    </tr>\n",
       "    <tr>\n",
       "      <th>16</th>\n",
       "      <td>Belgium</td>\n",
       "      <td>963679</td>\n",
       "      <td>Europe</td>\n",
       "      <td>11594739.0</td>\n",
       "      <td>8.311347e+05</td>\n",
       "    </tr>\n",
       "    <tr>\n",
       "      <th>3</th>\n",
       "      <td>Andorra</td>\n",
       "      <td>5423</td>\n",
       "      <td>Europe</td>\n",
       "      <td>77278.0</td>\n",
       "      <td>7.017521e+05</td>\n",
       "    </tr>\n",
       "    <tr>\n",
       "      <th>146</th>\n",
       "      <td>Spain</td>\n",
       "      <td>3033030</td>\n",
       "      <td>Europe</td>\n",
       "      <td>46756648.0</td>\n",
       "      <td>6.486842e+05</td>\n",
       "    </tr>\n",
       "    <tr>\n",
       "      <th>77</th>\n",
       "      <td>Italy</td>\n",
       "      <td>3707717</td>\n",
       "      <td>Europe</td>\n",
       "      <td>60452568.0</td>\n",
       "      <td>6.133266e+05</td>\n",
       "    </tr>\n",
       "    <tr>\n",
       "      <th>54</th>\n",
       "      <td>France</td>\n",
       "      <td>3048524</td>\n",
       "      <td>Europe</td>\n",
       "      <td>65288306.0</td>\n",
       "      <td>4.669326e+05</td>\n",
       "    </tr>\n",
       "    <tr>\n",
       "      <th>150</th>\n",
       "      <td>Sweden</td>\n",
       "      <td>448913</td>\n",
       "      <td>Europe</td>\n",
       "      <td>10105596.0</td>\n",
       "      <td>4.442222e+05</td>\n",
       "    </tr>\n",
       "    <tr>\n",
       "      <th>111</th>\n",
       "      <td>Netherlands</td>\n",
       "      <td>622314</td>\n",
       "      <td>Europe</td>\n",
       "      <td>17138756.0</td>\n",
       "      <td>3.631034e+05</td>\n",
       "    </tr>\n",
       "    <tr>\n",
       "      <th>75</th>\n",
       "      <td>Ireland</td>\n",
       "      <td>161948</td>\n",
       "      <td>Europe</td>\n",
       "      <td>4943200.0</td>\n",
       "      <td>3.276177e+05</td>\n",
       "    </tr>\n",
       "    <tr>\n",
       "      <th>151</th>\n",
       "      <td>Switzerland</td>\n",
       "      <td>207858</td>\n",
       "      <td>Europe</td>\n",
       "      <td>8660952.0</td>\n",
       "      <td>2.399944e+05</td>\n",
       "    </tr>\n",
       "  </tbody>\n",
       "</table>\n",
       "</div>"
      ],
      "text/plain": [
       "    Country/Region   Deaths Continent  Population  \\\n",
       "133     San Marino     5086    Europe     33938.0   \n",
       "16         Belgium   963679    Europe  11594739.0   \n",
       "3          Andorra     5423    Europe     77278.0   \n",
       "146          Spain  3033030    Europe  46756648.0   \n",
       "77           Italy  3707717    Europe  60452568.0   \n",
       "54          France  3048524    Europe  65288306.0   \n",
       "150         Sweden   448913    Europe  10105596.0   \n",
       "111    Netherlands   622314    Europe  17138756.0   \n",
       "75         Ireland   161948    Europe   4943200.0   \n",
       "151    Switzerland   207858    Europe   8660952.0   \n",
       "\n",
       "     Deaths/Population (In Millions)  \n",
       "133                     1.498615e+06  \n",
       "16                      8.311347e+05  \n",
       "3                       7.017521e+05  \n",
       "146                     6.486842e+05  \n",
       "77                      6.133266e+05  \n",
       "54                      4.669326e+05  \n",
       "150                     4.442222e+05  \n",
       "111                     3.631034e+05  \n",
       "75                      3.276177e+05  \n",
       "151                     2.399944e+05  "
      ]
     },
     "execution_count": 111,
     "metadata": {},
     "output_type": "execute_result"
    }
   ],
   "source": [
    "country_data.sort_values('Deaths/Population (In Millions)', ascending = False).head(10) # Mostrar os 10 paises com mais mortes/população"
   ]
  },
  {
   "cell_type": "code",
   "execution_count": null,
   "metadata": {
    "trusted": true
   },
   "outputs": [],
   "source": []
  }
 ],
 "metadata": {
  "kaggle": {
   "accelerator": "none",
   "dataSources": [
    {
     "datasetId": 494766,
     "sourceId": 1402868,
     "sourceType": "datasetVersion"
    }
   ],
   "dockerImageVersionId": 30886,
   "isGpuEnabled": false,
   "isInternetEnabled": true,
   "language": "python",
   "sourceType": "notebook"
  },
  "kernelspec": {
   "display_name": "Victor",
   "language": "python",
   "name": "python3"
  },
  "language_info": {
   "codemirror_mode": {
    "name": "ipython",
    "version": 3
   },
   "file_extension": ".py",
   "mimetype": "text/x-python",
   "name": "python",
   "nbconvert_exporter": "python",
   "pygments_lexer": "ipython3",
   "version": "3.12.9"
  }
 },
 "nbformat": 4,
 "nbformat_minor": 4
}
