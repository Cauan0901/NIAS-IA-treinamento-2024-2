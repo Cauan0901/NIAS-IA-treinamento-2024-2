{
 "cells": [
  {
   "cell_type": "code",
   "execution_count": null,
   "metadata": {
    "_cell_guid": "b1076dfc-b9ad-4769-8c92-a6c4dae69d19",
    "_uuid": "8f2839f25d086af736a60e9eeb907d3b93b6e0e5",
    "execution": {
     "iopub.execute_input": "2025-02-14T12:10:42.304542Z",
     "iopub.status.busy": "2025-02-14T12:10:42.304099Z",
     "iopub.status.idle": "2025-02-14T12:10:42.313947Z",
     "shell.execute_reply": "2025-02-14T12:10:42.312790Z",
     "shell.execute_reply.started": "2025-02-14T12:10:42.304501Z"
    },
    "trusted": true
   },
   "outputs": [],
   "source": [
    "# This Python 3 environment comes with many helpful analytics libraries installed\n",
    "# It is defined by the kaggle/python Docker image: https://github.com/kaggle/docker-python\n",
    "# For example, here's several helpful packages to load\n",
    "\n",
    "import numpy as np # linear algebra\n",
    "import pandas as pd # data processing, CSV file I/O (e.g. pd.read_csv)\n",
    "\n",
    "# Input data files are available in the read-only \"../input/\" directory\n",
    "# For example, running this (by clicking run or pressing Shift+Enter) will list all files under the input directory\n",
    "\n",
    "import os\n",
    "for dirname, _, filenames in os.walk('/kaggle/input'):\n",
    "    for filename in filenames:\n",
    "        print(os.path.join(dirname, filename))\n",
    "\n",
    "# You can write up to 20GB to the current directory (/kaggle/working/) that gets preserved as output when you create a version using \"Save & Run All\" \n",
    "# You can also write temporary files to /kaggle/temp/, but they won't be saved outside of the current session"
   ]
  },
  {
   "cell_type": "markdown",
   "metadata": {},
   "source": [
    "## **Lendo DataSet e apresentando**"
   ]
  },
  {
   "cell_type": "code",
   "execution_count": null,
   "metadata": {
    "execution": {
     "iopub.execute_input": "2025-02-14T12:10:42.325564Z",
     "iopub.status.busy": "2025-02-14T12:10:42.325110Z",
     "iopub.status.idle": "2025-02-14T12:10:42.416003Z",
     "shell.execute_reply": "2025-02-14T12:10:42.414740Z",
     "shell.execute_reply.started": "2025-02-14T12:10:42.325532Z"
    },
    "trusted": true
   },
   "outputs": [],
   "source": [
    "df=pd.read_csv(\"/kaggle/input/corona-virus-report/covid_19_clean_complete.csv\")\n",
    "df"
   ]
  },
  {
   "cell_type": "markdown",
   "metadata": {},
   "source": [
    "## **Apresentando Informações de Linhas e Colunas**"
   ]
  },
  {
   "cell_type": "code",
   "execution_count": null,
   "metadata": {
    "execution": {
     "iopub.execute_input": "2025-02-14T12:10:42.417901Z",
     "iopub.status.busy": "2025-02-14T12:10:42.417508Z",
     "iopub.status.idle": "2025-02-14T12:10:42.433233Z",
     "shell.execute_reply": "2025-02-14T12:10:42.432043Z",
     "shell.execute_reply.started": "2025-02-14T12:10:42.417860Z"
    },
    "trusted": true
   },
   "outputs": [],
   "source": [
    "print ('Quantidade de Linhas e Colunas: ', df.shape) # Demonstrando numero de linhas/colunas do dataframe\n",
    "print ('Colunas: ', list(df.columns)) # Mostrando as colunas\n",
    "\n",
    "\n",
    "df['Date'] = pd.to_datetime(df['Date'])\n",
    "print ('\\nTipo da Data:', df.Date.dtypes) # Trocando o tipo de informação que está na coluna de Date"
   ]
  },
  {
   "cell_type": "markdown",
   "metadata": {},
   "source": [
    "## **Valores Estátisticos**"
   ]
  },
  {
   "cell_type": "code",
   "execution_count": null,
   "metadata": {
    "execution": {
     "iopub.execute_input": "2025-02-14T12:10:42.435562Z",
     "iopub.status.busy": "2025-02-14T12:10:42.435151Z",
     "iopub.status.idle": "2025-02-14T12:10:42.485652Z",
     "shell.execute_reply": "2025-02-14T12:10:42.484503Z",
     "shell.execute_reply.started": "2025-02-14T12:10:42.435523Z"
    },
    "trusted": true
   },
   "outputs": [],
   "source": [
    "print ( df.describe() ) # Valores estátisticos\n",
    "\n",
    "d1=df.groupby(\"Country/Region\")[\"Deaths\"].max().reset_index() \n",
    "d1=d1.sort_values(\"Deaths\",ascending=False).head(10) # 10 Paises com mais mortes\n",
    "print ('\\n',d1)"
   ]
  },
  {
   "cell_type": "markdown",
   "metadata": {},
   "source": [
    "## **Provincias da China**"
   ]
  },
  {
   "cell_type": "code",
   "execution_count": null,
   "metadata": {
    "execution": {
     "iopub.execute_input": "2025-02-14T12:10:42.487697Z",
     "iopub.status.busy": "2025-02-14T12:10:42.487345Z",
     "iopub.status.idle": "2025-02-14T12:10:42.513841Z",
     "shell.execute_reply": "2025-02-14T12:10:42.512639Z",
     "shell.execute_reply.started": "2025-02-14T12:10:42.487667Z"
    },
    "trusted": true
   },
   "outputs": [],
   "source": [
    "provinces_china = df.loc[df['Country/Region'] == 'China']['Province/State'].unique() # Filtrando os dados que vem da China\n",
    "china_data = df[df['Province/State'].isin(provinces_china)] # Criando um dataframe apenas com esses dados\n",
    "china_filt = china_data[['Province/State', 'Confirmed', 'Active', 'Deaths', 'Recovered']] #Separando as informações que me interessam\n",
    "\n",
    "print(\"\\n\", china_filt) \n",
    "top_regions = china_filt.groupby(['Province/State'])['Confirmed'].max().reset_index() # Ordenando regiões com maior numero de confirmações\n",
    "top_regions = top_regions.sort_values('Confirmed', ascending = False).head(5) # Escolhendo as 5 maiores\n",
    "print ('\\n', top_regions) \n"
   ]
  },
  {
   "cell_type": "markdown",
   "metadata": {},
   "source": [
    "## **Colunas com dados Perdidos**"
   ]
  },
  {
   "cell_type": "code",
   "execution_count": null,
   "metadata": {
    "execution": {
     "iopub.execute_input": "2025-02-14T12:10:42.515245Z",
     "iopub.status.busy": "2025-02-14T12:10:42.514909Z",
     "iopub.status.idle": "2025-02-14T12:10:42.626481Z",
     "shell.execute_reply": "2025-02-14T12:10:42.624996Z",
     "shell.execute_reply.started": "2025-02-14T12:10:42.515217Z"
    },
    "trusted": true
   },
   "outputs": [],
   "source": [
    "# Função que tenha uma linha do banco de dados como argumento\n",
    "def concat_province_country(row):\n",
    "    if pd.notna(row['Province/State']):\n",
    "        return f\"{row['Country/Region']}_{row['Province/State']}\"\n",
    "    else:\n",
    "        return row['Country/Region']\n",
    "\n",
    "# Faça uma cópia do banco de dados para poder retirar informações sem perder o banco de dados original\n",
    "df_concat = df.copy() # Banco de dados para concatenar e retirar apenas Country/Province\n",
    "df_new = df.copy() # Banco de dados para retirar outras informações\n",
    "\n",
    "df_concat = df.loc[df['Country/Region'] == 'China']\n",
    "china_new_data = df[df['Province/State'].isin(df_concat)]\n",
    "\n",
    "\n",
    "# Aplique, por meio do método “apply”, a função criada no item\n",
    "df_concat = df_concat.apply(concat_province_country, axis=1)\n",
    "\n",
    "# Apagando a coluna de province/state\n",
    "df_new.drop(columns=['Province/State'], inplace=True)"
   ]
  },
  {
   "cell_type": "code",
   "execution_count": null,
   "metadata": {
    "execution": {
     "iopub.execute_input": "2025-02-14T12:10:42.628813Z",
     "iopub.status.busy": "2025-02-14T12:10:42.628278Z",
     "iopub.status.idle": "2025-02-14T12:10:42.654459Z",
     "shell.execute_reply": "2025-02-14T12:10:42.653138Z",
     "shell.execute_reply.started": "2025-02-14T12:10:42.628774Z"
    },
    "trusted": true
   },
   "outputs": [],
   "source": [
    "df_new['Country/Province'] = df_concat # Criando no banco de dados novos uma coluna com os valores concatenados\n",
    "print(df_new)\n",
    "df_new = df_new.loc[df_new['Country/Region'] == 'China'] # Filtrando valores do banco de dados para termos dados apenas da China"
   ]
  },
  {
   "cell_type": "code",
   "execution_count": null,
   "metadata": {
    "execution": {
     "iopub.execute_input": "2025-02-14T12:16:59.647332Z",
     "iopub.status.busy": "2025-02-14T12:16:59.646969Z",
     "iopub.status.idle": "2025-02-14T12:16:59.664495Z",
     "shell.execute_reply": "2025-02-14T12:16:59.663282Z",
     "shell.execute_reply.started": "2025-02-14T12:16:59.647297Z"
    },
    "trusted": true
   },
   "outputs": [],
   "source": [
    "china_new = df_new.dropna(subset=['Country/Province']) # Apagando da nova coluna os Valores NaN tendo assim uma tabela filtrada apenas com dados da china\n",
    "china_new.drop(columns=['Country/Region'], inplace=True) # Apagando a coluna que não será mais utilizada\n",
    "print(china_new)\n",
    "    "
   ]
  },
  {
   "cell_type": "markdown",
   "metadata": {},
   "source": [
    "## **Novo dataframe, arquivo Worldmeter**"
   ]
  },
  {
   "cell_type": "code",
   "execution_count": null,
   "metadata": {
    "execution": {
     "iopub.execute_input": "2025-02-14T12:46:48.452139Z",
     "iopub.status.busy": "2025-02-14T12:46:48.451773Z",
     "iopub.status.idle": "2025-02-14T12:46:48.571130Z",
     "shell.execute_reply": "2025-02-14T12:46:48.569816Z",
     "shell.execute_reply.started": "2025-02-14T12:46:48.452109Z"
    },
    "trusted": true
   },
   "outputs": [],
   "source": [
    "world_df = pd.read_csv(\"/kaggle/input/corona-virus-report/worldometer_data.csv\") # Importando dados do novo arquivo\n",
    "world_df"
   ]
  },
  {
   "cell_type": "markdown",
   "metadata": {},
   "source": [
    "## **Filtrando as Informações Interessantes**"
   ]
  },
  {
   "cell_type": "code",
   "execution_count": null,
   "metadata": {
    "execution": {
     "iopub.execute_input": "2025-02-14T12:40:54.023198Z",
     "iopub.status.busy": "2025-02-14T12:40:54.022771Z",
     "iopub.status.idle": "2025-02-14T12:40:54.037806Z",
     "shell.execute_reply": "2025-02-14T12:40:54.036543Z",
     "shell.execute_reply.started": "2025-02-14T12:40:54.023163Z"
    },
    "trusted": true
   },
   "outputs": [],
   "source": [
    "world_filt = world_df[['Country/Region', 'Continent', 'Population']] # Filtrando Infos\n",
    "\n",
    "world_filt"
   ]
  },
  {
   "cell_type": "markdown",
   "metadata": {},
   "source": [
    "## **Criando novo dataframe com as informações desejadas**"
   ]
  },
  {
   "cell_type": "code",
   "execution_count": null,
   "metadata": {
    "execution": {
     "iopub.execute_input": "2025-02-14T13:02:07.298015Z",
     "iopub.status.busy": "2025-02-14T13:02:07.297583Z",
     "iopub.status.idle": "2025-02-14T13:02:07.318493Z",
     "shell.execute_reply": "2025-02-14T13:02:07.317389Z",
     "shell.execute_reply.started": "2025-02-14T13:02:07.297978Z"
    },
    "trusted": true
   },
   "outputs": [],
   "source": [
    "country_df = df[['Country/Region', 'Deaths']] # Separando do arquivo original um arquivo com os dados interessantes\n",
    "country_df = country_df.groupby('Country/Region').sum().reset_index() # Agrupando por paises\n",
    "\n",
    "country_data = pd.merge(country_df, world_filt, on='Country/Region', how='inner') # Mesclando os 2 dataframes\n",
    "\n",
    "print(country_data)"
   ]
  },
  {
   "cell_type": "markdown",
   "metadata": {},
   "source": [
    "## **Criando nova coluna com Mortes/População (Em Milhões)**"
   ]
  },
  {
   "cell_type": "code",
   "execution_count": null,
   "metadata": {
    "execution": {
     "iopub.execute_input": "2025-02-14T13:04:46.838446Z",
     "iopub.status.busy": "2025-02-14T13:04:46.838002Z",
     "iopub.status.idle": "2025-02-14T13:04:46.847924Z",
     "shell.execute_reply": "2025-02-14T13:04:46.846775Z",
     "shell.execute_reply.started": "2025-02-14T13:04:46.838407Z"
    },
    "trusted": true
   },
   "outputs": [],
   "source": [
    "country_data['Deaths/Population (In Millions)'] = (country_data['Deaths'] / country_data['Population']) * 10e6 # Nova tabela = formula\n",
    "\n",
    "print (country_data)"
   ]
  },
  {
   "cell_type": "markdown",
   "metadata": {},
   "source": [
    "## **Ranking, Top 10 Paises com mais Mortes/População **"
   ]
  },
  {
   "cell_type": "code",
   "execution_count": null,
   "metadata": {
    "execution": {
     "iopub.execute_input": "2025-02-14T13:05:54.343124Z",
     "iopub.status.busy": "2025-02-14T13:05:54.342796Z",
     "iopub.status.idle": "2025-02-14T13:05:54.356332Z",
     "shell.execute_reply": "2025-02-14T13:05:54.355233Z",
     "shell.execute_reply.started": "2025-02-14T13:05:54.343098Z"
    },
    "trusted": true
   },
   "outputs": [],
   "source": [
    "country_data.sort_values('Deaths/Population (In Millions)', ascending = False).head(10) # Mostrar os 10 paises com mais mortes/população"
   ]
  },
  {
   "cell_type": "code",
   "execution_count": null,
   "metadata": {
    "trusted": true
   },
   "outputs": [],
   "source": []
  }
 ],
 "metadata": {
  "kaggle": {
   "accelerator": "none",
   "dataSources": [
    {
     "datasetId": 494766,
     "sourceId": 1402868,
     "sourceType": "datasetVersion"
    }
   ],
   "dockerImageVersionId": 30886,
   "isGpuEnabled": false,
   "isInternetEnabled": true,
   "language": "python",
   "sourceType": "notebook"
  },
  "kernelspec": {
   "display_name": "Victor",
   "language": "python",
   "name": "python3"
  },
  "language_info": {
   "codemirror_mode": {
    "name": "ipython",
    "version": 3
   },
   "file_extension": ".py",
   "mimetype": "text/x-python",
   "name": "python",
   "nbconvert_exporter": "python",
   "pygments_lexer": "ipython3",
   "version": "3.12.9"
  }
 },
 "nbformat": 4,
 "nbformat_minor": 4
}
