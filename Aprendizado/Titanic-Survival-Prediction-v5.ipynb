{
 "cells": [
  {
   "cell_type": "code",
   "execution_count": 1,
   "id": "89000e87",
   "metadata": {
    "_cell_guid": "b1076dfc-b9ad-4769-8c92-a6c4dae69d19",
    "_uuid": "8f2839f25d086af736a60e9eeb907d3b93b6e0e5",
    "execution": {
     "iopub.execute_input": "2025-02-24T19:31:14.994775Z",
     "iopub.status.busy": "2025-02-24T19:31:14.994358Z",
     "iopub.status.idle": "2025-02-24T19:31:16.077776Z",
     "shell.execute_reply": "2025-02-24T19:31:16.076141Z"
    },
    "papermill": {
     "duration": 1.098402,
     "end_time": "2025-02-24T19:31:16.080442",
     "exception": false,
     "start_time": "2025-02-24T19:31:14.982040",
     "status": "completed"
    },
    "tags": []
   },
   "outputs": [
    {
     "name": "stdout",
     "output_type": "stream",
     "text": [
      "/kaggle/input/titanic/train.csv\n",
      "/kaggle/input/titanic/test.csv\n",
      "/kaggle/input/titanic/gender_submission.csv\n"
     ]
    }
   ],
   "source": [
    "# This Python 3 environment comes with many helpful analytics libraries installed\n",
    "# It is defined by the kaggle/python Docker image: https://github.com/kaggle/docker-python\n",
    "# For example, here's several helpful packages to load\n",
    "\n",
    "import numpy as np # linear algebra\n",
    "import pandas as pd # data processing, CSV file I/O (e.g. pd.read_csv)\n",
    "\n",
    "# Input data files are available in the read-only \"../input/\" directory\n",
    "# For example, running this (by clicking run or pressing Shift+Enter) will list all files under the input directory\n",
    "\n",
    "import os\n",
    "for dirname, _, filenames in os.walk('/kaggle/input'):\n",
    "    for filename in filenames:\n",
    "        print(os.path.join(dirname, filename))\n",
    "\n",
    "# You can write up to 20GB to the current directory (/kaggle/working/) that gets preserved as output when you create a version using \"Save & Run All\" \n",
    "# You can also write temporary files to /kaggle/temp/, but they won't be saved outside of the current session"
   ]
  },
  {
   "cell_type": "markdown",
   "id": "62dea0cd",
   "metadata": {
    "papermill": {
     "duration": 0.010866,
     "end_time": "2025-02-24T19:31:16.102625",
     "exception": false,
     "start_time": "2025-02-24T19:31:16.091759",
     "status": "completed"
    },
    "tags": []
   },
   "source": [
    "## *Imports*"
   ]
  },
  {
   "cell_type": "code",
   "execution_count": 2,
   "id": "3ba82f0e",
   "metadata": {
    "execution": {
     "iopub.execute_input": "2025-02-24T19:31:16.126917Z",
     "iopub.status.busy": "2025-02-24T19:31:16.126368Z",
     "iopub.status.idle": "2025-02-24T19:31:19.965652Z",
     "shell.execute_reply": "2025-02-24T19:31:19.964457Z"
    },
    "papermill": {
     "duration": 3.853986,
     "end_time": "2025-02-24T19:31:19.968152",
     "exception": false,
     "start_time": "2025-02-24T19:31:16.114166",
     "status": "completed"
    },
    "tags": []
   },
   "outputs": [],
   "source": [
    "#visualization libraries\n",
    "import matplotlib.pyplot as plt\n",
    "import seaborn as sns\n",
    "from sklearn.preprocessing import OneHotEncoder, OrdinalEncoder, MinMaxScaler\n",
    "from sklearn.pipeline import Pipeline\n",
    "from sklearn.compose import ColumnTransformer\n",
    "from sklearn.impute import SimpleImputer\n",
    "from sklearn.ensemble import RandomForestClassifier, GradientBoostingClassifier\n",
    "from sklearn.model_selection import cross_val_score, train_test_split\n",
    "from sklearn.feature_selection import mutual_info_regression\n",
    "from sklearn.metrics import accuracy_score\n",
    "from sklearn.cluster import KMeans\n",
    "from sklearn.decomposition import PCA\n",
    "from category_encoders import MEstimateEncoder\n",
    "\n",
    "\n",
    "%matplotlib inline\n",
    "\n",
    "#ignore warnings\n",
    "import warnings\n",
    "warnings.filterwarnings('ignore')\n",
    "np.random.seed(0)"
   ]
  },
  {
   "cell_type": "code",
   "execution_count": 3,
   "id": "0972ae84",
   "metadata": {
    "execution": {
     "iopub.execute_input": "2025-02-24T19:31:19.991881Z",
     "iopub.status.busy": "2025-02-24T19:31:19.991230Z",
     "iopub.status.idle": "2025-02-24T19:31:20.074421Z",
     "shell.execute_reply": "2025-02-24T19:31:20.072900Z"
    },
    "papermill": {
     "duration": 0.097192,
     "end_time": "2025-02-24T19:31:20.076506",
     "exception": false,
     "start_time": "2025-02-24T19:31:19.979314",
     "status": "completed"
    },
    "tags": []
   },
   "outputs": [
    {
     "data": {
      "text/html": [
       "<div>\n",
       "<style scoped>\n",
       "    .dataframe tbody tr th:only-of-type {\n",
       "        vertical-align: middle;\n",
       "    }\n",
       "\n",
       "    .dataframe tbody tr th {\n",
       "        vertical-align: top;\n",
       "    }\n",
       "\n",
       "    .dataframe thead th {\n",
       "        text-align: right;\n",
       "    }\n",
       "</style>\n",
       "<table border=\"1\" class=\"dataframe\">\n",
       "  <thead>\n",
       "    <tr style=\"text-align: right;\">\n",
       "      <th></th>\n",
       "      <th>PassengerId</th>\n",
       "      <th>Survived</th>\n",
       "      <th>Pclass</th>\n",
       "      <th>Age</th>\n",
       "      <th>SibSp</th>\n",
       "      <th>Parch</th>\n",
       "      <th>Fare</th>\n",
       "    </tr>\n",
       "  </thead>\n",
       "  <tbody>\n",
       "    <tr>\n",
       "      <th>count</th>\n",
       "      <td>891.000000</td>\n",
       "      <td>891.000000</td>\n",
       "      <td>891.000000</td>\n",
       "      <td>714.000000</td>\n",
       "      <td>891.000000</td>\n",
       "      <td>891.000000</td>\n",
       "      <td>891.000000</td>\n",
       "    </tr>\n",
       "    <tr>\n",
       "      <th>mean</th>\n",
       "      <td>446.000000</td>\n",
       "      <td>0.383838</td>\n",
       "      <td>2.308642</td>\n",
       "      <td>29.699118</td>\n",
       "      <td>0.523008</td>\n",
       "      <td>0.381594</td>\n",
       "      <td>32.204208</td>\n",
       "    </tr>\n",
       "    <tr>\n",
       "      <th>std</th>\n",
       "      <td>257.353842</td>\n",
       "      <td>0.486592</td>\n",
       "      <td>0.836071</td>\n",
       "      <td>14.526497</td>\n",
       "      <td>1.102743</td>\n",
       "      <td>0.806057</td>\n",
       "      <td>49.693429</td>\n",
       "    </tr>\n",
       "    <tr>\n",
       "      <th>min</th>\n",
       "      <td>1.000000</td>\n",
       "      <td>0.000000</td>\n",
       "      <td>1.000000</td>\n",
       "      <td>0.420000</td>\n",
       "      <td>0.000000</td>\n",
       "      <td>0.000000</td>\n",
       "      <td>0.000000</td>\n",
       "    </tr>\n",
       "    <tr>\n",
       "      <th>25%</th>\n",
       "      <td>223.500000</td>\n",
       "      <td>0.000000</td>\n",
       "      <td>2.000000</td>\n",
       "      <td>20.125000</td>\n",
       "      <td>0.000000</td>\n",
       "      <td>0.000000</td>\n",
       "      <td>7.910400</td>\n",
       "    </tr>\n",
       "    <tr>\n",
       "      <th>50%</th>\n",
       "      <td>446.000000</td>\n",
       "      <td>0.000000</td>\n",
       "      <td>3.000000</td>\n",
       "      <td>28.000000</td>\n",
       "      <td>0.000000</td>\n",
       "      <td>0.000000</td>\n",
       "      <td>14.454200</td>\n",
       "    </tr>\n",
       "    <tr>\n",
       "      <th>75%</th>\n",
       "      <td>668.500000</td>\n",
       "      <td>1.000000</td>\n",
       "      <td>3.000000</td>\n",
       "      <td>38.000000</td>\n",
       "      <td>1.000000</td>\n",
       "      <td>0.000000</td>\n",
       "      <td>31.000000</td>\n",
       "    </tr>\n",
       "    <tr>\n",
       "      <th>max</th>\n",
       "      <td>891.000000</td>\n",
       "      <td>1.000000</td>\n",
       "      <td>3.000000</td>\n",
       "      <td>80.000000</td>\n",
       "      <td>8.000000</td>\n",
       "      <td>6.000000</td>\n",
       "      <td>512.329200</td>\n",
       "    </tr>\n",
       "  </tbody>\n",
       "</table>\n",
       "</div>"
      ],
      "text/plain": [
       "       PassengerId    Survived      Pclass         Age       SibSp  \\\n",
       "count   891.000000  891.000000  891.000000  714.000000  891.000000   \n",
       "mean    446.000000    0.383838    2.308642   29.699118    0.523008   \n",
       "std     257.353842    0.486592    0.836071   14.526497    1.102743   \n",
       "min       1.000000    0.000000    1.000000    0.420000    0.000000   \n",
       "25%     223.500000    0.000000    2.000000   20.125000    0.000000   \n",
       "50%     446.000000    0.000000    3.000000   28.000000    0.000000   \n",
       "75%     668.500000    1.000000    3.000000   38.000000    1.000000   \n",
       "max     891.000000    1.000000    3.000000   80.000000    8.000000   \n",
       "\n",
       "            Parch        Fare  \n",
       "count  891.000000  891.000000  \n",
       "mean     0.381594   32.204208  \n",
       "std      0.806057   49.693429  \n",
       "min      0.000000    0.000000  \n",
       "25%      0.000000    7.910400  \n",
       "50%      0.000000   14.454200  \n",
       "75%      0.000000   31.000000  \n",
       "max      6.000000  512.329200  "
      ]
     },
     "execution_count": 3,
     "metadata": {},
     "output_type": "execute_result"
    }
   ],
   "source": [
    "#Importando dados\n",
    "data_teste = pd.read_csv(\"/kaggle/input/titanic/test.csv\")\n",
    "data_train = pd.read_csv(\"/kaggle/input/titanic/train.csv\")\n",
    "\n",
    "data_train.describe()"
   ]
  },
  {
   "cell_type": "markdown",
   "id": "df51256f",
   "metadata": {
    "papermill": {
     "duration": 0.012079,
     "end_time": "2025-02-24T19:31:20.099730",
     "exception": false,
     "start_time": "2025-02-24T19:31:20.087651",
     "status": "completed"
    },
    "tags": []
   },
   "source": [
    "## *Analise Inicial do Dataset*"
   ]
  },
  {
   "cell_type": "code",
   "execution_count": 4,
   "id": "797bee2b",
   "metadata": {
    "execution": {
     "iopub.execute_input": "2025-02-24T19:31:20.125169Z",
     "iopub.status.busy": "2025-02-24T19:31:20.124646Z",
     "iopub.status.idle": "2025-02-24T19:31:20.141042Z",
     "shell.execute_reply": "2025-02-24T19:31:20.139511Z"
    },
    "papermill": {
     "duration": 0.031419,
     "end_time": "2025-02-24T19:31:20.143547",
     "exception": false,
     "start_time": "2025-02-24T19:31:20.112128",
     "status": "completed"
    },
    "tags": []
   },
   "outputs": [
    {
     "data": {
      "text/html": [
       "<div>\n",
       "<style scoped>\n",
       "    .dataframe tbody tr th:only-of-type {\n",
       "        vertical-align: middle;\n",
       "    }\n",
       "\n",
       "    .dataframe tbody tr th {\n",
       "        vertical-align: top;\n",
       "    }\n",
       "\n",
       "    .dataframe thead th {\n",
       "        text-align: right;\n",
       "    }\n",
       "</style>\n",
       "<table border=\"1\" class=\"dataframe\">\n",
       "  <thead>\n",
       "    <tr style=\"text-align: right;\">\n",
       "      <th></th>\n",
       "      <th>PassengerId</th>\n",
       "      <th>Survived</th>\n",
       "      <th>Pclass</th>\n",
       "      <th>Name</th>\n",
       "      <th>Sex</th>\n",
       "      <th>Age</th>\n",
       "      <th>SibSp</th>\n",
       "      <th>Parch</th>\n",
       "      <th>Ticket</th>\n",
       "      <th>Fare</th>\n",
       "      <th>Cabin</th>\n",
       "      <th>Embarked</th>\n",
       "    </tr>\n",
       "  </thead>\n",
       "  <tbody>\n",
       "    <tr>\n",
       "      <th>0</th>\n",
       "      <td>1</td>\n",
       "      <td>0</td>\n",
       "      <td>3</td>\n",
       "      <td>Braund, Mr. Owen Harris</td>\n",
       "      <td>male</td>\n",
       "      <td>22.0</td>\n",
       "      <td>1</td>\n",
       "      <td>0</td>\n",
       "      <td>A/5 21171</td>\n",
       "      <td>7.2500</td>\n",
       "      <td>NaN</td>\n",
       "      <td>S</td>\n",
       "    </tr>\n",
       "    <tr>\n",
       "      <th>1</th>\n",
       "      <td>2</td>\n",
       "      <td>1</td>\n",
       "      <td>1</td>\n",
       "      <td>Cumings, Mrs. John Bradley (Florence Briggs Th...</td>\n",
       "      <td>female</td>\n",
       "      <td>38.0</td>\n",
       "      <td>1</td>\n",
       "      <td>0</td>\n",
       "      <td>PC 17599</td>\n",
       "      <td>71.2833</td>\n",
       "      <td>C85</td>\n",
       "      <td>C</td>\n",
       "    </tr>\n",
       "    <tr>\n",
       "      <th>2</th>\n",
       "      <td>3</td>\n",
       "      <td>1</td>\n",
       "      <td>3</td>\n",
       "      <td>Heikkinen, Miss. Laina</td>\n",
       "      <td>female</td>\n",
       "      <td>26.0</td>\n",
       "      <td>0</td>\n",
       "      <td>0</td>\n",
       "      <td>STON/O2. 3101282</td>\n",
       "      <td>7.9250</td>\n",
       "      <td>NaN</td>\n",
       "      <td>S</td>\n",
       "    </tr>\n",
       "    <tr>\n",
       "      <th>3</th>\n",
       "      <td>4</td>\n",
       "      <td>1</td>\n",
       "      <td>1</td>\n",
       "      <td>Futrelle, Mrs. Jacques Heath (Lily May Peel)</td>\n",
       "      <td>female</td>\n",
       "      <td>35.0</td>\n",
       "      <td>1</td>\n",
       "      <td>0</td>\n",
       "      <td>113803</td>\n",
       "      <td>53.1000</td>\n",
       "      <td>C123</td>\n",
       "      <td>S</td>\n",
       "    </tr>\n",
       "    <tr>\n",
       "      <th>4</th>\n",
       "      <td>5</td>\n",
       "      <td>0</td>\n",
       "      <td>3</td>\n",
       "      <td>Allen, Mr. William Henry</td>\n",
       "      <td>male</td>\n",
       "      <td>35.0</td>\n",
       "      <td>0</td>\n",
       "      <td>0</td>\n",
       "      <td>373450</td>\n",
       "      <td>8.0500</td>\n",
       "      <td>NaN</td>\n",
       "      <td>S</td>\n",
       "    </tr>\n",
       "  </tbody>\n",
       "</table>\n",
       "</div>"
      ],
      "text/plain": [
       "   PassengerId  Survived  Pclass  \\\n",
       "0            1         0       3   \n",
       "1            2         1       1   \n",
       "2            3         1       3   \n",
       "3            4         1       1   \n",
       "4            5         0       3   \n",
       "\n",
       "                                                Name     Sex   Age  SibSp  \\\n",
       "0                            Braund, Mr. Owen Harris    male  22.0      1   \n",
       "1  Cumings, Mrs. John Bradley (Florence Briggs Th...  female  38.0      1   \n",
       "2                             Heikkinen, Miss. Laina  female  26.0      0   \n",
       "3       Futrelle, Mrs. Jacques Heath (Lily May Peel)  female  35.0      1   \n",
       "4                           Allen, Mr. William Henry    male  35.0      0   \n",
       "\n",
       "   Parch            Ticket     Fare Cabin Embarked  \n",
       "0      0         A/5 21171   7.2500   NaN        S  \n",
       "1      0          PC 17599  71.2833   C85        C  \n",
       "2      0  STON/O2. 3101282   7.9250   NaN        S  \n",
       "3      0            113803  53.1000  C123        S  \n",
       "4      0            373450   8.0500   NaN        S  "
      ]
     },
     "execution_count": 4,
     "metadata": {},
     "output_type": "execute_result"
    }
   ],
   "source": [
    "data_train.head()"
   ]
  },
  {
   "cell_type": "code",
   "execution_count": 5,
   "id": "68b590e7",
   "metadata": {
    "execution": {
     "iopub.execute_input": "2025-02-24T19:31:20.168603Z",
     "iopub.status.busy": "2025-02-24T19:31:20.168190Z",
     "iopub.status.idle": "2025-02-24T19:31:20.183167Z",
     "shell.execute_reply": "2025-02-24T19:31:20.182034Z"
    },
    "papermill": {
     "duration": 0.029862,
     "end_time": "2025-02-24T19:31:20.184895",
     "exception": false,
     "start_time": "2025-02-24T19:31:20.155033",
     "status": "completed"
    },
    "tags": []
   },
   "outputs": [
    {
     "data": {
      "text/html": [
       "<div>\n",
       "<style scoped>\n",
       "    .dataframe tbody tr th:only-of-type {\n",
       "        vertical-align: middle;\n",
       "    }\n",
       "\n",
       "    .dataframe tbody tr th {\n",
       "        vertical-align: top;\n",
       "    }\n",
       "\n",
       "    .dataframe thead th {\n",
       "        text-align: right;\n",
       "    }\n",
       "</style>\n",
       "<table border=\"1\" class=\"dataframe\">\n",
       "  <thead>\n",
       "    <tr style=\"text-align: right;\">\n",
       "      <th></th>\n",
       "      <th>PassengerId</th>\n",
       "      <th>Pclass</th>\n",
       "      <th>Name</th>\n",
       "      <th>Sex</th>\n",
       "      <th>Age</th>\n",
       "      <th>SibSp</th>\n",
       "      <th>Parch</th>\n",
       "      <th>Ticket</th>\n",
       "      <th>Fare</th>\n",
       "      <th>Cabin</th>\n",
       "      <th>Embarked</th>\n",
       "    </tr>\n",
       "  </thead>\n",
       "  <tbody>\n",
       "    <tr>\n",
       "      <th>0</th>\n",
       "      <td>892</td>\n",
       "      <td>3</td>\n",
       "      <td>Kelly, Mr. James</td>\n",
       "      <td>male</td>\n",
       "      <td>34.5</td>\n",
       "      <td>0</td>\n",
       "      <td>0</td>\n",
       "      <td>330911</td>\n",
       "      <td>7.8292</td>\n",
       "      <td>NaN</td>\n",
       "      <td>Q</td>\n",
       "    </tr>\n",
       "    <tr>\n",
       "      <th>1</th>\n",
       "      <td>893</td>\n",
       "      <td>3</td>\n",
       "      <td>Wilkes, Mrs. James (Ellen Needs)</td>\n",
       "      <td>female</td>\n",
       "      <td>47.0</td>\n",
       "      <td>1</td>\n",
       "      <td>0</td>\n",
       "      <td>363272</td>\n",
       "      <td>7.0000</td>\n",
       "      <td>NaN</td>\n",
       "      <td>S</td>\n",
       "    </tr>\n",
       "    <tr>\n",
       "      <th>2</th>\n",
       "      <td>894</td>\n",
       "      <td>2</td>\n",
       "      <td>Myles, Mr. Thomas Francis</td>\n",
       "      <td>male</td>\n",
       "      <td>62.0</td>\n",
       "      <td>0</td>\n",
       "      <td>0</td>\n",
       "      <td>240276</td>\n",
       "      <td>9.6875</td>\n",
       "      <td>NaN</td>\n",
       "      <td>Q</td>\n",
       "    </tr>\n",
       "    <tr>\n",
       "      <th>3</th>\n",
       "      <td>895</td>\n",
       "      <td>3</td>\n",
       "      <td>Wirz, Mr. Albert</td>\n",
       "      <td>male</td>\n",
       "      <td>27.0</td>\n",
       "      <td>0</td>\n",
       "      <td>0</td>\n",
       "      <td>315154</td>\n",
       "      <td>8.6625</td>\n",
       "      <td>NaN</td>\n",
       "      <td>S</td>\n",
       "    </tr>\n",
       "    <tr>\n",
       "      <th>4</th>\n",
       "      <td>896</td>\n",
       "      <td>3</td>\n",
       "      <td>Hirvonen, Mrs. Alexander (Helga E Lindqvist)</td>\n",
       "      <td>female</td>\n",
       "      <td>22.0</td>\n",
       "      <td>1</td>\n",
       "      <td>1</td>\n",
       "      <td>3101298</td>\n",
       "      <td>12.2875</td>\n",
       "      <td>NaN</td>\n",
       "      <td>S</td>\n",
       "    </tr>\n",
       "  </tbody>\n",
       "</table>\n",
       "</div>"
      ],
      "text/plain": [
       "   PassengerId  Pclass                                          Name     Sex  \\\n",
       "0          892       3                              Kelly, Mr. James    male   \n",
       "1          893       3              Wilkes, Mrs. James (Ellen Needs)  female   \n",
       "2          894       2                     Myles, Mr. Thomas Francis    male   \n",
       "3          895       3                              Wirz, Mr. Albert    male   \n",
       "4          896       3  Hirvonen, Mrs. Alexander (Helga E Lindqvist)  female   \n",
       "\n",
       "    Age  SibSp  Parch   Ticket     Fare Cabin Embarked  \n",
       "0  34.5      0      0   330911   7.8292   NaN        Q  \n",
       "1  47.0      1      0   363272   7.0000   NaN        S  \n",
       "2  62.0      0      0   240276   9.6875   NaN        Q  \n",
       "3  27.0      0      0   315154   8.6625   NaN        S  \n",
       "4  22.0      1      1  3101298  12.2875   NaN        S  "
      ]
     },
     "execution_count": 5,
     "metadata": {},
     "output_type": "execute_result"
    }
   ],
   "source": [
    "data_teste.head()"
   ]
  },
  {
   "cell_type": "code",
   "execution_count": 6,
   "id": "72841da5",
   "metadata": {
    "execution": {
     "iopub.execute_input": "2025-02-24T19:31:20.209392Z",
     "iopub.status.busy": "2025-02-24T19:31:20.209029Z",
     "iopub.status.idle": "2025-02-24T19:31:20.244538Z",
     "shell.execute_reply": "2025-02-24T19:31:20.243039Z"
    },
    "papermill": {
     "duration": 0.050181,
     "end_time": "2025-02-24T19:31:20.246498",
     "exception": false,
     "start_time": "2025-02-24T19:31:20.196317",
     "status": "completed"
    },
    "tags": []
   },
   "outputs": [
    {
     "name": "stdout",
     "output_type": "stream",
     "text": [
      "<class 'pandas.core.frame.DataFrame'>\n",
      "RangeIndex: 891 entries, 0 to 890\n",
      "Data columns (total 12 columns):\n",
      " #   Column       Non-Null Count  Dtype  \n",
      "---  ------       --------------  -----  \n",
      " 0   PassengerId  891 non-null    int64  \n",
      " 1   Survived     891 non-null    int64  \n",
      " 2   Pclass       891 non-null    int64  \n",
      " 3   Name         891 non-null    object \n",
      " 4   Sex          891 non-null    object \n",
      " 5   Age          714 non-null    float64\n",
      " 6   SibSp        891 non-null    int64  \n",
      " 7   Parch        891 non-null    int64  \n",
      " 8   Ticket       891 non-null    object \n",
      " 9   Fare         891 non-null    float64\n",
      " 10  Cabin        204 non-null    object \n",
      " 11  Embarked     889 non-null    object \n",
      "dtypes: float64(2), int64(5), object(5)\n",
      "memory usage: 83.7+ KB\n",
      "None\n",
      "\n",
      "<class 'pandas.core.frame.DataFrame'>\n",
      "RangeIndex: 891 entries, 0 to 890\n",
      "Data columns (total 12 columns):\n",
      " #   Column       Non-Null Count  Dtype  \n",
      "---  ------       --------------  -----  \n",
      " 0   PassengerId  891 non-null    int64  \n",
      " 1   Survived     891 non-null    int64  \n",
      " 2   Pclass       891 non-null    int64  \n",
      " 3   Name         891 non-null    object \n",
      " 4   Sex          891 non-null    object \n",
      " 5   Age          714 non-null    float64\n",
      " 6   SibSp        891 non-null    int64  \n",
      " 7   Parch        891 non-null    int64  \n",
      " 8   Ticket       891 non-null    object \n",
      " 9   Fare         891 non-null    float64\n",
      " 10  Cabin        204 non-null    object \n",
      " 11  Embarked     889 non-null    object \n",
      "dtypes: float64(2), int64(5), object(5)\n",
      "memory usage: 83.7+ KB\n",
      "None\n"
     ]
    }
   ],
   "source": [
    "print (data_train.info())\n",
    "print ()\n",
    "print (data_train.info())"
   ]
  },
  {
   "cell_type": "code",
   "execution_count": 7,
   "id": "4c94101d",
   "metadata": {
    "execution": {
     "iopub.execute_input": "2025-02-24T19:31:20.271130Z",
     "iopub.status.busy": "2025-02-24T19:31:20.270640Z",
     "iopub.status.idle": "2025-02-24T19:31:20.279456Z",
     "shell.execute_reply": "2025-02-24T19:31:20.278014Z"
    },
    "papermill": {
     "duration": 0.023312,
     "end_time": "2025-02-24T19:31:20.281587",
     "exception": false,
     "start_time": "2025-02-24T19:31:20.258275",
     "status": "completed"
    },
    "tags": []
   },
   "outputs": [
    {
     "data": {
      "text/plain": [
       "PassengerId      0\n",
       "Survived         0\n",
       "Pclass           0\n",
       "Name             0\n",
       "Sex              0\n",
       "Age            177\n",
       "SibSp            0\n",
       "Parch            0\n",
       "Ticket           0\n",
       "Fare             0\n",
       "Cabin          687\n",
       "Embarked         2\n",
       "dtype: int64"
      ]
     },
     "execution_count": 7,
     "metadata": {},
     "output_type": "execute_result"
    }
   ],
   "source": [
    "data_train.isnull().sum() # Analisando as colunas com valores faltantes"
   ]
  },
  {
   "cell_type": "code",
   "execution_count": 8,
   "id": "0f30e29a",
   "metadata": {
    "execution": {
     "iopub.execute_input": "2025-02-24T19:31:20.306137Z",
     "iopub.status.busy": "2025-02-24T19:31:20.305682Z",
     "iopub.status.idle": "2025-02-24T19:31:20.314342Z",
     "shell.execute_reply": "2025-02-24T19:31:20.312943Z"
    },
    "papermill": {
     "duration": 0.022883,
     "end_time": "2025-02-24T19:31:20.316316",
     "exception": false,
     "start_time": "2025-02-24T19:31:20.293433",
     "status": "completed"
    },
    "tags": []
   },
   "outputs": [
    {
     "data": {
      "text/plain": [
       "PassengerId      0\n",
       "Pclass           0\n",
       "Name             0\n",
       "Sex              0\n",
       "Age             86\n",
       "SibSp            0\n",
       "Parch            0\n",
       "Ticket           0\n",
       "Fare             1\n",
       "Cabin          327\n",
       "Embarked         0\n",
       "dtype: int64"
      ]
     },
     "execution_count": 8,
     "metadata": {},
     "output_type": "execute_result"
    }
   ],
   "source": [
    "data_teste.isnull().sum() # Analisando as colunas com valores faltantes"
   ]
  },
  {
   "cell_type": "code",
   "execution_count": 9,
   "id": "8e945373",
   "metadata": {
    "execution": {
     "iopub.execute_input": "2025-02-24T19:31:20.341860Z",
     "iopub.status.busy": "2025-02-24T19:31:20.341427Z",
     "iopub.status.idle": "2025-02-24T19:31:20.352385Z",
     "shell.execute_reply": "2025-02-24T19:31:20.351190Z"
    },
    "papermill": {
     "duration": 0.026772,
     "end_time": "2025-02-24T19:31:20.354700",
     "exception": false,
     "start_time": "2025-02-24T19:31:20.327928",
     "status": "completed"
    },
    "tags": []
   },
   "outputs": [],
   "source": [
    "train_data = data_train.copy()\n",
    "teste_data = data_teste.copy() # Copia para n alterar o banco de dados original\n",
    "cols_drop = ['Name', 'Cabin', 'Ticket']\n",
    "train = train_data.drop(cols_drop, axis = 1)\n",
    "teste = teste_data.drop(cols_drop, axis = 1)"
   ]
  },
  {
   "cell_type": "markdown",
   "id": "da61ac04",
   "metadata": {
    "papermill": {
     "duration": 0.011582,
     "end_time": "2025-02-24T19:31:20.377837",
     "exception": false,
     "start_time": "2025-02-24T19:31:20.366255",
     "status": "completed"
    },
    "tags": []
   },
   "source": [
    "## *Feature Selection*"
   ]
  },
  {
   "cell_type": "code",
   "execution_count": 10,
   "id": "479ff9ed",
   "metadata": {
    "execution": {
     "iopub.execute_input": "2025-02-24T19:31:20.402265Z",
     "iopub.status.busy": "2025-02-24T19:31:20.401897Z",
     "iopub.status.idle": "2025-02-24T19:31:20.410190Z",
     "shell.execute_reply": "2025-02-24T19:31:20.408917Z"
    },
    "papermill": {
     "duration": 0.022557,
     "end_time": "2025-02-24T19:31:20.411949",
     "exception": false,
     "start_time": "2025-02-24T19:31:20.389392",
     "status": "completed"
    },
    "tags": []
   },
   "outputs": [],
   "source": [
    "def data_cleaning(data):\n",
    "    # Copiando banco de dados\n",
    "    X = data.copy()\n",
    "\n",
    "    # Classificando as features em num e cat\n",
    "    numerical_features = X.select_dtypes(include=['int64', 'float64']).columns\n",
    "    categorical_features = X.select_dtypes(include=['object']).columns\n",
    "\n",
    "    # Tratando dados NaN com imputers\n",
    "    num_imputer = SimpleImputer(strategy='median')\n",
    "    cat_imputer = SimpleImputer(strategy='most_frequent')\n",
    "\n",
    "    # Imputando valores\n",
    "    X[numerical_features] = num_imputer.fit_transform(X[numerical_features])\n",
    "    X[categorical_features] = cat_imputer.fit_transform(X[categorical_features])\n",
    "\n",
    "    return X\n",
    "    \n",
    "def make_mi_scores(X, y, discrete_features):\n",
    "    X = X.copy()\n",
    "    # Label encoding for categoricals\n",
    "    for colname in X.select_dtypes([\"object\", \"category\"]):\n",
    "        X[colname], _ = X[colname].factorize()\n",
    "    mi_scores = mutual_info_regression(X, y, discrete_features=discrete_features, random_state=0)\n",
    "    mi_scores = pd.Series(mi_scores, name=\"MI Scores\", index=X.columns)\n",
    "    mi_scores = mi_scores.sort_values(ascending=False)\n",
    "    return mi_scores\n",
    "\n",
    "def plot_mi_scores(scores):\n",
    "    scores = scores.sort_values(ascending=True)\n",
    "    width = np.arange(len(scores))\n",
    "    ticks = list(scores.index)\n",
    "    plt.barh(width, scores)\n",
    "    plt.yticks(width, ticks)\n",
    "    plt.title(\"Mutual Information Scores\")"
   ]
  },
  {
   "cell_type": "code",
   "execution_count": 11,
   "id": "64bdfdb1",
   "metadata": {
    "execution": {
     "iopub.execute_input": "2025-02-24T19:31:20.436941Z",
     "iopub.status.busy": "2025-02-24T19:31:20.436565Z",
     "iopub.status.idle": "2025-02-24T19:31:20.838290Z",
     "shell.execute_reply": "2025-02-24T19:31:20.836953Z"
    },
    "papermill": {
     "duration": 0.415764,
     "end_time": "2025-02-24T19:31:20.840057",
     "exception": false,
     "start_time": "2025-02-24T19:31:20.424293",
     "status": "completed"
    },
    "tags": []
   },
   "outputs": [
    {
     "data": {
      "image/png": "[encoded data removed]",
      "text/plain": [
       "<Figure size 640x480 with 1 Axes>"
      ]
     },
     "metadata": {},
     "output_type": "display_data"
    }
   ],
   "source": [
    "new_data = data_cleaning(train)\n",
    "\n",
    "X = new_data.drop('Survived', axis=1)\n",
    "y = new_data['Survived']\n",
    "discrete = X.dtypes == int\n",
    "\n",
    "scores = make_mi_scores(X, y, discrete)\n",
    "plot_mi_scores (scores)"
   ]
  },
  {
   "cell_type": "code",
   "execution_count": 12,
   "id": "d5078c04",
   "metadata": {
    "execution": {
     "iopub.execute_input": "2025-02-24T19:31:20.865541Z",
     "iopub.status.busy": "2025-02-24T19:31:20.865127Z",
     "iopub.status.idle": "2025-02-24T19:31:21.603365Z",
     "shell.execute_reply": "2025-02-24T19:31:21.602119Z"
    },
    "papermill": {
     "duration": 0.753446,
     "end_time": "2025-02-24T19:31:21.605675",
     "exception": false,
     "start_time": "2025-02-24T19:31:20.852229",
     "status": "completed"
    },
    "tags": []
   },
   "outputs": [
    {
     "data": {
      "text/plain": [
       "Text(0.5, 1.0, 'Distribuição de Fare por Sobrevivência')"
      ]
     },
     "execution_count": 12,
     "metadata": {},
     "output_type": "execute_result"
    },
    {
     "data": {
      "image/png": "[encoded data removed]",
      "text/plain": [
       "<Figure size 1000x400 with 2 Axes>"
      ]
     },
     "metadata": {},
     "output_type": "display_data"
    }
   ],
   "source": [
    "fig, axes = plt.subplots(1, 2, figsize=(10, 4))\n",
    "sns.histplot(new_data['Fare'], bins =6, kde=True, ax=axes[0], color='blue')\n",
    "axes[0].set_title(\"Distribuição Total de Fare\")\n",
    "sns.histplot(new_data, x=\"Fare\", hue=\"Survived\", bins=30, kde=True, ax=axes[1], palette=[\"red\", \"green\"])\n",
    "axes[1].set_title(\"Distribuição de Fare por Sobrevivência\")"
   ]
  },
  {
   "cell_type": "code",
   "execution_count": 13,
   "id": "b05a9957",
   "metadata": {
    "execution": {
     "iopub.execute_input": "2025-02-24T19:31:21.633521Z",
     "iopub.status.busy": "2025-02-24T19:31:21.633164Z",
     "iopub.status.idle": "2025-02-24T19:31:21.642429Z",
     "shell.execute_reply": "2025-02-24T19:31:21.640955Z"
    },
    "papermill": {
     "duration": 0.025767,
     "end_time": "2025-02-24T19:31:21.644782",
     "exception": false,
     "start_time": "2025-02-24T19:31:21.619015",
     "status": "completed"
    },
    "tags": []
   },
   "outputs": [],
   "source": [
    "dataS = new_data.loc[(new_data['Survived'] == 1)]\n",
    "dataH = new_data.loc[(new_data['Sex'] == 'male')]\n",
    "dataF = new_data.loc[(new_data['Sex'] == 'female')]"
   ]
  },
  {
   "cell_type": "code",
   "execution_count": 14,
   "id": "52e154f8",
   "metadata": {
    "execution": {
     "iopub.execute_input": "2025-02-24T19:31:21.673482Z",
     "iopub.status.busy": "2025-02-24T19:31:21.672972Z",
     "iopub.status.idle": "2025-02-24T19:31:22.314327Z",
     "shell.execute_reply": "2025-02-24T19:31:22.313070Z"
    },
    "papermill": {
     "duration": 0.658393,
     "end_time": "2025-02-24T19:31:22.316697",
     "exception": false,
     "start_time": "2025-02-24T19:31:21.658304",
     "status": "completed"
    },
    "tags": []
   },
   "outputs": [
    {
     "data": {
      "text/plain": [
       "Text(0.5, 1.0, 'Distribuição Total de Idade entre os Sobreviventes')"
      ]
     },
     "execution_count": 14,
     "metadata": {},
     "output_type": "execute_result"
    },
    {
     "data": {
      "image/png": "[encoded data removed]",
      "text/plain": [
       "<Figure size 1000x400 with 2 Axes>"
      ]
     },
     "metadata": {},
     "output_type": "display_data"
    }
   ],
   "source": [
    "fig, axes = plt.subplots(1, 2, figsize=(10, 4))\n",
    "sns.histplot(new_data, x=\"Age\", hue=\"Sex\", bins=6, kde=True, ax=axes[0], palette=[\"blue\", \"red\"])\n",
    "axes[0].set_title(\"Distribuição Total de Idade\")\n",
    "\n",
    "sns.histplot(dataS, x=\"Age\", hue=\"Sex\", bins=6, kde=True, ax=axes[1], palette=[\"red\", \"blue\"])\n",
    "axes[1].set_title(\"Distribuição Total de Idade entre os Sobreviventes\")"
   ]
  },
  {
   "cell_type": "code",
   "execution_count": 15,
   "id": "37c0561a",
   "metadata": {
    "execution": {
     "iopub.execute_input": "2025-02-24T19:31:22.348890Z",
     "iopub.status.busy": "2025-02-24T19:31:22.348485Z",
     "iopub.status.idle": "2025-02-24T19:31:22.950893Z",
     "shell.execute_reply": "2025-02-24T19:31:22.949388Z"
    },
    "papermill": {
     "duration": 0.621176,
     "end_time": "2025-02-24T19:31:22.953235",
     "exception": false,
     "start_time": "2025-02-24T19:31:22.332059",
     "status": "completed"
    },
    "tags": []
   },
   "outputs": [
    {
     "data": {
      "text/plain": [
       "Text(0.5, 1.0, 'Distribuição Total de Idade entre as Mulheres')"
      ]
     },
     "execution_count": 15,
     "metadata": {},
     "output_type": "execute_result"
    },
    {
     "data": {
      "image/png": "[encoded data removed]",
      "text/plain": [
       "<Figure size 1000x400 with 2 Axes>"
      ]
     },
     "metadata": {},
     "output_type": "display_data"
    }
   ],
   "source": [
    "fig, axes = plt.subplots(1, 2, figsize=(10, 4))\n",
    "sns.histplot(dataH, x=\"Age\", hue=\"Survived\", bins=6, kde=True, ax=axes[0], palette=[\"red\", \"green\"])\n",
    "axes[0].set_title(\"Distribuição Total de Idade entre os homens\")\n",
    "\n",
    "sns.histplot(dataF, x=\"Age\", hue=\"Survived\", bins=6, kde=True, ax=axes[1], palette=[\"red\", \"green\"])\n",
    "axes[1].set_title(\"Distribuição Total de Idade entre as Mulheres\")"
   ]
  },
  {
   "cell_type": "markdown",
   "id": "ef9ef3e8",
   "metadata": {
    "papermill": {
     "duration": 0.015916,
     "end_time": "2025-02-24T19:31:22.985472",
     "exception": false,
     "start_time": "2025-02-24T19:31:22.969556",
     "status": "completed"
    },
    "tags": []
   },
   "source": [
    "## *Feature Construction*"
   ]
  },
  {
   "cell_type": "code",
   "execution_count": 16,
   "id": "28f3c100",
   "metadata": {
    "execution": {
     "iopub.execute_input": "2025-02-24T19:31:23.019594Z",
     "iopub.status.busy": "2025-02-24T19:31:23.019205Z",
     "iopub.status.idle": "2025-02-24T19:31:23.028862Z",
     "shell.execute_reply": "2025-02-24T19:31:23.027267Z"
    },
    "papermill": {
     "duration": 0.029039,
     "end_time": "2025-02-24T19:31:23.030999",
     "exception": false,
     "start_time": "2025-02-24T19:31:23.001960",
     "status": "completed"
    },
    "tags": []
   },
   "outputs": [],
   "source": [
    "# Aqui vamos trabalhar para construir algumas novas features, como por exemplo deixar a coluna 'Name' utilizavel\n",
    "# Usamos Split para separar a coluna name em 3 partes e depois em mais 2, assim separamos os Titles para utilizar e excluimos o resto.\n",
    "train_construction = train_data.copy()\n",
    "train_construction['Title'] = train_construction['Name'].apply(lambda x: x.split(',')[1].split('.')[0].strip())\n",
    "\n",
    "teste_construction = teste_data.copy()\n",
    "teste_construction['Title'] = teste_construction['Name'].apply(lambda x: x.split(',')[1].split('.')[0].strip())"
   ]
  },
  {
   "cell_type": "code",
   "execution_count": 17,
   "id": "f6e2e252",
   "metadata": {
    "execution": {
     "iopub.execute_input": "2025-02-24T19:31:23.064496Z",
     "iopub.status.busy": "2025-02-24T19:31:23.064079Z",
     "iopub.status.idle": "2025-02-24T19:31:23.081647Z",
     "shell.execute_reply": "2025-02-24T19:31:23.080292Z"
    },
    "papermill": {
     "duration": 0.036438,
     "end_time": "2025-02-24T19:31:23.083522",
     "exception": false,
     "start_time": "2025-02-24T19:31:23.047084",
     "status": "completed"
    },
    "tags": []
   },
   "outputs": [
    {
     "data": {
      "text/html": [
       "<div>\n",
       "<style scoped>\n",
       "    .dataframe tbody tr th:only-of-type {\n",
       "        vertical-align: middle;\n",
       "    }\n",
       "\n",
       "    .dataframe tbody tr th {\n",
       "        vertical-align: top;\n",
       "    }\n",
       "\n",
       "    .dataframe thead th {\n",
       "        text-align: right;\n",
       "    }\n",
       "</style>\n",
       "<table border=\"1\" class=\"dataframe\">\n",
       "  <thead>\n",
       "    <tr style=\"text-align: right;\">\n",
       "      <th></th>\n",
       "      <th>PassengerId</th>\n",
       "      <th>Survived</th>\n",
       "      <th>Pclass</th>\n",
       "      <th>Name</th>\n",
       "      <th>Sex</th>\n",
       "      <th>Age</th>\n",
       "      <th>SibSp</th>\n",
       "      <th>Parch</th>\n",
       "      <th>Ticket</th>\n",
       "      <th>Fare</th>\n",
       "      <th>Cabin</th>\n",
       "      <th>Embarked</th>\n",
       "      <th>Title</th>\n",
       "    </tr>\n",
       "  </thead>\n",
       "  <tbody>\n",
       "    <tr>\n",
       "      <th>0</th>\n",
       "      <td>1</td>\n",
       "      <td>0</td>\n",
       "      <td>3</td>\n",
       "      <td>Braund, Mr. Owen Harris</td>\n",
       "      <td>male</td>\n",
       "      <td>22.0</td>\n",
       "      <td>1</td>\n",
       "      <td>0</td>\n",
       "      <td>A/5 21171</td>\n",
       "      <td>7.2500</td>\n",
       "      <td>NaN</td>\n",
       "      <td>S</td>\n",
       "      <td>Mr</td>\n",
       "    </tr>\n",
       "    <tr>\n",
       "      <th>1</th>\n",
       "      <td>2</td>\n",
       "      <td>1</td>\n",
       "      <td>1</td>\n",
       "      <td>Cumings, Mrs. John Bradley (Florence Briggs Th...</td>\n",
       "      <td>female</td>\n",
       "      <td>38.0</td>\n",
       "      <td>1</td>\n",
       "      <td>0</td>\n",
       "      <td>PC 17599</td>\n",
       "      <td>71.2833</td>\n",
       "      <td>C85</td>\n",
       "      <td>C</td>\n",
       "      <td>Mrs</td>\n",
       "    </tr>\n",
       "    <tr>\n",
       "      <th>2</th>\n",
       "      <td>3</td>\n",
       "      <td>1</td>\n",
       "      <td>3</td>\n",
       "      <td>Heikkinen, Miss. Laina</td>\n",
       "      <td>female</td>\n",
       "      <td>26.0</td>\n",
       "      <td>0</td>\n",
       "      <td>0</td>\n",
       "      <td>STON/O2. 3101282</td>\n",
       "      <td>7.9250</td>\n",
       "      <td>NaN</td>\n",
       "      <td>S</td>\n",
       "      <td>Miss</td>\n",
       "    </tr>\n",
       "    <tr>\n",
       "      <th>3</th>\n",
       "      <td>4</td>\n",
       "      <td>1</td>\n",
       "      <td>1</td>\n",
       "      <td>Futrelle, Mrs. Jacques Heath (Lily May Peel)</td>\n",
       "      <td>female</td>\n",
       "      <td>35.0</td>\n",
       "      <td>1</td>\n",
       "      <td>0</td>\n",
       "      <td>113803</td>\n",
       "      <td>53.1000</td>\n",
       "      <td>C123</td>\n",
       "      <td>S</td>\n",
       "      <td>Mrs</td>\n",
       "    </tr>\n",
       "    <tr>\n",
       "      <th>4</th>\n",
       "      <td>5</td>\n",
       "      <td>0</td>\n",
       "      <td>3</td>\n",
       "      <td>Allen, Mr. William Henry</td>\n",
       "      <td>male</td>\n",
       "      <td>35.0</td>\n",
       "      <td>0</td>\n",
       "      <td>0</td>\n",
       "      <td>373450</td>\n",
       "      <td>8.0500</td>\n",
       "      <td>NaN</td>\n",
       "      <td>S</td>\n",
       "      <td>Mr</td>\n",
       "    </tr>\n",
       "  </tbody>\n",
       "</table>\n",
       "</div>"
      ],
      "text/plain": [
       "   PassengerId  Survived  Pclass  \\\n",
       "0            1         0       3   \n",
       "1            2         1       1   \n",
       "2            3         1       3   \n",
       "3            4         1       1   \n",
       "4            5         0       3   \n",
       "\n",
       "                                                Name     Sex   Age  SibSp  \\\n",
       "0                            Braund, Mr. Owen Harris    male  22.0      1   \n",
       "1  Cumings, Mrs. John Bradley (Florence Briggs Th...  female  38.0      1   \n",
       "2                             Heikkinen, Miss. Laina  female  26.0      0   \n",
       "3       Futrelle, Mrs. Jacques Heath (Lily May Peel)  female  35.0      1   \n",
       "4                           Allen, Mr. William Henry    male  35.0      0   \n",
       "\n",
       "   Parch            Ticket     Fare Cabin Embarked Title  \n",
       "0      0         A/5 21171   7.2500   NaN        S    Mr  \n",
       "1      0          PC 17599  71.2833   C85        C   Mrs  \n",
       "2      0  STON/O2. 3101282   7.9250   NaN        S  Miss  \n",
       "3      0            113803  53.1000  C123        S   Mrs  \n",
       "4      0            373450   8.0500   NaN        S    Mr  "
      ]
     },
     "execution_count": 17,
     "metadata": {},
     "output_type": "execute_result"
    }
   ],
   "source": [
    "train_construction.head()\n"
   ]
  },
  {
   "cell_type": "code",
   "execution_count": 18,
   "id": "5edf3aa5",
   "metadata": {
    "execution": {
     "iopub.execute_input": "2025-02-24T19:31:23.116492Z",
     "iopub.status.busy": "2025-02-24T19:31:23.116114Z",
     "iopub.status.idle": "2025-02-24T19:31:23.132235Z",
     "shell.execute_reply": "2025-02-24T19:31:23.130845Z"
    },
    "papermill": {
     "duration": 0.035154,
     "end_time": "2025-02-24T19:31:23.134473",
     "exception": false,
     "start_time": "2025-02-24T19:31:23.099319",
     "status": "completed"
    },
    "tags": []
   },
   "outputs": [
    {
     "data": {
      "text/html": [
       "<div>\n",
       "<style scoped>\n",
       "    .dataframe tbody tr th:only-of-type {\n",
       "        vertical-align: middle;\n",
       "    }\n",
       "\n",
       "    .dataframe tbody tr th {\n",
       "        vertical-align: top;\n",
       "    }\n",
       "\n",
       "    .dataframe thead th {\n",
       "        text-align: right;\n",
       "    }\n",
       "</style>\n",
       "<table border=\"1\" class=\"dataframe\">\n",
       "  <thead>\n",
       "    <tr style=\"text-align: right;\">\n",
       "      <th></th>\n",
       "      <th>PassengerId</th>\n",
       "      <th>Pclass</th>\n",
       "      <th>Name</th>\n",
       "      <th>Sex</th>\n",
       "      <th>Age</th>\n",
       "      <th>SibSp</th>\n",
       "      <th>Parch</th>\n",
       "      <th>Ticket</th>\n",
       "      <th>Fare</th>\n",
       "      <th>Cabin</th>\n",
       "      <th>Embarked</th>\n",
       "      <th>Title</th>\n",
       "    </tr>\n",
       "  </thead>\n",
       "  <tbody>\n",
       "    <tr>\n",
       "      <th>0</th>\n",
       "      <td>892</td>\n",
       "      <td>3</td>\n",
       "      <td>Kelly, Mr. James</td>\n",
       "      <td>male</td>\n",
       "      <td>34.5</td>\n",
       "      <td>0</td>\n",
       "      <td>0</td>\n",
       "      <td>330911</td>\n",
       "      <td>7.8292</td>\n",
       "      <td>NaN</td>\n",
       "      <td>Q</td>\n",
       "      <td>Mr</td>\n",
       "    </tr>\n",
       "    <tr>\n",
       "      <th>1</th>\n",
       "      <td>893</td>\n",
       "      <td>3</td>\n",
       "      <td>Wilkes, Mrs. James (Ellen Needs)</td>\n",
       "      <td>female</td>\n",
       "      <td>47.0</td>\n",
       "      <td>1</td>\n",
       "      <td>0</td>\n",
       "      <td>363272</td>\n",
       "      <td>7.0000</td>\n",
       "      <td>NaN</td>\n",
       "      <td>S</td>\n",
       "      <td>Mrs</td>\n",
       "    </tr>\n",
       "    <tr>\n",
       "      <th>2</th>\n",
       "      <td>894</td>\n",
       "      <td>2</td>\n",
       "      <td>Myles, Mr. Thomas Francis</td>\n",
       "      <td>male</td>\n",
       "      <td>62.0</td>\n",
       "      <td>0</td>\n",
       "      <td>0</td>\n",
       "      <td>240276</td>\n",
       "      <td>9.6875</td>\n",
       "      <td>NaN</td>\n",
       "      <td>Q</td>\n",
       "      <td>Mr</td>\n",
       "    </tr>\n",
       "    <tr>\n",
       "      <th>3</th>\n",
       "      <td>895</td>\n",
       "      <td>3</td>\n",
       "      <td>Wirz, Mr. Albert</td>\n",
       "      <td>male</td>\n",
       "      <td>27.0</td>\n",
       "      <td>0</td>\n",
       "      <td>0</td>\n",
       "      <td>315154</td>\n",
       "      <td>8.6625</td>\n",
       "      <td>NaN</td>\n",
       "      <td>S</td>\n",
       "      <td>Mr</td>\n",
       "    </tr>\n",
       "    <tr>\n",
       "      <th>4</th>\n",
       "      <td>896</td>\n",
       "      <td>3</td>\n",
       "      <td>Hirvonen, Mrs. Alexander (Helga E Lindqvist)</td>\n",
       "      <td>female</td>\n",
       "      <td>22.0</td>\n",
       "      <td>1</td>\n",
       "      <td>1</td>\n",
       "      <td>3101298</td>\n",
       "      <td>12.2875</td>\n",
       "      <td>NaN</td>\n",
       "      <td>S</td>\n",
       "      <td>Mrs</td>\n",
       "    </tr>\n",
       "  </tbody>\n",
       "</table>\n",
       "</div>"
      ],
      "text/plain": [
       "   PassengerId  Pclass                                          Name     Sex  \\\n",
       "0          892       3                              Kelly, Mr. James    male   \n",
       "1          893       3              Wilkes, Mrs. James (Ellen Needs)  female   \n",
       "2          894       2                     Myles, Mr. Thomas Francis    male   \n",
       "3          895       3                              Wirz, Mr. Albert    male   \n",
       "4          896       3  Hirvonen, Mrs. Alexander (Helga E Lindqvist)  female   \n",
       "\n",
       "    Age  SibSp  Parch   Ticket     Fare Cabin Embarked Title  \n",
       "0  34.5      0      0   330911   7.8292   NaN        Q    Mr  \n",
       "1  47.0      1      0   363272   7.0000   NaN        S   Mrs  \n",
       "2  62.0      0      0   240276   9.6875   NaN        Q    Mr  \n",
       "3  27.0      0      0   315154   8.6625   NaN        S    Mr  \n",
       "4  22.0      1      1  3101298  12.2875   NaN        S   Mrs  "
      ]
     },
     "execution_count": 18,
     "metadata": {},
     "output_type": "execute_result"
    }
   ],
   "source": [
    "teste_construction.head()"
   ]
  },
  {
   "cell_type": "code",
   "execution_count": 19,
   "id": "cd86e234",
   "metadata": {
    "execution": {
     "iopub.execute_input": "2025-02-24T19:31:23.170653Z",
     "iopub.status.busy": "2025-02-24T19:31:23.170308Z",
     "iopub.status.idle": "2025-02-24T19:31:23.178254Z",
     "shell.execute_reply": "2025-02-24T19:31:23.176963Z"
    },
    "papermill": {
     "duration": 0.02841,
     "end_time": "2025-02-24T19:31:23.180404",
     "exception": false,
     "start_time": "2025-02-24T19:31:23.151994",
     "status": "completed"
    },
    "tags": []
   },
   "outputs": [],
   "source": [
    "# Criando Feature Family que soma as colunas SibSp e Parch, e coluna IsAlone que é booleana indicando se o passageiro esta acompanhado\n",
    "train_construction['Family'] = train_construction['SibSp'] + train_construction['Parch']\n",
    "train_construction['IsAlone'] = train_construction['Family'] == 0\n",
    "\n",
    "teste_construction['Family'] = teste_construction['SibSp'] + teste_construction['Parch']\n",
    "teste_construction['IsAlone'] = teste_construction['Family'] == 0"
   ]
  },
  {
   "cell_type": "code",
   "execution_count": 20,
   "id": "95f632e4",
   "metadata": {
    "execution": {
     "iopub.execute_input": "2025-02-24T19:31:23.214015Z",
     "iopub.status.busy": "2025-02-24T19:31:23.213622Z",
     "iopub.status.idle": "2025-02-24T19:31:23.220572Z",
     "shell.execute_reply": "2025-02-24T19:31:23.219372Z"
    },
    "papermill": {
     "duration": 0.025893,
     "end_time": "2025-02-24T19:31:23.222413",
     "exception": false,
     "start_time": "2025-02-24T19:31:23.196520",
     "status": "completed"
    },
    "tags": []
   },
   "outputs": [],
   "source": [
    "cols_drop = ['Name', 'Cabin', 'Ticket']\n",
    "train_construction = train_construction.drop(cols_drop, axis = 1)\n",
    "teste_construction = teste_construction.drop(cols_drop, axis = 1)"
   ]
  },
  {
   "cell_type": "code",
   "execution_count": 21,
   "id": "e67aacd0",
   "metadata": {
    "execution": {
     "iopub.execute_input": "2025-02-24T19:31:23.260965Z",
     "iopub.status.busy": "2025-02-24T19:31:23.260562Z",
     "iopub.status.idle": "2025-02-24T19:31:23.267765Z",
     "shell.execute_reply": "2025-02-24T19:31:23.266458Z"
    },
    "papermill": {
     "duration": 0.028623,
     "end_time": "2025-02-24T19:31:23.269831",
     "exception": false,
     "start_time": "2025-02-24T19:31:23.241208",
     "status": "completed"
    },
    "tags": []
   },
   "outputs": [],
   "source": [
    "new_feature = ['Family', 'Title', 'IsAlone']\n",
    "# Passando as novas features para o df\n",
    "new_data[new_feature] = train_construction[new_feature]"
   ]
  },
  {
   "cell_type": "code",
   "execution_count": 22,
   "id": "a77e7294",
   "metadata": {
    "execution": {
     "iopub.execute_input": "2025-02-24T19:31:23.305879Z",
     "iopub.status.busy": "2025-02-24T19:31:23.305507Z",
     "iopub.status.idle": "2025-02-24T19:31:23.320525Z",
     "shell.execute_reply": "2025-02-24T19:31:23.319498Z"
    },
    "papermill": {
     "duration": 0.034545,
     "end_time": "2025-02-24T19:31:23.322496",
     "exception": false,
     "start_time": "2025-02-24T19:31:23.287951",
     "status": "completed"
    },
    "tags": []
   },
   "outputs": [],
   "source": [
    "new_teste = data_cleaning(teste_construction)"
   ]
  },
  {
   "cell_type": "markdown",
   "id": "f2f9ad2c",
   "metadata": {
    "papermill": {
     "duration": 0.015463,
     "end_time": "2025-02-24T19:31:23.353920",
     "exception": false,
     "start_time": "2025-02-24T19:31:23.338457",
     "status": "completed"
    },
    "tags": []
   },
   "source": [
    "## *Feature Extraction*"
   ]
  },
  {
   "cell_type": "code",
   "execution_count": 23,
   "id": "dd81a99a",
   "metadata": {
    "execution": {
     "iopub.execute_input": "2025-02-24T19:31:23.387963Z",
     "iopub.status.busy": "2025-02-24T19:31:23.387577Z",
     "iopub.status.idle": "2025-02-24T19:31:23.617306Z",
     "shell.execute_reply": "2025-02-24T19:31:23.615928Z"
    },
    "papermill": {
     "duration": 0.249923,
     "end_time": "2025-02-24T19:31:23.619685",
     "exception": false,
     "start_time": "2025-02-24T19:31:23.369762",
     "status": "completed"
    },
    "tags": []
   },
   "outputs": [
    {
     "data": {
      "text/plain": [
       "<Axes: xlabel='Age', ylabel='Fare'>"
      ]
     },
     "execution_count": 23,
     "metadata": {},
     "output_type": "execute_result"
    },
    {
     "data": {
      "image/png": "[encoded data removed]",
      "text/plain": [
       "<Figure size 640x480 with 1 Axes>"
      ]
     },
     "metadata": {},
     "output_type": "display_data"
    }
   ],
   "source": [
    "# Vamos analisar graficamente nossas colunas 'Age' e 'Fare'\n",
    "sns.scatterplot(data=new_data, x='Age', y='Fare')"
   ]
  },
  {
   "cell_type": "code",
   "execution_count": 24,
   "id": "097b5afe",
   "metadata": {
    "execution": {
     "iopub.execute_input": "2025-02-24T19:31:23.657891Z",
     "iopub.status.busy": "2025-02-24T19:31:23.657514Z",
     "iopub.status.idle": "2025-02-24T19:31:23.666562Z",
     "shell.execute_reply": "2025-02-24T19:31:23.665329Z"
    },
    "papermill": {
     "duration": 0.030874,
     "end_time": "2025-02-24T19:31:23.668782",
     "exception": false,
     "start_time": "2025-02-24T19:31:23.637908",
     "status": "completed"
    },
    "tags": []
   },
   "outputs": [],
   "source": [
    "features=['Age', 'Fare']\n",
    "cluster_data = new_data.loc[:, features]\n",
    "cluster_filtered = cluster_data[cluster_data[\"Fare\"] < 500]\n",
    "\n",
    "cluster_teste_data = new_teste.loc[:, features]\n",
    "cluster_teste_filtered = cluster_teste_data[cluster_teste_data[\"Fare\"] < 500]"
   ]
  },
  {
   "cell_type": "code",
   "execution_count": 25,
   "id": "1f06cbcf",
   "metadata": {
    "execution": {
     "iopub.execute_input": "2025-02-24T19:31:23.706298Z",
     "iopub.status.busy": "2025-02-24T19:31:23.705887Z",
     "iopub.status.idle": "2025-02-24T19:31:23.858720Z",
     "shell.execute_reply": "2025-02-24T19:31:23.857825Z"
    },
    "papermill": {
     "duration": 0.174244,
     "end_time": "2025-02-24T19:31:23.861170",
     "exception": false,
     "start_time": "2025-02-24T19:31:23.686926",
     "status": "completed"
    },
    "tags": []
   },
   "outputs": [],
   "source": [
    "kmeans = KMeans(n_clusters=6, random_state=0)\n",
    "cluster_filtered[\"Cluster\"] = kmeans.fit_predict(cluster_filtered)\n",
    "\n",
    "cluster_teste_filtered[\"Cluster\"] = kmeans.fit_predict(cluster_teste_filtered)"
   ]
  },
  {
   "cell_type": "code",
   "execution_count": 26,
   "id": "be38058b",
   "metadata": {
    "execution": {
     "iopub.execute_input": "2025-02-24T19:31:23.900435Z",
     "iopub.status.busy": "2025-02-24T19:31:23.900008Z",
     "iopub.status.idle": "2025-02-24T19:31:23.909047Z",
     "shell.execute_reply": "2025-02-24T19:31:23.907739Z"
    },
    "papermill": {
     "duration": 0.028854,
     "end_time": "2025-02-24T19:31:23.910899",
     "exception": false,
     "start_time": "2025-02-24T19:31:23.882045",
     "status": "completed"
    },
    "tags": []
   },
   "outputs": [],
   "source": [
    "# Juntando os dados criados ao dataframe de treino\n",
    "new_data['Cluster'] = cluster_filtered['Cluster']\n",
    "new_teste['Cluster'] = cluster_teste_filtered['Cluster']"
   ]
  },
  {
   "cell_type": "code",
   "execution_count": 27,
   "id": "b7008bda",
   "metadata": {
    "execution": {
     "iopub.execute_input": "2025-02-24T19:31:23.947496Z",
     "iopub.status.busy": "2025-02-24T19:31:23.947114Z",
     "iopub.status.idle": "2025-02-24T19:31:24.691562Z",
     "shell.execute_reply": "2025-02-24T19:31:24.690128Z"
    },
    "papermill": {
     "duration": 0.766238,
     "end_time": "2025-02-24T19:31:24.694483",
     "exception": false,
     "start_time": "2025-02-24T19:31:23.928245",
     "status": "completed"
    },
    "tags": []
   },
   "outputs": [
    {
     "data": {
      "text/plain": [
       "Text(0.5, 1.0, 'Chance de sobrevivencia por Cluster')"
      ]
     },
     "execution_count": 27,
     "metadata": {},
     "output_type": "execute_result"
    },
    {
     "data": {
      "image/png": "[encoded data removed]",
      "text/plain": [
       "<Figure size 1000x400 with 2 Axes>"
      ]
     },
     "metadata": {},
     "output_type": "display_data"
    }
   ],
   "source": [
    "# Gerando um grafico 'Age x Fare' utilizando o Cluster como camada\n",
    "fig, axes = plt.subplots(1, 2, figsize=(10, 4))\n",
    "sns.scatterplot(data=new_data, x='Age', y='Fare', hue='Cluster', ax=axes[0])\n",
    "axes[0].set_title(\"Age x Fare\")\n",
    "\n",
    "survival_rates = new_data.groupby(\"Cluster\")[\"Survived\"].mean()\n",
    "sns.barplot(x=survival_rates.index, y=survival_rates.values, ax=axes[1], palette=\"viridis\")\n",
    "axes[1].set_title(\"Chance de sobrevivencia por Cluster\")"
   ]
  },
  {
   "cell_type": "code",
   "execution_count": 28,
   "id": "c4b7929b",
   "metadata": {
    "execution": {
     "iopub.execute_input": "2025-02-24T19:31:24.738135Z",
     "iopub.status.busy": "2025-02-24T19:31:24.737660Z",
     "iopub.status.idle": "2025-02-24T19:31:24.755962Z",
     "shell.execute_reply": "2025-02-24T19:31:24.754457Z"
    },
    "papermill": {
     "duration": 0.041658,
     "end_time": "2025-02-24T19:31:24.758082",
     "exception": false,
     "start_time": "2025-02-24T19:31:24.716424",
     "status": "completed"
    },
    "tags": []
   },
   "outputs": [
    {
     "data": {
      "text/html": [
       "<div>\n",
       "<style scoped>\n",
       "    .dataframe tbody tr th:only-of-type {\n",
       "        vertical-align: middle;\n",
       "    }\n",
       "\n",
       "    .dataframe tbody tr th {\n",
       "        vertical-align: top;\n",
       "    }\n",
       "\n",
       "    .dataframe thead th {\n",
       "        text-align: right;\n",
       "    }\n",
       "</style>\n",
       "<table border=\"1\" class=\"dataframe\">\n",
       "  <thead>\n",
       "    <tr style=\"text-align: right;\">\n",
       "      <th></th>\n",
       "      <th>PassengerId</th>\n",
       "      <th>Survived</th>\n",
       "      <th>Pclass</th>\n",
       "      <th>Sex</th>\n",
       "      <th>Age</th>\n",
       "      <th>SibSp</th>\n",
       "      <th>Parch</th>\n",
       "      <th>Fare</th>\n",
       "      <th>Embarked</th>\n",
       "      <th>Family</th>\n",
       "      <th>Title</th>\n",
       "      <th>IsAlone</th>\n",
       "      <th>Cluster</th>\n",
       "    </tr>\n",
       "  </thead>\n",
       "  <tbody>\n",
       "    <tr>\n",
       "      <th>258</th>\n",
       "      <td>259.0</td>\n",
       "      <td>1.0</td>\n",
       "      <td>1.0</td>\n",
       "      <td>female</td>\n",
       "      <td>35.0</td>\n",
       "      <td>0.0</td>\n",
       "      <td>0.0</td>\n",
       "      <td>512.3292</td>\n",
       "      <td>C</td>\n",
       "      <td>0</td>\n",
       "      <td>Miss</td>\n",
       "      <td>True</td>\n",
       "      <td>NaN</td>\n",
       "    </tr>\n",
       "    <tr>\n",
       "      <th>679</th>\n",
       "      <td>680.0</td>\n",
       "      <td>1.0</td>\n",
       "      <td>1.0</td>\n",
       "      <td>male</td>\n",
       "      <td>36.0</td>\n",
       "      <td>0.0</td>\n",
       "      <td>1.0</td>\n",
       "      <td>512.3292</td>\n",
       "      <td>C</td>\n",
       "      <td>1</td>\n",
       "      <td>Mr</td>\n",
       "      <td>False</td>\n",
       "      <td>NaN</td>\n",
       "    </tr>\n",
       "    <tr>\n",
       "      <th>737</th>\n",
       "      <td>738.0</td>\n",
       "      <td>1.0</td>\n",
       "      <td>1.0</td>\n",
       "      <td>male</td>\n",
       "      <td>35.0</td>\n",
       "      <td>0.0</td>\n",
       "      <td>0.0</td>\n",
       "      <td>512.3292</td>\n",
       "      <td>C</td>\n",
       "      <td>0</td>\n",
       "      <td>Mr</td>\n",
       "      <td>True</td>\n",
       "      <td>NaN</td>\n",
       "    </tr>\n",
       "  </tbody>\n",
       "</table>\n",
       "</div>"
      ],
      "text/plain": [
       "     PassengerId  Survived  Pclass     Sex   Age  SibSp  Parch      Fare  \\\n",
       "258        259.0       1.0     1.0  female  35.0    0.0    0.0  512.3292   \n",
       "679        680.0       1.0     1.0    male  36.0    0.0    1.0  512.3292   \n",
       "737        738.0       1.0     1.0    male  35.0    0.0    0.0  512.3292   \n",
       "\n",
       "    Embarked  Family Title  IsAlone  Cluster  \n",
       "258        C       0  Miss     True      NaN  \n",
       "679        C       1    Mr    False      NaN  \n",
       "737        C       0    Mr     True      NaN  "
      ]
     },
     "execution_count": 28,
     "metadata": {},
     "output_type": "execute_result"
    }
   ],
   "source": [
    "linhas_nulas = new_data.loc[new_data['Cluster'].isna()]\n",
    "# Mostrando as linhas nulas para analise\n",
    "linhas_nulas"
   ]
  },
  {
   "cell_type": "code",
   "execution_count": 29,
   "id": "b769a501",
   "metadata": {
    "execution": {
     "iopub.execute_input": "2025-02-24T19:31:24.797347Z",
     "iopub.status.busy": "2025-02-24T19:31:24.796924Z",
     "iopub.status.idle": "2025-02-24T19:31:24.814729Z",
     "shell.execute_reply": "2025-02-24T19:31:24.812850Z"
    },
    "papermill": {
     "duration": 0.040241,
     "end_time": "2025-02-24T19:31:24.817447",
     "exception": false,
     "start_time": "2025-02-24T19:31:24.777206",
     "status": "completed"
    },
    "tags": []
   },
   "outputs": [
    {
     "data": {
      "text/html": [
       "<div>\n",
       "<style scoped>\n",
       "    .dataframe tbody tr th:only-of-type {\n",
       "        vertical-align: middle;\n",
       "    }\n",
       "\n",
       "    .dataframe tbody tr th {\n",
       "        vertical-align: top;\n",
       "    }\n",
       "\n",
       "    .dataframe thead th {\n",
       "        text-align: right;\n",
       "    }\n",
       "</style>\n",
       "<table border=\"1\" class=\"dataframe\">\n",
       "  <thead>\n",
       "    <tr style=\"text-align: right;\">\n",
       "      <th></th>\n",
       "      <th>PassengerId</th>\n",
       "      <th>Pclass</th>\n",
       "      <th>Sex</th>\n",
       "      <th>Age</th>\n",
       "      <th>SibSp</th>\n",
       "      <th>Parch</th>\n",
       "      <th>Fare</th>\n",
       "      <th>Embarked</th>\n",
       "      <th>Title</th>\n",
       "      <th>Family</th>\n",
       "      <th>IsAlone</th>\n",
       "      <th>Cluster</th>\n",
       "    </tr>\n",
       "  </thead>\n",
       "  <tbody>\n",
       "    <tr>\n",
       "      <th>343</th>\n",
       "      <td>1235.0</td>\n",
       "      <td>1.0</td>\n",
       "      <td>female</td>\n",
       "      <td>58.0</td>\n",
       "      <td>0.0</td>\n",
       "      <td>1.0</td>\n",
       "      <td>512.3292</td>\n",
       "      <td>C</td>\n",
       "      <td>Mrs</td>\n",
       "      <td>1.0</td>\n",
       "      <td>False</td>\n",
       "      <td>NaN</td>\n",
       "    </tr>\n",
       "  </tbody>\n",
       "</table>\n",
       "</div>"
      ],
      "text/plain": [
       "     PassengerId  Pclass     Sex   Age  SibSp  Parch      Fare Embarked Title  \\\n",
       "343       1235.0     1.0  female  58.0    0.0    1.0  512.3292        C   Mrs   \n",
       "\n",
       "     Family  IsAlone  Cluster  \n",
       "343     1.0    False      NaN  "
      ]
     },
     "execution_count": 29,
     "metadata": {},
     "output_type": "execute_result"
    }
   ],
   "source": [
    "linhas_nulas = new_teste.loc[new_teste['Cluster'].isna()]\n",
    "# Mostrando as linhas nulas para analise\n",
    "linhas_nulas"
   ]
  },
  {
   "cell_type": "code",
   "execution_count": 30,
   "id": "eaeb680a",
   "metadata": {
    "execution": {
     "iopub.execute_input": "2025-02-24T19:31:24.858479Z",
     "iopub.status.busy": "2025-02-24T19:31:24.858108Z",
     "iopub.status.idle": "2025-02-24T19:31:24.866252Z",
     "shell.execute_reply": "2025-02-24T19:31:24.864719Z"
    },
    "papermill": {
     "duration": 0.030425,
     "end_time": "2025-02-24T19:31:24.868080",
     "exception": false,
     "start_time": "2025-02-24T19:31:24.837655",
     "status": "completed"
    },
    "tags": []
   },
   "outputs": [],
   "source": [
    "# Ápos analisar vimos que se encaixam mais no cluster 2\n",
    "new_data = new_data.fillna(2)\n",
    "new_teste = new_teste.fillna(5)"
   ]
  },
  {
   "cell_type": "code",
   "execution_count": 31,
   "id": "1dedf6ab",
   "metadata": {
    "execution": {
     "iopub.execute_input": "2025-02-24T19:31:24.965001Z",
     "iopub.status.busy": "2025-02-24T19:31:24.964533Z",
     "iopub.status.idle": "2025-02-24T19:31:24.974057Z",
     "shell.execute_reply": "2025-02-24T19:31:24.972583Z"
    },
    "papermill": {
     "duration": 0.088819,
     "end_time": "2025-02-24T19:31:24.976095",
     "exception": false,
     "start_time": "2025-02-24T19:31:24.887276",
     "status": "completed"
    },
    "tags": []
   },
   "outputs": [
    {
     "name": "stdout",
     "output_type": "stream",
     "text": [
      "Cluster:  2.0\n",
      "\n",
      "Cluster:  2.0\n",
      "\n",
      "Cluster:  2.0\n",
      "\n",
      "Cluster:  5.0\n"
     ]
    }
   ],
   "source": [
    "print('Cluster: ', new_data['Cluster'].loc[258])\n",
    "print()\n",
    "print('Cluster: ', new_data['Cluster'].loc[679])\n",
    "print()\n",
    "print('Cluster: ', new_data['Cluster'].loc[737])\n",
    "print()\n",
    "print('Cluster: ', new_teste['Cluster'].loc[343])"
   ]
  },
  {
   "cell_type": "code",
   "execution_count": 32,
   "id": "c41d72a7",
   "metadata": {
    "execution": {
     "iopub.execute_input": "2025-02-24T19:31:25.018006Z",
     "iopub.status.busy": "2025-02-24T19:31:25.017527Z",
     "iopub.status.idle": "2025-02-24T19:31:25.395346Z",
     "shell.execute_reply": "2025-02-24T19:31:25.394123Z"
    },
    "papermill": {
     "duration": 0.401967,
     "end_time": "2025-02-24T19:31:25.397304",
     "exception": false,
     "start_time": "2025-02-24T19:31:24.995337",
     "status": "completed"
    },
    "tags": []
   },
   "outputs": [
    {
     "data": {
      "image/png": "[encoded data removed]",
      "text/plain": [
       "<Figure size 640x480 with 1 Axes>"
      ]
     },
     "metadata": {},
     "output_type": "display_data"
    }
   ],
   "source": [
    "X = new_data.drop('Survived', axis=1)\n",
    "y = new_data['Survived']\n",
    "discrete = X.dtypes == int\n",
    "\n",
    "scores = make_mi_scores(X, y, discrete)\n",
    "plot_mi_scores (scores)"
   ]
  },
  {
   "cell_type": "markdown",
   "id": "13cf386e",
   "metadata": {
    "papermill": {
     "duration": 0.019209,
     "end_time": "2025-02-24T19:31:25.436374",
     "exception": false,
     "start_time": "2025-02-24T19:31:25.417165",
     "status": "completed"
    },
    "tags": []
   },
   "source": [
    "## *Realizando PCA das Features Age e Fare*"
   ]
  },
  {
   "cell_type": "code",
   "execution_count": 33,
   "id": "0436c208",
   "metadata": {
    "execution": {
     "iopub.execute_input": "2025-02-24T19:31:25.477200Z",
     "iopub.status.busy": "2025-02-24T19:31:25.476744Z",
     "iopub.status.idle": "2025-02-24T19:31:25.498671Z",
     "shell.execute_reply": "2025-02-24T19:31:25.497353Z"
    },
    "papermill": {
     "duration": 0.044491,
     "end_time": "2025-02-24T19:31:25.500670",
     "exception": false,
     "start_time": "2025-02-24T19:31:25.456179",
     "status": "completed"
    },
    "tags": []
   },
   "outputs": [
    {
     "data": {
      "text/html": [
       "<div>\n",
       "<style scoped>\n",
       "    .dataframe tbody tr th:only-of-type {\n",
       "        vertical-align: middle;\n",
       "    }\n",
       "\n",
       "    .dataframe tbody tr th {\n",
       "        vertical-align: top;\n",
       "    }\n",
       "\n",
       "    .dataframe thead th {\n",
       "        text-align: right;\n",
       "    }\n",
       "</style>\n",
       "<table border=\"1\" class=\"dataframe\">\n",
       "  <thead>\n",
       "    <tr style=\"text-align: right;\">\n",
       "      <th></th>\n",
       "      <th>Age</th>\n",
       "      <th>Fare</th>\n",
       "    </tr>\n",
       "  </thead>\n",
       "  <tbody>\n",
       "    <tr>\n",
       "      <th>0</th>\n",
       "      <td>0.271174</td>\n",
       "      <td>0.014151</td>\n",
       "    </tr>\n",
       "    <tr>\n",
       "      <th>1</th>\n",
       "      <td>0.472229</td>\n",
       "      <td>0.139136</td>\n",
       "    </tr>\n",
       "    <tr>\n",
       "      <th>2</th>\n",
       "      <td>0.321438</td>\n",
       "      <td>0.015469</td>\n",
       "    </tr>\n",
       "    <tr>\n",
       "      <th>3</th>\n",
       "      <td>0.434531</td>\n",
       "      <td>0.103644</td>\n",
       "    </tr>\n",
       "    <tr>\n",
       "      <th>4</th>\n",
       "      <td>0.434531</td>\n",
       "      <td>0.015713</td>\n",
       "    </tr>\n",
       "  </tbody>\n",
       "</table>\n",
       "</div>"
      ],
      "text/plain": [
       "        Age      Fare\n",
       "0  0.271174  0.014151\n",
       "1  0.472229  0.139136\n",
       "2  0.321438  0.015469\n",
       "3  0.434531  0.103644\n",
       "4  0.434531  0.015713"
      ]
     },
     "execution_count": 33,
     "metadata": {},
     "output_type": "execute_result"
    }
   ],
   "source": [
    "# Selecionando as Features\n",
    "data_select = new_data[[\"Age\",\"Fare\"]]\n",
    "# Definindo scaler\n",
    "scaler = MinMaxScaler()\n",
    "# Criando dataframe para armazenar as features escaladas\n",
    "data_scaled = pd.DataFrame()\n",
    "\n",
    "# Loop por onde as features passaram para serem escaladas\n",
    "for feature in [\"Age\", \"Fare\"]:\n",
    "    # Passando as colunas para o novo dataframe\n",
    "    data_scaled[feature] = data_select[feature]\n",
    "    # Utilizando o Scaler\n",
    "    data_scaled[feature] = scaler.fit_transform(data_select[[feature]])\n",
    "\n",
    "data_scaled.head()"
   ]
  },
  {
   "cell_type": "code",
   "execution_count": 34,
   "id": "6da8b73a",
   "metadata": {
    "execution": {
     "iopub.execute_input": "2025-02-24T19:31:25.543512Z",
     "iopub.status.busy": "2025-02-24T19:31:25.543121Z",
     "iopub.status.idle": "2025-02-24T19:31:26.378633Z",
     "shell.execute_reply": "2025-02-24T19:31:26.377421Z"
    },
    "papermill": {
     "duration": 0.859579,
     "end_time": "2025-02-24T19:31:26.380652",
     "exception": false,
     "start_time": "2025-02-24T19:31:25.521073",
     "status": "completed"
    },
    "tags": []
   },
   "outputs": [
    {
     "data": {
      "text/plain": [
       "Text(0.5, 1.0, 'Fare Scaled')"
      ]
     },
     "execution_count": 34,
     "metadata": {},
     "output_type": "execute_result"
    },
    {
     "data": {
      "image/png": "[encoded data removed]",
      "text/plain": [
       "<Figure size 1000x400 with 2 Axes>"
      ]
     },
     "metadata": {},
     "output_type": "display_data"
    }
   ],
   "source": [
    "fig, axes = plt.subplots(1, 2, figsize=(10, 4))\n",
    "sns.histplot(data_scaled, x=\"Age\", kde=True, ax=axes[0], color='blue')\n",
    "axes[0].set_title(\"Age Scaled\")\n",
    "sns.histplot(data_scaled, x=\"Fare\", kde=True, ax=axes[1], color='green')\n",
    "axes[0].set_title(\"Fare Scaled\")"
   ]
  },
  {
   "cell_type": "code",
   "execution_count": 35,
   "id": "2da50bf1",
   "metadata": {
    "execution": {
     "iopub.execute_input": "2025-02-24T19:31:26.423889Z",
     "iopub.status.busy": "2025-02-24T19:31:26.423507Z",
     "iopub.status.idle": "2025-02-24T19:31:26.451951Z",
     "shell.execute_reply": "2025-02-24T19:31:26.450912Z"
    },
    "papermill": {
     "duration": 0.051755,
     "end_time": "2025-02-24T19:31:26.454120",
     "exception": false,
     "start_time": "2025-02-24T19:31:26.402365",
     "status": "completed"
    },
    "tags": []
   },
   "outputs": [],
   "source": [
    "# Criando o PCA\n",
    "pca = PCA()\n",
    "data_pca = pca.fit_transform(data_scaled)\n",
    "\n",
    "data_pca = pd.DataFrame(data_pca, columns=['PCA1', 'PCA2'])\n",
    "\n",
    "pca_components = pd.DataFrame(pca.components_, \n",
    "                              columns=[\"age_scaled\", \"fare_scaled\"], \n",
    "                              index=[\"PCA1\", \"PCA2\"])"
   ]
  },
  {
   "cell_type": "code",
   "execution_count": 36,
   "id": "ec70dd22",
   "metadata": {
    "execution": {
     "iopub.execute_input": "2025-02-24T19:31:26.498790Z",
     "iopub.status.busy": "2025-02-24T19:31:26.498444Z",
     "iopub.status.idle": "2025-02-24T19:31:26.508257Z",
     "shell.execute_reply": "2025-02-24T19:31:26.507046Z"
    },
    "papermill": {
     "duration": 0.034762,
     "end_time": "2025-02-24T19:31:26.510151",
     "exception": false,
     "start_time": "2025-02-24T19:31:26.475389",
     "status": "completed"
    },
    "tags": []
   },
   "outputs": [
    {
     "data": {
      "text/html": [
       "<div>\n",
       "<style scoped>\n",
       "    .dataframe tbody tr th:only-of-type {\n",
       "        vertical-align: middle;\n",
       "    }\n",
       "\n",
       "    .dataframe tbody tr th {\n",
       "        vertical-align: top;\n",
       "    }\n",
       "\n",
       "    .dataframe thead th {\n",
       "        text-align: right;\n",
       "    }\n",
       "</style>\n",
       "<table border=\"1\" class=\"dataframe\">\n",
       "  <thead>\n",
       "    <tr style=\"text-align: right;\">\n",
       "      <th></th>\n",
       "      <th>age_scaled</th>\n",
       "      <th>fare_scaled</th>\n",
       "    </tr>\n",
       "  </thead>\n",
       "  <tbody>\n",
       "    <tr>\n",
       "      <th>PCA1</th>\n",
       "      <td>0.996175</td>\n",
       "      <td>0.087375</td>\n",
       "    </tr>\n",
       "    <tr>\n",
       "      <th>PCA2</th>\n",
       "      <td>-0.087375</td>\n",
       "      <td>0.996175</td>\n",
       "    </tr>\n",
       "  </tbody>\n",
       "</table>\n",
       "</div>"
      ],
      "text/plain": [
       "      age_scaled  fare_scaled\n",
       "PCA1    0.996175     0.087375\n",
       "PCA2   -0.087375     0.996175"
      ]
     },
     "execution_count": 36,
     "metadata": {},
     "output_type": "execute_result"
    }
   ],
   "source": [
    "pca_components.head()\n",
    "# Vemos que o PCA1 afeta mais a Idade e menos as Tarifa\n",
    "# Já o PCA2 representa principalmente a tarifa, mas com influência negativa da idade "
   ]
  },
  {
   "cell_type": "markdown",
   "id": "4bba45f8",
   "metadata": {
    "papermill": {
     "duration": 0.021568,
     "end_time": "2025-02-24T19:31:26.553174",
     "exception": false,
     "start_time": "2025-02-24T19:31:26.531606",
     "status": "completed"
    },
    "tags": []
   },
   "source": [
    "Os eixos foram significativamente alterados, pois agora não correspondem exatamente a \"Age\" ou \"Fare\", mas sim a novas combinações dessas variáveis. Isso pode ser útil para modelos de machine learning, pois permite capturar correlações ocultas entre idade e tarifa que não eram tão óbvias nos dados brutos."
   ]
  },
  {
   "cell_type": "code",
   "execution_count": 37,
   "id": "1c7fd5d7",
   "metadata": {
    "execution": {
     "iopub.execute_input": "2025-02-24T19:31:26.597998Z",
     "iopub.status.busy": "2025-02-24T19:31:26.597634Z",
     "iopub.status.idle": "2025-02-24T19:31:26.604104Z",
     "shell.execute_reply": "2025-02-24T19:31:26.602736Z"
    },
    "papermill": {
     "duration": 0.030572,
     "end_time": "2025-02-24T19:31:26.605663",
     "exception": false,
     "start_time": "2025-02-24T19:31:26.575091",
     "status": "completed"
    },
    "tags": []
   },
   "outputs": [
    {
     "name": "stdout",
     "output_type": "stream",
     "text": [
      "Variância explicada pelo PCA1: 0.74\n",
      "Variância explicada pelo PCA2: 0.26\n"
     ]
    }
   ],
   "source": [
    "# Conferindo quantos % da informação original é mantida\n",
    "explained_variance = pca.explained_variance_ratio_\n",
    "\n",
    "print(f\"Variância explicada pelo PCA1: {explained_variance[0]:.2f}\")\n",
    "print(f\"Variância explicada pelo PCA2: {explained_variance[1]:.2f}\")"
   ]
  },
  {
   "cell_type": "markdown",
   "id": "01173e0b",
   "metadata": {
    "papermill": {
     "duration": 0.02093,
     "end_time": "2025-02-24T19:31:26.648260",
     "exception": false,
     "start_time": "2025-02-24T19:31:26.627330",
     "status": "completed"
    },
    "tags": []
   },
   "source": [
    "Vemos que menos de 90% da informação original é mantida no PCA1 portanto não podemos trocar as features Fare e Age por ela."
   ]
  },
  {
   "cell_type": "markdown",
   "id": "d0b0cd02",
   "metadata": {
    "papermill": {
     "duration": 0.021271,
     "end_time": "2025-02-24T19:31:26.690856",
     "exception": false,
     "start_time": "2025-02-24T19:31:26.669585",
     "status": "completed"
    },
    "tags": []
   },
   "source": [
    "## *Target Encoding*"
   ]
  },
  {
   "cell_type": "code",
   "execution_count": 38,
   "id": "fadd681d",
   "metadata": {
    "execution": {
     "iopub.execute_input": "2025-02-24T19:31:26.734579Z",
     "iopub.status.busy": "2025-02-24T19:31:26.734130Z",
     "iopub.status.idle": "2025-02-24T19:31:26.765721Z",
     "shell.execute_reply": "2025-02-24T19:31:26.764442Z"
    },
    "papermill": {
     "duration": 0.056727,
     "end_time": "2025-02-24T19:31:26.768230",
     "exception": false,
     "start_time": "2025-02-24T19:31:26.711503",
     "status": "completed"
    },
    "tags": []
   },
   "outputs": [],
   "source": [
    "encoder = MEstimateEncoder(cols=[\"Title\"], m=5.0)\n",
    "\n",
    "data_encoded = new_data.copy()\n",
    "data_encoded[\"Title_encoded\"] = encoder.fit_transform(new_data[[\"Title\"]], new_data[\"Survived\"])\n",
    "data_encoded = data_encoded.drop('Title', axis=1)\n",
    "\n",
    "new_teste[\"Title_encoded\"] = encoder.transform(new_teste[[\"Title\"]])\n",
    "new_teste = new_teste.drop('Title', axis=1)"
   ]
  },
  {
   "cell_type": "code",
   "execution_count": 39,
   "id": "e83f0fd6",
   "metadata": {
    "execution": {
     "iopub.execute_input": "2025-02-24T19:31:26.813352Z",
     "iopub.status.busy": "2025-02-24T19:31:26.812902Z",
     "iopub.status.idle": "2025-02-24T19:31:27.133774Z",
     "shell.execute_reply": "2025-02-24T19:31:27.132547Z"
    },
    "papermill": {
     "duration": 0.34542,
     "end_time": "2025-02-24T19:31:27.135690",
     "exception": false,
     "start_time": "2025-02-24T19:31:26.790270",
     "status": "completed"
    },
    "tags": []
   },
   "outputs": [
    {
     "data": {
      "text/plain": [
       "<matplotlib.legend.Legend at 0x7c464e4a8a00>"
      ]
     },
     "execution_count": 39,
     "metadata": {},
     "output_type": "execute_result"
    },
    {
     "data": {
      "image/png": "[encoded data removed]",
      "text/plain": [
       "<Figure size 640x480 with 1 Axes>"
      ]
     },
     "metadata": {},
     "output_type": "display_data"
    }
   ],
   "source": [
    "sns.histplot(data_encoded[\"Survived\"], bins=2, kde=False, stat=\"density\", alpha=0.6, label=\"Histograma Survived\")\n",
    "sns.kdeplot(data_encoded[\"Title_encoded\"], color=\"red\", linewidth=2, label=\"Distribuição Title Codificado\")\n",
    "\n",
    "plt.title(\"Histograma de Survived e Distribuição da Feature 'Title' Codificada\")\n",
    "plt.xlabel(\"Valor\")\n",
    "plt.ylabel(\"Densidade\")\n",
    "plt.legend()"
   ]
  },
  {
   "cell_type": "markdown",
   "id": "894ff62a",
   "metadata": {
    "papermill": {
     "duration": 0.021954,
     "end_time": "2025-02-24T19:31:27.180059",
     "exception": false,
     "start_time": "2025-02-24T19:31:27.158105",
     "status": "completed"
    },
    "tags": []
   },
   "source": [
    "## *Treinando o modelo*"
   ]
  },
  {
   "cell_type": "code",
   "execution_count": 40,
   "id": "62a3698b",
   "metadata": {
    "execution": {
     "iopub.execute_input": "2025-02-24T19:31:27.227066Z",
     "iopub.status.busy": "2025-02-24T19:31:27.226605Z",
     "iopub.status.idle": "2025-02-24T19:31:27.233502Z",
     "shell.execute_reply": "2025-02-24T19:31:27.232120Z"
    },
    "papermill": {
     "duration": 0.03294,
     "end_time": "2025-02-24T19:31:27.235388",
     "exception": false,
     "start_time": "2025-02-24T19:31:27.202448",
     "status": "completed"
    },
    "tags": []
   },
   "outputs": [],
   "source": [
    "X_train = data_encoded.copy()\n",
    "X_valid = new_teste.copy()"
   ]
  },
  {
   "cell_type": "code",
   "execution_count": 41,
   "id": "521e41a3",
   "metadata": {
    "execution": {
     "iopub.execute_input": "2025-02-24T19:31:27.280887Z",
     "iopub.status.busy": "2025-02-24T19:31:27.280423Z",
     "iopub.status.idle": "2025-02-24T19:31:27.300228Z",
     "shell.execute_reply": "2025-02-24T19:31:27.298875Z"
    },
    "papermill": {
     "duration": 0.04486,
     "end_time": "2025-02-24T19:31:27.302167",
     "exception": false,
     "start_time": "2025-02-24T19:31:27.257307",
     "status": "completed"
    },
    "tags": []
   },
   "outputs": [
    {
     "data": {
      "text/html": [
       "<div>\n",
       "<style scoped>\n",
       "    .dataframe tbody tr th:only-of-type {\n",
       "        vertical-align: middle;\n",
       "    }\n",
       "\n",
       "    .dataframe tbody tr th {\n",
       "        vertical-align: top;\n",
       "    }\n",
       "\n",
       "    .dataframe thead th {\n",
       "        text-align: right;\n",
       "    }\n",
       "</style>\n",
       "<table border=\"1\" class=\"dataframe\">\n",
       "  <thead>\n",
       "    <tr style=\"text-align: right;\">\n",
       "      <th></th>\n",
       "      <th>PassengerId</th>\n",
       "      <th>Survived</th>\n",
       "      <th>Pclass</th>\n",
       "      <th>Sex</th>\n",
       "      <th>Age</th>\n",
       "      <th>SibSp</th>\n",
       "      <th>Parch</th>\n",
       "      <th>Fare</th>\n",
       "      <th>Embarked</th>\n",
       "      <th>Family</th>\n",
       "      <th>IsAlone</th>\n",
       "      <th>Cluster</th>\n",
       "      <th>Title_encoded</th>\n",
       "    </tr>\n",
       "  </thead>\n",
       "  <tbody>\n",
       "    <tr>\n",
       "      <th>0</th>\n",
       "      <td>1.0</td>\n",
       "      <td>0.0</td>\n",
       "      <td>3.0</td>\n",
       "      <td>male</td>\n",
       "      <td>22.0</td>\n",
       "      <td>1.0</td>\n",
       "      <td>0.0</td>\n",
       "      <td>7.2500</td>\n",
       "      <td>S</td>\n",
       "      <td>1</td>\n",
       "      <td>False</td>\n",
       "      <td>4.0</td>\n",
       "      <td>0.158849</td>\n",
       "    </tr>\n",
       "    <tr>\n",
       "      <th>1</th>\n",
       "      <td>2.0</td>\n",
       "      <td>1.0</td>\n",
       "      <td>1.0</td>\n",
       "      <td>female</td>\n",
       "      <td>38.0</td>\n",
       "      <td>1.0</td>\n",
       "      <td>0.0</td>\n",
       "      <td>71.2833</td>\n",
       "      <td>C</td>\n",
       "      <td>1</td>\n",
       "      <td>False</td>\n",
       "      <td>3.0</td>\n",
       "      <td>0.776301</td>\n",
       "    </tr>\n",
       "    <tr>\n",
       "      <th>2</th>\n",
       "      <td>3.0</td>\n",
       "      <td>1.0</td>\n",
       "      <td>3.0</td>\n",
       "      <td>female</td>\n",
       "      <td>26.0</td>\n",
       "      <td>0.0</td>\n",
       "      <td>0.0</td>\n",
       "      <td>7.9250</td>\n",
       "      <td>S</td>\n",
       "      <td>0</td>\n",
       "      <td>True</td>\n",
       "      <td>4.0</td>\n",
       "      <td>0.689407</td>\n",
       "    </tr>\n",
       "    <tr>\n",
       "      <th>3</th>\n",
       "      <td>4.0</td>\n",
       "      <td>1.0</td>\n",
       "      <td>1.0</td>\n",
       "      <td>female</td>\n",
       "      <td>35.0</td>\n",
       "      <td>1.0</td>\n",
       "      <td>0.0</td>\n",
       "      <td>53.1000</td>\n",
       "      <td>S</td>\n",
       "      <td>1</td>\n",
       "      <td>False</td>\n",
       "      <td>3.0</td>\n",
       "      <td>0.776301</td>\n",
       "    </tr>\n",
       "    <tr>\n",
       "      <th>4</th>\n",
       "      <td>5.0</td>\n",
       "      <td>0.0</td>\n",
       "      <td>3.0</td>\n",
       "      <td>male</td>\n",
       "      <td>35.0</td>\n",
       "      <td>0.0</td>\n",
       "      <td>0.0</td>\n",
       "      <td>8.0500</td>\n",
       "      <td>S</td>\n",
       "      <td>0</td>\n",
       "      <td>True</td>\n",
       "      <td>4.0</td>\n",
       "      <td>0.158849</td>\n",
       "    </tr>\n",
       "  </tbody>\n",
       "</table>\n",
       "</div>"
      ],
      "text/plain": [
       "   PassengerId  Survived  Pclass     Sex   Age  SibSp  Parch     Fare  \\\n",
       "0          1.0       0.0     3.0    male  22.0    1.0    0.0   7.2500   \n",
       "1          2.0       1.0     1.0  female  38.0    1.0    0.0  71.2833   \n",
       "2          3.0       1.0     3.0  female  26.0    0.0    0.0   7.9250   \n",
       "3          4.0       1.0     1.0  female  35.0    1.0    0.0  53.1000   \n",
       "4          5.0       0.0     3.0    male  35.0    0.0    0.0   8.0500   \n",
       "\n",
       "  Embarked  Family  IsAlone  Cluster  Title_encoded  \n",
       "0        S       1    False      4.0       0.158849  \n",
       "1        C       1    False      3.0       0.776301  \n",
       "2        S       0     True      4.0       0.689407  \n",
       "3        S       1    False      3.0       0.776301  \n",
       "4        S       0     True      4.0       0.158849  "
      ]
     },
     "execution_count": 41,
     "metadata": {},
     "output_type": "execute_result"
    }
   ],
   "source": [
    "X_train.head()"
   ]
  },
  {
   "cell_type": "code",
   "execution_count": 42,
   "id": "f08d1f36",
   "metadata": {
    "execution": {
     "iopub.execute_input": "2025-02-24T19:31:27.349949Z",
     "iopub.status.busy": "2025-02-24T19:31:27.349501Z",
     "iopub.status.idle": "2025-02-24T19:31:27.367718Z",
     "shell.execute_reply": "2025-02-24T19:31:27.366091Z"
    },
    "papermill": {
     "duration": 0.044894,
     "end_time": "2025-02-24T19:31:27.369836",
     "exception": false,
     "start_time": "2025-02-24T19:31:27.324942",
     "status": "completed"
    },
    "tags": []
   },
   "outputs": [
    {
     "data": {
      "text/html": [
       "<div>\n",
       "<style scoped>\n",
       "    .dataframe tbody tr th:only-of-type {\n",
       "        vertical-align: middle;\n",
       "    }\n",
       "\n",
       "    .dataframe tbody tr th {\n",
       "        vertical-align: top;\n",
       "    }\n",
       "\n",
       "    .dataframe thead th {\n",
       "        text-align: right;\n",
       "    }\n",
       "</style>\n",
       "<table border=\"1\" class=\"dataframe\">\n",
       "  <thead>\n",
       "    <tr style=\"text-align: right;\">\n",
       "      <th></th>\n",
       "      <th>PassengerId</th>\n",
       "      <th>Pclass</th>\n",
       "      <th>Sex</th>\n",
       "      <th>Age</th>\n",
       "      <th>SibSp</th>\n",
       "      <th>Parch</th>\n",
       "      <th>Fare</th>\n",
       "      <th>Embarked</th>\n",
       "      <th>Family</th>\n",
       "      <th>IsAlone</th>\n",
       "      <th>Cluster</th>\n",
       "      <th>Title_encoded</th>\n",
       "    </tr>\n",
       "  </thead>\n",
       "  <tbody>\n",
       "    <tr>\n",
       "      <th>0</th>\n",
       "      <td>892.0</td>\n",
       "      <td>3.0</td>\n",
       "      <td>male</td>\n",
       "      <td>34.5</td>\n",
       "      <td>0.0</td>\n",
       "      <td>0.0</td>\n",
       "      <td>7.8292</td>\n",
       "      <td>Q</td>\n",
       "      <td>0.0</td>\n",
       "      <td>True</td>\n",
       "      <td>0.0</td>\n",
       "      <td>0.158849</td>\n",
       "    </tr>\n",
       "    <tr>\n",
       "      <th>1</th>\n",
       "      <td>893.0</td>\n",
       "      <td>3.0</td>\n",
       "      <td>female</td>\n",
       "      <td>47.0</td>\n",
       "      <td>1.0</td>\n",
       "      <td>0.0</td>\n",
       "      <td>7.0000</td>\n",
       "      <td>S</td>\n",
       "      <td>1.0</td>\n",
       "      <td>False</td>\n",
       "      <td>4.0</td>\n",
       "      <td>0.776301</td>\n",
       "    </tr>\n",
       "    <tr>\n",
       "      <th>2</th>\n",
       "      <td>894.0</td>\n",
       "      <td>2.0</td>\n",
       "      <td>male</td>\n",
       "      <td>62.0</td>\n",
       "      <td>0.0</td>\n",
       "      <td>0.0</td>\n",
       "      <td>9.6875</td>\n",
       "      <td>Q</td>\n",
       "      <td>0.0</td>\n",
       "      <td>True</td>\n",
       "      <td>4.0</td>\n",
       "      <td>0.158849</td>\n",
       "    </tr>\n",
       "    <tr>\n",
       "      <th>3</th>\n",
       "      <td>895.0</td>\n",
       "      <td>3.0</td>\n",
       "      <td>male</td>\n",
       "      <td>27.0</td>\n",
       "      <td>0.0</td>\n",
       "      <td>0.0</td>\n",
       "      <td>8.6625</td>\n",
       "      <td>S</td>\n",
       "      <td>0.0</td>\n",
       "      <td>True</td>\n",
       "      <td>0.0</td>\n",
       "      <td>0.158849</td>\n",
       "    </tr>\n",
       "    <tr>\n",
       "      <th>4</th>\n",
       "      <td>896.0</td>\n",
       "      <td>3.0</td>\n",
       "      <td>female</td>\n",
       "      <td>22.0</td>\n",
       "      <td>1.0</td>\n",
       "      <td>1.0</td>\n",
       "      <td>12.2875</td>\n",
       "      <td>S</td>\n",
       "      <td>2.0</td>\n",
       "      <td>False</td>\n",
       "      <td>0.0</td>\n",
       "      <td>0.776301</td>\n",
       "    </tr>\n",
       "  </tbody>\n",
       "</table>\n",
       "</div>"
      ],
      "text/plain": [
       "   PassengerId  Pclass     Sex   Age  SibSp  Parch     Fare Embarked  Family  \\\n",
       "0        892.0     3.0    male  34.5    0.0    0.0   7.8292        Q     0.0   \n",
       "1        893.0     3.0  female  47.0    1.0    0.0   7.0000        S     1.0   \n",
       "2        894.0     2.0    male  62.0    0.0    0.0   9.6875        Q     0.0   \n",
       "3        895.0     3.0    male  27.0    0.0    0.0   8.6625        S     0.0   \n",
       "4        896.0     3.0  female  22.0    1.0    1.0  12.2875        S     2.0   \n",
       "\n",
       "   IsAlone  Cluster  Title_encoded  \n",
       "0     True      0.0       0.158849  \n",
       "1    False      4.0       0.776301  \n",
       "2     True      4.0       0.158849  \n",
       "3     True      0.0       0.158849  \n",
       "4    False      0.0       0.776301  "
      ]
     },
     "execution_count": 42,
     "metadata": {},
     "output_type": "execute_result"
    }
   ],
   "source": [
    "X_valid.head()"
   ]
  },
  {
   "cell_type": "code",
   "execution_count": 43,
   "id": "91e4cadf",
   "metadata": {
    "execution": {
     "iopub.execute_input": "2025-02-24T19:31:27.417327Z",
     "iopub.status.busy": "2025-02-24T19:31:27.416904Z",
     "iopub.status.idle": "2025-02-24T19:31:27.426208Z",
     "shell.execute_reply": "2025-02-24T19:31:27.424790Z"
    },
    "papermill": {
     "duration": 0.035486,
     "end_time": "2025-02-24T19:31:27.428274",
     "exception": false,
     "start_time": "2025-02-24T19:31:27.392788",
     "status": "completed"
    },
    "tags": []
   },
   "outputs": [],
   "source": [
    "def avaliate_pipes(data, encoder, model, numerical_imputer, categorical_imputer):\n",
    "    \n",
    "    # Definindo Feature e Target\n",
    "    X = data.drop('Survived', axis=1) # Features\n",
    "    y = data['Survived'] # Target\n",
    "\n",
    "    # Classificando as features em num e cat\n",
    "    numerical_features = X.select_dtypes(include=['int64', 'float64']).columns  \n",
    "    categorical_features = X.select_dtypes(include=['object']).columns\n",
    "\n",
    "    # Aplicando Encoder nas features categóricas\n",
    "    if encoder == 'one-hot':\n",
    "        cat_encoder = OneHotEncoder(handle_unknown='ignore')\n",
    "    elif encoder == 'ordinal':\n",
    "        cat_encoder = OrdinalEncoder()\n",
    "    elif encoder == 'label':\n",
    "        for col in categorical_features:\n",
    "            le = LabelEncoder()\n",
    "            X[col] = le.fit_transform(X[col])\n",
    "        cat_encoder = 'passthrough'\n",
    "    else:\n",
    "        raise ValueError('Encoder não reconhecido')\n",
    "\n",
    "    # Tratando dados NaN com imputers\n",
    "    numerical_transformer = SimpleImputer(strategy= numerical_imputer if numerical_imputer != 'zero' else 'constant', fill_value=0)\n",
    "    categorical_transformer = Pipeline(steps=[\n",
    "    ('imputer', SimpleImputer(strategy= categorical_imputer )), # Trata das colunas categoricas utilizando um SimpleImputer para trocar os dados NaN \n",
    "    ( encoder, cat_encoder) # Utiliza o Encoder escolhido para transformar as colunas categoricas em Numericas\n",
    "])\n",
    "  \n",
    "    # Criando um preprocessor\n",
    "    preprocessor = ColumnTransformer(    # Processo anterior a aplicação do modelo, tratamento de dados, permite transformar colunas de forma independente\n",
    "        transformers=[                   # transformers = ['nome', 'transformador', 'coluna']\n",
    "            ('num', numerical_transformer, numerical_features),   # tranforma as numerical features com o numerical transformer\n",
    "            ('cat', categorical_transformer, categorical_features)  # tranforma as categorical features com o categorical transformer\n",
    "        ])\n",
    "    \n",
    "    # Criando um pipeline\n",
    "    pipeline = Pipeline(steps=[\n",
    "        ('preprocessor', preprocessor), # Definindo passos do pipe, 1º passa pelo preprocessor cujo vai transformar as colunas \n",
    "        ('model', model)                # Utilizando os Imputers para preencher os NaN's e realizar o encoder das categoricas\n",
    "    ])                                  # 2º Passa os dados ja processados pelo model fazendo seu treino e entregando ao final seu Score.\n",
    "\n",
    "    \n",
    "    scores = cross_val_score(pipeline, X, y, cv=5, scoring='accuracy')\n",
    "    mean_score = np.mean(scores)\n",
    "    std_score = np.std(scores)\n",
    "    \n",
    "    pipeline.fit(X,y)\n",
    "    \n",
    "    return pipeline, mean_score*100"
   ]
  },
  {
   "cell_type": "code",
   "execution_count": 44,
   "id": "b28f7b27",
   "metadata": {
    "execution": {
     "iopub.execute_input": "2025-02-24T19:31:27.475733Z",
     "iopub.status.busy": "2025-02-24T19:31:27.475334Z",
     "iopub.status.idle": "2025-02-24T19:32:05.672946Z",
     "shell.execute_reply": "2025-02-24T19:32:05.671382Z"
    },
    "papermill": {
     "duration": 38.224094,
     "end_time": "2025-02-24T19:32:05.675357",
     "exception": false,
     "start_time": "2025-02-24T19:31:27.451263",
     "status": "completed"
    },
    "tags": []
   },
   "outputs": [
    {
     "name": "stdout",
     "output_type": "stream",
     "text": [
      "\n",
      "Score: 78.02%, Model: GradientBoostingClassifier(), Encoder: ordinal, Numerical Imputer: mean, Categorical Imputer: most_frequent\n",
      "Score: 78.13%, Model: GradientBoostingClassifier(), Encoder: ordinal, Numerical Imputer: mean, Categorical Imputer: constant\n",
      "Score: 78.13%, Model: GradientBoostingClassifier(), Encoder: ordinal, Numerical Imputer: median, Categorical Imputer: most_frequent\n",
      "Score: 78.02%, Model: GradientBoostingClassifier(), Encoder: ordinal, Numerical Imputer: median, Categorical Imputer: constant\n",
      "Score: 77.68%, Model: GradientBoostingClassifier(), Encoder: ordinal, Numerical Imputer: constant, Categorical Imputer: most_frequent\n",
      "Score: 78.02%, Model: GradientBoostingClassifier(), Encoder: ordinal, Numerical Imputer: constant, Categorical Imputer: constant\n",
      "Score: 78.02%, Model: GradientBoostingClassifier(), Encoder: ordinal, Numerical Imputer: zero, Categorical Imputer: most_frequent\n",
      "Score: 78.02%, Model: GradientBoostingClassifier(), Encoder: ordinal, Numerical Imputer: zero, Categorical Imputer: constant\n",
      "\n",
      "Score: 77.8%, Model: GradientBoostingClassifier(), Encoder: one-hot, Numerical Imputer: mean, Categorical Imputer: most_frequent\n",
      "Score: 77.91%, Model: GradientBoostingClassifier(), Encoder: one-hot, Numerical Imputer: mean, Categorical Imputer: constant\n",
      "Score: 77.8%, Model: GradientBoostingClassifier(), Encoder: one-hot, Numerical Imputer: median, Categorical Imputer: most_frequent\n",
      "Score: 77.8%, Model: GradientBoostingClassifier(), Encoder: one-hot, Numerical Imputer: median, Categorical Imputer: constant\n",
      "Score: 78.02%, Model: GradientBoostingClassifier(), Encoder: one-hot, Numerical Imputer: constant, Categorical Imputer: most_frequent\n",
      "Score: 78.13%, Model: GradientBoostingClassifier(), Encoder: one-hot, Numerical Imputer: constant, Categorical Imputer: constant\n",
      "Score: 77.8%, Model: GradientBoostingClassifier(), Encoder: one-hot, Numerical Imputer: zero, Categorical Imputer: most_frequent\n",
      "Score: 77.91%, Model: GradientBoostingClassifier(), Encoder: one-hot, Numerical Imputer: zero, Categorical Imputer: constant\n",
      "\n",
      "Score: 80.82%, Model: RandomForestClassifier(), Encoder: ordinal, Numerical Imputer: mean, Categorical Imputer: most_frequent\n",
      "Score: 80.37%, Model: RandomForestClassifier(), Encoder: ordinal, Numerical Imputer: mean, Categorical Imputer: constant\n",
      "Score: 80.82%, Model: RandomForestClassifier(), Encoder: ordinal, Numerical Imputer: median, Categorical Imputer: most_frequent\n",
      "Score: 80.59%, Model: RandomForestClassifier(), Encoder: ordinal, Numerical Imputer: median, Categorical Imputer: constant\n",
      "Score: 81.15%, Model: RandomForestClassifier(), Encoder: ordinal, Numerical Imputer: constant, Categorical Imputer: most_frequent\n",
      "Score: 80.82%, Model: RandomForestClassifier(), Encoder: ordinal, Numerical Imputer: constant, Categorical Imputer: constant\n",
      "Score: 81.26%, Model: RandomForestClassifier(), Encoder: ordinal, Numerical Imputer: zero, Categorical Imputer: most_frequent\n",
      "Score: 81.04%, Model: RandomForestClassifier(), Encoder: ordinal, Numerical Imputer: zero, Categorical Imputer: constant\n",
      "\n",
      "Score: 81.6%, Model: RandomForestClassifier(), Encoder: one-hot, Numerical Imputer: mean, Categorical Imputer: most_frequent\n",
      "Score: 82.27%, Model: RandomForestClassifier(), Encoder: one-hot, Numerical Imputer: mean, Categorical Imputer: constant\n",
      "Score: 80.7%, Model: RandomForestClassifier(), Encoder: one-hot, Numerical Imputer: median, Categorical Imputer: most_frequent\n",
      "Score: 81.82%, Model: RandomForestClassifier(), Encoder: one-hot, Numerical Imputer: median, Categorical Imputer: constant\n",
      "Score: 81.71%, Model: RandomForestClassifier(), Encoder: one-hot, Numerical Imputer: constant, Categorical Imputer: most_frequent\n",
      "Score: 81.6%, Model: RandomForestClassifier(), Encoder: one-hot, Numerical Imputer: constant, Categorical Imputer: constant\n",
      "Score: 81.04%, Model: RandomForestClassifier(), Encoder: one-hot, Numerical Imputer: zero, Categorical Imputer: most_frequent\n",
      "Score: 81.37%, Model: RandomForestClassifier(), Encoder: one-hot, Numerical Imputer: zero, Categorical Imputer: constant\n",
      "\n",
      "Melhor score: 82.27%\n"
     ]
    }
   ],
   "source": [
    "max_score = 0\n",
    "\n",
    "for model in [GradientBoostingClassifier(), RandomForestClassifier()]:\n",
    "    for encoder in ['ordinal', 'one-hot']:\n",
    "        print()\n",
    "        for numerical_imputer in ['mean', 'median', 'constant', 'zero']:\n",
    "            for categorical_imputer in ['most_frequent', 'constant']:\n",
    "                pipeline, score = avaliate_pipes(X_train, encoder, model, numerical_imputer, categorical_imputer)\n",
    "                print(f'Score: {score:.4}%, Model: {model}, Encoder: {encoder}, Numerical Imputer: {numerical_imputer}, Categorical Imputer: {categorical_imputer}')\n",
    "                if score >= max_score:\n",
    "                    max_score = score\n",
    "                    B_model = model\n",
    "                    B_encoder = encoder\n",
    "                    B_Num = numerical_imputer\n",
    "                    B_Cat = categorical_imputer\n",
    "                else :max_score\n",
    "            \n",
    "print()\n",
    "\n",
    "print(f'Melhor score: {max_score:.4}%')"
   ]
  },
  {
   "cell_type": "code",
   "execution_count": 45,
   "id": "f54a5cc1",
   "metadata": {
    "execution": {
     "iopub.execute_input": "2025-02-24T19:32:05.725089Z",
     "iopub.status.busy": "2025-02-24T19:32:05.724688Z",
     "iopub.status.idle": "2025-02-24T19:32:05.732245Z",
     "shell.execute_reply": "2025-02-24T19:32:05.730719Z"
    },
    "papermill": {
     "duration": 0.034406,
     "end_time": "2025-02-24T19:32:05.734159",
     "exception": false,
     "start_time": "2025-02-24T19:32:05.699753",
     "status": "completed"
    },
    "tags": []
   },
   "outputs": [
    {
     "name": "stdout",
     "output_type": "stream",
     "text": [
      "RandomForestClassifier() one-hot mean constant\n"
     ]
    }
   ],
   "source": [
    "print(B_model, B_encoder, B_Num, B_Cat)"
   ]
  },
  {
   "cell_type": "code",
   "execution_count": 46,
   "id": "390d7fa6",
   "metadata": {
    "execution": {
     "iopub.execute_input": "2025-02-24T19:32:05.784051Z",
     "iopub.status.busy": "2025-02-24T19:32:05.783622Z",
     "iopub.status.idle": "2025-02-24T19:32:07.150260Z",
     "shell.execute_reply": "2025-02-24T19:32:07.148749Z"
    },
    "papermill": {
     "duration": 1.394,
     "end_time": "2025-02-24T19:32:07.152627",
     "exception": false,
     "start_time": "2025-02-24T19:32:05.758627",
     "status": "completed"
    },
    "tags": []
   },
   "outputs": [],
   "source": [
    "pipeline, score = avaliate_pipes(train, B_encoder, B_model, B_Num, B_Cat)"
   ]
  },
  {
   "cell_type": "markdown",
   "id": "2429e585",
   "metadata": {
    "papermill": {
     "duration": 0.025301,
     "end_time": "2025-02-24T19:32:07.203464",
     "exception": false,
     "start_time": "2025-02-24T19:32:07.178163",
     "status": "completed"
    },
    "tags": []
   },
   "source": [
    "## *Gerando modelo para competição*"
   ]
  },
  {
   "cell_type": "code",
   "execution_count": 47,
   "id": "672ea484",
   "metadata": {
    "execution": {
     "iopub.execute_input": "2025-02-24T19:32:07.257356Z",
     "iopub.status.busy": "2025-02-24T19:32:07.256991Z",
     "iopub.status.idle": "2025-02-24T19:32:07.284612Z",
     "shell.execute_reply": "2025-02-24T19:32:07.283504Z"
    },
    "papermill": {
     "duration": 0.057256,
     "end_time": "2025-02-24T19:32:07.286945",
     "exception": false,
     "start_time": "2025-02-24T19:32:07.229689",
     "status": "completed"
    },
    "tags": []
   },
   "outputs": [],
   "source": [
    "X_teste = X_valid\n",
    "teste_ids = teste['PassengerId']\n",
    "predictions = pipeline.predict(X_teste)\n",
    "submission = pd.DataFrame({\"PassengerId\": teste_ids, \"Survived\": predictions})\n",
    "submission.to_csv(\"submission.csv\", index=False)"
   ]
  }
 ],
 "metadata": {
  "kaggle": {
   "accelerator": "none",
   "dataSources": [
    {
     "databundleVersionId": 26502,
     "sourceId": 3136,
     "sourceType": "competition"
    }
   ],
   "dockerImageVersionId": 30918,
   "isGpuEnabled": false,
   "isInternetEnabled": true,
   "language": "python",
   "sourceType": "notebook"
  },
  "kernelspec": {
   "display_name": "Python 3",
   "language": "python",
   "name": "python3"
  },
  "language_info": {
   "codemirror_mode": {
    "name": "ipython",
    "version": 3
   },
   "file_extension": ".py",
   "mimetype": "text/x-python",
   "name": "python",
   "nbconvert_exporter": "python",
   "pygments_lexer": "ipython3",
   "version": "3.10.12"
  },
  "papermill": {
   "default_parameters": {},
   "duration": 56.492441,
   "end_time": "2025-02-24T19:32:08.235276",
   "environment_variables": {},
   "exception": null,
   "input_path": "__notebook__.ipynb",
   "output_path": "__notebook__.ipynb",
   "parameters": {},
   "start_time": "2025-02-24T19:31:11.742835",
   "version": "2.6.0"
  }
 },
 "nbformat": 4,
 "nbformat_minor": 5
}
