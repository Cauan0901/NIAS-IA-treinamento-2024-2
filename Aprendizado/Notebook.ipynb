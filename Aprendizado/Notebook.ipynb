{
 "cells": [
  {
   "cell_type": "markdown",
   "metadata": {},
   "source": [
    "Exercicio 01# - Twitter Sentiment Analysis (CONCLUIDO)"
   ]
  },
  {
   "cell_type": "code",
   "execution_count": null,
   "metadata": {},
   "outputs": [],
   "source": [
    "tweets = [ \n",
    "\"Wow, what a great day today!! #sunshine\",\n",
    "\"I feel sad about the things going on around us. #covid19\",\n",
    "\"I'm really excited to learn Python with @JovianML #zerotopandas\",\n",
    "\"This is a really nice song. #linkinpark\",\n",
    "\"The python programming language is useful for data science\",\n",
    "\"Why do bad things happen to me?\",\n",
    "\"Apple announces the release of the new iPhone 12. Fans are excited.\",\n",
    "\"Spent my day with family!! #happy\",\n",
    "\"Check out my blog post on common string operations in Python. #zerotopandas\",\n",
    "\"Freecodecamp has great coding tutorials. #skillup\" \n",
    "        ]\n",
    "\n",
    "# Classificar os tweets em positivos, negativos e neutros\n",
    "positivos = [ \"great\", \"excited\", \"nice\", \"useful\", \"happy\" ]\n",
    "negativos = [ \"sad\", \"bad\", \"tragedy\", \"unhappy\" ]\n",
    "\n",
    "# Contagem de tweets positivos, negativos e neutros\n",
    "positivos_count = 0\n",
    "negativos_count = 0\n",
    "neutros_count = 0\n",
    "\n",
    "happy = []\n",
    "unhappy = []\n",
    "\n",
    "# Classificar os tweets\n",
    "for i in range(0, len(tweets)):\n",
    "    tweet = tweets[i]\n",
    "    words = tweet.split(' ' or ',')\n",
    "    for word in words:\n",
    "        if word in positivos:\n",
    "            positivos_count += 1\n",
    "            happy.append(tweets[i])\n",
    "            break\n",
    "\n",
    "        elif word in negativos:\n",
    "            negativos_count += 1\n",
    "            unhappy.append(tweets[i])   \n",
    "            break\n",
    "        \n",
    "    else:\n",
    "        neutros_count += 1\n",
    "\n",
    "\n",
    "# Resultados\n",
    "for i in range(0, len(happy)):\n",
    "    print(\"Positivos:\", happy[i])\n",
    "\n",
    "for i in range(0, len(unhappy)):\n",
    "    print(\"Negativos:\", unhappy[i])\n",
    "\n",
    "\n",
    "print(\"\\n\"\"Positivos:\", positivos_count, \"Negativos:\", negativos_count, \"Neutros:\", neutros_count)"
   ]
  },
  {
   "cell_type": "markdown",
   "metadata": {},
   "source": [
    "Exercicios para Fixação"
   ]
  },
  {
   "cell_type": "code",
   "execution_count": null,
   "metadata": {},
   "outputs": [],
   "source": []
  }
 ],
 "metadata": {
  "kernelspec": {
   "display_name": "Victor",
   "language": "python",
   "name": "python3"
  },
  "language_info": {
   "codemirror_mode": {
    "name": "ipython",
    "version": 3
   },
   "file_extension": ".py",
   "mimetype": "text/x-python",
   "name": "python",
   "nbconvert_exporter": "python",
   "pygments_lexer": "ipython3",
   "version": "3.12.9"
  }
 },
 "nbformat": 4,
 "nbformat_minor": 2
}
