{
 "cells": [
  {
   "cell_type": "code",
   "execution_count": 1,
   "id": "2a2fdf1f",
   "metadata": {
    "_cell_guid": "b1076dfc-b9ad-4769-8c92-a6c4dae69d19",
    "_uuid": "8f2839f25d086af736a60e9eeb907d3b93b6e0e5",
    "execution": {
     "iopub.execute_input": "2025-02-17T14:26:36.583230Z",
     "iopub.status.busy": "2025-02-17T14:26:36.582809Z",
     "iopub.status.idle": "2025-02-17T14:26:38.013466Z",
     "shell.execute_reply": "2025-02-17T14:26:38.009587Z"
    },
    "papermill": {
     "duration": 1.440906,
     "end_time": "2025-02-17T14:26:38.017191",
     "exception": false,
     "start_time": "2025-02-17T14:26:36.576285",
     "status": "completed"
    },
    "tags": []
   },
   "outputs": [
    {
     "name": "stdout",
     "output_type": "stream",
     "text": [
      "/kaggle/input/titanic/train.csv\n",
      "/kaggle/input/titanic/test.csv\n",
      "/kaggle/input/titanic/gender_submission.csv\n"
     ]
    }
   ],
   "source": [
    "# This Python 3 environment comes with many helpful analytics libraries installed\n",
    "# It is defined by the kaggle/python Docker image: https://github.com/kaggle/docker-python\n",
    "# For example, here's several helpful packages to load\n",
    "\n",
    "import numpy as np # linear algebra\n",
    "import pandas as pd # data processing, CSV file I/O (e.g. pd.read_csv)\n",
    "\n",
    "# Input data files are available in the read-only \"../input/\" directory\n",
    "# For example, running this (by clicking run or pressing Shift+Enter) will list all files under the input directory\n",
    "\n",
    "import os\n",
    "for dirname, _, filenames in os.walk('/kaggle/input'):\n",
    "    for filename in filenames:\n",
    "        print(os.path.join(dirname, filename))\n",
    "\n",
    "# You can write up to 20GB to the current directory (/kaggle/working/) that gets preserved as output when you create a version using \"Save & Run All\" \n",
    "# You can also write temporary files to /kaggle/temp/, but they won't be saved outside of the current session"
   ]
  },
  {
   "cell_type": "code",
   "execution_count": 2,
   "id": "70312588",
   "metadata": {
    "execution": {
     "iopub.execute_input": "2025-02-17T14:26:38.028012Z",
     "iopub.status.busy": "2025-02-17T14:26:38.027443Z",
     "iopub.status.idle": "2025-02-17T14:26:40.464911Z",
     "shell.execute_reply": "2025-02-17T14:26:40.463331Z"
    },
    "papermill": {
     "duration": 2.44455,
     "end_time": "2025-02-17T14:26:40.466933",
     "exception": false,
     "start_time": "2025-02-17T14:26:38.022383",
     "status": "completed"
    },
    "tags": []
   },
   "outputs": [],
   "source": [
    "#visualization libraries\n",
    "import matplotlib.pyplot as plt\n",
    "import seaborn as sns\n",
    "%matplotlib inline\n",
    "\n",
    "#ignore warnings\n",
    "import warnings\n",
    "warnings.filterwarnings('ignore')\n",
    "np.random.seed(0)"
   ]
  },
  {
   "cell_type": "code",
   "execution_count": 3,
   "id": "4c301ab7",
   "metadata": {
    "execution": {
     "iopub.execute_input": "2025-02-17T14:26:40.477868Z",
     "iopub.status.busy": "2025-02-17T14:26:40.477341Z",
     "iopub.status.idle": "2025-02-17T14:26:40.554622Z",
     "shell.execute_reply": "2025-02-17T14:26:40.552281Z"
    },
    "papermill": {
     "duration": 0.08575,
     "end_time": "2025-02-17T14:26:40.556866",
     "exception": false,
     "start_time": "2025-02-17T14:26:40.471116",
     "status": "completed"
    },
    "tags": []
   },
   "outputs": [
    {
     "data": {
      "text/html": [
       "<div>\n",
       "<style scoped>\n",
       "    .dataframe tbody tr th:only-of-type {\n",
       "        vertical-align: middle;\n",
       "    }\n",
       "\n",
       "    .dataframe tbody tr th {\n",
       "        vertical-align: top;\n",
       "    }\n",
       "\n",
       "    .dataframe thead th {\n",
       "        text-align: right;\n",
       "    }\n",
       "</style>\n",
       "<table border=\"1\" class=\"dataframe\">\n",
       "  <thead>\n",
       "    <tr style=\"text-align: right;\">\n",
       "      <th></th>\n",
       "      <th>PassengerId</th>\n",
       "      <th>Survived</th>\n",
       "      <th>Pclass</th>\n",
       "      <th>Age</th>\n",
       "      <th>SibSp</th>\n",
       "      <th>Parch</th>\n",
       "      <th>Fare</th>\n",
       "    </tr>\n",
       "  </thead>\n",
       "  <tbody>\n",
       "    <tr>\n",
       "      <th>count</th>\n",
       "      <td>891.000000</td>\n",
       "      <td>891.000000</td>\n",
       "      <td>891.000000</td>\n",
       "      <td>714.000000</td>\n",
       "      <td>891.000000</td>\n",
       "      <td>891.000000</td>\n",
       "      <td>891.000000</td>\n",
       "    </tr>\n",
       "    <tr>\n",
       "      <th>mean</th>\n",
       "      <td>446.000000</td>\n",
       "      <td>0.383838</td>\n",
       "      <td>2.308642</td>\n",
       "      <td>29.699118</td>\n",
       "      <td>0.523008</td>\n",
       "      <td>0.381594</td>\n",
       "      <td>32.204208</td>\n",
       "    </tr>\n",
       "    <tr>\n",
       "      <th>std</th>\n",
       "      <td>257.353842</td>\n",
       "      <td>0.486592</td>\n",
       "      <td>0.836071</td>\n",
       "      <td>14.526497</td>\n",
       "      <td>1.102743</td>\n",
       "      <td>0.806057</td>\n",
       "      <td>49.693429</td>\n",
       "    </tr>\n",
       "    <tr>\n",
       "      <th>min</th>\n",
       "      <td>1.000000</td>\n",
       "      <td>0.000000</td>\n",
       "      <td>1.000000</td>\n",
       "      <td>0.420000</td>\n",
       "      <td>0.000000</td>\n",
       "      <td>0.000000</td>\n",
       "      <td>0.000000</td>\n",
       "    </tr>\n",
       "    <tr>\n",
       "      <th>25%</th>\n",
       "      <td>223.500000</td>\n",
       "      <td>0.000000</td>\n",
       "      <td>2.000000</td>\n",
       "      <td>20.125000</td>\n",
       "      <td>0.000000</td>\n",
       "      <td>0.000000</td>\n",
       "      <td>7.910400</td>\n",
       "    </tr>\n",
       "    <tr>\n",
       "      <th>50%</th>\n",
       "      <td>446.000000</td>\n",
       "      <td>0.000000</td>\n",
       "      <td>3.000000</td>\n",
       "      <td>28.000000</td>\n",
       "      <td>0.000000</td>\n",
       "      <td>0.000000</td>\n",
       "      <td>14.454200</td>\n",
       "    </tr>\n",
       "    <tr>\n",
       "      <th>75%</th>\n",
       "      <td>668.500000</td>\n",
       "      <td>1.000000</td>\n",
       "      <td>3.000000</td>\n",
       "      <td>38.000000</td>\n",
       "      <td>1.000000</td>\n",
       "      <td>0.000000</td>\n",
       "      <td>31.000000</td>\n",
       "    </tr>\n",
       "    <tr>\n",
       "      <th>max</th>\n",
       "      <td>891.000000</td>\n",
       "      <td>1.000000</td>\n",
       "      <td>3.000000</td>\n",
       "      <td>80.000000</td>\n",
       "      <td>8.000000</td>\n",
       "      <td>6.000000</td>\n",
       "      <td>512.329200</td>\n",
       "    </tr>\n",
       "  </tbody>\n",
       "</table>\n",
       "</div>"
      ],
      "text/plain": [
       "       PassengerId    Survived      Pclass         Age       SibSp  \\\n",
       "count   891.000000  891.000000  891.000000  714.000000  891.000000   \n",
       "mean    446.000000    0.383838    2.308642   29.699118    0.523008   \n",
       "std     257.353842    0.486592    0.836071   14.526497    1.102743   \n",
       "min       1.000000    0.000000    1.000000    0.420000    0.000000   \n",
       "25%     223.500000    0.000000    2.000000   20.125000    0.000000   \n",
       "50%     446.000000    0.000000    3.000000   28.000000    0.000000   \n",
       "75%     668.500000    1.000000    3.000000   38.000000    1.000000   \n",
       "max     891.000000    1.000000    3.000000   80.000000    8.000000   \n",
       "\n",
       "            Parch        Fare  \n",
       "count  891.000000  891.000000  \n",
       "mean     0.381594   32.204208  \n",
       "std      0.806057   49.693429  \n",
       "min      0.000000    0.000000  \n",
       "25%      0.000000    7.910400  \n",
       "50%      0.000000   14.454200  \n",
       "75%      0.000000   31.000000  \n",
       "max      6.000000  512.329200  "
      ]
     },
     "execution_count": 3,
     "metadata": {},
     "output_type": "execute_result"
    }
   ],
   "source": [
    "#Importando dados\n",
    "teste_data = pd.read_csv(\"/kaggle/input/titanic/test.csv\")\n",
    "train_data = pd.read_csv(\"/kaggle/input/titanic/train.csv\")\n",
    "\n",
    "train_data.describe()"
   ]
  },
  {
   "cell_type": "markdown",
   "id": "8a1e6e84",
   "metadata": {
    "papermill": {
     "duration": 0.003564,
     "end_time": "2025-02-17T14:26:40.564787",
     "exception": false,
     "start_time": "2025-02-17T14:26:40.561223",
     "status": "completed"
    },
    "tags": []
   },
   "source": [
    "## *Analise Inicial do Dataset*"
   ]
  },
  {
   "cell_type": "code",
   "execution_count": 4,
   "id": "afe2c790",
   "metadata": {
    "execution": {
     "iopub.execute_input": "2025-02-17T14:26:40.573602Z",
     "iopub.status.busy": "2025-02-17T14:26:40.573246Z",
     "iopub.status.idle": "2025-02-17T14:26:40.585626Z",
     "shell.execute_reply": "2025-02-17T14:26:40.584248Z"
    },
    "papermill": {
     "duration": 0.0192,
     "end_time": "2025-02-17T14:26:40.587683",
     "exception": false,
     "start_time": "2025-02-17T14:26:40.568483",
     "status": "completed"
    },
    "tags": []
   },
   "outputs": [
    {
     "data": {
      "text/html": [
       "<div>\n",
       "<style scoped>\n",
       "    .dataframe tbody tr th:only-of-type {\n",
       "        vertical-align: middle;\n",
       "    }\n",
       "\n",
       "    .dataframe tbody tr th {\n",
       "        vertical-align: top;\n",
       "    }\n",
       "\n",
       "    .dataframe thead th {\n",
       "        text-align: right;\n",
       "    }\n",
       "</style>\n",
       "<table border=\"1\" class=\"dataframe\">\n",
       "  <thead>\n",
       "    <tr style=\"text-align: right;\">\n",
       "      <th></th>\n",
       "      <th>PassengerId</th>\n",
       "      <th>Survived</th>\n",
       "      <th>Pclass</th>\n",
       "      <th>Name</th>\n",
       "      <th>Sex</th>\n",
       "      <th>Age</th>\n",
       "      <th>SibSp</th>\n",
       "      <th>Parch</th>\n",
       "      <th>Ticket</th>\n",
       "      <th>Fare</th>\n",
       "      <th>Cabin</th>\n",
       "      <th>Embarked</th>\n",
       "    </tr>\n",
       "  </thead>\n",
       "  <tbody>\n",
       "    <tr>\n",
       "      <th>0</th>\n",
       "      <td>1</td>\n",
       "      <td>0</td>\n",
       "      <td>3</td>\n",
       "      <td>Braund, Mr. Owen Harris</td>\n",
       "      <td>male</td>\n",
       "      <td>22.0</td>\n",
       "      <td>1</td>\n",
       "      <td>0</td>\n",
       "      <td>A/5 21171</td>\n",
       "      <td>7.2500</td>\n",
       "      <td>NaN</td>\n",
       "      <td>S</td>\n",
       "    </tr>\n",
       "    <tr>\n",
       "      <th>1</th>\n",
       "      <td>2</td>\n",
       "      <td>1</td>\n",
       "      <td>1</td>\n",
       "      <td>Cumings, Mrs. John Bradley (Florence Briggs Th...</td>\n",
       "      <td>female</td>\n",
       "      <td>38.0</td>\n",
       "      <td>1</td>\n",
       "      <td>0</td>\n",
       "      <td>PC 17599</td>\n",
       "      <td>71.2833</td>\n",
       "      <td>C85</td>\n",
       "      <td>C</td>\n",
       "    </tr>\n",
       "    <tr>\n",
       "      <th>2</th>\n",
       "      <td>3</td>\n",
       "      <td>1</td>\n",
       "      <td>3</td>\n",
       "      <td>Heikkinen, Miss. Laina</td>\n",
       "      <td>female</td>\n",
       "      <td>26.0</td>\n",
       "      <td>0</td>\n",
       "      <td>0</td>\n",
       "      <td>STON/O2. 3101282</td>\n",
       "      <td>7.9250</td>\n",
       "      <td>NaN</td>\n",
       "      <td>S</td>\n",
       "    </tr>\n",
       "    <tr>\n",
       "      <th>3</th>\n",
       "      <td>4</td>\n",
       "      <td>1</td>\n",
       "      <td>1</td>\n",
       "      <td>Futrelle, Mrs. Jacques Heath (Lily May Peel)</td>\n",
       "      <td>female</td>\n",
       "      <td>35.0</td>\n",
       "      <td>1</td>\n",
       "      <td>0</td>\n",
       "      <td>113803</td>\n",
       "      <td>53.1000</td>\n",
       "      <td>C123</td>\n",
       "      <td>S</td>\n",
       "    </tr>\n",
       "    <tr>\n",
       "      <th>4</th>\n",
       "      <td>5</td>\n",
       "      <td>0</td>\n",
       "      <td>3</td>\n",
       "      <td>Allen, Mr. William Henry</td>\n",
       "      <td>male</td>\n",
       "      <td>35.0</td>\n",
       "      <td>0</td>\n",
       "      <td>0</td>\n",
       "      <td>373450</td>\n",
       "      <td>8.0500</td>\n",
       "      <td>NaN</td>\n",
       "      <td>S</td>\n",
       "    </tr>\n",
       "  </tbody>\n",
       "</table>\n",
       "</div>"
      ],
      "text/plain": [
       "   PassengerId  Survived  Pclass  \\\n",
       "0            1         0       3   \n",
       "1            2         1       1   \n",
       "2            3         1       3   \n",
       "3            4         1       1   \n",
       "4            5         0       3   \n",
       "\n",
       "                                                Name     Sex   Age  SibSp  \\\n",
       "0                            Braund, Mr. Owen Harris    male  22.0      1   \n",
       "1  Cumings, Mrs. John Bradley (Florence Briggs Th...  female  38.0      1   \n",
       "2                             Heikkinen, Miss. Laina  female  26.0      0   \n",
       "3       Futrelle, Mrs. Jacques Heath (Lily May Peel)  female  35.0      1   \n",
       "4                           Allen, Mr. William Henry    male  35.0      0   \n",
       "\n",
       "   Parch            Ticket     Fare Cabin Embarked  \n",
       "0      0         A/5 21171   7.2500   NaN        S  \n",
       "1      0          PC 17599  71.2833   C85        C  \n",
       "2      0  STON/O2. 3101282   7.9250   NaN        S  \n",
       "3      0            113803  53.1000  C123        S  \n",
       "4      0            373450   8.0500   NaN        S  "
      ]
     },
     "execution_count": 4,
     "metadata": {},
     "output_type": "execute_result"
    }
   ],
   "source": [
    "train_data.head()"
   ]
  },
  {
   "cell_type": "code",
   "execution_count": 5,
   "id": "c79bbc48",
   "metadata": {
    "execution": {
     "iopub.execute_input": "2025-02-17T14:26:40.597662Z",
     "iopub.status.busy": "2025-02-17T14:26:40.597281Z",
     "iopub.status.idle": "2025-02-17T14:26:40.608349Z",
     "shell.execute_reply": "2025-02-17T14:26:40.607290Z"
    },
    "papermill": {
     "duration": 0.018309,
     "end_time": "2025-02-17T14:26:40.610638",
     "exception": false,
     "start_time": "2025-02-17T14:26:40.592329",
     "status": "completed"
    },
    "tags": []
   },
   "outputs": [
    {
     "data": {
      "text/html": [
       "<div>\n",
       "<style scoped>\n",
       "    .dataframe tbody tr th:only-of-type {\n",
       "        vertical-align: middle;\n",
       "    }\n",
       "\n",
       "    .dataframe tbody tr th {\n",
       "        vertical-align: top;\n",
       "    }\n",
       "\n",
       "    .dataframe thead th {\n",
       "        text-align: right;\n",
       "    }\n",
       "</style>\n",
       "<table border=\"1\" class=\"dataframe\">\n",
       "  <thead>\n",
       "    <tr style=\"text-align: right;\">\n",
       "      <th></th>\n",
       "      <th>PassengerId</th>\n",
       "      <th>Pclass</th>\n",
       "      <th>Name</th>\n",
       "      <th>Sex</th>\n",
       "      <th>Age</th>\n",
       "      <th>SibSp</th>\n",
       "      <th>Parch</th>\n",
       "      <th>Ticket</th>\n",
       "      <th>Fare</th>\n",
       "      <th>Cabin</th>\n",
       "      <th>Embarked</th>\n",
       "    </tr>\n",
       "  </thead>\n",
       "  <tbody>\n",
       "    <tr>\n",
       "      <th>0</th>\n",
       "      <td>892</td>\n",
       "      <td>3</td>\n",
       "      <td>Kelly, Mr. James</td>\n",
       "      <td>male</td>\n",
       "      <td>34.5</td>\n",
       "      <td>0</td>\n",
       "      <td>0</td>\n",
       "      <td>330911</td>\n",
       "      <td>7.8292</td>\n",
       "      <td>NaN</td>\n",
       "      <td>Q</td>\n",
       "    </tr>\n",
       "    <tr>\n",
       "      <th>1</th>\n",
       "      <td>893</td>\n",
       "      <td>3</td>\n",
       "      <td>Wilkes, Mrs. James (Ellen Needs)</td>\n",
       "      <td>female</td>\n",
       "      <td>47.0</td>\n",
       "      <td>1</td>\n",
       "      <td>0</td>\n",
       "      <td>363272</td>\n",
       "      <td>7.0000</td>\n",
       "      <td>NaN</td>\n",
       "      <td>S</td>\n",
       "    </tr>\n",
       "    <tr>\n",
       "      <th>2</th>\n",
       "      <td>894</td>\n",
       "      <td>2</td>\n",
       "      <td>Myles, Mr. Thomas Francis</td>\n",
       "      <td>male</td>\n",
       "      <td>62.0</td>\n",
       "      <td>0</td>\n",
       "      <td>0</td>\n",
       "      <td>240276</td>\n",
       "      <td>9.6875</td>\n",
       "      <td>NaN</td>\n",
       "      <td>Q</td>\n",
       "    </tr>\n",
       "    <tr>\n",
       "      <th>3</th>\n",
       "      <td>895</td>\n",
       "      <td>3</td>\n",
       "      <td>Wirz, Mr. Albert</td>\n",
       "      <td>male</td>\n",
       "      <td>27.0</td>\n",
       "      <td>0</td>\n",
       "      <td>0</td>\n",
       "      <td>315154</td>\n",
       "      <td>8.6625</td>\n",
       "      <td>NaN</td>\n",
       "      <td>S</td>\n",
       "    </tr>\n",
       "    <tr>\n",
       "      <th>4</th>\n",
       "      <td>896</td>\n",
       "      <td>3</td>\n",
       "      <td>Hirvonen, Mrs. Alexander (Helga E Lindqvist)</td>\n",
       "      <td>female</td>\n",
       "      <td>22.0</td>\n",
       "      <td>1</td>\n",
       "      <td>1</td>\n",
       "      <td>3101298</td>\n",
       "      <td>12.2875</td>\n",
       "      <td>NaN</td>\n",
       "      <td>S</td>\n",
       "    </tr>\n",
       "  </tbody>\n",
       "</table>\n",
       "</div>"
      ],
      "text/plain": [
       "   PassengerId  Pclass                                          Name     Sex  \\\n",
       "0          892       3                              Kelly, Mr. James    male   \n",
       "1          893       3              Wilkes, Mrs. James (Ellen Needs)  female   \n",
       "2          894       2                     Myles, Mr. Thomas Francis    male   \n",
       "3          895       3                              Wirz, Mr. Albert    male   \n",
       "4          896       3  Hirvonen, Mrs. Alexander (Helga E Lindqvist)  female   \n",
       "\n",
       "    Age  SibSp  Parch   Ticket     Fare Cabin Embarked  \n",
       "0  34.5      0      0   330911   7.8292   NaN        Q  \n",
       "1  47.0      1      0   363272   7.0000   NaN        S  \n",
       "2  62.0      0      0   240276   9.6875   NaN        Q  \n",
       "3  27.0      0      0   315154   8.6625   NaN        S  \n",
       "4  22.0      1      1  3101298  12.2875   NaN        S  "
      ]
     },
     "execution_count": 5,
     "metadata": {},
     "output_type": "execute_result"
    }
   ],
   "source": [
    "teste_data.head()"
   ]
  },
  {
   "cell_type": "code",
   "execution_count": 6,
   "id": "d4328d9a",
   "metadata": {
    "execution": {
     "iopub.execute_input": "2025-02-17T14:26:40.622289Z",
     "iopub.status.busy": "2025-02-17T14:26:40.621592Z",
     "iopub.status.idle": "2025-02-17T14:26:40.655001Z",
     "shell.execute_reply": "2025-02-17T14:26:40.653080Z"
    },
    "papermill": {
     "duration": 0.041492,
     "end_time": "2025-02-17T14:26:40.657643",
     "exception": false,
     "start_time": "2025-02-17T14:26:40.616151",
     "status": "completed"
    },
    "tags": []
   },
   "outputs": [
    {
     "name": "stdout",
     "output_type": "stream",
     "text": [
      "<class 'pandas.core.frame.DataFrame'>\n",
      "RangeIndex: 891 entries, 0 to 890\n",
      "Data columns (total 12 columns):\n",
      " #   Column       Non-Null Count  Dtype  \n",
      "---  ------       --------------  -----  \n",
      " 0   PassengerId  891 non-null    int64  \n",
      " 1   Survived     891 non-null    int64  \n",
      " 2   Pclass       891 non-null    int64  \n",
      " 3   Name         891 non-null    object \n",
      " 4   Sex          891 non-null    object \n",
      " 5   Age          714 non-null    float64\n",
      " 6   SibSp        891 non-null    int64  \n",
      " 7   Parch        891 non-null    int64  \n",
      " 8   Ticket       891 non-null    object \n",
      " 9   Fare         891 non-null    float64\n",
      " 10  Cabin        204 non-null    object \n",
      " 11  Embarked     889 non-null    object \n",
      "dtypes: float64(2), int64(5), object(5)\n",
      "memory usage: 83.7+ KB\n"
     ]
    }
   ],
   "source": [
    "train_data.info()"
   ]
  },
  {
   "cell_type": "markdown",
   "id": "b887fbbc",
   "metadata": {
    "papermill": {
     "duration": 0.004168,
     "end_time": "2025-02-17T14:26:40.667139",
     "exception": false,
     "start_time": "2025-02-17T14:26:40.662971",
     "status": "completed"
    },
    "tags": []
   },
   "source": [
    "* Categorical Features: Sex, Survived, PClass, Embarked\n",
    "* Numerical Features: Age (Continua), Fare (Continua), SibSp (Discreta), Parch (Discreta)\n",
    "* Alphanumeric: Cabin, Ticket\n"
   ]
  },
  {
   "cell_type": "markdown",
   "id": "323f9aab",
   "metadata": {
    "papermill": {
     "duration": 0.003814,
     "end_time": "2025-02-17T14:26:40.675350",
     "exception": false,
     "start_time": "2025-02-17T14:26:40.671536",
     "status": "completed"
    },
    "tags": []
   },
   "source": [
    "## *Tratamento dos dados Nulos*"
   ]
  },
  {
   "cell_type": "code",
   "execution_count": 7,
   "id": "fb5a02dd",
   "metadata": {
    "execution": {
     "iopub.execute_input": "2025-02-17T14:26:40.684990Z",
     "iopub.status.busy": "2025-02-17T14:26:40.684662Z",
     "iopub.status.idle": "2025-02-17T14:26:40.694149Z",
     "shell.execute_reply": "2025-02-17T14:26:40.692282Z"
    },
    "papermill": {
     "duration": 0.017085,
     "end_time": "2025-02-17T14:26:40.696639",
     "exception": false,
     "start_time": "2025-02-17T14:26:40.679554",
     "status": "completed"
    },
    "tags": []
   },
   "outputs": [
    {
     "data": {
      "text/plain": [
       "PassengerId      0\n",
       "Survived         0\n",
       "Pclass           0\n",
       "Name             0\n",
       "Sex              0\n",
       "Age            177\n",
       "SibSp            0\n",
       "Parch            0\n",
       "Ticket           0\n",
       "Fare             0\n",
       "Cabin          687\n",
       "Embarked         2\n",
       "dtype: int64"
      ]
     },
     "execution_count": 7,
     "metadata": {},
     "output_type": "execute_result"
    }
   ],
   "source": [
    "train_data.isnull().sum()"
   ]
  },
  {
   "cell_type": "code",
   "execution_count": 8,
   "id": "8e6dc13b",
   "metadata": {
    "execution": {
     "iopub.execute_input": "2025-02-17T14:26:40.708512Z",
     "iopub.status.busy": "2025-02-17T14:26:40.708149Z",
     "iopub.status.idle": "2025-02-17T14:26:40.718108Z",
     "shell.execute_reply": "2025-02-17T14:26:40.716469Z"
    },
    "papermill": {
     "duration": 0.017938,
     "end_time": "2025-02-17T14:26:40.720151",
     "exception": false,
     "start_time": "2025-02-17T14:26:40.702213",
     "status": "completed"
    },
    "tags": []
   },
   "outputs": [],
   "source": [
    "train_features = ['Age', 'Fare', 'SibSp', 'Parch', 'Survived']\n",
    "teste_features = ['Age', 'Fare', 'SibSp', 'Parch']\n",
    "#Criando dataframes com apenas numerical features\n",
    "train = train_data[train_features]\n",
    "teste = teste_data[teste_features] \n"
   ]
  },
  {
   "cell_type": "code",
   "execution_count": 9,
   "id": "273ab50f",
   "metadata": {
    "execution": {
     "iopub.execute_input": "2025-02-17T14:26:40.730400Z",
     "iopub.status.busy": "2025-02-17T14:26:40.729972Z",
     "iopub.status.idle": "2025-02-17T14:26:40.743924Z",
     "shell.execute_reply": "2025-02-17T14:26:40.742254Z"
    },
    "papermill": {
     "duration": 0.020848,
     "end_time": "2025-02-17T14:26:40.745646",
     "exception": false,
     "start_time": "2025-02-17T14:26:40.724798",
     "status": "completed"
    },
    "tags": []
   },
   "outputs": [
    {
     "data": {
      "text/html": [
       "<div>\n",
       "<style scoped>\n",
       "    .dataframe tbody tr th:only-of-type {\n",
       "        vertical-align: middle;\n",
       "    }\n",
       "\n",
       "    .dataframe tbody tr th {\n",
       "        vertical-align: top;\n",
       "    }\n",
       "\n",
       "    .dataframe thead th {\n",
       "        text-align: right;\n",
       "    }\n",
       "</style>\n",
       "<table border=\"1\" class=\"dataframe\">\n",
       "  <thead>\n",
       "    <tr style=\"text-align: right;\">\n",
       "      <th></th>\n",
       "      <th>Age</th>\n",
       "      <th>Fare</th>\n",
       "      <th>SibSp</th>\n",
       "      <th>Parch</th>\n",
       "      <th>Survived</th>\n",
       "    </tr>\n",
       "  </thead>\n",
       "  <tbody>\n",
       "    <tr>\n",
       "      <th>0</th>\n",
       "      <td>22.0</td>\n",
       "      <td>7.2500</td>\n",
       "      <td>1</td>\n",
       "      <td>0</td>\n",
       "      <td>0</td>\n",
       "    </tr>\n",
       "    <tr>\n",
       "      <th>1</th>\n",
       "      <td>38.0</td>\n",
       "      <td>71.2833</td>\n",
       "      <td>1</td>\n",
       "      <td>0</td>\n",
       "      <td>1</td>\n",
       "    </tr>\n",
       "    <tr>\n",
       "      <th>2</th>\n",
       "      <td>26.0</td>\n",
       "      <td>7.9250</td>\n",
       "      <td>0</td>\n",
       "      <td>0</td>\n",
       "      <td>1</td>\n",
       "    </tr>\n",
       "    <tr>\n",
       "      <th>3</th>\n",
       "      <td>35.0</td>\n",
       "      <td>53.1000</td>\n",
       "      <td>1</td>\n",
       "      <td>0</td>\n",
       "      <td>1</td>\n",
       "    </tr>\n",
       "    <tr>\n",
       "      <th>4</th>\n",
       "      <td>35.0</td>\n",
       "      <td>8.0500</td>\n",
       "      <td>0</td>\n",
       "      <td>0</td>\n",
       "      <td>0</td>\n",
       "    </tr>\n",
       "    <tr>\n",
       "      <th>...</th>\n",
       "      <td>...</td>\n",
       "      <td>...</td>\n",
       "      <td>...</td>\n",
       "      <td>...</td>\n",
       "      <td>...</td>\n",
       "    </tr>\n",
       "    <tr>\n",
       "      <th>885</th>\n",
       "      <td>39.0</td>\n",
       "      <td>29.1250</td>\n",
       "      <td>0</td>\n",
       "      <td>5</td>\n",
       "      <td>0</td>\n",
       "    </tr>\n",
       "    <tr>\n",
       "      <th>886</th>\n",
       "      <td>27.0</td>\n",
       "      <td>13.0000</td>\n",
       "      <td>0</td>\n",
       "      <td>0</td>\n",
       "      <td>0</td>\n",
       "    </tr>\n",
       "    <tr>\n",
       "      <th>887</th>\n",
       "      <td>19.0</td>\n",
       "      <td>30.0000</td>\n",
       "      <td>0</td>\n",
       "      <td>0</td>\n",
       "      <td>1</td>\n",
       "    </tr>\n",
       "    <tr>\n",
       "      <th>889</th>\n",
       "      <td>26.0</td>\n",
       "      <td>30.0000</td>\n",
       "      <td>0</td>\n",
       "      <td>0</td>\n",
       "      <td>1</td>\n",
       "    </tr>\n",
       "    <tr>\n",
       "      <th>890</th>\n",
       "      <td>32.0</td>\n",
       "      <td>7.7500</td>\n",
       "      <td>0</td>\n",
       "      <td>0</td>\n",
       "      <td>0</td>\n",
       "    </tr>\n",
       "  </tbody>\n",
       "</table>\n",
       "<p>714 rows × 5 columns</p>\n",
       "</div>"
      ],
      "text/plain": [
       "      Age     Fare  SibSp  Parch  Survived\n",
       "0    22.0   7.2500      1      0         0\n",
       "1    38.0  71.2833      1      0         1\n",
       "2    26.0   7.9250      0      0         1\n",
       "3    35.0  53.1000      1      0         1\n",
       "4    35.0   8.0500      0      0         0\n",
       "..    ...      ...    ...    ...       ...\n",
       "885  39.0  29.1250      0      5         0\n",
       "886  27.0  13.0000      0      0         0\n",
       "887  19.0  30.0000      0      0         1\n",
       "889  26.0  30.0000      0      0         1\n",
       "890  32.0   7.7500      0      0         0\n",
       "\n",
       "[714 rows x 5 columns]"
      ]
     },
     "execution_count": 9,
     "metadata": {},
     "output_type": "execute_result"
    }
   ],
   "source": [
    "train.dropna() # Removendo todas as variaveis NaN"
   ]
  },
  {
   "cell_type": "code",
   "execution_count": 10,
   "id": "3ce91fa3",
   "metadata": {
    "execution": {
     "iopub.execute_input": "2025-02-17T14:26:40.757165Z",
     "iopub.status.busy": "2025-02-17T14:26:40.756713Z",
     "iopub.status.idle": "2025-02-17T14:26:40.769527Z",
     "shell.execute_reply": "2025-02-17T14:26:40.768254Z"
    },
    "papermill": {
     "duration": 0.020954,
     "end_time": "2025-02-17T14:26:40.771957",
     "exception": false,
     "start_time": "2025-02-17T14:26:40.751003",
     "status": "completed"
    },
    "tags": []
   },
   "outputs": [
    {
     "data": {
      "text/html": [
       "<div>\n",
       "<style scoped>\n",
       "    .dataframe tbody tr th:only-of-type {\n",
       "        vertical-align: middle;\n",
       "    }\n",
       "\n",
       "    .dataframe tbody tr th {\n",
       "        vertical-align: top;\n",
       "    }\n",
       "\n",
       "    .dataframe thead th {\n",
       "        text-align: right;\n",
       "    }\n",
       "</style>\n",
       "<table border=\"1\" class=\"dataframe\">\n",
       "  <thead>\n",
       "    <tr style=\"text-align: right;\">\n",
       "      <th></th>\n",
       "      <th>Age</th>\n",
       "      <th>Fare</th>\n",
       "      <th>SibSp</th>\n",
       "      <th>Parch</th>\n",
       "    </tr>\n",
       "  </thead>\n",
       "  <tbody>\n",
       "    <tr>\n",
       "      <th>0</th>\n",
       "      <td>34.5</td>\n",
       "      <td>7.8292</td>\n",
       "      <td>0</td>\n",
       "      <td>0</td>\n",
       "    </tr>\n",
       "    <tr>\n",
       "      <th>1</th>\n",
       "      <td>47.0</td>\n",
       "      <td>7.0000</td>\n",
       "      <td>1</td>\n",
       "      <td>0</td>\n",
       "    </tr>\n",
       "    <tr>\n",
       "      <th>2</th>\n",
       "      <td>62.0</td>\n",
       "      <td>9.6875</td>\n",
       "      <td>0</td>\n",
       "      <td>0</td>\n",
       "    </tr>\n",
       "    <tr>\n",
       "      <th>3</th>\n",
       "      <td>27.0</td>\n",
       "      <td>8.6625</td>\n",
       "      <td>0</td>\n",
       "      <td>0</td>\n",
       "    </tr>\n",
       "    <tr>\n",
       "      <th>4</th>\n",
       "      <td>22.0</td>\n",
       "      <td>12.2875</td>\n",
       "      <td>1</td>\n",
       "      <td>1</td>\n",
       "    </tr>\n",
       "    <tr>\n",
       "      <th>...</th>\n",
       "      <td>...</td>\n",
       "      <td>...</td>\n",
       "      <td>...</td>\n",
       "      <td>...</td>\n",
       "    </tr>\n",
       "    <tr>\n",
       "      <th>413</th>\n",
       "      <td>0.0</td>\n",
       "      <td>8.0500</td>\n",
       "      <td>0</td>\n",
       "      <td>0</td>\n",
       "    </tr>\n",
       "    <tr>\n",
       "      <th>414</th>\n",
       "      <td>39.0</td>\n",
       "      <td>108.9000</td>\n",
       "      <td>0</td>\n",
       "      <td>0</td>\n",
       "    </tr>\n",
       "    <tr>\n",
       "      <th>415</th>\n",
       "      <td>38.5</td>\n",
       "      <td>7.2500</td>\n",
       "      <td>0</td>\n",
       "      <td>0</td>\n",
       "    </tr>\n",
       "    <tr>\n",
       "      <th>416</th>\n",
       "      <td>0.0</td>\n",
       "      <td>8.0500</td>\n",
       "      <td>0</td>\n",
       "      <td>0</td>\n",
       "    </tr>\n",
       "    <tr>\n",
       "      <th>417</th>\n",
       "      <td>0.0</td>\n",
       "      <td>22.3583</td>\n",
       "      <td>1</td>\n",
       "      <td>1</td>\n",
       "    </tr>\n",
       "  </tbody>\n",
       "</table>\n",
       "<p>418 rows × 4 columns</p>\n",
       "</div>"
      ],
      "text/plain": [
       "      Age      Fare  SibSp  Parch\n",
       "0    34.5    7.8292      0      0\n",
       "1    47.0    7.0000      1      0\n",
       "2    62.0    9.6875      0      0\n",
       "3    27.0    8.6625      0      0\n",
       "4    22.0   12.2875      1      1\n",
       "..    ...       ...    ...    ...\n",
       "413   0.0    8.0500      0      0\n",
       "414  39.0  108.9000      0      0\n",
       "415  38.5    7.2500      0      0\n",
       "416   0.0    8.0500      0      0\n",
       "417   0.0   22.3583      1      1\n",
       "\n",
       "[418 rows x 4 columns]"
      ]
     },
     "execution_count": 10,
     "metadata": {},
     "output_type": "execute_result"
    }
   ],
   "source": [
    "teste.fillna(0) # Substituindo variaveis NaN por 0"
   ]
  },
  {
   "cell_type": "markdown",
   "id": "d723b301",
   "metadata": {
    "papermill": {
     "duration": 0.004147,
     "end_time": "2025-02-17T14:26:40.781332",
     "exception": false,
     "start_time": "2025-02-17T14:26:40.777185",
     "status": "completed"
    },
    "tags": []
   },
   "source": [
    "## *Exploração banco de dados*"
   ]
  },
  {
   "cell_type": "code",
   "execution_count": 11,
   "id": "1db3c385",
   "metadata": {
    "execution": {
     "iopub.execute_input": "2025-02-17T14:26:40.791722Z",
     "iopub.status.busy": "2025-02-17T14:26:40.791387Z",
     "iopub.status.idle": "2025-02-17T14:26:41.284609Z",
     "shell.execute_reply": "2025-02-17T14:26:41.282221Z"
    },
    "papermill": {
     "duration": 0.501363,
     "end_time": "2025-02-17T14:26:41.287220",
     "exception": false,
     "start_time": "2025-02-17T14:26:40.785857",
     "status": "completed"
    },
    "tags": []
   },
   "outputs": [
    {
     "data": {
      "text/plain": [
       "<Axes: title={'center': 'Sobrevivencia por Grupo de Idade'}, xlabel='AgeGroup', ylabel='Survived'>"
      ]
     },
     "execution_count": 11,
     "metadata": {},
     "output_type": "execute_result"
    },
    {
     "data": {
      "image/png": "[encoded data removed]",
      "text/plain": [
       "<Figure size 1400x500 with 1 Axes>"
      ]
     },
     "metadata": {},
     "output_type": "display_data"
    }
   ],
   "source": [
    "bins = [0, 5, 15, 18, 24, 35, 50, 60, np.inf]\n",
    "\n",
    "labels = [0, 1, 2, 3, 4, 5, 6, 7]\n",
    "#labels = ['Bebe', 'Criança', 'Adolescente', 'Universitario', 'Jovem Adulto', 'Adulto', 'Senhor', 'Idoso']\n",
    "train['AgeGroup'] = pd.cut(train[\"Age\"], bins, labels = labels)\n",
    "teste['AgeGroup'] = pd.cut(teste[\"Age\"], bins, labels = labels)\n",
    "plt.figure(figsize=(14,5))\n",
    "plt.title('Sobrevivencia por Grupo de Idade')\n",
    "sns.barplot(x=\"AgeGroup\", y=\"Survived\", data=train)\n",
    "\n",
    "#train['AgeGroup'] = {'Bebe':0, 'Criança':1, 'Adolescente':2, 'Universitario':3, 'Jovem Adulto':4, 'Adulto':5, 'Senhor':6, 'Idoso':7}"
   ]
  },
  {
   "cell_type": "code",
   "execution_count": 12,
   "id": "48f835ee",
   "metadata": {
    "execution": {
     "iopub.execute_input": "2025-02-17T14:26:41.299910Z",
     "iopub.status.busy": "2025-02-17T14:26:41.299412Z",
     "iopub.status.idle": "2025-02-17T14:26:41.561322Z",
     "shell.execute_reply": "2025-02-17T14:26:41.558622Z"
    },
    "papermill": {
     "duration": 0.27083,
     "end_time": "2025-02-17T14:26:41.563833",
     "exception": false,
     "start_time": "2025-02-17T14:26:41.293003",
     "status": "completed"
    },
    "tags": []
   },
   "outputs": [
    {
     "data": {
      "text/plain": [
       "<Axes: xlabel='Parch', ylabel='Survived'>"
      ]
     },
     "execution_count": 12,
     "metadata": {},
     "output_type": "execute_result"
    },
    {
     "data": {
      "image/png": "[encoded data removed]",
      "text/plain": [
       "<Figure size 640x480 with 1 Axes>"
      ]
     },
     "metadata": {},
     "output_type": "display_data"
    }
   ],
   "source": [
    "sns.barplot(x=\"Parch\", y=\"Survived\", data=train)"
   ]
  },
  {
   "cell_type": "code",
   "execution_count": 13,
   "id": "4c621582",
   "metadata": {
    "execution": {
     "iopub.execute_input": "2025-02-17T14:26:41.577496Z",
     "iopub.status.busy": "2025-02-17T14:26:41.577102Z",
     "iopub.status.idle": "2025-02-17T14:26:41.827783Z",
     "shell.execute_reply": "2025-02-17T14:26:41.825483Z"
    },
    "papermill": {
     "duration": 0.259903,
     "end_time": "2025-02-17T14:26:41.830211",
     "exception": false,
     "start_time": "2025-02-17T14:26:41.570308",
     "status": "completed"
    },
    "tags": []
   },
   "outputs": [
    {
     "data": {
      "text/plain": [
       "<Axes: xlabel='SibSp', ylabel='Survived'>"
      ]
     },
     "execution_count": 13,
     "metadata": {},
     "output_type": "execute_result"
    },
    {
     "data": {
      "image/png": "[encoded data removed]",
      "text/plain": [
       "<Figure size 640x480 with 1 Axes>"
      ]
     },
     "metadata": {},
     "output_type": "display_data"
    }
   ],
   "source": [
    "sns.barplot(x=\"SibSp\", y=\"Survived\", data=train)"
   ]
  },
  {
   "cell_type": "markdown",
   "id": "f228fd51",
   "metadata": {
    "papermill": {
     "duration": 0.006283,
     "end_time": "2025-02-17T14:26:41.843838",
     "exception": false,
     "start_time": "2025-02-17T14:26:41.837555",
     "status": "completed"
    },
    "tags": []
   },
   "source": [
    "## *Treinando o modelo*"
   ]
  },
  {
   "cell_type": "code",
   "execution_count": 14,
   "id": "efe7afa9",
   "metadata": {
    "execution": {
     "iopub.execute_input": "2025-02-17T14:26:41.856871Z",
     "iopub.status.busy": "2025-02-17T14:26:41.856402Z",
     "iopub.status.idle": "2025-02-17T14:26:42.361290Z",
     "shell.execute_reply": "2025-02-17T14:26:42.360433Z"
    },
    "papermill": {
     "duration": 0.513827,
     "end_time": "2025-02-17T14:26:42.363365",
     "exception": false,
     "start_time": "2025-02-17T14:26:41.849538",
     "status": "completed"
    },
    "tags": []
   },
   "outputs": [],
   "source": [
    "from sklearn.model_selection import train_test_split\n",
    "\n",
    "X = train.drop(['Survived'], axis=1)\n",
    "X = X.dropna()\n",
    "Y = train['Survived']\n",
    "Y = Y.loc[X.index]\n",
    "\n",
    "x_train, x_val, y_train, y_val = train_test_split(X, Y, test_size = 0.20, random_state = 0)"
   ]
  },
  {
   "cell_type": "code",
   "execution_count": 15,
   "id": "962950d2",
   "metadata": {
    "execution": {
     "iopub.execute_input": "2025-02-17T14:26:42.379745Z",
     "iopub.status.busy": "2025-02-17T14:26:42.379392Z",
     "iopub.status.idle": "2025-02-17T14:26:43.184389Z",
     "shell.execute_reply": "2025-02-17T14:26:43.182361Z"
    },
    "papermill": {
     "duration": 0.816647,
     "end_time": "2025-02-17T14:26:43.186937",
     "exception": false,
     "start_time": "2025-02-17T14:26:42.370290",
     "status": "completed"
    },
    "tags": []
   },
   "outputs": [
    {
     "data": {
      "text/html": [
       "<style>#sk-container-id-1 {color: black;background-color: white;}#sk-container-id-1 pre{padding: 0;}#sk-container-id-1 div.sk-toggleable {background-color: white;}#sk-container-id-1 label.sk-toggleable__label {cursor: pointer;display: block;width: 100%;margin-bottom: 0;padding: 0.3em;box-sizing: border-box;text-align: center;}#sk-container-id-1 label.sk-toggleable__label-arrow:before {content: \"▸\";float: left;margin-right: 0.25em;color: #696969;}#sk-container-id-1 label.sk-toggleable__label-arrow:hover:before {color: black;}#sk-container-id-1 div.sk-estimator:hover label.sk-toggleable__label-arrow:before {color: black;}#sk-container-id-1 div.sk-toggleable__content {max-height: 0;max-width: 0;overflow: hidden;text-align: left;background-color: #f0f8ff;}#sk-container-id-1 div.sk-toggleable__content pre {margin: 0.2em;color: black;border-radius: 0.25em;background-color: #f0f8ff;}#sk-container-id-1 input.sk-toggleable__control:checked~div.sk-toggleable__content {max-height: 200px;max-width: 100%;overflow: auto;}#sk-container-id-1 input.sk-toggleable__control:checked~label.sk-toggleable__label-arrow:before {content: \"▾\";}#sk-container-id-1 div.sk-estimator input.sk-toggleable__control:checked~label.sk-toggleable__label {background-color: #d4ebff;}#sk-container-id-1 div.sk-label input.sk-toggleable__control:checked~label.sk-toggleable__label {background-color: #d4ebff;}#sk-container-id-1 input.sk-hidden--visually {border: 0;clip: rect(1px 1px 1px 1px);clip: rect(1px, 1px, 1px, 1px);height: 1px;margin: -1px;overflow: hidden;padding: 0;position: absolute;width: 1px;}#sk-container-id-1 div.sk-estimator {font-family: monospace;background-color: #f0f8ff;border: 1px dotted black;border-radius: 0.25em;box-sizing: border-box;margin-bottom: 0.5em;}#sk-container-id-1 div.sk-estimator:hover {background-color: #d4ebff;}#sk-container-id-1 div.sk-parallel-item::after {content: \"\";width: 100%;border-bottom: 1px solid gray;flex-grow: 1;}#sk-container-id-1 div.sk-label:hover label.sk-toggleable__label {background-color: #d4ebff;}#sk-container-id-1 div.sk-serial::before {content: \"\";position: absolute;border-left: 1px solid gray;box-sizing: border-box;top: 0;bottom: 0;left: 50%;z-index: 0;}#sk-container-id-1 div.sk-serial {display: flex;flex-direction: column;align-items: center;background-color: white;padding-right: 0.2em;padding-left: 0.2em;position: relative;}#sk-container-id-1 div.sk-item {position: relative;z-index: 1;}#sk-container-id-1 div.sk-parallel {display: flex;align-items: stretch;justify-content: center;background-color: white;position: relative;}#sk-container-id-1 div.sk-item::before, #sk-container-id-1 div.sk-parallel-item::before {content: \"\";position: absolute;border-left: 1px solid gray;box-sizing: border-box;top: 0;bottom: 0;left: 50%;z-index: -1;}#sk-container-id-1 div.sk-parallel-item {display: flex;flex-direction: column;z-index: 1;position: relative;background-color: white;}#sk-container-id-1 div.sk-parallel-item:first-child::after {align-self: flex-end;width: 50%;}#sk-container-id-1 div.sk-parallel-item:last-child::after {align-self: flex-start;width: 50%;}#sk-container-id-1 div.sk-parallel-item:only-child::after {width: 0;}#sk-container-id-1 div.sk-dashed-wrapped {border: 1px dashed gray;margin: 0 0.4em 0.5em 0.4em;box-sizing: border-box;padding-bottom: 0.4em;background-color: white;}#sk-container-id-1 div.sk-label label {font-family: monospace;font-weight: bold;display: inline-block;line-height: 1.2em;}#sk-container-id-1 div.sk-label-container {text-align: center;}#sk-container-id-1 div.sk-container {/* jupyter's `normalize.less` sets `[hidden] { display: none; }` but bootstrap.min.css set `[hidden] { display: none !important; }` so we also need the `!important` here to be able to override the default hidden behavior on the sphinx rendered scikit-learn.org. See: https://github.com/scikit-learn/scikit-learn/issues/21755 */display: inline-block !important;position: relative;}#sk-container-id-1 div.sk-text-repr-fallback {display: none;}</style><div id=\"sk-container-id-1\" class=\"sk-top-container\"><div class=\"sk-text-repr-fallback\"><pre>RandomForestClassifier()</pre><b>In a Jupyter environment, please rerun this cell to show the HTML representation or trust the notebook. <br />On GitHub, the HTML representation is unable to render, please try loading this page with nbviewer.org.</b></div><div class=\"sk-container\" hidden><div class=\"sk-item\"><div class=\"sk-estimator sk-toggleable\"><input class=\"sk-toggleable__control sk-hidden--visually\" id=\"sk-estimator-id-1\" type=\"checkbox\" checked><label for=\"sk-estimator-id-1\" class=\"sk-toggleable__label sk-toggleable__label-arrow\">RandomForestClassifier</label><div class=\"sk-toggleable__content\"><pre>RandomForestClassifier()</pre></div></div></div></div></div>"
      ],
      "text/plain": [
       "RandomForestClassifier()"
      ]
     },
     "execution_count": 15,
     "metadata": {},
     "output_type": "execute_result"
    }
   ],
   "source": [
    "from sklearn.ensemble import RandomForestClassifier\n",
    "from sklearn.metrics import accuracy_score\n",
    "\n",
    "randomforest = RandomForestClassifier()\n",
    "randomforest.fit(x_train, y_train)\n"
   ]
  },
  {
   "cell_type": "code",
   "execution_count": 16,
   "id": "6e76f31d",
   "metadata": {
    "execution": {
     "iopub.execute_input": "2025-02-17T14:26:43.201901Z",
     "iopub.status.busy": "2025-02-17T14:26:43.201547Z",
     "iopub.status.idle": "2025-02-17T14:26:43.218756Z",
     "shell.execute_reply": "2025-02-17T14:26:43.217078Z"
    },
    "papermill": {
     "duration": 0.026132,
     "end_time": "2025-02-17T14:26:43.220469",
     "exception": false,
     "start_time": "2025-02-17T14:26:43.194337",
     "status": "completed"
    },
    "tags": []
   },
   "outputs": [
    {
     "name": "stdout",
     "output_type": "stream",
     "text": [
      "65.03\n"
     ]
    }
   ],
   "source": [
    "y_pred = randomforest.predict(x_val)\n",
    "accuracy_randomforest = round(accuracy_score(y_pred, y_val) * 100, 2)\n",
    "print(accuracy_randomforest)"
   ]
  },
  {
   "cell_type": "markdown",
   "id": "eb797a08",
   "metadata": {
    "papermill": {
     "duration": 0.005736,
     "end_time": "2025-02-17T14:26:43.232672",
     "exception": false,
     "start_time": "2025-02-17T14:26:43.226936",
     "status": "completed"
    },
    "tags": []
   },
   "source": [
    "## *Utilizando todo o banco de dados*"
   ]
  },
  {
   "cell_type": "code",
   "execution_count": 17,
   "id": "858cb2bb",
   "metadata": {
    "execution": {
     "iopub.execute_input": "2025-02-17T14:26:43.245996Z",
     "iopub.status.busy": "2025-02-17T14:26:43.245572Z",
     "iopub.status.idle": "2025-02-17T14:26:43.402928Z",
     "shell.execute_reply": "2025-02-17T14:26:43.401398Z"
    },
    "papermill": {
     "duration": 0.166354,
     "end_time": "2025-02-17T14:26:43.404860",
     "exception": false,
     "start_time": "2025-02-17T14:26:43.238506",
     "status": "completed"
    },
    "tags": []
   },
   "outputs": [
    {
     "name": "stdout",
     "output_type": "stream",
     "text": [
      "74.13\n"
     ]
    }
   ],
   "source": [
    "from sklearn.model_selection import train_test_split\n",
    "\n",
    "X = train_data.drop(['Survived', 'Name', 'Sex', 'Ticket', 'Cabin', 'Embarked'], axis=1)\n",
    "X = X.dropna()\n",
    "Y = train_data['Survived']\n",
    "Y = Y.loc[X.index]\n",
    "x_train, x_val, y_train, y_val = train_test_split(X, Y, test_size = 0.20, random_state = 0)\n",
    "\n",
    "from sklearn.ensemble import RandomForestClassifier\n",
    "from sklearn.metrics import accuracy_score\n",
    "\n",
    "randomforest = RandomForestClassifier()\n",
    "randomforest.fit(x_train, y_train)\n",
    "\n",
    "y_pred = randomforest.predict(x_val)\n",
    "accuracy_randomforest = round(accuracy_score(y_pred, y_val) * 100, 2)\n",
    "print(accuracy_randomforest)"
   ]
  },
  {
   "cell_type": "code",
   "execution_count": 18,
   "id": "782109eb",
   "metadata": {
    "execution": {
     "iopub.execute_input": "2025-02-17T14:26:43.418882Z",
     "iopub.status.busy": "2025-02-17T14:26:43.418371Z",
     "iopub.status.idle": "2025-02-17T14:26:43.443923Z",
     "shell.execute_reply": "2025-02-17T14:26:43.442790Z"
    },
    "papermill": {
     "duration": 0.034622,
     "end_time": "2025-02-17T14:26:43.445898",
     "exception": false,
     "start_time": "2025-02-17T14:26:43.411276",
     "status": "completed"
    },
    "tags": []
   },
   "outputs": [],
   "source": [
    "X_teste = teste_data.drop(['Name', 'Sex', 'Ticket', 'Cabin', 'Embarked'], axis=1)\n",
    "X_teste = X_teste.dropna()\n",
    "teste_ids = teste_data[\"PassengerId\"]\n",
    "teste_ids = teste_ids.loc[X_teste.index]\n",
    "predictions = randomforest.predict(X_teste)\n",
    "submission = pd.DataFrame({\"PassengerId\": teste_ids, \"Survived\": predictions})\n",
    "submission.to_csv(\"submission.csv\", index=False)"
   ]
  },
  {
   "cell_type": "code",
   "execution_count": null,
   "id": "fb3d6fa0",
   "metadata": {
    "papermill": {
     "duration": 0.005669,
     "end_time": "2025-02-17T14:26:43.457877",
     "exception": false,
     "start_time": "2025-02-17T14:26:43.452208",
     "status": "completed"
    },
    "tags": []
   },
   "outputs": [],
   "source": []
  }
 ],
 "metadata": {
  "kaggle": {
   "accelerator": "none",
   "dataSources": [
    {
     "databundleVersionId": 26502,
     "sourceId": 3136,
     "sourceType": "competition"
    }
   ],
   "dockerImageVersionId": 30886,
   "isGpuEnabled": false,
   "isInternetEnabled": true,
   "language": "python",
   "sourceType": "notebook"
  },
  "kernelspec": {
   "display_name": "Python 3",
   "language": "python",
   "name": "python3"
  },
  "language_info": {
   "codemirror_mode": {
    "name": "ipython",
    "version": 3
   },
   "file_extension": ".py",
   "mimetype": "text/x-python",
   "name": "python",
   "nbconvert_exporter": "python",
   "pygments_lexer": "ipython3",
   "version": "3.10.12"
  },
  "papermill": {
   "default_parameters": {},
   "duration": 10.79279,
   "end_time": "2025-02-17T14:26:44.588976",
   "environment_variables": {},
   "exception": null,
   "input_path": "__notebook__.ipynb",
   "output_path": "__notebook__.ipynb",
   "parameters": {},
   "start_time": "2025-02-17T14:26:33.796186",
   "version": "2.6.0"
  }
 },
 "nbformat": 4,
 "nbformat_minor": 5
}
