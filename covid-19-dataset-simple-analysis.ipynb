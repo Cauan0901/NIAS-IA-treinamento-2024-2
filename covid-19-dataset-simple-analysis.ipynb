{
 "cells": [
  {
   "cell_type": "code",
   "execution_count": 1,
   "id": "74bf7dcf",
   "metadata": {
    "_cell_guid": "b1076dfc-b9ad-4769-8c92-a6c4dae69d19",
    "_uuid": "8f2839f25d086af736a60e9eeb907d3b93b6e0e5",
    "execution": {
     "iopub.execute_input": "2025-02-15T13:51:36.243620Z",
     "iopub.status.busy": "2025-02-15T13:51:36.243239Z",
     "iopub.status.idle": "2025-02-15T13:51:39.259104Z",
     "shell.execute_reply": "2025-02-15T13:51:39.257908Z"
    },
    "papermill": {
     "duration": 3.023645,
     "end_time": "2025-02-15T13:51:39.260465",
     "exception": false,
     "start_time": "2025-02-15T13:51:36.236820",
     "status": "completed"
    },
    "tags": []
   },
   "outputs": [
    {
     "name": "stdout",
     "output_type": "stream",
     "text": [
      "/kaggle/input/corona-virus-report/covid_19_clean_complete.csv\n",
      "/kaggle/input/corona-virus-report/country_wise_latest.csv\n",
      "/kaggle/input/corona-virus-report/day_wise.csv\n",
      "/kaggle/input/corona-virus-report/usa_county_wise.csv\n",
      "/kaggle/input/corona-virus-report/worldometer_data.csv\n",
      "/kaggle/input/corona-virus-report/full_grouped.csv\n"
     ]
    }
   ],
   "source": [
    "# This Python 3 environment comes with many helpful analytics libraries installed\n",
    "# It is defined by the kaggle/python Docker image: https://github.com/kaggle/docker-python\n",
    "# For example, here's several helpful packages to load\n",
    "\n",
    "import numpy as np # linear algebra\n",
    "import pandas as pd # data processing, CSV file I/O (e.g. pd.read_csv)\n",
    "pd.plotting.register_matplotlib_converters()\n",
    "import matplotlib.pyplot as plt\n",
    "%matplotlib inline\n",
    "import seaborn as sns\n",
    "# Input data files are available in the read-only \"../input/\" directory\n",
    "# For example, running this (by clicking run or pressing Shift+Enter) will list all files under the input directory\n",
    "\n",
    "import os\n",
    "for dirname, _, filenames in os.walk('/kaggle/input'):\n",
    "    for filename in filenames:\n",
    "        print(os.path.join(dirname, filename))\n",
    "\n",
    "# You can write up to 20GB to the current directory (/kaggle/working/) that gets preserved as output when you create a version using \"Save & Run All\" \n",
    "# You can also write temporary files to /kaggle/temp/, but they won't be saved outside of the current session"
   ]
  },
  {
   "cell_type": "markdown",
   "id": "b2eb7b43",
   "metadata": {
    "papermill": {
     "duration": 0.003865,
     "end_time": "2025-02-15T13:51:39.268960",
     "exception": false,
     "start_time": "2025-02-15T13:51:39.265095",
     "status": "completed"
    },
    "tags": []
   },
   "source": [
    "## **Lendo DataSet e apresentando**"
   ]
  },
  {
   "cell_type": "code",
   "execution_count": 2,
   "id": "73fa2c8a",
   "metadata": {
    "execution": {
     "iopub.execute_input": "2025-02-15T13:51:39.278164Z",
     "iopub.status.busy": "2025-02-15T13:51:39.277721Z",
     "iopub.status.idle": "2025-02-15T13:51:39.411397Z",
     "shell.execute_reply": "2025-02-15T13:51:39.410276Z"
    },
    "papermill": {
     "duration": 0.139905,
     "end_time": "2025-02-15T13:51:39.412889",
     "exception": false,
     "start_time": "2025-02-15T13:51:39.272984",
     "status": "completed"
    },
    "tags": []
   },
   "outputs": [
    {
     "data": {
      "text/html": [
       "<div>\n",
       "<style scoped>\n",
       "    .dataframe tbody tr th:only-of-type {\n",
       "        vertical-align: middle;\n",
       "    }\n",
       "\n",
       "    .dataframe tbody tr th {\n",
       "        vertical-align: top;\n",
       "    }\n",
       "\n",
       "    .dataframe thead th {\n",
       "        text-align: right;\n",
       "    }\n",
       "</style>\n",
       "<table border=\"1\" class=\"dataframe\">\n",
       "  <thead>\n",
       "    <tr style=\"text-align: right;\">\n",
       "      <th></th>\n",
       "      <th>Province/State</th>\n",
       "      <th>Country/Region</th>\n",
       "      <th>Lat</th>\n",
       "      <th>Long</th>\n",
       "      <th>Date</th>\n",
       "      <th>Confirmed</th>\n",
       "      <th>Deaths</th>\n",
       "      <th>Recovered</th>\n",
       "      <th>Active</th>\n",
       "      <th>WHO Region</th>\n",
       "    </tr>\n",
       "  </thead>\n",
       "  <tbody>\n",
       "    <tr>\n",
       "      <th>0</th>\n",
       "      <td>NaN</td>\n",
       "      <td>Afghanistan</td>\n",
       "      <td>33.939110</td>\n",
       "      <td>67.709953</td>\n",
       "      <td>2020-01-22</td>\n",
       "      <td>0</td>\n",
       "      <td>0</td>\n",
       "      <td>0</td>\n",
       "      <td>0</td>\n",
       "      <td>Eastern Mediterranean</td>\n",
       "    </tr>\n",
       "    <tr>\n",
       "      <th>1</th>\n",
       "      <td>NaN</td>\n",
       "      <td>Albania</td>\n",
       "      <td>41.153300</td>\n",
       "      <td>20.168300</td>\n",
       "      <td>2020-01-22</td>\n",
       "      <td>0</td>\n",
       "      <td>0</td>\n",
       "      <td>0</td>\n",
       "      <td>0</td>\n",
       "      <td>Europe</td>\n",
       "    </tr>\n",
       "    <tr>\n",
       "      <th>2</th>\n",
       "      <td>NaN</td>\n",
       "      <td>Algeria</td>\n",
       "      <td>28.033900</td>\n",
       "      <td>1.659600</td>\n",
       "      <td>2020-01-22</td>\n",
       "      <td>0</td>\n",
       "      <td>0</td>\n",
       "      <td>0</td>\n",
       "      <td>0</td>\n",
       "      <td>Africa</td>\n",
       "    </tr>\n",
       "    <tr>\n",
       "      <th>3</th>\n",
       "      <td>NaN</td>\n",
       "      <td>Andorra</td>\n",
       "      <td>42.506300</td>\n",
       "      <td>1.521800</td>\n",
       "      <td>2020-01-22</td>\n",
       "      <td>0</td>\n",
       "      <td>0</td>\n",
       "      <td>0</td>\n",
       "      <td>0</td>\n",
       "      <td>Europe</td>\n",
       "    </tr>\n",
       "    <tr>\n",
       "      <th>4</th>\n",
       "      <td>NaN</td>\n",
       "      <td>Angola</td>\n",
       "      <td>-11.202700</td>\n",
       "      <td>17.873900</td>\n",
       "      <td>2020-01-22</td>\n",
       "      <td>0</td>\n",
       "      <td>0</td>\n",
       "      <td>0</td>\n",
       "      <td>0</td>\n",
       "      <td>Africa</td>\n",
       "    </tr>\n",
       "    <tr>\n",
       "      <th>...</th>\n",
       "      <td>...</td>\n",
       "      <td>...</td>\n",
       "      <td>...</td>\n",
       "      <td>...</td>\n",
       "      <td>...</td>\n",
       "      <td>...</td>\n",
       "      <td>...</td>\n",
       "      <td>...</td>\n",
       "      <td>...</td>\n",
       "      <td>...</td>\n",
       "    </tr>\n",
       "    <tr>\n",
       "      <th>49063</th>\n",
       "      <td>NaN</td>\n",
       "      <td>Sao Tome and Principe</td>\n",
       "      <td>0.186400</td>\n",
       "      <td>6.613100</td>\n",
       "      <td>2020-07-27</td>\n",
       "      <td>865</td>\n",
       "      <td>14</td>\n",
       "      <td>734</td>\n",
       "      <td>117</td>\n",
       "      <td>Africa</td>\n",
       "    </tr>\n",
       "    <tr>\n",
       "      <th>49064</th>\n",
       "      <td>NaN</td>\n",
       "      <td>Yemen</td>\n",
       "      <td>15.552727</td>\n",
       "      <td>48.516388</td>\n",
       "      <td>2020-07-27</td>\n",
       "      <td>1691</td>\n",
       "      <td>483</td>\n",
       "      <td>833</td>\n",
       "      <td>375</td>\n",
       "      <td>Eastern Mediterranean</td>\n",
       "    </tr>\n",
       "    <tr>\n",
       "      <th>49065</th>\n",
       "      <td>NaN</td>\n",
       "      <td>Comoros</td>\n",
       "      <td>-11.645500</td>\n",
       "      <td>43.333300</td>\n",
       "      <td>2020-07-27</td>\n",
       "      <td>354</td>\n",
       "      <td>7</td>\n",
       "      <td>328</td>\n",
       "      <td>19</td>\n",
       "      <td>Africa</td>\n",
       "    </tr>\n",
       "    <tr>\n",
       "      <th>49066</th>\n",
       "      <td>NaN</td>\n",
       "      <td>Tajikistan</td>\n",
       "      <td>38.861000</td>\n",
       "      <td>71.276100</td>\n",
       "      <td>2020-07-27</td>\n",
       "      <td>7235</td>\n",
       "      <td>60</td>\n",
       "      <td>6028</td>\n",
       "      <td>1147</td>\n",
       "      <td>Europe</td>\n",
       "    </tr>\n",
       "    <tr>\n",
       "      <th>49067</th>\n",
       "      <td>NaN</td>\n",
       "      <td>Lesotho</td>\n",
       "      <td>-29.610000</td>\n",
       "      <td>28.233600</td>\n",
       "      <td>2020-07-27</td>\n",
       "      <td>505</td>\n",
       "      <td>12</td>\n",
       "      <td>128</td>\n",
       "      <td>365</td>\n",
       "      <td>Africa</td>\n",
       "    </tr>\n",
       "  </tbody>\n",
       "</table>\n",
       "<p>49068 rows × 10 columns</p>\n",
       "</div>"
      ],
      "text/plain": [
       "      Province/State         Country/Region        Lat       Long        Date  \\\n",
       "0                NaN            Afghanistan  33.939110  67.709953  2020-01-22   \n",
       "1                NaN                Albania  41.153300  20.168300  2020-01-22   \n",
       "2                NaN                Algeria  28.033900   1.659600  2020-01-22   \n",
       "3                NaN                Andorra  42.506300   1.521800  2020-01-22   \n",
       "4                NaN                 Angola -11.202700  17.873900  2020-01-22   \n",
       "...              ...                    ...        ...        ...         ...   \n",
       "49063            NaN  Sao Tome and Principe   0.186400   6.613100  2020-07-27   \n",
       "49064            NaN                  Yemen  15.552727  48.516388  2020-07-27   \n",
       "49065            NaN                Comoros -11.645500  43.333300  2020-07-27   \n",
       "49066            NaN             Tajikistan  38.861000  71.276100  2020-07-27   \n",
       "49067            NaN                Lesotho -29.610000  28.233600  2020-07-27   \n",
       "\n",
       "       Confirmed  Deaths  Recovered  Active             WHO Region  \n",
       "0              0       0          0       0  Eastern Mediterranean  \n",
       "1              0       0          0       0                 Europe  \n",
       "2              0       0          0       0                 Africa  \n",
       "3              0       0          0       0                 Europe  \n",
       "4              0       0          0       0                 Africa  \n",
       "...          ...     ...        ...     ...                    ...  \n",
       "49063        865      14        734     117                 Africa  \n",
       "49064       1691     483        833     375  Eastern Mediterranean  \n",
       "49065        354       7        328      19                 Africa  \n",
       "49066       7235      60       6028    1147                 Europe  \n",
       "49067        505      12        128     365                 Africa  \n",
       "\n",
       "[49068 rows x 10 columns]"
      ]
     },
     "execution_count": 2,
     "metadata": {},
     "output_type": "execute_result"
    }
   ],
   "source": [
    "df=pd.read_csv(\"/kaggle/input/corona-virus-report/covid_19_clean_complete.csv\")\n",
    "df"
   ]
  },
  {
   "cell_type": "markdown",
   "id": "4959a449",
   "metadata": {
    "papermill": {
     "duration": 0.006841,
     "end_time": "2025-02-15T13:51:39.427165",
     "exception": false,
     "start_time": "2025-02-15T13:51:39.420324",
     "status": "completed"
    },
    "tags": []
   },
   "source": [
    "## **Apresentando Informações de Linhas e Colunas**"
   ]
  },
  {
   "cell_type": "code",
   "execution_count": 3,
   "id": "36faa24b",
   "metadata": {
    "execution": {
     "iopub.execute_input": "2025-02-15T13:51:39.440086Z",
     "iopub.status.busy": "2025-02-15T13:51:39.439353Z",
     "iopub.status.idle": "2025-02-15T13:51:39.463313Z",
     "shell.execute_reply": "2025-02-15T13:51:39.462447Z"
    },
    "papermill": {
     "duration": 0.032053,
     "end_time": "2025-02-15T13:51:39.464608",
     "exception": false,
     "start_time": "2025-02-15T13:51:39.432555",
     "status": "completed"
    },
    "tags": []
   },
   "outputs": [
    {
     "name": "stdout",
     "output_type": "stream",
     "text": [
      "Quantidade de Linhas e Colunas:  (49068, 10)\n",
      "Colunas:  ['Province/State', 'Country/Region', 'Lat', 'Long', 'Date', 'Confirmed', 'Deaths', 'Recovered', 'Active', 'WHO Region']\n",
      "\n",
      "Tipo da Data: datetime64[ns]\n"
     ]
    }
   ],
   "source": [
    "print ('Quantidade de Linhas e Colunas: ', df.shape) # Demonstrando numero de linhas/colunas do dataframe\n",
    "print ('Colunas: ', list(df.columns)) # Mostrando as colunas\n",
    "\n",
    "\n",
    "df['Date'] = pd.to_datetime(df['Date'])\n",
    "print ('\\nTipo da Data:', df.Date.dtypes) # Trocando o tipo de informação que está na coluna de Date"
   ]
  },
  {
   "cell_type": "markdown",
   "id": "7b34bb0a",
   "metadata": {
    "papermill": {
     "duration": 0.004115,
     "end_time": "2025-02-15T13:51:39.473463",
     "exception": false,
     "start_time": "2025-02-15T13:51:39.469348",
     "status": "completed"
    },
    "tags": []
   },
   "source": [
    "## **Valores Estátisticos**"
   ]
  },
  {
   "cell_type": "code",
   "execution_count": 4,
   "id": "7af20a81",
   "metadata": {
    "execution": {
     "iopub.execute_input": "2025-02-15T13:51:39.483280Z",
     "iopub.status.busy": "2025-02-15T13:51:39.483002Z",
     "iopub.status.idle": "2025-02-15T13:51:39.531693Z",
     "shell.execute_reply": "2025-02-15T13:51:39.530560Z"
    },
    "papermill": {
     "duration": 0.055582,
     "end_time": "2025-02-15T13:51:39.533368",
     "exception": false,
     "start_time": "2025-02-15T13:51:39.477786",
     "status": "completed"
    },
    "tags": []
   },
   "outputs": [
    {
     "name": "stdout",
     "output_type": "stream",
     "text": [
      "                Lat          Long                           Date  \\\n",
      "count  49068.000000  49068.000000                          49068   \n",
      "mean      21.433730     23.528236  2020-04-24 11:59:59.999999744   \n",
      "min      -51.796300   -135.000000            2020-01-22 00:00:00   \n",
      "25%        7.873054    -15.310100            2020-03-08 18:00:00   \n",
      "50%       23.634500     21.745300            2020-04-24 12:00:00   \n",
      "75%       41.204380     80.771797            2020-06-10 06:00:00   \n",
      "max       71.706900    178.065000            2020-07-27 00:00:00   \n",
      "std       24.950320     70.442740                            NaN   \n",
      "\n",
      "          Confirmed         Deaths     Recovered        Active  \n",
      "count  4.906800e+04   49068.000000  4.906800e+04  4.906800e+04  \n",
      "mean   1.688490e+04     884.179160  7.915713e+03  8.085012e+03  \n",
      "min    0.000000e+00       0.000000  0.000000e+00 -1.400000e+01  \n",
      "25%    4.000000e+00       0.000000  0.000000e+00  0.000000e+00  \n",
      "50%    1.680000e+02       2.000000  2.900000e+01  2.600000e+01  \n",
      "75%    1.518250e+03      30.000000  6.660000e+02  6.060000e+02  \n",
      "max    4.290259e+06  148011.000000  1.846641e+06  2.816444e+06  \n",
      "std    1.273002e+05    6313.584411  5.480092e+04  7.625890e+04  \n",
      "\n",
      "      Country/Region  Deaths\n",
      "173              US  148011\n",
      "23           Brazil   87618\n",
      "177  United Kingdom   45759\n",
      "111          Mexico   44022\n",
      "85            Italy   35112\n",
      "79            India   33408\n",
      "61           France   30096\n",
      "157           Spain   28752\n",
      "132            Peru   18418\n",
      "81             Iran   15912\n"
     ]
    }
   ],
   "source": [
    "print ( df.describe() ) # Valores estátisticos\n",
    "\n",
    "d1=df.groupby(\"Country/Region\")[\"Deaths\"].max().reset_index() \n",
    "d1=d1.sort_values(\"Deaths\",ascending=False).head(10) # 10 Paises com mais mortes\n",
    "print ('\\n',d1)"
   ]
  },
  {
   "cell_type": "markdown",
   "id": "9ece47e1",
   "metadata": {
    "papermill": {
     "duration": 0.00413,
     "end_time": "2025-02-15T13:51:39.542330",
     "exception": false,
     "start_time": "2025-02-15T13:51:39.538200",
     "status": "completed"
    },
    "tags": []
   },
   "source": [
    "## **Provincias da China**"
   ]
  },
  {
   "cell_type": "code",
   "execution_count": 5,
   "id": "18453938",
   "metadata": {
    "execution": {
     "iopub.execute_input": "2025-02-15T13:51:39.552288Z",
     "iopub.status.busy": "2025-02-15T13:51:39.551927Z",
     "iopub.status.idle": "2025-02-15T13:51:39.572142Z",
     "shell.execute_reply": "2025-02-15T13:51:39.571072Z"
    },
    "papermill": {
     "duration": 0.027013,
     "end_time": "2025-02-15T13:51:39.573559",
     "exception": false,
     "start_time": "2025-02-15T13:51:39.546546",
     "status": "completed"
    },
    "tags": []
   },
   "outputs": [
    {
     "name": "stdout",
     "output_type": "stream",
     "text": [
      "\n",
      "       Province/State  Confirmed  Active  Deaths  Recovered\n",
      "48             Anhui          1       1       0          0\n",
      "49           Beijing         14      14       0          0\n",
      "50         Chongqing          6       6       0          0\n",
      "51            Fujian          1       1       0          0\n",
      "52             Gansu          0       0       0          0\n",
      "...              ...        ...     ...     ...        ...\n",
      "48883        Tianjin        204       6       3        195\n",
      "48884          Tibet          1       0       0          1\n",
      "48885       Xinjiang        311     235       3         73\n",
      "48886         Yunnan        190       2       2        186\n",
      "48887       Zhejiang       1270       1       1       1268\n",
      "\n",
      "[6204 rows x 5 columns]\n",
      "\n",
      "    Province/State  Confirmed\n",
      "13          Hubei      68135\n",
      "12      Hong Kong       2778\n",
      "5       Guangdong       1672\n",
      "11          Henan       1276\n",
      "32       Zhejiang       1270\n"
     ]
    }
   ],
   "source": [
    "provinces_china = df.loc[df['Country/Region'] == 'China']['Province/State'].unique() # Filtrando os dados que vem da China\n",
    "china_data = df[df['Province/State'].isin(provinces_china)] # Criando um dataframe apenas com esses dados\n",
    "china_filt = china_data[['Province/State', 'Confirmed', 'Active', 'Deaths', 'Recovered']] #Separando as informações que me interessam\n",
    "\n",
    "print(\"\\n\", china_filt) \n",
    "top_regions = china_filt.groupby(['Province/State'])['Confirmed'].max().reset_index() # Ordenando regiões com maior numero de confirmações\n",
    "top_regions = top_regions.sort_values('Confirmed', ascending = False).head(5) # Escolhendo as 5 maiores\n",
    "print ('\\n', top_regions) \n"
   ]
  },
  {
   "cell_type": "markdown",
   "id": "1cd0f88e",
   "metadata": {
    "papermill": {
     "duration": 0.004225,
     "end_time": "2025-02-15T13:51:39.582669",
     "exception": false,
     "start_time": "2025-02-15T13:51:39.578444",
     "status": "completed"
    },
    "tags": []
   },
   "source": [
    "## **Colunas com dados Perdidos**"
   ]
  },
  {
   "cell_type": "code",
   "execution_count": 6,
   "id": "ea58f78e",
   "metadata": {
    "execution": {
     "iopub.execute_input": "2025-02-15T13:51:39.592766Z",
     "iopub.status.busy": "2025-02-15T13:51:39.592407Z",
     "iopub.status.idle": "2025-02-15T13:51:39.665005Z",
     "shell.execute_reply": "2025-02-15T13:51:39.664196Z"
    },
    "papermill": {
     "duration": 0.07938,
     "end_time": "2025-02-15T13:51:39.666587",
     "exception": false,
     "start_time": "2025-02-15T13:51:39.587207",
     "status": "completed"
    },
    "tags": []
   },
   "outputs": [],
   "source": [
    "# Função que tenha uma linha do banco de dados como argumento\n",
    "def concat_province_country(row):\n",
    "    if pd.notna(row['Province/State']):\n",
    "        return f\"{row['Country/Region']}_{row['Province/State']}\"\n",
    "    else:\n",
    "        return row['Country/Region']\n",
    "\n",
    "# Faça uma cópia do banco de dados para poder retirar informações sem perder o banco de dados original\n",
    "df_concat = df.copy() # Banco de dados para concatenar e retirar apenas Country/Province\n",
    "df_new = df.copy() # Banco de dados para retirar outras informações\n",
    "\n",
    "df_concat = df.loc[df['Country/Region'] == 'China']\n",
    "china_new_data = df[df['Province/State'].isin(df_concat)]\n",
    "\n",
    "\n",
    "# Aplique, por meio do método “apply”, a função criada no item\n",
    "df_concat = df_concat.apply(concat_province_country, axis=1)\n",
    "\n",
    "# Apagando a coluna de province/state\n",
    "df_new.drop(columns=['Province/State'], inplace=True)"
   ]
  },
  {
   "cell_type": "code",
   "execution_count": 7,
   "id": "9f4984ab",
   "metadata": {
    "execution": {
     "iopub.execute_input": "2025-02-15T13:51:39.677231Z",
     "iopub.status.busy": "2025-02-15T13:51:39.676940Z",
     "iopub.status.idle": "2025-02-15T13:51:39.690895Z",
     "shell.execute_reply": "2025-02-15T13:51:39.689867Z"
    },
    "papermill": {
     "duration": 0.020876,
     "end_time": "2025-02-15T13:51:39.692311",
     "exception": false,
     "start_time": "2025-02-15T13:51:39.671435",
     "status": "completed"
    },
    "tags": []
   },
   "outputs": [
    {
     "name": "stdout",
     "output_type": "stream",
     "text": [
      "              Country/Region        Lat       Long       Date  Confirmed  \\\n",
      "0                Afghanistan  33.939110  67.709953 2020-01-22          0   \n",
      "1                    Albania  41.153300  20.168300 2020-01-22          0   \n",
      "2                    Algeria  28.033900   1.659600 2020-01-22          0   \n",
      "3                    Andorra  42.506300   1.521800 2020-01-22          0   \n",
      "4                     Angola -11.202700  17.873900 2020-01-22          0   \n",
      "...                      ...        ...        ...        ...        ...   \n",
      "49063  Sao Tome and Principe   0.186400   6.613100 2020-07-27        865   \n",
      "49064                  Yemen  15.552727  48.516388 2020-07-27       1691   \n",
      "49065                Comoros -11.645500  43.333300 2020-07-27        354   \n",
      "49066             Tajikistan  38.861000  71.276100 2020-07-27       7235   \n",
      "49067                Lesotho -29.610000  28.233600 2020-07-27        505   \n",
      "\n",
      "       Deaths  Recovered  Active             WHO Region Country/Province  \n",
      "0           0          0       0  Eastern Mediterranean              NaN  \n",
      "1           0          0       0                 Europe              NaN  \n",
      "2           0          0       0                 Africa              NaN  \n",
      "3           0          0       0                 Europe              NaN  \n",
      "4           0          0       0                 Africa              NaN  \n",
      "...       ...        ...     ...                    ...              ...  \n",
      "49063      14        734     117                 Africa              NaN  \n",
      "49064     483        833     375  Eastern Mediterranean              NaN  \n",
      "49065       7        328      19                 Africa              NaN  \n",
      "49066      60       6028    1147                 Europe              NaN  \n",
      "49067      12        128     365                 Africa              NaN  \n",
      "\n",
      "[49068 rows x 10 columns]\n"
     ]
    }
   ],
   "source": [
    "df_new['Country/Province'] = df_concat # Criando no banco de dados novos uma coluna com os valores concatenados\n",
    "print(df_new)\n",
    "df_new = df_new.loc[df_new['Country/Region'] == 'China'] # Filtrando valores do banco de dados para termos dados apenas da China"
   ]
  },
  {
   "cell_type": "code",
   "execution_count": 8,
   "id": "82b3697a",
   "metadata": {
    "execution": {
     "iopub.execute_input": "2025-02-15T13:51:39.702553Z",
     "iopub.status.busy": "2025-02-15T13:51:39.702245Z",
     "iopub.status.idle": "2025-02-15T13:51:39.712886Z",
     "shell.execute_reply": "2025-02-15T13:51:39.711844Z"
    },
    "papermill": {
     "duration": 0.016969,
     "end_time": "2025-02-15T13:51:39.714092",
     "exception": false,
     "start_time": "2025-02-15T13:51:39.697123",
     "status": "completed"
    },
    "tags": []
   },
   "outputs": [
    {
     "name": "stdout",
     "output_type": "stream",
     "text": [
      "           Lat      Long       Date  Confirmed  Deaths  Recovered  Active  \\\n",
      "48     31.8257  117.2264 2020-01-22          1       0          0       1   \n",
      "49     40.1824  116.4142 2020-01-22         14       0          0      14   \n",
      "50     30.0572  107.8740 2020-01-22          6       0          0       6   \n",
      "51     26.0789  117.9874 2020-01-22          1       0          0       1   \n",
      "52     35.7518  104.2861 2020-01-22          0       0          0       0   \n",
      "...        ...       ...        ...        ...     ...        ...     ...   \n",
      "48883  39.3054  117.3230 2020-07-27        204       3        195       6   \n",
      "48884  31.6927   88.0924 2020-07-27          1       0          1       0   \n",
      "48885  41.1129   85.2401 2020-07-27        311       3         73     235   \n",
      "48886  24.9740  101.4870 2020-07-27        190       2        186       2   \n",
      "48887  29.1832  120.0934 2020-07-27       1270       1       1268       1   \n",
      "\n",
      "            WHO Region Country/Province  \n",
      "48     Western Pacific      China_Anhui  \n",
      "49     Western Pacific    China_Beijing  \n",
      "50     Western Pacific  China_Chongqing  \n",
      "51     Western Pacific     China_Fujian  \n",
      "52     Western Pacific      China_Gansu  \n",
      "...                ...              ...  \n",
      "48883  Western Pacific    China_Tianjin  \n",
      "48884  Western Pacific      China_Tibet  \n",
      "48885  Western Pacific   China_Xinjiang  \n",
      "48886  Western Pacific     China_Yunnan  \n",
      "48887  Western Pacific   China_Zhejiang  \n",
      "\n",
      "[6204 rows x 9 columns]\n"
     ]
    }
   ],
   "source": [
    "china_new = df_new.dropna(subset=['Country/Province']) # Apagando da nova coluna os Valores NaN tendo assim uma tabela filtrada apenas com dados da china\n",
    "china_new.drop(columns=['Country/Region'], inplace=True) # Apagando a coluna que não será mais utilizada\n",
    "print(china_new)\n",
    "    "
   ]
  },
  {
   "cell_type": "markdown",
   "id": "e1bd29b6",
   "metadata": {
    "papermill": {
     "duration": 0.004603,
     "end_time": "2025-02-15T13:51:39.723824",
     "exception": false,
     "start_time": "2025-02-15T13:51:39.719221",
     "status": "completed"
    },
    "tags": []
   },
   "source": [
    "## **Novo dataframe, arquivo Worldmeter**"
   ]
  },
  {
   "cell_type": "code",
   "execution_count": 9,
   "id": "7ac1261c",
   "metadata": {
    "execution": {
     "iopub.execute_input": "2025-02-15T13:51:39.734534Z",
     "iopub.status.busy": "2025-02-15T13:51:39.734164Z",
     "iopub.status.idle": "2025-02-15T13:51:39.767293Z",
     "shell.execute_reply": "2025-02-15T13:51:39.766101Z"
    },
    "papermill": {
     "duration": 0.040155,
     "end_time": "2025-02-15T13:51:39.768475",
     "exception": false,
     "start_time": "2025-02-15T13:51:39.728320",
     "status": "completed"
    },
    "tags": []
   },
   "outputs": [
    {
     "name": "stderr",
     "output_type": "stream",
     "text": [
      "/usr/local/lib/python3.10/dist-packages/pandas/io/formats/format.py:1458: RuntimeWarning: invalid value encountered in greater\n",
      "  has_large_values = (abs_vals > 1e6).any()\n",
      "/usr/local/lib/python3.10/dist-packages/pandas/io/formats/format.py:1459: RuntimeWarning: invalid value encountered in less\n",
      "  has_small_values = ((abs_vals < 10 ** (-self.digits)) & (abs_vals > 0)).any()\n",
      "/usr/local/lib/python3.10/dist-packages/pandas/io/formats/format.py:1459: RuntimeWarning: invalid value encountered in greater\n",
      "  has_small_values = ((abs_vals < 10 ** (-self.digits)) & (abs_vals > 0)).any()\n"
     ]
    },
    {
     "data": {
      "text/html": [
       "<div>\n",
       "<style scoped>\n",
       "    .dataframe tbody tr th:only-of-type {\n",
       "        vertical-align: middle;\n",
       "    }\n",
       "\n",
       "    .dataframe tbody tr th {\n",
       "        vertical-align: top;\n",
       "    }\n",
       "\n",
       "    .dataframe thead th {\n",
       "        text-align: right;\n",
       "    }\n",
       "</style>\n",
       "<table border=\"1\" class=\"dataframe\">\n",
       "  <thead>\n",
       "    <tr style=\"text-align: right;\">\n",
       "      <th></th>\n",
       "      <th>Country/Region</th>\n",
       "      <th>Continent</th>\n",
       "      <th>Population</th>\n",
       "      <th>TotalCases</th>\n",
       "      <th>NewCases</th>\n",
       "      <th>TotalDeaths</th>\n",
       "      <th>NewDeaths</th>\n",
       "      <th>TotalRecovered</th>\n",
       "      <th>NewRecovered</th>\n",
       "      <th>ActiveCases</th>\n",
       "      <th>Serious,Critical</th>\n",
       "      <th>Tot Cases/1M pop</th>\n",
       "      <th>Deaths/1M pop</th>\n",
       "      <th>TotalTests</th>\n",
       "      <th>Tests/1M pop</th>\n",
       "      <th>WHO Region</th>\n",
       "    </tr>\n",
       "  </thead>\n",
       "  <tbody>\n",
       "    <tr>\n",
       "      <th>0</th>\n",
       "      <td>USA</td>\n",
       "      <td>North America</td>\n",
       "      <td>3.311981e+08</td>\n",
       "      <td>5032179</td>\n",
       "      <td>NaN</td>\n",
       "      <td>162804.0</td>\n",
       "      <td>NaN</td>\n",
       "      <td>2576668.0</td>\n",
       "      <td>NaN</td>\n",
       "      <td>2292707.0</td>\n",
       "      <td>18296.0</td>\n",
       "      <td>15194.0</td>\n",
       "      <td>492.0</td>\n",
       "      <td>63139605.0</td>\n",
       "      <td>190640.0</td>\n",
       "      <td>Americas</td>\n",
       "    </tr>\n",
       "    <tr>\n",
       "      <th>1</th>\n",
       "      <td>Brazil</td>\n",
       "      <td>South America</td>\n",
       "      <td>2.127107e+08</td>\n",
       "      <td>2917562</td>\n",
       "      <td>NaN</td>\n",
       "      <td>98644.0</td>\n",
       "      <td>NaN</td>\n",
       "      <td>2047660.0</td>\n",
       "      <td>NaN</td>\n",
       "      <td>771258.0</td>\n",
       "      <td>8318.0</td>\n",
       "      <td>13716.0</td>\n",
       "      <td>464.0</td>\n",
       "      <td>13206188.0</td>\n",
       "      <td>62085.0</td>\n",
       "      <td>Americas</td>\n",
       "    </tr>\n",
       "    <tr>\n",
       "      <th>2</th>\n",
       "      <td>India</td>\n",
       "      <td>Asia</td>\n",
       "      <td>1.381345e+09</td>\n",
       "      <td>2025409</td>\n",
       "      <td>NaN</td>\n",
       "      <td>41638.0</td>\n",
       "      <td>NaN</td>\n",
       "      <td>1377384.0</td>\n",
       "      <td>NaN</td>\n",
       "      <td>606387.0</td>\n",
       "      <td>8944.0</td>\n",
       "      <td>1466.0</td>\n",
       "      <td>30.0</td>\n",
       "      <td>22149351.0</td>\n",
       "      <td>16035.0</td>\n",
       "      <td>South-EastAsia</td>\n",
       "    </tr>\n",
       "    <tr>\n",
       "      <th>3</th>\n",
       "      <td>Russia</td>\n",
       "      <td>Europe</td>\n",
       "      <td>1.459409e+08</td>\n",
       "      <td>871894</td>\n",
       "      <td>NaN</td>\n",
       "      <td>14606.0</td>\n",
       "      <td>NaN</td>\n",
       "      <td>676357.0</td>\n",
       "      <td>NaN</td>\n",
       "      <td>180931.0</td>\n",
       "      <td>2300.0</td>\n",
       "      <td>5974.0</td>\n",
       "      <td>100.0</td>\n",
       "      <td>29716907.0</td>\n",
       "      <td>203623.0</td>\n",
       "      <td>Europe</td>\n",
       "    </tr>\n",
       "    <tr>\n",
       "      <th>4</th>\n",
       "      <td>South Africa</td>\n",
       "      <td>Africa</td>\n",
       "      <td>5.938157e+07</td>\n",
       "      <td>538184</td>\n",
       "      <td>NaN</td>\n",
       "      <td>9604.0</td>\n",
       "      <td>NaN</td>\n",
       "      <td>387316.0</td>\n",
       "      <td>NaN</td>\n",
       "      <td>141264.0</td>\n",
       "      <td>539.0</td>\n",
       "      <td>9063.0</td>\n",
       "      <td>162.0</td>\n",
       "      <td>3149807.0</td>\n",
       "      <td>53044.0</td>\n",
       "      <td>Africa</td>\n",
       "    </tr>\n",
       "    <tr>\n",
       "      <th>...</th>\n",
       "      <td>...</td>\n",
       "      <td>...</td>\n",
       "      <td>...</td>\n",
       "      <td>...</td>\n",
       "      <td>...</td>\n",
       "      <td>...</td>\n",
       "      <td>...</td>\n",
       "      <td>...</td>\n",
       "      <td>...</td>\n",
       "      <td>...</td>\n",
       "      <td>...</td>\n",
       "      <td>...</td>\n",
       "      <td>...</td>\n",
       "      <td>...</td>\n",
       "      <td>...</td>\n",
       "      <td>...</td>\n",
       "    </tr>\n",
       "    <tr>\n",
       "      <th>204</th>\n",
       "      <td>Montserrat</td>\n",
       "      <td>North America</td>\n",
       "      <td>4.992000e+03</td>\n",
       "      <td>13</td>\n",
       "      <td>NaN</td>\n",
       "      <td>1.0</td>\n",
       "      <td>NaN</td>\n",
       "      <td>10.0</td>\n",
       "      <td>NaN</td>\n",
       "      <td>2.0</td>\n",
       "      <td>NaN</td>\n",
       "      <td>2604.0</td>\n",
       "      <td>200.0</td>\n",
       "      <td>61.0</td>\n",
       "      <td>12220.0</td>\n",
       "      <td>NaN</td>\n",
       "    </tr>\n",
       "    <tr>\n",
       "      <th>205</th>\n",
       "      <td>Caribbean Netherlands</td>\n",
       "      <td>North America</td>\n",
       "      <td>2.624700e+04</td>\n",
       "      <td>13</td>\n",
       "      <td>NaN</td>\n",
       "      <td>NaN</td>\n",
       "      <td>NaN</td>\n",
       "      <td>7.0</td>\n",
       "      <td>NaN</td>\n",
       "      <td>6.0</td>\n",
       "      <td>NaN</td>\n",
       "      <td>495.0</td>\n",
       "      <td>NaN</td>\n",
       "      <td>424.0</td>\n",
       "      <td>16154.0</td>\n",
       "      <td>NaN</td>\n",
       "    </tr>\n",
       "    <tr>\n",
       "      <th>206</th>\n",
       "      <td>Falkland Islands</td>\n",
       "      <td>South America</td>\n",
       "      <td>3.489000e+03</td>\n",
       "      <td>13</td>\n",
       "      <td>NaN</td>\n",
       "      <td>NaN</td>\n",
       "      <td>NaN</td>\n",
       "      <td>13.0</td>\n",
       "      <td>NaN</td>\n",
       "      <td>0.0</td>\n",
       "      <td>NaN</td>\n",
       "      <td>3726.0</td>\n",
       "      <td>NaN</td>\n",
       "      <td>1816.0</td>\n",
       "      <td>520493.0</td>\n",
       "      <td>NaN</td>\n",
       "    </tr>\n",
       "    <tr>\n",
       "      <th>207</th>\n",
       "      <td>Vatican City</td>\n",
       "      <td>Europe</td>\n",
       "      <td>8.010000e+02</td>\n",
       "      <td>12</td>\n",
       "      <td>NaN</td>\n",
       "      <td>NaN</td>\n",
       "      <td>NaN</td>\n",
       "      <td>12.0</td>\n",
       "      <td>NaN</td>\n",
       "      <td>0.0</td>\n",
       "      <td>NaN</td>\n",
       "      <td>14981.0</td>\n",
       "      <td>NaN</td>\n",
       "      <td>NaN</td>\n",
       "      <td>NaN</td>\n",
       "      <td>Europe</td>\n",
       "    </tr>\n",
       "    <tr>\n",
       "      <th>208</th>\n",
       "      <td>Western Sahara</td>\n",
       "      <td>Africa</td>\n",
       "      <td>5.986820e+05</td>\n",
       "      <td>10</td>\n",
       "      <td>NaN</td>\n",
       "      <td>1.0</td>\n",
       "      <td>NaN</td>\n",
       "      <td>8.0</td>\n",
       "      <td>NaN</td>\n",
       "      <td>1.0</td>\n",
       "      <td>NaN</td>\n",
       "      <td>17.0</td>\n",
       "      <td>2.0</td>\n",
       "      <td>NaN</td>\n",
       "      <td>NaN</td>\n",
       "      <td>Africa</td>\n",
       "    </tr>\n",
       "  </tbody>\n",
       "</table>\n",
       "<p>209 rows × 16 columns</p>\n",
       "</div>"
      ],
      "text/plain": [
       "            Country/Region      Continent    Population  TotalCases  NewCases  \\\n",
       "0                      USA  North America  3.311981e+08     5032179       NaN   \n",
       "1                   Brazil  South America  2.127107e+08     2917562       NaN   \n",
       "2                    India           Asia  1.381345e+09     2025409       NaN   \n",
       "3                   Russia         Europe  1.459409e+08      871894       NaN   \n",
       "4             South Africa         Africa  5.938157e+07      538184       NaN   \n",
       "..                     ...            ...           ...         ...       ...   \n",
       "204             Montserrat  North America  4.992000e+03          13       NaN   \n",
       "205  Caribbean Netherlands  North America  2.624700e+04          13       NaN   \n",
       "206       Falkland Islands  South America  3.489000e+03          13       NaN   \n",
       "207           Vatican City         Europe  8.010000e+02          12       NaN   \n",
       "208         Western Sahara         Africa  5.986820e+05          10       NaN   \n",
       "\n",
       "     TotalDeaths  NewDeaths  TotalRecovered  NewRecovered  ActiveCases  \\\n",
       "0       162804.0        NaN       2576668.0           NaN    2292707.0   \n",
       "1        98644.0        NaN       2047660.0           NaN     771258.0   \n",
       "2        41638.0        NaN       1377384.0           NaN     606387.0   \n",
       "3        14606.0        NaN        676357.0           NaN     180931.0   \n",
       "4         9604.0        NaN        387316.0           NaN     141264.0   \n",
       "..           ...        ...             ...           ...          ...   \n",
       "204          1.0        NaN            10.0           NaN          2.0   \n",
       "205          NaN        NaN             7.0           NaN          6.0   \n",
       "206          NaN        NaN            13.0           NaN          0.0   \n",
       "207          NaN        NaN            12.0           NaN          0.0   \n",
       "208          1.0        NaN             8.0           NaN          1.0   \n",
       "\n",
       "     Serious,Critical  Tot Cases/1M pop  Deaths/1M pop  TotalTests  \\\n",
       "0             18296.0           15194.0          492.0  63139605.0   \n",
       "1              8318.0           13716.0          464.0  13206188.0   \n",
       "2              8944.0            1466.0           30.0  22149351.0   \n",
       "3              2300.0            5974.0          100.0  29716907.0   \n",
       "4               539.0            9063.0          162.0   3149807.0   \n",
       "..                ...               ...            ...         ...   \n",
       "204               NaN            2604.0          200.0        61.0   \n",
       "205               NaN             495.0            NaN       424.0   \n",
       "206               NaN            3726.0            NaN      1816.0   \n",
       "207               NaN           14981.0            NaN         NaN   \n",
       "208               NaN              17.0            2.0         NaN   \n",
       "\n",
       "     Tests/1M pop      WHO Region  \n",
       "0        190640.0        Americas  \n",
       "1         62085.0        Americas  \n",
       "2         16035.0  South-EastAsia  \n",
       "3        203623.0          Europe  \n",
       "4         53044.0          Africa  \n",
       "..            ...             ...  \n",
       "204       12220.0             NaN  \n",
       "205       16154.0             NaN  \n",
       "206      520493.0             NaN  \n",
       "207           NaN          Europe  \n",
       "208           NaN          Africa  \n",
       "\n",
       "[209 rows x 16 columns]"
      ]
     },
     "execution_count": 9,
     "metadata": {},
     "output_type": "execute_result"
    }
   ],
   "source": [
    "world_df = pd.read_csv(\"/kaggle/input/corona-virus-report/worldometer_data.csv\") # Importando dados do novo arquivo\n",
    "world_df"
   ]
  },
  {
   "cell_type": "markdown",
   "id": "cedf496a",
   "metadata": {
    "papermill": {
     "duration": 0.004558,
     "end_time": "2025-02-15T13:51:39.778197",
     "exception": false,
     "start_time": "2025-02-15T13:51:39.773639",
     "status": "completed"
    },
    "tags": []
   },
   "source": [
    "## **Filtrando as Informações Interessantes**"
   ]
  },
  {
   "cell_type": "code",
   "execution_count": 10,
   "id": "e0d8a8e9",
   "metadata": {
    "execution": {
     "iopub.execute_input": "2025-02-15T13:51:39.788938Z",
     "iopub.status.busy": "2025-02-15T13:51:39.788615Z",
     "iopub.status.idle": "2025-02-15T13:51:39.798735Z",
     "shell.execute_reply": "2025-02-15T13:51:39.797565Z"
    },
    "papermill": {
     "duration": 0.017585,
     "end_time": "2025-02-15T13:51:39.800530",
     "exception": false,
     "start_time": "2025-02-15T13:51:39.782945",
     "status": "completed"
    },
    "tags": []
   },
   "outputs": [
    {
     "data": {
      "text/html": [
       "<div>\n",
       "<style scoped>\n",
       "    .dataframe tbody tr th:only-of-type {\n",
       "        vertical-align: middle;\n",
       "    }\n",
       "\n",
       "    .dataframe tbody tr th {\n",
       "        vertical-align: top;\n",
       "    }\n",
       "\n",
       "    .dataframe thead th {\n",
       "        text-align: right;\n",
       "    }\n",
       "</style>\n",
       "<table border=\"1\" class=\"dataframe\">\n",
       "  <thead>\n",
       "    <tr style=\"text-align: right;\">\n",
       "      <th></th>\n",
       "      <th>Country/Region</th>\n",
       "      <th>Continent</th>\n",
       "      <th>Population</th>\n",
       "    </tr>\n",
       "  </thead>\n",
       "  <tbody>\n",
       "    <tr>\n",
       "      <th>0</th>\n",
       "      <td>USA</td>\n",
       "      <td>North America</td>\n",
       "      <td>3.311981e+08</td>\n",
       "    </tr>\n",
       "    <tr>\n",
       "      <th>1</th>\n",
       "      <td>Brazil</td>\n",
       "      <td>South America</td>\n",
       "      <td>2.127107e+08</td>\n",
       "    </tr>\n",
       "    <tr>\n",
       "      <th>2</th>\n",
       "      <td>India</td>\n",
       "      <td>Asia</td>\n",
       "      <td>1.381345e+09</td>\n",
       "    </tr>\n",
       "    <tr>\n",
       "      <th>3</th>\n",
       "      <td>Russia</td>\n",
       "      <td>Europe</td>\n",
       "      <td>1.459409e+08</td>\n",
       "    </tr>\n",
       "    <tr>\n",
       "      <th>4</th>\n",
       "      <td>South Africa</td>\n",
       "      <td>Africa</td>\n",
       "      <td>5.938157e+07</td>\n",
       "    </tr>\n",
       "    <tr>\n",
       "      <th>...</th>\n",
       "      <td>...</td>\n",
       "      <td>...</td>\n",
       "      <td>...</td>\n",
       "    </tr>\n",
       "    <tr>\n",
       "      <th>204</th>\n",
       "      <td>Montserrat</td>\n",
       "      <td>North America</td>\n",
       "      <td>4.992000e+03</td>\n",
       "    </tr>\n",
       "    <tr>\n",
       "      <th>205</th>\n",
       "      <td>Caribbean Netherlands</td>\n",
       "      <td>North America</td>\n",
       "      <td>2.624700e+04</td>\n",
       "    </tr>\n",
       "    <tr>\n",
       "      <th>206</th>\n",
       "      <td>Falkland Islands</td>\n",
       "      <td>South America</td>\n",
       "      <td>3.489000e+03</td>\n",
       "    </tr>\n",
       "    <tr>\n",
       "      <th>207</th>\n",
       "      <td>Vatican City</td>\n",
       "      <td>Europe</td>\n",
       "      <td>8.010000e+02</td>\n",
       "    </tr>\n",
       "    <tr>\n",
       "      <th>208</th>\n",
       "      <td>Western Sahara</td>\n",
       "      <td>Africa</td>\n",
       "      <td>5.986820e+05</td>\n",
       "    </tr>\n",
       "  </tbody>\n",
       "</table>\n",
       "<p>209 rows × 3 columns</p>\n",
       "</div>"
      ],
      "text/plain": [
       "            Country/Region      Continent    Population\n",
       "0                      USA  North America  3.311981e+08\n",
       "1                   Brazil  South America  2.127107e+08\n",
       "2                    India           Asia  1.381345e+09\n",
       "3                   Russia         Europe  1.459409e+08\n",
       "4             South Africa         Africa  5.938157e+07\n",
       "..                     ...            ...           ...\n",
       "204             Montserrat  North America  4.992000e+03\n",
       "205  Caribbean Netherlands  North America  2.624700e+04\n",
       "206       Falkland Islands  South America  3.489000e+03\n",
       "207           Vatican City         Europe  8.010000e+02\n",
       "208         Western Sahara         Africa  5.986820e+05\n",
       "\n",
       "[209 rows x 3 columns]"
      ]
     },
     "execution_count": 10,
     "metadata": {},
     "output_type": "execute_result"
    }
   ],
   "source": [
    "world_filt = world_df[['Country/Region', 'Continent', 'Population']] # Filtrando Infos\n",
    "\n",
    "world_filt"
   ]
  },
  {
   "cell_type": "markdown",
   "id": "a740b2b8",
   "metadata": {
    "papermill": {
     "duration": 0.00486,
     "end_time": "2025-02-15T13:51:39.810959",
     "exception": false,
     "start_time": "2025-02-15T13:51:39.806099",
     "status": "completed"
    },
    "tags": []
   },
   "source": [
    "## **Criando novo dataframe com as informações desejadas**"
   ]
  },
  {
   "cell_type": "code",
   "execution_count": 11,
   "id": "32a1e683",
   "metadata": {
    "execution": {
     "iopub.execute_input": "2025-02-15T13:51:39.821707Z",
     "iopub.status.busy": "2025-02-15T13:51:39.821359Z",
     "iopub.status.idle": "2025-02-15T13:51:39.848172Z",
     "shell.execute_reply": "2025-02-15T13:51:39.846993Z"
    },
    "papermill": {
     "duration": 0.033893,
     "end_time": "2025-02-15T13:51:39.849660",
     "exception": false,
     "start_time": "2025-02-15T13:51:39.815767",
     "status": "completed"
    },
    "tags": []
   },
   "outputs": [
    {
     "name": "stdout",
     "output_type": "stream",
     "text": [
      "     Country/Region  Deaths Continent  Population\n",
      "0       Afghanistan   49098      Asia  39009447.0\n",
      "1           Albania    5708    Europe   2877470.0\n",
      "2           Algeria   77972    Africa  43926079.0\n",
      "3           Andorra    5423    Europe     77278.0\n",
      "4            Angola    1078    Africa  32956300.0\n",
      "..              ...     ...       ...         ...\n",
      "166         Vietnam       0      Asia  97425470.0\n",
      "167  Western Sahara      63    Africa    598682.0\n",
      "168           Yemen   17707      Asia  29886897.0\n",
      "169          Zambia    2643    Africa  18430129.0\n",
      "170        Zimbabwe     881    Africa  14883803.0\n",
      "\n",
      "[171 rows x 4 columns]\n"
     ]
    }
   ],
   "source": [
    "country_df = df[['Country/Region', 'Deaths']] # Separando do arquivo original um arquivo com os dados interessantes\n",
    "country_df = country_df.groupby('Country/Region').sum().reset_index() # Agrupando por paises\n",
    "\n",
    "country_data = pd.merge(country_df, world_filt, on='Country/Region', how='inner') # Mesclando os 2 dataframes\n",
    "\n",
    "print(country_data)"
   ]
  },
  {
   "cell_type": "markdown",
   "id": "15efeee4",
   "metadata": {
    "papermill": {
     "duration": 0.004771,
     "end_time": "2025-02-15T13:51:39.860066",
     "exception": false,
     "start_time": "2025-02-15T13:51:39.855295",
     "status": "completed"
    },
    "tags": []
   },
   "source": [
    "## **Criando nova coluna com Mortes/População (Em Milhões)**"
   ]
  },
  {
   "cell_type": "code",
   "execution_count": 12,
   "id": "c6b48f9a",
   "metadata": {
    "execution": {
     "iopub.execute_input": "2025-02-15T13:51:39.871661Z",
     "iopub.status.busy": "2025-02-15T13:51:39.871264Z",
     "iopub.status.idle": "2025-02-15T13:51:39.880074Z",
     "shell.execute_reply": "2025-02-15T13:51:39.878697Z"
    },
    "papermill": {
     "duration": 0.016735,
     "end_time": "2025-02-15T13:51:39.881698",
     "exception": false,
     "start_time": "2025-02-15T13:51:39.864963",
     "status": "completed"
    },
    "tags": []
   },
   "outputs": [
    {
     "name": "stdout",
     "output_type": "stream",
     "text": [
      "     Country/Region  Deaths Continent  Population  \\\n",
      "0       Afghanistan   49098      Asia  39009447.0   \n",
      "1           Albania    5708    Europe   2877470.0   \n",
      "2           Algeria   77972    Africa  43926079.0   \n",
      "3           Andorra    5423    Europe     77278.0   \n",
      "4            Angola    1078    Africa  32956300.0   \n",
      "..              ...     ...       ...         ...   \n",
      "166         Vietnam       0      Asia  97425470.0   \n",
      "167  Western Sahara      63    Africa    598682.0   \n",
      "168           Yemen   17707      Asia  29886897.0   \n",
      "169          Zambia    2643    Africa  18430129.0   \n",
      "170        Zimbabwe     881    Africa  14883803.0   \n",
      "\n",
      "     Deaths/Population (In Millions)  \n",
      "0                       12586.182009  \n",
      "1                       19836.870584  \n",
      "2                       17750.730722  \n",
      "3                      701752.115738  \n",
      "4                         327.099826  \n",
      "..                               ...  \n",
      "166                         0.000000  \n",
      "167                      1052.311578  \n",
      "168                      5924.669931  \n",
      "169                      1434.064840  \n",
      "170                       591.918611  \n",
      "\n",
      "[171 rows x 5 columns]\n"
     ]
    }
   ],
   "source": [
    "country_data['Deaths/Population (In Millions)'] = (country_data['Deaths'] / country_data['Population']) * 10e6 # Nova tabela = formula\n",
    "\n",
    "print (country_data)"
   ]
  },
  {
   "cell_type": "markdown",
   "id": "1a540287",
   "metadata": {
    "papermill": {
     "duration": 0.004988,
     "end_time": "2025-02-15T13:51:39.892581",
     "exception": false,
     "start_time": "2025-02-15T13:51:39.887593",
     "status": "completed"
    },
    "tags": []
   },
   "source": [
    "## **Ranking, Top 10 Paises com mais Mortes/População **"
   ]
  },
  {
   "cell_type": "code",
   "execution_count": 13,
   "id": "6c6cd3d8",
   "metadata": {
    "execution": {
     "iopub.execute_input": "2025-02-15T13:51:39.904237Z",
     "iopub.status.busy": "2025-02-15T13:51:39.903923Z",
     "iopub.status.idle": "2025-02-15T13:51:39.913734Z",
     "shell.execute_reply": "2025-02-15T13:51:39.912969Z"
    },
    "papermill": {
     "duration": 0.017439,
     "end_time": "2025-02-15T13:51:39.915225",
     "exception": false,
     "start_time": "2025-02-15T13:51:39.897786",
     "status": "completed"
    },
    "tags": []
   },
   "outputs": [
    {
     "data": {
      "text/html": [
       "<div>\n",
       "<style scoped>\n",
       "    .dataframe tbody tr th:only-of-type {\n",
       "        vertical-align: middle;\n",
       "    }\n",
       "\n",
       "    .dataframe tbody tr th {\n",
       "        vertical-align: top;\n",
       "    }\n",
       "\n",
       "    .dataframe thead th {\n",
       "        text-align: right;\n",
       "    }\n",
       "</style>\n",
       "<table border=\"1\" class=\"dataframe\">\n",
       "  <thead>\n",
       "    <tr style=\"text-align: right;\">\n",
       "      <th></th>\n",
       "      <th>Country/Region</th>\n",
       "      <th>Deaths</th>\n",
       "      <th>Continent</th>\n",
       "      <th>Population</th>\n",
       "      <th>Deaths/Population (In Millions)</th>\n",
       "    </tr>\n",
       "  </thead>\n",
       "  <tbody>\n",
       "    <tr>\n",
       "      <th>133</th>\n",
       "      <td>San Marino</td>\n",
       "      <td>5086</td>\n",
       "      <td>Europe</td>\n",
       "      <td>33938.0</td>\n",
       "      <td>1.498615e+06</td>\n",
       "    </tr>\n",
       "    <tr>\n",
       "      <th>16</th>\n",
       "      <td>Belgium</td>\n",
       "      <td>963679</td>\n",
       "      <td>Europe</td>\n",
       "      <td>11594739.0</td>\n",
       "      <td>8.311347e+05</td>\n",
       "    </tr>\n",
       "    <tr>\n",
       "      <th>3</th>\n",
       "      <td>Andorra</td>\n",
       "      <td>5423</td>\n",
       "      <td>Europe</td>\n",
       "      <td>77278.0</td>\n",
       "      <td>7.017521e+05</td>\n",
       "    </tr>\n",
       "    <tr>\n",
       "      <th>146</th>\n",
       "      <td>Spain</td>\n",
       "      <td>3033030</td>\n",
       "      <td>Europe</td>\n",
       "      <td>46756648.0</td>\n",
       "      <td>6.486842e+05</td>\n",
       "    </tr>\n",
       "    <tr>\n",
       "      <th>77</th>\n",
       "      <td>Italy</td>\n",
       "      <td>3707717</td>\n",
       "      <td>Europe</td>\n",
       "      <td>60452568.0</td>\n",
       "      <td>6.133266e+05</td>\n",
       "    </tr>\n",
       "    <tr>\n",
       "      <th>54</th>\n",
       "      <td>France</td>\n",
       "      <td>3048524</td>\n",
       "      <td>Europe</td>\n",
       "      <td>65288306.0</td>\n",
       "      <td>4.669326e+05</td>\n",
       "    </tr>\n",
       "    <tr>\n",
       "      <th>150</th>\n",
       "      <td>Sweden</td>\n",
       "      <td>448913</td>\n",
       "      <td>Europe</td>\n",
       "      <td>10105596.0</td>\n",
       "      <td>4.442222e+05</td>\n",
       "    </tr>\n",
       "    <tr>\n",
       "      <th>111</th>\n",
       "      <td>Netherlands</td>\n",
       "      <td>622314</td>\n",
       "      <td>Europe</td>\n",
       "      <td>17138756.0</td>\n",
       "      <td>3.631034e+05</td>\n",
       "    </tr>\n",
       "    <tr>\n",
       "      <th>75</th>\n",
       "      <td>Ireland</td>\n",
       "      <td>161948</td>\n",
       "      <td>Europe</td>\n",
       "      <td>4943200.0</td>\n",
       "      <td>3.276177e+05</td>\n",
       "    </tr>\n",
       "    <tr>\n",
       "      <th>151</th>\n",
       "      <td>Switzerland</td>\n",
       "      <td>207858</td>\n",
       "      <td>Europe</td>\n",
       "      <td>8660952.0</td>\n",
       "      <td>2.399944e+05</td>\n",
       "    </tr>\n",
       "  </tbody>\n",
       "</table>\n",
       "</div>"
      ],
      "text/plain": [
       "    Country/Region   Deaths Continent  Population  \\\n",
       "133     San Marino     5086    Europe     33938.0   \n",
       "16         Belgium   963679    Europe  11594739.0   \n",
       "3          Andorra     5423    Europe     77278.0   \n",
       "146          Spain  3033030    Europe  46756648.0   \n",
       "77           Italy  3707717    Europe  60452568.0   \n",
       "54          France  3048524    Europe  65288306.0   \n",
       "150         Sweden   448913    Europe  10105596.0   \n",
       "111    Netherlands   622314    Europe  17138756.0   \n",
       "75         Ireland   161948    Europe   4943200.0   \n",
       "151    Switzerland   207858    Europe   8660952.0   \n",
       "\n",
       "     Deaths/Population (In Millions)  \n",
       "133                     1.498615e+06  \n",
       "16                      8.311347e+05  \n",
       "3                       7.017521e+05  \n",
       "146                     6.486842e+05  \n",
       "77                      6.133266e+05  \n",
       "54                      4.669326e+05  \n",
       "150                     4.442222e+05  \n",
       "111                     3.631034e+05  \n",
       "75                      3.276177e+05  \n",
       "151                     2.399944e+05  "
      ]
     },
     "execution_count": 13,
     "metadata": {},
     "output_type": "execute_result"
    }
   ],
   "source": [
    "country_data.sort_values('Deaths/Population (In Millions)', ascending = False).head(10) # Mostrar os 10 paises com mais mortes/população"
   ]
  },
  {
   "cell_type": "markdown",
   "id": "210b3245",
   "metadata": {
    "papermill": {
     "duration": 0.005212,
     "end_time": "2025-02-15T13:51:39.926457",
     "exception": false,
     "start_time": "2025-02-15T13:51:39.921245",
     "status": "completed"
    },
    "tags": []
   },
   "source": [
    "## **Graficos / Data Visualization**"
   ]
  },
  {
   "cell_type": "code",
   "execution_count": 14,
   "id": "3c49259c",
   "metadata": {
    "execution": {
     "iopub.execute_input": "2025-02-15T13:51:39.938294Z",
     "iopub.status.busy": "2025-02-15T13:51:39.937988Z",
     "iopub.status.idle": "2025-02-15T13:51:40.304083Z",
     "shell.execute_reply": "2025-02-15T13:51:40.302994Z"
    },
    "papermill": {
     "duration": 0.37363,
     "end_time": "2025-02-15T13:51:40.305497",
     "exception": false,
     "start_time": "2025-02-15T13:51:39.931867",
     "status": "completed"
    },
    "tags": []
   },
   "outputs": [
    {
     "name": "stderr",
     "output_type": "stream",
     "text": [
      "/usr/local/lib/python3.10/dist-packages/seaborn/_oldcore.py:1119: FutureWarning: use_inf_as_na option is deprecated and will be removed in a future version. Convert inf values to NaN before operating instead.\n",
      "  with pd.option_context('mode.use_inf_as_na', True):\n",
      "/usr/local/lib/python3.10/dist-packages/seaborn/_oldcore.py:1119: FutureWarning: use_inf_as_na option is deprecated and will be removed in a future version. Convert inf values to NaN before operating instead.\n",
      "  with pd.option_context('mode.use_inf_as_na', True):\n",
      "/usr/local/lib/python3.10/dist-packages/seaborn/_oldcore.py:1075: FutureWarning: When grouping with a length-1 list-like, you will need to pass a length-1 tuple to get_group in a future version of pandas. Pass `(name,)` instead of `name` to silence this warning.\n",
      "  data_subset = grouped_data.get_group(pd_key)\n",
      "/usr/local/lib/python3.10/dist-packages/seaborn/_oldcore.py:1075: FutureWarning: When grouping with a length-1 list-like, you will need to pass a length-1 tuple to get_group in a future version of pandas. Pass `(name,)` instead of `name` to silence this warning.\n",
      "  data_subset = grouped_data.get_group(pd_key)\n",
      "/usr/local/lib/python3.10/dist-packages/seaborn/_oldcore.py:1075: FutureWarning: When grouping with a length-1 list-like, you will need to pass a length-1 tuple to get_group in a future version of pandas. Pass `(name,)` instead of `name` to silence this warning.\n",
      "  data_subset = grouped_data.get_group(pd_key)\n"
     ]
    },
    {
     "data": {
      "text/plain": [
       "Text(0.5, 1.0, 'Deaths over Time')"
      ]
     },
     "execution_count": 14,
     "metadata": {},
     "output_type": "execute_result"
    },
    {
     "data": {
      "image/png": "[encoded data removed]",
      "text/plain": [
       "<Figure size 640x480 with 1 Axes>"
      ]
     },
     "metadata": {},
     "output_type": "display_data"
    }
   ],
   "source": [
    "\n",
    "df_line = df[['WHO Region', 'Deaths', 'Date']]\n",
    "df_line = df.loc[df['WHO Region'].isin(['Americas', 'Eastern Mediterranean', 'Europe'])]\n",
    "df_line = df_line.groupby(['WHO Region', 'Date']).sum('Deaths')\n",
    "\n",
    "sns.lineplot(data=df_line, x='Date', y='Deaths', hue='WHO Region')\n",
    "plt.xlabel('Year/Month')\n",
    "plt.ylabel('Deaths')\n",
    "plt.title('Deaths over Time')"
   ]
  },
  {
   "cell_type": "raw",
   "id": "3c7803e1",
   "metadata": {
    "papermill": {
     "duration": 0.005842,
     "end_time": "2025-02-15T13:51:40.317998",
     "exception": false,
     "start_time": "2025-02-15T13:51:40.312156",
     "status": "completed"
    },
    "tags": []
   },
   "source": [
    "Respondendo as perguntas:\n",
    "1. Quais das regiões tiveram mais mortes? Americas\n",
    "2. Qual o momento em que cada progressão começa a subir? Entre os meses 03 e 04 de 2020\n",
    "3. Como está a taxa de crescimento de cada progressão? Nas Americas ela segue linearmente crescente, na europa ele inicia exponencialmente e depois passa a ter um certo controle mas segue crescente, no Eastern Mediterranean ela cresce linearmente devagar."
   ]
  },
  {
   "cell_type": "code",
   "execution_count": 15,
   "id": "b47a1fd0",
   "metadata": {
    "execution": {
     "iopub.execute_input": "2025-02-15T13:51:40.331233Z",
     "iopub.status.busy": "2025-02-15T13:51:40.330925Z",
     "iopub.status.idle": "2025-02-15T13:51:40.508606Z",
     "shell.execute_reply": "2025-02-15T13:51:40.507292Z"
    },
    "papermill": {
     "duration": 0.185908,
     "end_time": "2025-02-15T13:51:40.509850",
     "exception": false,
     "start_time": "2025-02-15T13:51:40.323942",
     "status": "completed"
    },
    "tags": []
   },
   "outputs": [
    {
     "data": {
      "text/plain": [
       "Text(0.5, 1.0, 'Deaths by Continent')"
      ]
     },
     "execution_count": 15,
     "metadata": {},
     "output_type": "execute_result"
    },
    {
     "data": {
      "image/png": "[encoded data removed]",
      "text/plain": [
       "<Figure size 1000x600 with 1 Axes>"
      ]
     },
     "metadata": {},
     "output_type": "display_data"
    }
   ],
   "source": [
    "bar_data = country_data.groupby(['Continent']).sum('Deaths')\n",
    "\n",
    "plt.figure(figsize=(10,6))\n",
    "sns.barplot(x=bar_data.index, y=bar_data['Deaths'])\n",
    "plt.xlabel('Continents')\n",
    "plt.title('Deaths by Continent')"
   ]
  },
  {
   "cell_type": "markdown",
   "id": "39738b25",
   "metadata": {
    "papermill": {
     "duration": 0.006549,
     "end_time": "2025-02-15T13:51:40.523548",
     "exception": false,
     "start_time": "2025-02-15T13:51:40.516999",
     "status": "completed"
    },
    "tags": []
   },
   "source": [
    "Respondendo as perguntas:\n",
    "1. Quais os 2 continentes com maior número de mortes?\n",
    "   Europe e South America\n",
    "2. Qual o continente com menor número de mortes?\n",
    "   Oceania\n",
    "3. Qual sua hipótese para responder às perguntas anteriores?\n",
    "   É a informação que os gráficos mostram.\n",
    "   "
   ]
  },
  {
   "cell_type": "code",
   "execution_count": 16,
   "id": "bbdd725b",
   "metadata": {
    "execution": {
     "iopub.execute_input": "2025-02-15T13:51:40.538240Z",
     "iopub.status.busy": "2025-02-15T13:51:40.537912Z",
     "iopub.status.idle": "2025-02-15T13:51:40.786982Z",
     "shell.execute_reply": "2025-02-15T13:51:40.786149Z"
    },
    "papermill": {
     "duration": 0.258,
     "end_time": "2025-02-15T13:51:40.788322",
     "exception": false,
     "start_time": "2025-02-15T13:51:40.530322",
     "status": "completed"
    },
    "tags": []
   },
   "outputs": [
    {
     "data": {
      "text/plain": [
       "<Axes: xlabel='Deaths/Population (In Millions)', ylabel='Population'>"
      ]
     },
     "execution_count": 16,
     "metadata": {},
     "output_type": "execute_result"
    },
    {
     "data": {
      "image/png": "[encoded data removed]",
      "text/plain": [
       "<Figure size 640x480 with 1 Axes>"
      ]
     },
     "metadata": {},
     "output_type": "display_data"
    }
   ],
   "source": [
    "country_data['Deaths/Population (In Millions)'] = (country_data['Deaths'] / country_data['Population']) * 10e6\n",
    "scatter_data = country_data.groupby(['Continent']).mean('Deaths/Population (In Millions)')\n",
    "scatter_data = scatter_data.sort_values(by='Deaths/Population (In Millions)', ascending=False).head(3)\n",
    "\n",
    "\n",
    "sns.scatterplot(data=scatter_data, x='Deaths/Population (In Millions)', y='Population', hue='Continent')"
   ]
  },
  {
   "cell_type": "markdown",
   "id": "02b86774",
   "metadata": {
    "papermill": {
     "duration": 0.006851,
     "end_time": "2025-02-15T13:51:40.803495",
     "exception": false,
     "start_time": "2025-02-15T13:51:40.796644",
     "status": "completed"
    },
    "tags": []
   },
   "source": [
    "Respondendo as perguntas:\n",
    "1. Onde se concentram a maioria dos dados? Europe\n",
    "2. No segundo continentes por mais mortes por milhão, é possível perceber\n",
    "alguma relação entre as features? Na South America mesmo possuindo uma população muito maior que os outros o numero de mortes por milhão não está maior.\n",
    "3. Pelo gráfico, é possível enxergar relação entre essas colunas do banco de\n",
    "dados? Sim, estão coerentes com o grafico de mortes por continente\n"
   ]
  },
  {
   "cell_type": "code",
   "execution_count": 17,
   "id": "f6330d4a",
   "metadata": {
    "execution": {
     "iopub.execute_input": "2025-02-15T13:51:40.819155Z",
     "iopub.status.busy": "2025-02-15T13:51:40.818801Z",
     "iopub.status.idle": "2025-02-15T13:51:41.015619Z",
     "shell.execute_reply": "2025-02-15T13:51:41.014796Z"
    },
    "papermill": {
     "duration": 0.206233,
     "end_time": "2025-02-15T13:51:41.016878",
     "exception": false,
     "start_time": "2025-02-15T13:51:40.810645",
     "status": "completed"
    },
    "tags": []
   },
   "outputs": [
    {
     "data": {
      "text/plain": [
       "Text(0.5, 1.0, 'Heatmap of Correlation between Population and Teste/1M pop')"
      ]
     },
     "execution_count": 17,
     "metadata": {},
     "output_type": "execute_result"
    },
    {
     "data": {
      "image/png": "[encoded data removed]",
      "text/plain": [
       "<Figure size 640x480 with 2 Axes>"
      ]
     },
     "metadata": {},
     "output_type": "display_data"
    }
   ],
   "source": [
    "correlation_matrix = world_df[['Population', 'Tests/1M pop']].corr()\n",
    "\n",
    "sns.heatmap(correlation_matrix, annot=True, cmap='coolwarm', vmin=-1, vmax=1)\n",
    "plt.title('Heatmap of Correlation between Population and Teste/1M pop')"
   ]
  },
  {
   "cell_type": "markdown",
   "id": "b0bf9ea6",
   "metadata": {
    "papermill": {
     "duration": 0.007635,
     "end_time": "2025-02-15T13:51:41.032571",
     "exception": false,
     "start_time": "2025-02-15T13:51:41.024936",
     "status": "completed"
    },
    "tags": []
   },
   "source": [
    "**As duas variaveis possuem pouquissima relação**"
   ]
  },
  {
   "cell_type": "code",
   "execution_count": null,
   "id": "fc369492",
   "metadata": {
    "papermill": {
     "duration": 0.007444,
     "end_time": "2025-02-15T13:51:41.047606",
     "exception": false,
     "start_time": "2025-02-15T13:51:41.040162",
     "status": "completed"
    },
    "tags": []
   },
   "outputs": [],
   "source": []
  }
 ],
 "metadata": {
  "kaggle": {
   "accelerator": "none",
   "dataSources": [
    {
     "datasetId": 494766,
     "sourceId": 1402868,
     "sourceType": "datasetVersion"
    }
   ],
   "dockerImageVersionId": 30886,
   "isGpuEnabled": false,
   "isInternetEnabled": true,
   "language": "python",
   "sourceType": "notebook"
  },
  "kernelspec": {
   "display_name": "Python 3",
   "language": "python",
   "name": "python3"
  },
  "language_info": {
   "codemirror_mode": {
    "name": "ipython",
    "version": 3
   },
   "file_extension": ".py",
   "mimetype": "text/x-python",
   "name": "python",
   "nbconvert_exporter": "python",
   "pygments_lexer": "ipython3",
   "version": "3.10.12"
  },
  "papermill": {
   "default_parameters": {},
   "duration": 7.726795,
   "end_time": "2025-02-15T13:51:41.673777",
   "environment_variables": {},
   "exception": null,
   "input_path": "__notebook__.ipynb",
   "output_path": "__notebook__.ipynb",
   "parameters": {},
   "start_time": "2025-02-15T13:51:33.946982",
   "version": "2.6.0"
  }
 },
 "nbformat": 4,
 "nbformat_minor": 5
}
